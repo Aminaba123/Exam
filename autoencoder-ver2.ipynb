{
 "cells": [
  {
   "cell_type": "code",
   "execution_count": 1,
   "metadata": {
    "nbpresent": {
     "id": "d8e523bf-9481-42dc-a6d3-0a2b1b6d1a37"
    }
   },
   "outputs": [
    {
     "name": "stderr",
     "output_type": "stream",
     "text": [
      "/home/an80020/anaconda2/envs/tensorflow/lib/python2.7/site-packages/h5py/__init__.py:36: FutureWarning: Conversion of the second argument of issubdtype from `float` to `np.floating` is deprecated. In future, it will be treated as `np.float64 == np.dtype(float).type`.\n",
      "  from ._conv import register_converters as _register_converters\n",
      "Using TensorFlow backend.\n"
     ]
    }
   ],
   "source": [
    "import numpy as np\n",
    "import csv\n",
    "\n",
    "import os, sys\n",
    "from keras.utils import np_utils\n",
    "from keras.models import Model\n",
    "from keras.layers import Dense, MaxPooling2D, Flatten, Conv2D, MaxPooling2D, Input, Activation\n",
    "from keras.callbacks import TensorBoard\n",
    "from keras.layers.core import Reshape\n",
    "from keras import backend as K\n",
    "from keras import optimizers\n",
    "import keras.constraints as constraints\n",
    "from keras.utils import np_utils, to_categorical\n",
    "from sklearn.utils import shuffle\n",
    "from keras.layers.normalization import BatchNormalization\n",
    "from keras.layers.core import Dropout\n",
    "from keras.callbacks import ModelCheckpoint\n",
    "from keras import regularizers\n",
    "\n",
    "\n",
    "from keras.layers import Input, Dense\n",
    "from keras.layers.advanced_activations import  LeakyReLU\n",
    "from keras.models import Model\n",
    "import keras.initializers as init\n",
    "\n",
    "os.environ[\"CUDA_VISIBLE_DEVICES\"]=\"0\"\n",
    "import tensorflow as tf\n",
    "config = tf.ConfigProto( )\n",
    "config.gpu_options.allow_growth = True\n",
    "sess = tf.Session(config=config)\n",
    "import keras.backend.tensorflow_backend as tf_bkend\n",
    "tf_bkend.set_session(sess)"
   ]
  },
  {
   "cell_type": "code",
   "execution_count": 2,
   "metadata": {
    "nbpresent": {
     "id": "4c36115e-710d-438d-9eb4-15cdc3bfd0e3"
    }
   },
   "outputs": [],
   "source": [
    "reader_feature = csv.reader(open('train_x.csv'))\n",
    "reader_target = csv.reader(open('train_y.csv'))"
   ]
  },
  {
   "cell_type": "code",
   "execution_count": 3,
   "metadata": {
    "nbpresent": {
     "id": "e02340a0-6817-47fb-808d-d3e4c0055a7a"
    }
   },
   "outputs": [
    {
     "name": "stdout",
     "output_type": "stream",
     "text": [
      "0\n",
      "50000\n"
     ]
    }
   ],
   "source": [
    "import matplotlib.pyplot as plt\n",
    "import matplotlib.cm as cm\n",
    "\n",
    "i=0\n",
    "train_feat=[]\n",
    "\n",
    "print len(train_feat)\n",
    "\n",
    "import matplotlib.pyplot as plt\n",
    "import matplotlib.cm as cm\n",
    "\n",
    "for row in reader_feature:\n",
    "    tmp=np.asarray(row)\n",
    "    tmp=tmp.astype('float32')\n",
    "    tmp=tmp.reshape(64, 64)\n",
    "    #S=undesired_objects (tmp)\n",
    "    tmp[tmp < 240] = 0\n",
    "    S=tmp\n",
    "    \n",
    "    train_feat.append(S.flatten()) \n",
    "    i=i+1\n",
    "print len(train_feat)"
   ]
  },
  {
   "cell_type": "code",
   "execution_count": 4,
   "metadata": {
    "nbpresent": {
     "id": "7a5f7aeb-905d-479a-b6ed-540fa46ae54c"
    }
   },
   "outputs": [],
   "source": [
    "i=0\n",
    "train_target=[]\n",
    "for row in reader_target:\n",
    "    train_target.append(row)\n",
    "    i=i+1"
   ]
  },
  {
   "cell_type": "code",
   "execution_count": 5,
   "metadata": {
    "nbpresent": {
     "id": "b36b94e5-5e5a-4a56-bbd1-636fb2e8c347"
    }
   },
   "outputs": [
    {
     "name": "stdout",
     "output_type": "stream",
     "text": [
      "50000\n"
     ]
    }
   ],
   "source": [
    "print len(train_feat)"
   ]
  },
  {
   "cell_type": "code",
   "execution_count": 6,
   "metadata": {
    "nbpresent": {
     "id": "4ea46fca-b2a2-4d6e-8ea9-ba1d1b5fd5f1"
    }
   },
   "outputs": [],
   "source": [
    "nb_classes=10\n",
    "batch_size=150\n",
    "nb_epoch=400"
   ]
  },
  {
   "cell_type": "code",
   "execution_count": 7,
   "metadata": {
    "nbpresent": {
     "id": "84ac222c-5206-41dc-a449-eaeb055e827d"
    }
   },
   "outputs": [],
   "source": [
    "train_feat=np.asarray(train_feat)\n",
    "train_target=np.asarray(train_target)"
   ]
  },
  {
   "cell_type": "code",
   "execution_count": 8,
   "metadata": {
    "nbpresent": {
     "id": "e9bd54ac-6fd3-47d7-b40d-b5c471bfd53e"
    }
   },
   "outputs": [],
   "source": [
    "#X_train = train_feat.astype('float32') / 255.0\n",
    "X_train=train_feat.astype('float32')"
   ]
  },
  {
   "cell_type": "code",
   "execution_count": 9,
   "metadata": {
    "nbpresent": {
     "id": "5624e22e-987c-4aa8-ab89-7047db33735b"
    }
   },
   "outputs": [],
   "source": [
    "data,label=shuffle(X_train,train_target,random_state=0)\n",
    "train_data=[data,label]\n",
    "(X,Y)=(train_data[0],train_data[1])"
   ]
  },
  {
   "cell_type": "code",
   "execution_count": 10,
   "metadata": {
    "nbpresent": {
     "id": "e5285bab-067f-4430-8624-9dddbdb3586b"
    }
   },
   "outputs": [],
   "source": [
    "X= X.reshape(-1, 64, 64, 1)\n",
    "Y=to_categorical(Y, num_classes=nb_classes)"
   ]
  },
  {
   "cell_type": "code",
   "execution_count": 11,
   "metadata": {
    "nbpresent": {
     "id": "01738879-7bf6-446d-bf67-a8cf423a6532"
    }
   },
   "outputs": [],
   "source": [
    "reader_feature = csv.reader(open('test_x.csv'))\n",
    "i=0\n",
    "test_feat=[]\n",
    "for row in reader_feature:\n",
    "    test_feat.append(row)\n",
    "    i=i+1"
   ]
  },
  {
   "cell_type": "code",
   "execution_count": 12,
   "metadata": {
    "nbpresent": {
     "id": "7a9fa2c1-82ca-4eed-82c8-e2d0d152de72"
    }
   },
   "outputs": [],
   "source": [
    "from sklearn.metrics import classification_report, confusion_matrix\n",
    "test_feat=np.asarray(test_feat)\n",
    "#X_test = test_feat.astype('float32') / 255.0\n",
    "X_test=test_feat.astype('float32')\n",
    "X2= X_test.reshape(-1, 64, 64, 1)"
   ]
  },
  {
   "cell_type": "code",
   "execution_count": 13,
   "metadata": {
    "nbpresent": {
     "id": "2b5f4533-5389-408e-939c-8e13b261e947"
    }
   },
   "outputs": [],
   "source": [
    "from keras.layers import Input, Dense, Conv2D, MaxPooling2D, UpSampling2D\n",
    "from keras.models import Model\n",
    "from keras import backend as K\n",
    "\n",
    "input_img = Input(shape=(64, 64, 1))  # adapt this if using `channels_first` image data format\n",
    "\n",
    "x = Conv2D(filters=64, kernel_size=(3, 3) ,strides=(2, 2), activation='relu', padding='same')(input_img)\n",
    "norm1=BatchNormalization()(x)\n",
    "x = MaxPooling2D(pool_size=(2, 2), strides=(1, 1), padding='same')(norm1)\n",
    "\n",
    "x = Conv2D(filters=32, kernel_size=(4, 4), strides=(2, 2), activation='relu', padding='same')(x)\n",
    "norm1=BatchNormalization()(x)\n",
    "x = MaxPooling2D(pool_size=(2, 2), strides=(1, 1), padding='same')(norm1)\n",
    "\n",
    "x = Conv2D(filters=128, kernel_size=(5, 5), strides=(2, 2), activation='relu', padding='same')(x)\n",
    "norm1=BatchNormalization()(x)\n",
    "x = MaxPooling2D(pool_size=(2, 2), strides=(1, 1), padding='same')(norm1)\n",
    "\n",
    "x = Conv2D(filters=128, kernel_size=(2,2), strides=(2, 2), activation='relu', padding='same')(x)\n",
    "norm1=BatchNormalization()(x)\n",
    "encoded = MaxPooling2D((2, 2), strides=(1, 1), padding='same')(x)\n",
    "\n",
    "# at this point the representation is (4, 4, 8) i.e. 128-dimensional\n",
    "\n",
    "x = Conv2D(128, (2, 2), activation='relu', padding='same')(encoded)\n",
    "x = UpSampling2D((2, 2))(x)\n",
    "\n",
    "x = Conv2D(128, (5, 5), activation='relu', padding='same')(x)\n",
    "x = UpSampling2D((2, 2))(x)\n",
    "\n",
    "x = Conv2D(32, (4, 4), activation='relu', padding='same')(x)\n",
    "x = UpSampling2D((2, 2))(x)\n",
    "\n",
    "x = Conv2D(64, (3, 3), activation='relu', padding='same')(x)\n",
    "x = UpSampling2D((2, 2))(x)\n",
    "\n",
    "decoded = Conv2D(1, (3, 3), activation='sigmoid', padding='same')(x)\n",
    "\n",
    "autoencoder = Model(input_img, decoded)\n",
    "autoencoder.compile(optimizer='adadelta', loss='binary_crossentropy')"
   ]
  },
  {
   "cell_type": "code",
   "execution_count": 14,
   "metadata": {
    "nbpresent": {
     "id": "01f243d6-24bf-4c81-8d81-e7fd9ff64abd"
    }
   },
   "outputs": [
    {
     "name": "stdout",
     "output_type": "stream",
     "text": [
      "weights_autoencoder2.best.hdf5\n"
     ]
    }
   ],
   "source": [
    "#checkpoints \n",
    "str1=\"weights_autoencoder2.best.hdf5\" \n",
    "\n",
    "filepath_encoder=str1\n",
    "print(filepath_encoder)\n",
    "\n",
    "checkpoint_encoder = ModelCheckpoint(filepath_encoder, monitor='val_loss', verbose=1, save_best_only=True, mode='min') \n",
    "callbacks_list_encoder= [checkpoint_encoder]"
   ]
  },
  {
   "cell_type": "code",
   "execution_count": 15,
   "metadata": {
    "nbpresent": {
     "id": "1332c864-49d9-4b0e-b2d5-27e409c595bc"
    },
    "scrolled": true
   },
   "outputs": [
    {
     "name": "stdout",
     "output_type": "stream",
     "text": [
      "Train on 50000 samples, validate on 10000 samples\n",
      "Epoch 1/200\n",
      "49792/50000 [============================>.] - ETA: 0s - loss: -445.3710\n",
      "Epoch 00001: val_loss improved from inf to -613.75281, saving model to weights_autoencoder2.best.hdf5\n",
      "50000/50000 [==============================] - 14s 285us/step - loss: -445.3129 - val_loss: -613.7528\n",
      "Epoch 2/200\n",
      "49792/50000 [============================>.] - ETA: 0s - loss: -452.7301\n",
      "Epoch 00002: val_loss improved from -613.75281 to -703.25200, saving model to weights_autoencoder2.best.hdf5\n",
      "50000/50000 [==============================] - 13s 263us/step - loss: -452.6505 - val_loss: -703.2520\n",
      "Epoch 3/200\n",
      "49792/50000 [============================>.] - ETA: 0s - loss: -455.5258\n",
      "Epoch 00003: val_loss improved from -703.25200 to -1594.09254, saving model to weights_autoencoder2.best.hdf5\n",
      "50000/50000 [==============================] - 13s 265us/step - loss: -455.5184 - val_loss: -1594.0925\n",
      "Epoch 4/200\n",
      "49792/50000 [============================>.] - ETA: 0s - loss: -457.4162\n",
      "Epoch 00004: val_loss improved from -1594.09254 to -1658.39724, saving model to weights_autoencoder2.best.hdf5\n",
      "50000/50000 [==============================] - 14s 273us/step - loss: -457.3928 - val_loss: -1658.3972\n",
      "Epoch 5/200\n",
      "49792/50000 [============================>.] - ETA: 0s - loss: -458.2307\n",
      "Epoch 00005: val_loss improved from -1658.39724 to -1691.76168, saving model to weights_autoencoder2.best.hdf5\n",
      "50000/50000 [==============================] - 14s 273us/step - loss: -458.2073 - val_loss: -1691.7617\n",
      "Epoch 6/200\n",
      "49792/50000 [============================>.] - ETA: 0s - loss: -458.6317\n",
      "Epoch 00006: val_loss improved from -1691.76168 to -1707.65241, saving model to weights_autoencoder2.best.hdf5\n",
      "50000/50000 [==============================] - 14s 272us/step - loss: -458.6010 - val_loss: -1707.6524\n",
      "Epoch 7/200\n",
      "49792/50000 [============================>.] - ETA: 0s - loss: -458.8235\n",
      "Epoch 00007: val_loss improved from -1707.65241 to -1754.19708, saving model to weights_autoencoder2.best.hdf5\n",
      "50000/50000 [==============================] - 14s 272us/step - loss: -458.8880 - val_loss: -1754.1971\n",
      "Epoch 8/200\n",
      "49792/50000 [============================>.] - ETA: 0s - loss: -459.0013\n",
      "Epoch 00008: val_loss did not improve\n",
      "50000/50000 [==============================] - 14s 271us/step - loss: -459.0331 - val_loss: -1468.6837\n",
      "Epoch 9/200\n",
      "49792/50000 [============================>.] - ETA: 0s - loss: -459.1602\n",
      "Epoch 00009: val_loss did not improve\n",
      "50000/50000 [==============================] - 13s 270us/step - loss: -459.1941 - val_loss: -1624.8863\n",
      "Epoch 10/200\n",
      "49792/50000 [============================>.] - ETA: 0s - loss: -459.2398\n",
      "Epoch 00010: val_loss did not improve\n",
      "50000/50000 [==============================] - 13s 269us/step - loss: -459.2715 - val_loss: -1488.8639\n",
      "Epoch 11/200\n",
      "49792/50000 [============================>.] - ETA: 0s - loss: -459.2992\n",
      "Epoch 00011: val_loss did not improve\n",
      "50000/50000 [==============================] - 13s 269us/step - loss: -459.3541 - val_loss: -1654.1809\n",
      "Epoch 12/200\n",
      "49792/50000 [============================>.] - ETA: 0s - loss: -459.5037\n",
      "Epoch 00012: val_loss did not improve\n",
      "50000/50000 [==============================] - 13s 268us/step - loss: -459.4293 - val_loss: -1569.8627\n",
      "Epoch 13/200\n",
      "49792/50000 [============================>.] - ETA: 0s - loss: -459.4511\n",
      "Epoch 00013: val_loss did not improve\n",
      "50000/50000 [==============================] - 13s 268us/step - loss: -459.4725 - val_loss: -932.1673\n",
      "Epoch 14/200\n",
      "49792/50000 [============================>.] - ETA: 0s - loss: -459.4925\n",
      "Epoch 00014: val_loss did not improve\n",
      "50000/50000 [==============================] - 13s 267us/step - loss: -459.5073 - val_loss: -562.1585\n",
      "Epoch 15/200\n",
      "49792/50000 [============================>.] - ETA: 0s - loss: -459.5412\n",
      "Epoch 00015: val_loss did not improve\n",
      "50000/50000 [==============================] - 13s 267us/step - loss: -459.5576 - val_loss: -719.7167\n",
      "Epoch 16/200\n",
      "49792/50000 [============================>.] - ETA: 0s - loss: -459.5302\n",
      "Epoch 00016: val_loss did not improve\n",
      "50000/50000 [==============================] - 13s 267us/step - loss: -459.5902 - val_loss: -850.5438\n",
      "Epoch 17/200\n",
      "49792/50000 [============================>.] - ETA: 0s - loss: -459.6141\n",
      "Epoch 00017: val_loss did not improve\n",
      "50000/50000 [==============================] - 13s 267us/step - loss: -459.6249 - val_loss: -126.7959\n",
      "Epoch 18/200\n",
      "49792/50000 [============================>.] - ETA: 0s - loss: -459.6203\n",
      "Epoch 00018: val_loss did not improve\n",
      "50000/50000 [==============================] - 13s 267us/step - loss: -459.6302 - val_loss: -1214.0970\n",
      "Epoch 19/200\n",
      "49792/50000 [============================>.] - ETA: 0s - loss: -459.6588\n",
      "Epoch 00019: val_loss did not improve\n",
      "50000/50000 [==============================] - 13s 267us/step - loss: -459.6465 - val_loss: 71.4630\n",
      "Epoch 20/200\n",
      "49792/50000 [============================>.] - ETA: 0s - loss: -459.6677\n",
      "Epoch 00020: val_loss did not improve\n",
      "50000/50000 [==============================] - 13s 267us/step - loss: -459.6511 - val_loss: -170.0461\n",
      "Epoch 21/200\n",
      "49792/50000 [============================>.] - ETA: 0s - loss: -459.6398\n",
      "Epoch 00021: val_loss did not improve\n",
      "50000/50000 [==============================] - 13s 267us/step - loss: -459.6752 - val_loss: -846.8777\n",
      "Epoch 22/200\n",
      "49792/50000 [============================>.] - ETA: 0s - loss: -459.7174\n",
      "Epoch 00022: val_loss did not improve\n",
      "50000/50000 [==============================] - 13s 266us/step - loss: -459.6764 - val_loss: 289.3173\n",
      "Epoch 23/200\n",
      "49792/50000 [============================>.] - ETA: 0s - loss: -459.6728\n",
      "Epoch 00023: val_loss did not improve\n",
      "50000/50000 [==============================] - 13s 267us/step - loss: -459.6790 - val_loss: -75.8437\n",
      "Epoch 24/200\n",
      "49792/50000 [============================>.] - ETA: 0s - loss: -459.7317\n",
      "Epoch 00024: val_loss did not improve\n",
      "50000/50000 [==============================] - 13s 266us/step - loss: -459.6922 - val_loss: 627.5083\n",
      "Epoch 25/200\n",
      "49792/50000 [============================>.] - ETA: 0s - loss: -459.6485\n",
      "Epoch 00025: val_loss did not improve\n",
      "50000/50000 [==============================] - 13s 266us/step - loss: -459.6739 - val_loss: 242.3837\n",
      "Epoch 26/200\n",
      "49792/50000 [============================>.] - ETA: 0s - loss: -459.6785\n",
      "Epoch 00026: val_loss did not improve\n",
      "50000/50000 [==============================] - 13s 266us/step - loss: -459.6759 - val_loss: -679.0595\n",
      "Epoch 27/200\n",
      "49792/50000 [============================>.] - ETA: 0s - loss: -459.6450\n",
      "Epoch 00027: val_loss did not improve\n",
      "50000/50000 [==============================] - 13s 266us/step - loss: -459.6188 - val_loss: -622.8885\n",
      "Epoch 28/200\n",
      "49792/50000 [============================>.] - ETA: 0s - loss: -459.6096\n",
      "Epoch 00028: val_loss did not improve\n",
      "50000/50000 [==============================] - 13s 266us/step - loss: -459.6223 - val_loss: -435.8222\n",
      "Epoch 29/200\n",
      "49792/50000 [============================>.] - ETA: 0s - loss: -459.5949\n",
      "Epoch 00029: val_loss did not improve\n",
      "50000/50000 [==============================] - 13s 266us/step - loss: -459.5715 - val_loss: 25.7244\n",
      "Epoch 30/200\n",
      "49792/50000 [============================>.] - ETA: 0s - loss: -459.4960\n",
      "Epoch 00030: val_loss did not improve\n",
      "50000/50000 [==============================] - 13s 265us/step - loss: -459.5146 - val_loss: -380.8721\n",
      "Epoch 31/200\n",
      "49792/50000 [============================>.] - ETA: 0s - loss: -459.3799\n",
      "Epoch 00031: val_loss did not improve\n",
      "50000/50000 [==============================] - 13s 265us/step - loss: -459.4085 - val_loss: -30.8889\n",
      "Epoch 32/200\n",
      "49792/50000 [============================>.] - ETA: 0s - loss: -459.3376\n",
      "Epoch 00032: val_loss did not improve\n",
      "50000/50000 [==============================] - 13s 265us/step - loss: -459.2848 - val_loss: 678.7470\n",
      "Epoch 33/200\n",
      "49792/50000 [============================>.] - ETA: 0s - loss: -459.1788\n",
      "Epoch 00033: val_loss did not improve\n",
      "50000/50000 [==============================] - 13s 264us/step - loss: -459.1765 - val_loss: 1132.8603\n",
      "Epoch 34/200\n",
      "49792/50000 [============================>.] - ETA: 0s - loss: -459.0342\n",
      "Epoch 00034: val_loss did not improve\n",
      "50000/50000 [==============================] - 13s 264us/step - loss: -459.0168 - val_loss: 1290.6501\n"
     ]
    },
    {
     "name": "stdout",
     "output_type": "stream",
     "text": [
      "Epoch 35/200\n",
      "49792/50000 [============================>.] - ETA: 0s - loss: -458.8145\n",
      "Epoch 00035: val_loss did not improve\n",
      "50000/50000 [==============================] - 13s 265us/step - loss: -458.7948 - val_loss: 433.5897\n",
      "Epoch 36/200\n",
      "49792/50000 [============================>.] - ETA: 0s - loss: -458.5067\n",
      "Epoch 00036: val_loss did not improve\n",
      "50000/50000 [==============================] - 13s 265us/step - loss: -458.5221 - val_loss: -153.3975\n",
      "Epoch 37/200\n",
      "49792/50000 [============================>.] - ETA: 0s - loss: -458.2342\n",
      "Epoch 00037: val_loss did not improve\n",
      "50000/50000 [==============================] - 13s 265us/step - loss: -458.2145 - val_loss: 1604.9080\n",
      "Epoch 38/200\n",
      "49792/50000 [============================>.] - ETA: 0s - loss: -458.0932\n",
      "Epoch 00038: val_loss did not improve\n",
      "50000/50000 [==============================] - 13s 265us/step - loss: -458.0546 - val_loss: -258.8136\n",
      "Epoch 39/200\n",
      "49792/50000 [============================>.] - ETA: 0s - loss: -457.5845\n",
      "Epoch 00039: val_loss did not improve\n",
      "50000/50000 [==============================] - 13s 265us/step - loss: -457.5750 - val_loss: -1529.4635\n",
      "Epoch 40/200\n",
      "49792/50000 [============================>.] - ETA: 0s - loss: -456.8492\n",
      "Epoch 00040: val_loss did not improve\n",
      "50000/50000 [==============================] - 13s 265us/step - loss: -456.7950 - val_loss: 880.6488\n",
      "Epoch 41/200\n",
      "49792/50000 [============================>.] - ETA: 0s - loss: -457.0656\n",
      "Epoch 00041: val_loss did not improve\n",
      "50000/50000 [==============================] - 13s 265us/step - loss: -457.0624 - val_loss: 791.4324\n",
      "Epoch 42/200\n",
      "49792/50000 [============================>.] - ETA: 0s - loss: -455.4529\n",
      "Epoch 00042: val_loss did not improve\n",
      "50000/50000 [==============================] - 13s 264us/step - loss: -455.4582 - val_loss: 1477.4503\n",
      "Epoch 43/200\n",
      "49792/50000 [============================>.] - ETA: 0s - loss: -454.2932\n",
      "Epoch 00043: val_loss did not improve\n",
      "50000/50000 [==============================] - 13s 265us/step - loss: -454.2226 - val_loss: 1587.4991\n",
      "Epoch 44/200\n",
      "49792/50000 [============================>.] - ETA: 0s - loss: -451.4820\n",
      "Epoch 00044: val_loss did not improve\n",
      "50000/50000 [==============================] - 13s 265us/step - loss: -451.4907 - val_loss: 1891.2433\n",
      "Epoch 45/200\n",
      "49792/50000 [============================>.] - ETA: 0s - loss: -450.2414\n",
      "Epoch 00045: val_loss did not improve\n",
      "50000/50000 [==============================] - 13s 264us/step - loss: -450.2449 - val_loss: 1864.4306\n",
      "Epoch 46/200\n",
      "49792/50000 [============================>.] - ETA: 0s - loss: -451.1268\n",
      "Epoch 00046: val_loss did not improve\n",
      "50000/50000 [==============================] - 13s 265us/step - loss: -451.1185 - val_loss: 1854.2586\n",
      "Epoch 47/200\n",
      "49792/50000 [============================>.] - ETA: 0s - loss: -447.2755\n",
      "Epoch 00047: val_loss did not improve\n",
      "50000/50000 [==============================] - 13s 264us/step - loss: -447.2508 - val_loss: 1545.2622\n",
      "Epoch 48/200\n",
      "49792/50000 [============================>.] - ETA: 0s - loss: -432.5575\n",
      "Epoch 00048: val_loss did not improve\n",
      "50000/50000 [==============================] - 13s 265us/step - loss: -432.6219 - val_loss: 1808.5472\n",
      "Epoch 49/200\n",
      "49792/50000 [============================>.] - ETA: 0s - loss: -417.1491\n",
      "Epoch 00049: val_loss did not improve\n",
      "50000/50000 [==============================] - 13s 264us/step - loss: -417.1200 - val_loss: 1761.7880\n",
      "Epoch 50/200\n",
      "49792/50000 [============================>.] - ETA: 0s - loss: -428.4318\n",
      "Epoch 00050: val_loss did not improve\n",
      "50000/50000 [==============================] - 13s 264us/step - loss: -428.4149 - val_loss: 1624.5852\n",
      "Epoch 51/200\n",
      "49792/50000 [============================>.] - ETA: 0s - loss: -370.6931\n",
      "Epoch 00051: val_loss did not improve\n",
      "50000/50000 [==============================] - 13s 265us/step - loss: -371.0192 - val_loss: 880.6142\n",
      "Epoch 52/200\n",
      "49792/50000 [============================>.] - ETA: 0s - loss: -418.6044\n",
      "Epoch 00052: val_loss did not improve\n",
      "50000/50000 [==============================] - 13s 264us/step - loss: -418.7243 - val_loss: 206.3586\n",
      "Epoch 53/200\n",
      "49792/50000 [============================>.] - ETA: 0s - loss: -412.0958\n",
      "Epoch 00053: val_loss did not improve\n",
      "50000/50000 [==============================] - 13s 264us/step - loss: -411.8249 - val_loss: 1105.2516\n",
      "Epoch 54/200\n",
      "49792/50000 [============================>.] - ETA: 0s - loss: -278.0607\n",
      "Epoch 00054: val_loss did not improve\n",
      "50000/50000 [==============================] - 13s 264us/step - loss: -278.0640 - val_loss: 1296.4568\n",
      "Epoch 55/200\n",
      "49792/50000 [============================>.] - ETA: 0s - loss: -334.1842\n",
      "Epoch 00055: val_loss did not improve\n",
      "50000/50000 [==============================] - 13s 264us/step - loss: -334.2067 - val_loss: 644.6982\n",
      "Epoch 56/200\n",
      "49792/50000 [============================>.] - ETA: 0s - loss: -401.8739\n",
      "Epoch 00056: val_loss did not improve\n",
      "50000/50000 [==============================] - 13s 264us/step - loss: -401.9446 - val_loss: -1001.0049\n",
      "Epoch 57/200\n",
      "49792/50000 [============================>.] - ETA: 0s - loss: -406.6835\n",
      "Epoch 00057: val_loss did not improve\n",
      "50000/50000 [==============================] - 13s 263us/step - loss: -406.7747 - val_loss: -575.3429\n",
      "Epoch 58/200\n",
      "49792/50000 [============================>.] - ETA: 0s - loss: -388.8850\n",
      "Epoch 00058: val_loss did not improve\n",
      "50000/50000 [==============================] - 13s 264us/step - loss: -388.9559 - val_loss: -515.2570\n",
      "Epoch 59/200\n",
      "49792/50000 [============================>.] - ETA: 0s - loss: -398.5747\n",
      "Epoch 00059: val_loss did not improve\n",
      "50000/50000 [==============================] - 13s 263us/step - loss: -397.6847 - val_loss: -122.7868\n",
      "Epoch 60/200\n",
      "49792/50000 [============================>.] - ETA: 0s - loss: -273.6349\n",
      "Epoch 00060: val_loss did not improve\n",
      "50000/50000 [==============================] - 13s 263us/step - loss: -273.9477 - val_loss: -63.1011\n",
      "Epoch 61/200\n",
      "49792/50000 [============================>.] - ETA: 0s - loss: -313.9462\n",
      "Epoch 00061: val_loss did not improve\n",
      "50000/50000 [==============================] - 13s 263us/step - loss: -314.2842 - val_loss: -1106.1102\n",
      "Epoch 62/200\n",
      "49792/50000 [============================>.] - ETA: 0s - loss: -409.3146\n",
      "Epoch 00062: val_loss did not improve\n",
      "50000/50000 [==============================] - 13s 263us/step - loss: -408.9431 - val_loss: 34.0998\n",
      "Epoch 63/200\n",
      "49792/50000 [============================>.] - ETA: 0s - loss: -319.3429\n",
      "Epoch 00063: val_loss did not improve\n",
      "50000/50000 [==============================] - 13s 263us/step - loss: -319.6802 - val_loss: -245.9101\n",
      "Epoch 64/200\n",
      "49792/50000 [============================>.] - ETA: 0s - loss: -264.3008\n",
      "Epoch 00064: val_loss did not improve\n",
      "50000/50000 [==============================] - 13s 263us/step - loss: -262.9522 - val_loss: 1276.3385\n",
      "Epoch 65/200\n",
      "49792/50000 [============================>.] - ETA: 0s - loss: -154.6656\n",
      "Epoch 00065: val_loss did not improve\n",
      "50000/50000 [==============================] - 13s 263us/step - loss: -155.6058 - val_loss: -251.1260\n",
      "Epoch 66/200\n",
      "49792/50000 [============================>.] - ETA: 0s - loss: -336.8094\n",
      "Epoch 00066: val_loss did not improve\n",
      "50000/50000 [==============================] - 13s 263us/step - loss: -336.4221 - val_loss: 578.1820\n",
      "Epoch 67/200\n",
      "49792/50000 [============================>.] - ETA: 0s - loss: -144.6607\n",
      "Epoch 00067: val_loss did not improve\n",
      "50000/50000 [==============================] - 13s 263us/step - loss: -144.4104 - val_loss: 1067.3311\n",
      "Epoch 68/200\n",
      "49792/50000 [============================>.] - ETA: 0s - loss: 378.8007\n",
      "Epoch 00068: val_loss did not improve\n",
      "50000/50000 [==============================] - 13s 262us/step - loss: 379.1036 - val_loss: 1893.3957\n",
      "Epoch 69/200\n",
      "49792/50000 [============================>.] - ETA: 0s - loss: 432.1014\n",
      "Epoch 00069: val_loss did not improve\n",
      "50000/50000 [==============================] - 13s 263us/step - loss: 432.0843 - val_loss: 1882.4909\n",
      "Epoch 70/200\n",
      "49792/50000 [============================>.] - ETA: 0s - loss: 450.3067\n",
      "Epoch 00070: val_loss did not improve\n",
      "50000/50000 [==============================] - 13s 262us/step - loss: 450.3265 - val_loss: 1895.9555\n",
      "Epoch 71/200\n"
     ]
    },
    {
     "name": "stdout",
     "output_type": "stream",
     "text": [
      "49792/50000 [============================>.] - ETA: 0s - loss: 466.9745\n",
      "Epoch 00071: val_loss did not improve\n",
      "50000/50000 [==============================] - 13s 263us/step - loss: 467.0012 - val_loss: 1899.3657\n",
      "Epoch 72/200\n",
      "49792/50000 [============================>.] - ETA: 0s - loss: 467.2140\n",
      "Epoch 00072: val_loss did not improve\n",
      "50000/50000 [==============================] - 13s 263us/step - loss: 467.2570 - val_loss: 1899.3688\n",
      "Epoch 73/200\n",
      "49792/50000 [============================>.] - ETA: 0s - loss: 467.2613\n",
      "Epoch 00073: val_loss did not improve\n",
      "50000/50000 [==============================] - 13s 263us/step - loss: 467.2592 - val_loss: 1899.3696\n",
      "Epoch 74/200\n",
      "49792/50000 [============================>.] - ETA: 0s - loss: 467.2007\n",
      "Epoch 00074: val_loss did not improve\n",
      "50000/50000 [==============================] - 13s 263us/step - loss: 467.2611 - val_loss: 1899.3681\n",
      "Epoch 75/200\n",
      "49792/50000 [============================>.] - ETA: 0s - loss: 467.2893\n",
      "Epoch 00075: val_loss did not improve\n",
      "50000/50000 [==============================] - 13s 263us/step - loss: 467.2647 - val_loss: 1899.3679\n",
      "Epoch 76/200\n",
      "49792/50000 [============================>.] - ETA: 0s - loss: 467.2272\n",
      "Epoch 00076: val_loss did not improve\n",
      "50000/50000 [==============================] - 13s 263us/step - loss: 467.2634 - val_loss: 1899.3673\n",
      "Epoch 77/200\n",
      "49792/50000 [============================>.] - ETA: 0s - loss: 467.2426\n",
      "Epoch 00077: val_loss did not improve\n",
      "50000/50000 [==============================] - 13s 262us/step - loss: 467.2598 - val_loss: 1899.3668\n",
      "Epoch 78/200\n",
      "49792/50000 [============================>.] - ETA: 0s - loss: 467.2678\n",
      "Epoch 00078: val_loss did not improve\n",
      "50000/50000 [==============================] - 13s 263us/step - loss: 467.2656 - val_loss: 1899.3666\n",
      "Epoch 79/200\n",
      "49792/50000 [============================>.] - ETA: 0s - loss: 467.2239\n",
      "Epoch 00079: val_loss did not improve\n",
      "50000/50000 [==============================] - 13s 263us/step - loss: 467.2598 - val_loss: 1899.3681\n",
      "Epoch 80/200\n",
      "49792/50000 [============================>.] - ETA: 0s - loss: 458.3159\n",
      "Epoch 00080: val_loss did not improve\n",
      "50000/50000 [==============================] - 13s 263us/step - loss: 458.2801 - val_loss: 1869.8359\n",
      "Epoch 81/200\n",
      "49792/50000 [============================>.] - ETA: 0s - loss: 409.0132\n",
      "Epoch 00081: val_loss did not improve\n",
      "50000/50000 [==============================] - 13s 263us/step - loss: 408.9870 - val_loss: 1843.9465\n",
      "Epoch 82/200\n",
      "49792/50000 [============================>.] - ETA: 0s - loss: 431.6418\n",
      "Epoch 00082: val_loss did not improve\n",
      "50000/50000 [==============================] - 13s 263us/step - loss: 431.6738 - val_loss: 1885.5274\n",
      "Epoch 83/200\n",
      "49792/50000 [============================>.] - ETA: 0s - loss: 277.2573\n",
      "Epoch 00083: val_loss did not improve\n",
      "50000/50000 [==============================] - 13s 263us/step - loss: 275.5764 - val_loss: 701.4203\n",
      "Epoch 84/200\n",
      "49792/50000 [============================>.] - ETA: 0s - loss: -136.1867\n",
      "Epoch 00084: val_loss did not improve\n",
      "50000/50000 [==============================] - 13s 263us/step - loss: -136.6404 - val_loss: 100.4548\n",
      "Epoch 85/200\n",
      "49792/50000 [============================>.] - ETA: 0s - loss: -158.7786\n",
      "Epoch 00085: val_loss did not improve\n",
      "50000/50000 [==============================] - 14s 271us/step - loss: -158.1712 - val_loss: -119.2835\n",
      "Epoch 86/200\n",
      "49792/50000 [============================>.] - ETA: 0s - loss: 124.3476\n",
      "Epoch 00086: val_loss did not improve\n",
      "50000/50000 [==============================] - 13s 262us/step - loss: 124.9331 - val_loss: 950.0139\n",
      "Epoch 87/200\n",
      "49792/50000 [============================>.] - ETA: 0s - loss: 283.9609\n",
      "Epoch 00087: val_loss did not improve\n",
      "50000/50000 [==============================] - 13s 262us/step - loss: 283.9898 - val_loss: 1155.9086\n",
      "Epoch 88/200\n",
      "49792/50000 [============================>.] - ETA: 0s - loss: 322.3315\n",
      "Epoch 00088: val_loss did not improve\n",
      "50000/50000 [==============================] - 13s 264us/step - loss: 322.6441 - val_loss: 1599.2124\n",
      "Epoch 89/200\n",
      "49792/50000 [============================>.] - ETA: 0s - loss: 451.0115\n",
      "Epoch 00089: val_loss did not improve\n",
      "50000/50000 [==============================] - 13s 257us/step - loss: 451.0260 - val_loss: 1835.3089\n",
      "Epoch 90/200\n",
      "49792/50000 [============================>.] - ETA: 0s - loss: 447.6329\n",
      "Epoch 00090: val_loss did not improve\n",
      "50000/50000 [==============================] - 13s 257us/step - loss: 447.6384 - val_loss: 1752.4642\n",
      "Epoch 91/200\n",
      "49792/50000 [============================>.] - ETA: 0s - loss: 459.6341\n",
      "Epoch 00091: val_loss did not improve\n",
      "50000/50000 [==============================] - 13s 257us/step - loss: 459.6358 - val_loss: 1899.4298\n",
      "Epoch 92/200\n",
      "49792/50000 [============================>.] - ETA: 0s - loss: 468.2324\n",
      "Epoch 00092: val_loss did not improve\n",
      "50000/50000 [==============================] - 13s 257us/step - loss: 468.1702 - val_loss: 1899.3996\n",
      "Epoch 93/200\n",
      "49792/50000 [============================>.] - ETA: 0s - loss: 468.2084\n",
      "Epoch 00093: val_loss did not improve\n",
      "50000/50000 [==============================] - 13s 262us/step - loss: 468.1702 - val_loss: 1899.3974\n",
      "Epoch 94/200\n",
      "49792/50000 [============================>.] - ETA: 0s - loss: 468.1512\n",
      "Epoch 00094: val_loss did not improve\n",
      "50000/50000 [==============================] - 13s 259us/step - loss: 468.1696 - val_loss: 1899.3977\n",
      "Epoch 95/200\n",
      "49792/50000 [============================>.] - ETA: 0s - loss: 468.1511\n",
      "Epoch 00095: val_loss did not improve\n",
      "50000/50000 [==============================] - 13s 258us/step - loss: 468.1702 - val_loss: 1899.3970\n",
      "Epoch 96/200\n",
      "49792/50000 [============================>.] - ETA: 0s - loss: 468.1136\n",
      "Epoch 00096: val_loss did not improve\n",
      "50000/50000 [==============================] - 13s 258us/step - loss: 468.1699 - val_loss: 1899.3980\n",
      "Epoch 97/200\n",
      "49792/50000 [============================>.] - ETA: 0s - loss: 468.1589\n",
      "Epoch 00097: val_loss did not improve\n",
      "50000/50000 [==============================] - 13s 257us/step - loss: 468.1695 - val_loss: 1899.3980\n",
      "Epoch 98/200\n",
      "49792/50000 [============================>.] - ETA: 0s - loss: 468.1036\n",
      "Epoch 00098: val_loss did not improve\n",
      "50000/50000 [==============================] - 13s 259us/step - loss: 468.1701 - val_loss: 1899.3977\n",
      "Epoch 99/200\n",
      "49792/50000 [============================>.] - ETA: 0s - loss: 468.1813\n",
      "Epoch 00099: val_loss did not improve\n",
      "50000/50000 [==============================] - 13s 259us/step - loss: 468.1696 - val_loss: 1899.3989\n",
      "Epoch 100/200\n",
      "49792/50000 [============================>.] - ETA: 0s - loss: 468.2063\n",
      "Epoch 00100: val_loss did not improve\n",
      "50000/50000 [==============================] - 13s 261us/step - loss: 468.1705 - val_loss: 1899.3980\n",
      "Epoch 101/200\n",
      "49792/50000 [============================>.] - ETA: 0s - loss: 468.1566\n",
      "Epoch 00101: val_loss did not improve\n",
      "50000/50000 [==============================] - 13s 259us/step - loss: 468.1703 - val_loss: 1899.3978\n",
      "Epoch 102/200\n",
      "49792/50000 [============================>.] - ETA: 0s - loss: 468.1356\n",
      "Epoch 00102: val_loss did not improve\n",
      "50000/50000 [==============================] - 14s 273us/step - loss: 468.1704 - val_loss: 1899.3980\n",
      "Epoch 103/200\n",
      "49792/50000 [============================>.] - ETA: 0s - loss: 468.1861\n",
      "Epoch 00103: val_loss did not improve\n",
      "50000/50000 [==============================] - 13s 269us/step - loss: 468.1700 - val_loss: 1899.3981\n",
      "Epoch 104/200\n",
      "49792/50000 [============================>.] - ETA: 0s - loss: 468.1113\n",
      "Epoch 00104: val_loss did not improve\n",
      "50000/50000 [==============================] - 13s 265us/step - loss: 468.1698 - val_loss: 1899.3982\n",
      "Epoch 105/200\n",
      "49792/50000 [============================>.] - ETA: 0s - loss: 468.1311\n",
      "Epoch 00105: val_loss did not improve\n",
      "50000/50000 [==============================] - 13s 262us/step - loss: 468.1701 - val_loss: 1899.3991\n",
      "Epoch 106/200\n",
      "49792/50000 [============================>.] - ETA: 0s - loss: 468.1465\n",
      "Epoch 00106: val_loss did not improve\n",
      "50000/50000 [==============================] - 13s 261us/step - loss: 468.1706 - val_loss: 1899.3990\n",
      "Epoch 107/200\n",
      "49792/50000 [============================>.] - ETA: 0s - loss: 468.1766\n",
      "Epoch 00107: val_loss did not improve\n",
      "50000/50000 [==============================] - 13s 268us/step - loss: 468.1706 - val_loss: 1899.3973\n"
     ]
    },
    {
     "name": "stdout",
     "output_type": "stream",
     "text": [
      "Epoch 108/200\n",
      "49792/50000 [============================>.] - ETA: 0s - loss: 468.1874\n",
      "Epoch 00108: val_loss did not improve\n",
      "50000/50000 [==============================] - 13s 259us/step - loss: 468.1698 - val_loss: 1899.3969\n",
      "Epoch 109/200\n",
      "49792/50000 [============================>.] - ETA: 0s - loss: 468.1797\n",
      "Epoch 00109: val_loss did not improve\n",
      "50000/50000 [==============================] - 13s 258us/step - loss: 468.1700 - val_loss: 1899.3988\n",
      "Epoch 110/200\n",
      "49792/50000 [============================>.] - ETA: 0s - loss: 468.1759\n",
      "Epoch 00110: val_loss did not improve\n",
      "50000/50000 [==============================] - 13s 258us/step - loss: 468.1698 - val_loss: 1899.3984\n",
      "Epoch 111/200\n",
      "49792/50000 [============================>.] - ETA: 0s - loss: 468.1331\n",
      "Epoch 00111: val_loss did not improve\n",
      "50000/50000 [==============================] - 13s 259us/step - loss: 468.1697 - val_loss: 1899.3977\n",
      "Epoch 112/200\n",
      "49792/50000 [============================>.] - ETA: 0s - loss: 468.1998\n",
      "Epoch 00112: val_loss did not improve\n",
      "50000/50000 [==============================] - 13s 257us/step - loss: 468.1703 - val_loss: 1899.3972\n",
      "Epoch 113/200\n",
      "49792/50000 [============================>.] - ETA: 0s - loss: 468.1539\n",
      "Epoch 00113: val_loss did not improve\n",
      "50000/50000 [==============================] - 13s 258us/step - loss: 468.1701 - val_loss: 1899.3975\n",
      "Epoch 114/200\n",
      "49792/50000 [============================>.] - ETA: 0s - loss: 468.1684\n",
      "Epoch 00114: val_loss did not improve\n",
      "50000/50000 [==============================] - 13s 265us/step - loss: 468.1699 - val_loss: 1899.3993\n",
      "Epoch 115/200\n",
      "49792/50000 [============================>.] - ETA: 0s - loss: 468.1907\n",
      "Epoch 00115: val_loss did not improve\n",
      "50000/50000 [==============================] - 13s 264us/step - loss: 468.1694 - val_loss: 1899.3975\n",
      "Epoch 116/200\n",
      "49792/50000 [============================>.] - ETA: 0s - loss: 468.1635\n",
      "Epoch 00116: val_loss did not improve\n",
      "50000/50000 [==============================] - 13s 260us/step - loss: 468.1701 - val_loss: 1899.3972\n",
      "Epoch 117/200\n",
      "49792/50000 [============================>.] - ETA: 0s - loss: 468.1879\n",
      "Epoch 00117: val_loss did not improve\n",
      "50000/50000 [==============================] - 13s 261us/step - loss: 468.1705 - val_loss: 1899.3985\n",
      "Epoch 118/200\n",
      "49792/50000 [============================>.] - ETA: 0s - loss: 468.1259\n",
      "Epoch 00118: val_loss did not improve\n",
      "50000/50000 [==============================] - 13s 264us/step - loss: 468.1699 - val_loss: 1899.3995\n",
      "Epoch 119/200\n",
      "49792/50000 [============================>.] - ETA: 0s - loss: 468.1393\n",
      "Epoch 00119: val_loss did not improve\n",
      "50000/50000 [==============================] - 13s 269us/step - loss: 468.1702 - val_loss: 1899.3983\n",
      "Epoch 120/200\n",
      "49792/50000 [============================>.] - ETA: 0s - loss: 468.1871\n",
      "Epoch 00120: val_loss did not improve\n",
      "50000/50000 [==============================] - 13s 261us/step - loss: 468.1709 - val_loss: 1899.3986\n",
      "Epoch 121/200\n",
      "49792/50000 [============================>.] - ETA: 0s - loss: 468.1930\n",
      "Epoch 00121: val_loss did not improve\n",
      "50000/50000 [==============================] - 13s 264us/step - loss: 468.1696 - val_loss: 1899.3992\n",
      "Epoch 122/200\n",
      "49792/50000 [============================>.] - ETA: 0s - loss: 468.2614\n",
      "Epoch 00122: val_loss did not improve\n",
      "50000/50000 [==============================] - 13s 260us/step - loss: 468.1698 - val_loss: 1899.3974\n",
      "Epoch 123/200\n",
      "49792/50000 [============================>.] - ETA: 0s - loss: 468.1611\n",
      "Epoch 00123: val_loss did not improve\n",
      "50000/50000 [==============================] - 13s 257us/step - loss: 468.1706 - val_loss: 1899.3977\n",
      "Epoch 124/200\n",
      "49792/50000 [============================>.] - ETA: 0s - loss: 468.1811\n",
      "Epoch 00124: val_loss did not improve\n",
      "50000/50000 [==============================] - 13s 262us/step - loss: 468.1698 - val_loss: 1899.3990\n",
      "Epoch 125/200\n",
      "49792/50000 [============================>.] - ETA: 0s - loss: 468.1271\n",
      "Epoch 00125: val_loss did not improve\n",
      "50000/50000 [==============================] - 13s 261us/step - loss: 468.1701 - val_loss: 1899.3977\n",
      "Epoch 126/200\n",
      "49792/50000 [============================>.] - ETA: 0s - loss: 468.1665\n",
      "Epoch 00126: val_loss did not improve\n",
      "50000/50000 [==============================] - 13s 261us/step - loss: 468.1698 - val_loss: 1899.3977\n",
      "Epoch 127/200\n",
      "49792/50000 [============================>.] - ETA: 0s - loss: 468.2145\n",
      "Epoch 00127: val_loss did not improve\n",
      "50000/50000 [==============================] - 13s 260us/step - loss: 468.1697 - val_loss: 1899.3984\n",
      "Epoch 128/200\n",
      "49792/50000 [============================>.] - ETA: 0s - loss: 468.1566\n",
      "Epoch 00128: val_loss did not improve\n",
      "50000/50000 [==============================] - 13s 258us/step - loss: 468.1700 - val_loss: 1899.3971\n",
      "Epoch 129/200\n",
      "49792/50000 [============================>.] - ETA: 0s - loss: 468.2171\n",
      "Epoch 00129: val_loss did not improve\n",
      "50000/50000 [==============================] - 13s 263us/step - loss: 468.1701 - val_loss: 1899.3984\n",
      "Epoch 130/200\n",
      "49792/50000 [============================>.] - ETA: 0s - loss: 468.1839\n",
      "Epoch 00130: val_loss did not improve\n",
      "50000/50000 [==============================] - 13s 262us/step - loss: 468.1697 - val_loss: 1899.3987\n",
      "Epoch 131/200\n",
      "49792/50000 [============================>.] - ETA: 0s - loss: 468.1965\n",
      "Epoch 00131: val_loss did not improve\n",
      "50000/50000 [==============================] - 13s 257us/step - loss: 468.1703 - val_loss: 1899.3985\n",
      "Epoch 132/200\n",
      "49792/50000 [============================>.] - ETA: 0s - loss: 468.1867\n",
      "Epoch 00132: val_loss did not improve\n",
      "50000/50000 [==============================] - 13s 258us/step - loss: 468.1700 - val_loss: 1899.3972\n",
      "Epoch 133/200\n",
      "49792/50000 [============================>.] - ETA: 0s - loss: 468.1750\n",
      "Epoch 00133: val_loss did not improve\n",
      "50000/50000 [==============================] - 13s 258us/step - loss: 468.1699 - val_loss: 1899.3986\n",
      "Epoch 134/200\n",
      "49792/50000 [============================>.] - ETA: 0s - loss: 468.1502\n",
      "Epoch 00134: val_loss did not improve\n",
      "50000/50000 [==============================] - 13s 258us/step - loss: 468.1702 - val_loss: 1899.3977\n",
      "Epoch 135/200\n",
      "49792/50000 [============================>.] - ETA: 0s - loss: 468.1840\n",
      "Epoch 00135: val_loss did not improve\n",
      "50000/50000 [==============================] - 13s 258us/step - loss: 468.1700 - val_loss: 1899.3989\n",
      "Epoch 136/200\n",
      "49792/50000 [============================>.] - ETA: 0s - loss: 468.1623\n",
      "Epoch 00136: val_loss did not improve\n",
      "50000/50000 [==============================] - 13s 257us/step - loss: 468.1697 - val_loss: 1899.3975\n",
      "Epoch 137/200\n",
      "49792/50000 [============================>.] - ETA: 0s - loss: 468.1841\n",
      "Epoch 00137: val_loss did not improve\n",
      "50000/50000 [==============================] - 13s 257us/step - loss: 468.1694 - val_loss: 1899.3985\n",
      "Epoch 138/200\n",
      "49792/50000 [============================>.] - ETA: 0s - loss: 468.1907\n",
      "Epoch 00138: val_loss did not improve\n",
      "50000/50000 [==============================] - 13s 257us/step - loss: 468.1699 - val_loss: 1899.3990\n",
      "Epoch 139/200\n",
      "49792/50000 [============================>.] - ETA: 0s - loss: 468.1913\n",
      "Epoch 00139: val_loss did not improve\n",
      "50000/50000 [==============================] - 13s 259us/step - loss: 468.1708 - val_loss: 1899.3986\n",
      "Epoch 140/200\n",
      "49792/50000 [============================>.] - ETA: 0s - loss: 468.1758\n",
      "Epoch 00140: val_loss did not improve\n",
      "50000/50000 [==============================] - 13s 259us/step - loss: 468.1696 - val_loss: 1899.3974\n",
      "Epoch 141/200\n",
      "49792/50000 [============================>.] - ETA: 0s - loss: 468.1675\n",
      "Epoch 00141: val_loss did not improve\n",
      "50000/50000 [==============================] - 13s 261us/step - loss: 468.1700 - val_loss: 1899.3982\n",
      "Epoch 142/200\n",
      "49792/50000 [============================>.] - ETA: 0s - loss: 468.1556\n",
      "Epoch 00142: val_loss did not improve\n",
      "50000/50000 [==============================] - 13s 262us/step - loss: 468.1700 - val_loss: 1899.3977\n",
      "Epoch 143/200\n",
      "49792/50000 [============================>.] - ETA: 0s - loss: 468.1425\n",
      "Epoch 00143: val_loss did not improve\n",
      "50000/50000 [==============================] - 13s 257us/step - loss: 468.1699 - val_loss: 1899.3983\n",
      "Epoch 144/200\n",
      "49792/50000 [============================>.] - ETA: 0s - loss: 468.1445\n",
      "Epoch 00144: val_loss did not improve\n",
      "50000/50000 [==============================] - 13s 258us/step - loss: 468.1699 - val_loss: 1899.3971\n"
     ]
    },
    {
     "name": "stdout",
     "output_type": "stream",
     "text": [
      "Epoch 145/200\n",
      "49792/50000 [============================>.] - ETA: 0s - loss: 468.1597\n",
      "Epoch 00145: val_loss did not improve\n",
      "50000/50000 [==============================] - 13s 258us/step - loss: 468.1701 - val_loss: 1899.3990\n",
      "Epoch 146/200\n",
      "49792/50000 [============================>.] - ETA: 0s - loss: 468.0932\n",
      "Epoch 00146: val_loss did not improve\n",
      "50000/50000 [==============================] - 14s 274us/step - loss: 468.1697 - val_loss: 1899.3973\n",
      "Epoch 147/200\n",
      "49792/50000 [============================>.] - ETA: 0s - loss: 468.1308\n",
      "Epoch 00147: val_loss did not improve\n",
      "50000/50000 [==============================] - 13s 265us/step - loss: 468.1700 - val_loss: 1899.3987\n",
      "Epoch 148/200\n",
      "49792/50000 [============================>.] - ETA: 0s - loss: 468.1550\n",
      "Epoch 00148: val_loss did not improve\n",
      "50000/50000 [==============================] - 13s 264us/step - loss: 468.1697 - val_loss: 1899.3993\n",
      "Epoch 149/200\n",
      "49792/50000 [============================>.] - ETA: 0s - loss: 468.2210\n",
      "Epoch 00149: val_loss did not improve\n",
      "50000/50000 [==============================] - 13s 260us/step - loss: 468.1701 - val_loss: 1899.4003\n",
      "Epoch 150/200\n",
      "49792/50000 [============================>.] - ETA: 0s - loss: 468.1281\n",
      "Epoch 00150: val_loss did not improve\n",
      "50000/50000 [==============================] - 13s 260us/step - loss: 468.1699 - val_loss: 1899.4000\n",
      "Epoch 151/200\n",
      "49792/50000 [============================>.] - ETA: 0s - loss: 468.0803\n",
      "Epoch 00151: val_loss did not improve\n",
      "50000/50000 [==============================] - 13s 260us/step - loss: 468.1704 - val_loss: 1899.3992\n",
      "Epoch 152/200\n",
      "49792/50000 [============================>.] - ETA: 0s - loss: 468.2434\n",
      "Epoch 00152: val_loss did not improve\n",
      "50000/50000 [==============================] - 13s 258us/step - loss: 468.1698 - val_loss: 1899.3975\n",
      "Epoch 153/200\n",
      "49792/50000 [============================>.] - ETA: 0s - loss: 468.1923\n",
      "Epoch 00153: val_loss did not improve\n",
      "50000/50000 [==============================] - 13s 258us/step - loss: 468.1695 - val_loss: 1899.3973\n",
      "Epoch 154/200\n",
      "49792/50000 [============================>.] - ETA: 0s - loss: 468.2264\n",
      "Epoch 00154: val_loss did not improve\n",
      "50000/50000 [==============================] - 13s 259us/step - loss: 468.1700 - val_loss: 1899.3974\n",
      "Epoch 155/200\n",
      "49792/50000 [============================>.] - ETA: 0s - loss: 468.1829\n",
      "Epoch 00155: val_loss did not improve\n",
      "50000/50000 [==============================] - 13s 262us/step - loss: 468.1702 - val_loss: 1899.3984\n",
      "Epoch 156/200\n",
      "49792/50000 [============================>.] - ETA: 0s - loss: 468.1990\n",
      "Epoch 00156: val_loss did not improve\n",
      "50000/50000 [==============================] - 13s 269us/step - loss: 468.1702 - val_loss: 1899.3980\n",
      "Epoch 157/200\n",
      "49792/50000 [============================>.] - ETA: 0s - loss: 468.1219\n",
      "Epoch 00157: val_loss did not improve\n",
      "50000/50000 [==============================] - 13s 257us/step - loss: 468.1705 - val_loss: 1899.3976\n",
      "Epoch 158/200\n",
      "49792/50000 [============================>.] - ETA: 0s - loss: 468.1615\n",
      "Epoch 00158: val_loss did not improve\n",
      "50000/50000 [==============================] - 13s 259us/step - loss: 468.1698 - val_loss: 1899.3974\n",
      "Epoch 159/200\n",
      "49792/50000 [============================>.] - ETA: 0s - loss: 468.1459\n",
      "Epoch 00159: val_loss did not improve\n",
      "50000/50000 [==============================] - 13s 266us/step - loss: 468.1701 - val_loss: 1899.3987\n",
      "Epoch 160/200\n",
      "49792/50000 [============================>.] - ETA: 0s - loss: 468.1740\n",
      "Epoch 00160: val_loss did not improve\n",
      "50000/50000 [==============================] - 13s 260us/step - loss: 468.1706 - val_loss: 1899.3976\n",
      "Epoch 161/200\n",
      "49792/50000 [============================>.] - ETA: 0s - loss: 468.2141\n",
      "Epoch 00161: val_loss did not improve\n",
      "50000/50000 [==============================] - 13s 260us/step - loss: 468.1703 - val_loss: 1899.3972\n",
      "Epoch 162/200\n",
      "49792/50000 [============================>.] - ETA: 0s - loss: 468.1548\n",
      "Epoch 00162: val_loss did not improve\n",
      "50000/50000 [==============================] - 13s 264us/step - loss: 468.1697 - val_loss: 1899.3974\n",
      "Epoch 163/200\n",
      "49792/50000 [============================>.] - ETA: 0s - loss: 468.1625\n",
      "Epoch 00163: val_loss did not improve\n",
      "50000/50000 [==============================] - 13s 262us/step - loss: 468.1700 - val_loss: 1899.3982\n",
      "Epoch 164/200\n",
      "49792/50000 [============================>.] - ETA: 0s - loss: 468.1232\n",
      "Epoch 00164: val_loss did not improve\n",
      "50000/50000 [==============================] - 13s 257us/step - loss: 468.1693 - val_loss: 1899.3974\n",
      "Epoch 165/200\n",
      "49792/50000 [============================>.] - ETA: 0s - loss: 468.2544\n",
      "Epoch 00165: val_loss did not improve\n",
      "50000/50000 [==============================] - 13s 268us/step - loss: 468.1705 - val_loss: 1899.3986\n",
      "Epoch 166/200\n",
      "49792/50000 [============================>.] - ETA: 0s - loss: 468.2031\n",
      "Epoch 00166: val_loss did not improve\n",
      "50000/50000 [==============================] - 13s 264us/step - loss: 468.1706 - val_loss: 1899.3989\n",
      "Epoch 167/200\n",
      "49792/50000 [============================>.] - ETA: 0s - loss: 468.1490\n",
      "Epoch 00167: val_loss did not improve\n",
      "50000/50000 [==============================] - 13s 263us/step - loss: 468.1705 - val_loss: 1899.3978\n",
      "Epoch 168/200\n",
      "49792/50000 [============================>.] - ETA: 0s - loss: 468.2105\n",
      "Epoch 00168: val_loss did not improve\n",
      "50000/50000 [==============================] - 13s 264us/step - loss: 468.1701 - val_loss: 1899.3978\n",
      "Epoch 169/200\n",
      "49792/50000 [============================>.] - ETA: 0s - loss: 468.2068\n",
      "Epoch 00169: val_loss did not improve\n",
      "50000/50000 [==============================] - 13s 259us/step - loss: 468.1698 - val_loss: 1899.3981\n",
      "Epoch 170/200\n",
      "49792/50000 [============================>.] - ETA: 0s - loss: 468.2175\n",
      "Epoch 00170: val_loss did not improve\n",
      "50000/50000 [==============================] - 13s 264us/step - loss: 468.1703 - val_loss: 1899.3988\n",
      "Epoch 171/200\n",
      "20352/50000 [===========>..................] - ETA: 7s - loss: 466.9708"
     ]
    },
    {
     "ename": "KeyboardInterrupt",
     "evalue": "",
     "output_type": "error",
     "traceback": [
      "\u001b[0;31m---------------------------------------------------------------------------\u001b[0m",
      "\u001b[0;31mKeyboardInterrupt\u001b[0m                         Traceback (most recent call last)",
      "\u001b[0;32m<ipython-input-15-82bd14e73b1d>\u001b[0m in \u001b[0;36m<module>\u001b[0;34m()\u001b[0m\n\u001b[1;32m      5\u001b[0m                 \u001b[0mcallbacks\u001b[0m\u001b[0;34m=\u001b[0m\u001b[0mcallbacks_list_encoder\u001b[0m\u001b[0;34m,\u001b[0m\u001b[0;34m\u001b[0m\u001b[0m\n\u001b[1;32m      6\u001b[0m                 \u001b[0mverbose\u001b[0m\u001b[0;34m=\u001b[0m\u001b[0;36m1\u001b[0m\u001b[0;34m,\u001b[0m\u001b[0;34m\u001b[0m\u001b[0m\n\u001b[0;32m----> 7\u001b[0;31m                 validation_data=(X2, X2))\n\u001b[0m",
      "\u001b[0;32m/home/an80020/anaconda2/envs/tensorflow/lib/python2.7/site-packages/keras/engine/training.pyc\u001b[0m in \u001b[0;36mfit\u001b[0;34m(self, x, y, batch_size, epochs, verbose, callbacks, validation_split, validation_data, shuffle, class_weight, sample_weight, initial_epoch, steps_per_epoch, validation_steps, **kwargs)\u001b[0m\n\u001b[1;32m   1667\u001b[0m                               \u001b[0minitial_epoch\u001b[0m\u001b[0;34m=\u001b[0m\u001b[0minitial_epoch\u001b[0m\u001b[0;34m,\u001b[0m\u001b[0;34m\u001b[0m\u001b[0m\n\u001b[1;32m   1668\u001b[0m                               \u001b[0msteps_per_epoch\u001b[0m\u001b[0;34m=\u001b[0m\u001b[0msteps_per_epoch\u001b[0m\u001b[0;34m,\u001b[0m\u001b[0;34m\u001b[0m\u001b[0m\n\u001b[0;32m-> 1669\u001b[0;31m                               validation_steps=validation_steps)\n\u001b[0m\u001b[1;32m   1670\u001b[0m \u001b[0;34m\u001b[0m\u001b[0m\n\u001b[1;32m   1671\u001b[0m     def evaluate(self, x=None, y=None,\n",
      "\u001b[0;32m/home/an80020/anaconda2/envs/tensorflow/lib/python2.7/site-packages/keras/engine/training.pyc\u001b[0m in \u001b[0;36m_fit_loop\u001b[0;34m(self, f, ins, out_labels, batch_size, epochs, verbose, callbacks, val_f, val_ins, shuffle, callback_metrics, initial_epoch, steps_per_epoch, validation_steps)\u001b[0m\n\u001b[1;32m   1204\u001b[0m                         \u001b[0mins_batch\u001b[0m\u001b[0;34m[\u001b[0m\u001b[0mi\u001b[0m\u001b[0;34m]\u001b[0m \u001b[0;34m=\u001b[0m \u001b[0mins_batch\u001b[0m\u001b[0;34m[\u001b[0m\u001b[0mi\u001b[0m\u001b[0;34m]\u001b[0m\u001b[0;34m.\u001b[0m\u001b[0mtoarray\u001b[0m\u001b[0;34m(\u001b[0m\u001b[0;34m)\u001b[0m\u001b[0;34m\u001b[0m\u001b[0m\n\u001b[1;32m   1205\u001b[0m \u001b[0;34m\u001b[0m\u001b[0m\n\u001b[0;32m-> 1206\u001b[0;31m                     \u001b[0mouts\u001b[0m \u001b[0;34m=\u001b[0m \u001b[0mf\u001b[0m\u001b[0;34m(\u001b[0m\u001b[0mins_batch\u001b[0m\u001b[0;34m)\u001b[0m\u001b[0;34m\u001b[0m\u001b[0m\n\u001b[0m\u001b[1;32m   1207\u001b[0m                     \u001b[0;32mif\u001b[0m \u001b[0;32mnot\u001b[0m \u001b[0misinstance\u001b[0m\u001b[0;34m(\u001b[0m\u001b[0mouts\u001b[0m\u001b[0;34m,\u001b[0m \u001b[0mlist\u001b[0m\u001b[0;34m)\u001b[0m\u001b[0;34m:\u001b[0m\u001b[0;34m\u001b[0m\u001b[0m\n\u001b[1;32m   1208\u001b[0m                         \u001b[0mouts\u001b[0m \u001b[0;34m=\u001b[0m \u001b[0;34m[\u001b[0m\u001b[0mouts\u001b[0m\u001b[0;34m]\u001b[0m\u001b[0;34m\u001b[0m\u001b[0m\n",
      "\u001b[0;32m/home/an80020/anaconda2/envs/tensorflow/lib/python2.7/site-packages/keras/backend/tensorflow_backend.pyc\u001b[0m in \u001b[0;36m__call__\u001b[0;34m(self, inputs)\u001b[0m\n\u001b[1;32m   2473\u001b[0m         \u001b[0msession\u001b[0m \u001b[0;34m=\u001b[0m \u001b[0mget_session\u001b[0m\u001b[0;34m(\u001b[0m\u001b[0;34m)\u001b[0m\u001b[0;34m\u001b[0m\u001b[0m\n\u001b[1;32m   2474\u001b[0m         updated = session.run(fetches=fetches, feed_dict=feed_dict,\n\u001b[0;32m-> 2475\u001b[0;31m                               **self.session_kwargs)\n\u001b[0m\u001b[1;32m   2476\u001b[0m         \u001b[0;32mreturn\u001b[0m \u001b[0mupdated\u001b[0m\u001b[0;34m[\u001b[0m\u001b[0;34m:\u001b[0m\u001b[0mlen\u001b[0m\u001b[0;34m(\u001b[0m\u001b[0mself\u001b[0m\u001b[0;34m.\u001b[0m\u001b[0moutputs\u001b[0m\u001b[0;34m)\u001b[0m\u001b[0;34m]\u001b[0m\u001b[0;34m\u001b[0m\u001b[0m\n\u001b[1;32m   2477\u001b[0m \u001b[0;34m\u001b[0m\u001b[0m\n",
      "\u001b[0;32m/home/an80020/anaconda2/envs/tensorflow/lib/python2.7/site-packages/tensorflow/python/client/session.pyc\u001b[0m in \u001b[0;36mrun\u001b[0;34m(self, fetches, feed_dict, options, run_metadata)\u001b[0m\n\u001b[1;32m    887\u001b[0m     \u001b[0;32mtry\u001b[0m\u001b[0;34m:\u001b[0m\u001b[0;34m\u001b[0m\u001b[0m\n\u001b[1;32m    888\u001b[0m       result = self._run(None, fetches, feed_dict, options_ptr,\n\u001b[0;32m--> 889\u001b[0;31m                          run_metadata_ptr)\n\u001b[0m\u001b[1;32m    890\u001b[0m       \u001b[0;32mif\u001b[0m \u001b[0mrun_metadata\u001b[0m\u001b[0;34m:\u001b[0m\u001b[0;34m\u001b[0m\u001b[0m\n\u001b[1;32m    891\u001b[0m         \u001b[0mproto_data\u001b[0m \u001b[0;34m=\u001b[0m \u001b[0mtf_session\u001b[0m\u001b[0;34m.\u001b[0m\u001b[0mTF_GetBuffer\u001b[0m\u001b[0;34m(\u001b[0m\u001b[0mrun_metadata_ptr\u001b[0m\u001b[0;34m)\u001b[0m\u001b[0;34m\u001b[0m\u001b[0m\n",
      "\u001b[0;32m/home/an80020/anaconda2/envs/tensorflow/lib/python2.7/site-packages/tensorflow/python/client/session.pyc\u001b[0m in \u001b[0;36m_run\u001b[0;34m(self, handle, fetches, feed_dict, options, run_metadata)\u001b[0m\n\u001b[1;32m   1118\u001b[0m     \u001b[0;32mif\u001b[0m \u001b[0mfinal_fetches\u001b[0m \u001b[0;32mor\u001b[0m \u001b[0mfinal_targets\u001b[0m \u001b[0;32mor\u001b[0m \u001b[0;34m(\u001b[0m\u001b[0mhandle\u001b[0m \u001b[0;32mand\u001b[0m \u001b[0mfeed_dict_tensor\u001b[0m\u001b[0;34m)\u001b[0m\u001b[0;34m:\u001b[0m\u001b[0;34m\u001b[0m\u001b[0m\n\u001b[1;32m   1119\u001b[0m       results = self._do_run(handle, final_targets, final_fetches,\n\u001b[0;32m-> 1120\u001b[0;31m                              feed_dict_tensor, options, run_metadata)\n\u001b[0m\u001b[1;32m   1121\u001b[0m     \u001b[0;32melse\u001b[0m\u001b[0;34m:\u001b[0m\u001b[0;34m\u001b[0m\u001b[0m\n\u001b[1;32m   1122\u001b[0m       \u001b[0mresults\u001b[0m \u001b[0;34m=\u001b[0m \u001b[0;34m[\u001b[0m\u001b[0;34m]\u001b[0m\u001b[0;34m\u001b[0m\u001b[0m\n",
      "\u001b[0;32m/home/an80020/anaconda2/envs/tensorflow/lib/python2.7/site-packages/tensorflow/python/client/session.pyc\u001b[0m in \u001b[0;36m_do_run\u001b[0;34m(self, handle, target_list, fetch_list, feed_dict, options, run_metadata)\u001b[0m\n\u001b[1;32m   1315\u001b[0m     \u001b[0;32mif\u001b[0m \u001b[0mhandle\u001b[0m \u001b[0;32mis\u001b[0m \u001b[0mNone\u001b[0m\u001b[0;34m:\u001b[0m\u001b[0;34m\u001b[0m\u001b[0m\n\u001b[1;32m   1316\u001b[0m       return self._do_call(_run_fn, self._session, feeds, fetches, targets,\n\u001b[0;32m-> 1317\u001b[0;31m                            options, run_metadata)\n\u001b[0m\u001b[1;32m   1318\u001b[0m     \u001b[0;32melse\u001b[0m\u001b[0;34m:\u001b[0m\u001b[0;34m\u001b[0m\u001b[0m\n\u001b[1;32m   1319\u001b[0m       \u001b[0;32mreturn\u001b[0m \u001b[0mself\u001b[0m\u001b[0;34m.\u001b[0m\u001b[0m_do_call\u001b[0m\u001b[0;34m(\u001b[0m\u001b[0m_prun_fn\u001b[0m\u001b[0;34m,\u001b[0m \u001b[0mself\u001b[0m\u001b[0;34m.\u001b[0m\u001b[0m_session\u001b[0m\u001b[0;34m,\u001b[0m \u001b[0mhandle\u001b[0m\u001b[0;34m,\u001b[0m \u001b[0mfeeds\u001b[0m\u001b[0;34m,\u001b[0m \u001b[0mfetches\u001b[0m\u001b[0;34m)\u001b[0m\u001b[0;34m\u001b[0m\u001b[0m\n",
      "\u001b[0;32m/home/an80020/anaconda2/envs/tensorflow/lib/python2.7/site-packages/tensorflow/python/client/session.pyc\u001b[0m in \u001b[0;36m_do_call\u001b[0;34m(self, fn, *args)\u001b[0m\n\u001b[1;32m   1321\u001b[0m   \u001b[0;32mdef\u001b[0m \u001b[0m_do_call\u001b[0m\u001b[0;34m(\u001b[0m\u001b[0mself\u001b[0m\u001b[0;34m,\u001b[0m \u001b[0mfn\u001b[0m\u001b[0;34m,\u001b[0m \u001b[0;34m*\u001b[0m\u001b[0margs\u001b[0m\u001b[0;34m)\u001b[0m\u001b[0;34m:\u001b[0m\u001b[0;34m\u001b[0m\u001b[0m\n\u001b[1;32m   1322\u001b[0m     \u001b[0;32mtry\u001b[0m\u001b[0;34m:\u001b[0m\u001b[0;34m\u001b[0m\u001b[0m\n\u001b[0;32m-> 1323\u001b[0;31m       \u001b[0;32mreturn\u001b[0m \u001b[0mfn\u001b[0m\u001b[0;34m(\u001b[0m\u001b[0;34m*\u001b[0m\u001b[0margs\u001b[0m\u001b[0;34m)\u001b[0m\u001b[0;34m\u001b[0m\u001b[0m\n\u001b[0m\u001b[1;32m   1324\u001b[0m     \u001b[0;32mexcept\u001b[0m \u001b[0merrors\u001b[0m\u001b[0;34m.\u001b[0m\u001b[0mOpError\u001b[0m \u001b[0;32mas\u001b[0m \u001b[0me\u001b[0m\u001b[0;34m:\u001b[0m\u001b[0;34m\u001b[0m\u001b[0m\n\u001b[1;32m   1325\u001b[0m       \u001b[0mmessage\u001b[0m \u001b[0;34m=\u001b[0m \u001b[0mcompat\u001b[0m\u001b[0;34m.\u001b[0m\u001b[0mas_text\u001b[0m\u001b[0;34m(\u001b[0m\u001b[0me\u001b[0m\u001b[0;34m.\u001b[0m\u001b[0mmessage\u001b[0m\u001b[0;34m)\u001b[0m\u001b[0;34m\u001b[0m\u001b[0m\n",
      "\u001b[0;32m/home/an80020/anaconda2/envs/tensorflow/lib/python2.7/site-packages/tensorflow/python/client/session.pyc\u001b[0m in \u001b[0;36m_run_fn\u001b[0;34m(session, feed_dict, fetch_list, target_list, options, run_metadata)\u001b[0m\n\u001b[1;32m   1300\u001b[0m           return tf_session.TF_Run(session, options,\n\u001b[1;32m   1301\u001b[0m                                    \u001b[0mfeed_dict\u001b[0m\u001b[0;34m,\u001b[0m \u001b[0mfetch_list\u001b[0m\u001b[0;34m,\u001b[0m \u001b[0mtarget_list\u001b[0m\u001b[0;34m,\u001b[0m\u001b[0;34m\u001b[0m\u001b[0m\n\u001b[0;32m-> 1302\u001b[0;31m                                    status, run_metadata)\n\u001b[0m\u001b[1;32m   1303\u001b[0m \u001b[0;34m\u001b[0m\u001b[0m\n\u001b[1;32m   1304\u001b[0m     \u001b[0;32mdef\u001b[0m \u001b[0m_prun_fn\u001b[0m\u001b[0;34m(\u001b[0m\u001b[0msession\u001b[0m\u001b[0;34m,\u001b[0m \u001b[0mhandle\u001b[0m\u001b[0;34m,\u001b[0m \u001b[0mfeed_dict\u001b[0m\u001b[0;34m,\u001b[0m \u001b[0mfetch_list\u001b[0m\u001b[0;34m)\u001b[0m\u001b[0;34m:\u001b[0m\u001b[0;34m\u001b[0m\u001b[0m\n",
      "\u001b[0;31mKeyboardInterrupt\u001b[0m: "
     ]
    }
   ],
   "source": [
    "autoencoder.fit(X, X,\n",
    "                epochs=200,\n",
    "                batch_size=128,\n",
    "                shuffle=True,\n",
    "                callbacks=callbacks_list_encoder,\n",
    "                verbose=1,\n",
    "                validation_data=(X2, X2))"
   ]
  },
  {
   "cell_type": "code",
   "execution_count": 22,
   "metadata": {
    "nbpresent": {
     "id": "f70c3611-97df-455e-9c5d-df566c66c525"
    }
   },
   "outputs": [],
   "source": [
    "autoencoder.load_weights(filepath_encoder)\n",
    "\n",
    "flat = Flatten()(encoded)\n",
    "\n",
    "dense1 = Dense(128,activation='relu')(flat)\n",
    "\n",
    "drop2=Dropout(Dropout(0.5))(dense1)\n",
    "\n",
    "dense2 = Dense(64,activation='relu')(drop2)\n",
    "\n",
    "drop3=Dropout(Dropout(0.5))(dense2)\n",
    "\n",
    "dense3 = Dense(32,activation='relu')(drop3)\n",
    "\n",
    "drop4=Dropout(Dropout(0.5))(dense3)\n",
    "\n",
    "dense4 = Dense(10,activation='softmax')(drop4)\n",
    "\n",
    "model = Model(input_img, dense4)\n",
    "\n",
    "model.compile(loss='mean_squared_logarithmic_error',\n",
    "          optimizer=optimizers.SGD(lr=0.02, momentum=0.9,decay=1e-6,nesterov=True)\n",
    "          ,metrics=['accuracy'])\n"
   ]
  },
  {
   "cell_type": "code",
   "execution_count": 23,
   "metadata": {
    "nbpresent": {
     "id": "a4e823e2-4a59-4711-95e0-7eb47919d652"
    },
    "scrolled": true
   },
   "outputs": [
    {
     "name": "stdout",
     "output_type": "stream",
     "text": [
      "_________________________________________________________________\n",
      "Layer (type)                 Output Shape              Param #   \n",
      "=================================================================\n",
      "input_1 (InputLayer)         (None, 64, 64, 1)         0         \n",
      "_________________________________________________________________\n",
      "conv2d_1 (Conv2D)            (None, 32, 32, 64)        640       \n",
      "_________________________________________________________________\n",
      "batch_normalization_1 (Batch (None, 32, 32, 64)        256       \n",
      "_________________________________________________________________\n",
      "max_pooling2d_1 (MaxPooling2 (None, 32, 32, 64)        0         \n",
      "_________________________________________________________________\n",
      "conv2d_2 (Conv2D)            (None, 16, 16, 32)        32800     \n",
      "_________________________________________________________________\n",
      "batch_normalization_2 (Batch (None, 16, 16, 32)        128       \n",
      "_________________________________________________________________\n",
      "max_pooling2d_2 (MaxPooling2 (None, 16, 16, 32)        0         \n",
      "_________________________________________________________________\n",
      "conv2d_3 (Conv2D)            (None, 8, 8, 128)         102528    \n",
      "_________________________________________________________________\n",
      "batch_normalization_3 (Batch (None, 8, 8, 128)         512       \n",
      "_________________________________________________________________\n",
      "max_pooling2d_3 (MaxPooling2 (None, 8, 8, 128)         0         \n",
      "_________________________________________________________________\n",
      "conv2d_4 (Conv2D)            (None, 4, 4, 128)         65664     \n",
      "_________________________________________________________________\n",
      "max_pooling2d_4 (MaxPooling2 (None, 4, 4, 128)         0         \n",
      "_________________________________________________________________\n",
      "flatten_3 (Flatten)          (None, 2048)              0         \n",
      "_________________________________________________________________\n",
      "dense_9 (Dense)              (None, 128)               262272    \n",
      "_________________________________________________________________\n",
      "dropout_14 (Dropout)         (None, 128)               0         \n",
      "_________________________________________________________________\n",
      "dense_10 (Dense)             (None, 64)                8256      \n",
      "_________________________________________________________________\n",
      "dropout_16 (Dropout)         (None, 64)                0         \n",
      "_________________________________________________________________\n",
      "dense_11 (Dense)             (None, 32)                2080      \n",
      "_________________________________________________________________\n",
      "dropout_18 (Dropout)         (None, 32)                0         \n",
      "_________________________________________________________________\n",
      "dense_12 (Dense)             (None, 10)                330       \n",
      "=================================================================\n",
      "Total params: 475,466\n",
      "Trainable params: 475,018\n",
      "Non-trainable params: 448\n",
      "_________________________________________________________________\n",
      "None\n",
      "weights.best2.hdf5\n"
     ]
    },
    {
     "name": "stderr",
     "output_type": "stream",
     "text": [
      "/home/an80020/anaconda2/envs/tensorflow/lib/python2.7/site-packages/ipykernel/__main__.py:14: UserWarning: The `nb_epoch` argument in `fit` has been renamed `epochs`.\n"
     ]
    },
    {
     "name": "stdout",
     "output_type": "stream",
     "text": [
      "Train on 40000 samples, validate on 10000 samples\n",
      "Epoch 1/400\n",
      "39750/40000 [============================>.] - ETA: 0s - loss: 0.0451 - acc: 0.1295\n",
      "Epoch 00001: val_acc improved from -inf to 0.09900, saving model to weights.best2.hdf5\n",
      "40000/40000 [==============================] - 5s 124us/step - loss: 0.0451 - acc: 0.1296 - val_loss: 0.0442 - val_acc: 0.0990\n",
      "Epoch 2/400\n",
      "39900/40000 [============================>.] - ETA: 0s - loss: 0.0429 - acc: 0.1658\n",
      "Epoch 00002: val_acc improved from 0.09900 to 0.13820, saving model to weights.best2.hdf5\n",
      "40000/40000 [==============================] - 5s 114us/step - loss: 0.0429 - acc: 0.1659 - val_loss: 0.0436 - val_acc: 0.1382\n",
      "Epoch 3/400\n",
      "39750/40000 [============================>.] - ETA: 0s - loss: 0.0423 - acc: 0.1862\n",
      "Epoch 00003: val_acc improved from 0.13820 to 0.17480, saving model to weights.best2.hdf5\n",
      "40000/40000 [==============================] - 5s 114us/step - loss: 0.0423 - acc: 0.1859 - val_loss: 0.0427 - val_acc: 0.1748\n",
      "Epoch 4/400\n",
      "39600/40000 [============================>.] - ETA: 0s - loss: 0.0419 - acc: 0.1960\n",
      "Epoch 00004: val_acc improved from 0.17480 to 0.19470, saving model to weights.best2.hdf5\n",
      "40000/40000 [==============================] - 5s 117us/step - loss: 0.0419 - acc: 0.1962 - val_loss: 0.0420 - val_acc: 0.1947\n",
      "Epoch 5/400\n",
      "39900/40000 [============================>.] - ETA: 0s - loss: 0.0416 - acc: 0.2052\n",
      "Epoch 00005: val_acc improved from 0.19470 to 0.19970, saving model to weights.best2.hdf5\n",
      "40000/40000 [==============================] - 5s 116us/step - loss: 0.0416 - acc: 0.2054 - val_loss: 0.0418 - val_acc: 0.1997\n",
      "Epoch 6/400\n",
      "39900/40000 [============================>.] - ETA: 0s - loss: 0.0414 - acc: 0.2116\n",
      "Epoch 00006: val_acc improved from 0.19970 to 0.20630, saving model to weights.best2.hdf5\n",
      "40000/40000 [==============================] - 5s 117us/step - loss: 0.0414 - acc: 0.2115 - val_loss: 0.0416 - val_acc: 0.2063\n",
      "Epoch 7/400\n",
      "39450/40000 [============================>.] - ETA: 0s - loss: 0.0411 - acc: 0.2194\n",
      "Epoch 00007: val_acc improved from 0.20630 to 0.21530, saving model to weights.best2.hdf5\n",
      "40000/40000 [==============================] - 5s 113us/step - loss: 0.0411 - acc: 0.2198 - val_loss: 0.0415 - val_acc: 0.2153\n",
      "Epoch 8/400\n",
      "39900/40000 [============================>.] - ETA: 0s - loss: 0.0409 - acc: 0.2279\n",
      "Epoch 00008: val_acc improved from 0.21530 to 0.21970, saving model to weights.best2.hdf5\n",
      "40000/40000 [==============================] - 5s 115us/step - loss: 0.0409 - acc: 0.2282 - val_loss: 0.0413 - val_acc: 0.2197\n",
      "Epoch 9/400\n",
      "39600/40000 [============================>.] - ETA: 0s - loss: 0.0407 - acc: 0.2379\n",
      "Epoch 00009: val_acc improved from 0.21970 to 0.22720, saving model to weights.best2.hdf5\n",
      "40000/40000 [==============================] - 5s 120us/step - loss: 0.0407 - acc: 0.2378 - val_loss: 0.0411 - val_acc: 0.2272\n",
      "Epoch 10/400\n",
      "39600/40000 [============================>.] - ETA: 0s - loss: 0.0405 - acc: 0.2461\n",
      "Epoch 00010: val_acc improved from 0.22720 to 0.23510, saving model to weights.best2.hdf5\n",
      "40000/40000 [==============================] - 5s 117us/step - loss: 0.0405 - acc: 0.2463 - val_loss: 0.0409 - val_acc: 0.2351\n",
      "Epoch 11/400\n",
      "39750/40000 [============================>.] - ETA: 0s - loss: 0.0402 - acc: 0.2547\n",
      "Epoch 00011: val_acc improved from 0.23510 to 0.24130, saving model to weights.best2.hdf5\n",
      "40000/40000 [==============================] - 5s 115us/step - loss: 0.0402 - acc: 0.2544 - val_loss: 0.0408 - val_acc: 0.2413\n",
      "Epoch 12/400\n",
      "39750/40000 [============================>.] - ETA: 0s - loss: 0.0399 - acc: 0.2645\n",
      "Epoch 00012: val_acc improved from 0.24130 to 0.25130, saving model to weights.best2.hdf5\n",
      "40000/40000 [==============================] - 5s 117us/step - loss: 0.0399 - acc: 0.2643 - val_loss: 0.0405 - val_acc: 0.2513\n",
      "Epoch 13/400\n",
      "39750/40000 [============================>.] - ETA: 0s - loss: 0.0397 - acc: 0.2743\n",
      "Epoch 00013: val_acc improved from 0.25130 to 0.25850, saving model to weights.best2.hdf5\n",
      "40000/40000 [==============================] - 5s 115us/step - loss: 0.0397 - acc: 0.2744 - val_loss: 0.0403 - val_acc: 0.2585\n",
      "Epoch 14/400\n",
      "39450/40000 [============================>.] - ETA: 0s - loss: 0.0394 - acc: 0.2848\n",
      "Epoch 00014: val_acc improved from 0.25850 to 0.27170, saving model to weights.best2.hdf5\n",
      "40000/40000 [==============================] - 5s 117us/step - loss: 0.0394 - acc: 0.2847 - val_loss: 0.0400 - val_acc: 0.2717\n",
      "Epoch 15/400\n",
      "39750/40000 [============================>.] - ETA: 0s - loss: 0.0390 - acc: 0.2940\n",
      "Epoch 00015: val_acc improved from 0.27170 to 0.27570, saving model to weights.best2.hdf5\n",
      "40000/40000 [==============================] - 5s 117us/step - loss: 0.0390 - acc: 0.2942 - val_loss: 0.0398 - val_acc: 0.2757\n",
      "Epoch 16/400\n",
      "39600/40000 [============================>.] - ETA: 0s - loss: 0.0386 - acc: 0.3080\n",
      "Epoch 00016: val_acc improved from 0.27570 to 0.28650, saving model to weights.best2.hdf5\n",
      "40000/40000 [==============================] - 5s 117us/step - loss: 0.0386 - acc: 0.3084 - val_loss: 0.0394 - val_acc: 0.2865\n",
      "Epoch 17/400\n",
      "39750/40000 [============================>.] - ETA: 0s - loss: 0.0381 - acc: 0.3218\n",
      "Epoch 00017: val_acc improved from 0.28650 to 0.30200, saving model to weights.best2.hdf5\n",
      "40000/40000 [==============================] - 5s 117us/step - loss: 0.0381 - acc: 0.3220 - val_loss: 0.0388 - val_acc: 0.3020\n",
      "Epoch 18/400\n",
      "39450/40000 [============================>.] - ETA: 0s - loss: 0.0375 - acc: 0.3374\n",
      "Epoch 00018: val_acc improved from 0.30200 to 0.31940, saving model to weights.best2.hdf5\n",
      "40000/40000 [==============================] - 5s 116us/step - loss: 0.0375 - acc: 0.3377 - val_loss: 0.0382 - val_acc: 0.3194\n",
      "Epoch 19/400\n",
      "39600/40000 [============================>.] - ETA: 0s - loss: 0.0368 - acc: 0.3556\n",
      "Epoch 00019: val_acc improved from 0.31940 to 0.33150, saving model to weights.best2.hdf5\n",
      "40000/40000 [==============================] - 5s 116us/step - loss: 0.0368 - acc: 0.3558 - val_loss: 0.0376 - val_acc: 0.3315\n",
      "Epoch 20/400\n",
      "39750/40000 [============================>.] - ETA: 0s - loss: 0.0361 - acc: 0.3726\n",
      "Epoch 00020: val_acc improved from 0.33150 to 0.34840, saving model to weights.best2.hdf5\n",
      "40000/40000 [==============================] - 5s 116us/step - loss: 0.0361 - acc: 0.3724 - val_loss: 0.0369 - val_acc: 0.3484\n",
      "Epoch 21/400\n",
      "39750/40000 [============================>.] - ETA: 0s - loss: 0.0353 - acc: 0.3951\n",
      "Epoch 00021: val_acc improved from 0.34840 to 0.36790, saving model to weights.best2.hdf5\n",
      "40000/40000 [==============================] - 5s 117us/step - loss: 0.0353 - acc: 0.3952 - val_loss: 0.0362 - val_acc: 0.3679\n",
      "Epoch 22/400\n",
      "39600/40000 [============================>.] - ETA: 0s - loss: 0.0344 - acc: 0.4142\n",
      "Epoch 00022: val_acc improved from 0.36790 to 0.39250, saving model to weights.best2.hdf5\n",
      "40000/40000 [==============================] - 5s 115us/step - loss: 0.0344 - acc: 0.4142 - val_loss: 0.0353 - val_acc: 0.3925\n",
      "Epoch 23/400\n",
      "39900/40000 [============================>.] - ETA: 0s - loss: 0.0335 - acc: 0.4349\n",
      "Epoch 00023: val_acc improved from 0.39250 to 0.41160, saving model to weights.best2.hdf5\n",
      "40000/40000 [==============================] - 5s 117us/step - loss: 0.0335 - acc: 0.4350 - val_loss: 0.0345 - val_acc: 0.4116\n",
      "Epoch 24/400\n",
      "39450/40000 [============================>.] - ETA: 0s - loss: 0.0326 - acc: 0.4578\n",
      "Epoch 00024: val_acc improved from 0.41160 to 0.43550, saving model to weights.best2.hdf5\n",
      "40000/40000 [==============================] - 5s 113us/step - loss: 0.0326 - acc: 0.4580 - val_loss: 0.0335 - val_acc: 0.4355\n",
      "Epoch 25/400\n",
      "39750/40000 [============================>.] - ETA: 0s - loss: 0.0315 - acc: 0.4802\n",
      "Epoch 00025: val_acc improved from 0.43550 to 0.45860, saving model to weights.best2.hdf5\n",
      "40000/40000 [==============================] - 4s 112us/step - loss: 0.0315 - acc: 0.4802 - val_loss: 0.0324 - val_acc: 0.4586\n",
      "Epoch 26/400\n",
      "39750/40000 [============================>.] - ETA: 0s - loss: 0.0305 - acc: 0.5050\n",
      "Epoch 00026: val_acc improved from 0.45860 to 0.47400, saving model to weights.best2.hdf5\n",
      "40000/40000 [==============================] - 5s 117us/step - loss: 0.0305 - acc: 0.5049 - val_loss: 0.0317 - val_acc: 0.4740\n"
     ]
    },
    {
     "name": "stdout",
     "output_type": "stream",
     "text": [
      "Epoch 27/400\n",
      "39600/40000 [============================>.] - ETA: 0s - loss: 0.0296 - acc: 0.5271\n",
      "Epoch 00027: val_acc improved from 0.47400 to 0.49600, saving model to weights.best2.hdf5\n",
      "40000/40000 [==============================] - 5s 114us/step - loss: 0.0295 - acc: 0.5276 - val_loss: 0.0307 - val_acc: 0.4960\n",
      "Epoch 28/400\n",
      "39750/40000 [============================>.] - ETA: 0s - loss: 0.0286 - acc: 0.5468\n",
      "Epoch 00028: val_acc improved from 0.49600 to 0.51230, saving model to weights.best2.hdf5\n",
      "40000/40000 [==============================] - 5s 118us/step - loss: 0.0287 - acc: 0.5466 - val_loss: 0.0300 - val_acc: 0.5123\n",
      "Epoch 29/400\n",
      "39750/40000 [============================>.] - ETA: 0s - loss: 0.0278 - acc: 0.5618\n",
      "Epoch 00029: val_acc improved from 0.51230 to 0.52930, saving model to weights.best2.hdf5\n",
      "40000/40000 [==============================] - 5s 116us/step - loss: 0.0278 - acc: 0.5621 - val_loss: 0.0293 - val_acc: 0.5293\n",
      "Epoch 30/400\n",
      "39600/40000 [============================>.] - ETA: 0s - loss: 0.0270 - acc: 0.5803\n",
      "Epoch 00030: val_acc improved from 0.52930 to 0.54440, saving model to weights.best2.hdf5\n",
      "40000/40000 [==============================] - 5s 118us/step - loss: 0.0270 - acc: 0.5805 - val_loss: 0.0286 - val_acc: 0.5444\n",
      "Epoch 31/400\n",
      "39600/40000 [============================>.] - ETA: 0s - loss: 0.0261 - acc: 0.5978\n",
      "Epoch 00031: val_acc improved from 0.54440 to 0.55750, saving model to weights.best2.hdf5\n",
      "40000/40000 [==============================] - 4s 112us/step - loss: 0.0261 - acc: 0.5975 - val_loss: 0.0279 - val_acc: 0.5575\n",
      "Epoch 32/400\n",
      "39450/40000 [============================>.] - ETA: 0s - loss: 0.0254 - acc: 0.6119\n",
      "Epoch 00032: val_acc improved from 0.55750 to 0.57150, saving model to weights.best2.hdf5\n",
      "40000/40000 [==============================] - 5s 116us/step - loss: 0.0253 - acc: 0.6121 - val_loss: 0.0272 - val_acc: 0.5715\n",
      "Epoch 33/400\n",
      "39600/40000 [============================>.] - ETA: 0s - loss: 0.0245 - acc: 0.6281\n",
      "Epoch 00033: val_acc improved from 0.57150 to 0.58320, saving model to weights.best2.hdf5\n",
      "40000/40000 [==============================] - 5s 118us/step - loss: 0.0245 - acc: 0.6284 - val_loss: 0.0265 - val_acc: 0.5832\n",
      "Epoch 34/400\n",
      "39600/40000 [============================>.] - ETA: 0s - loss: 0.0237 - acc: 0.6450\n",
      "Epoch 00034: val_acc improved from 0.58320 to 0.59630, saving model to weights.best2.hdf5\n",
      "40000/40000 [==============================] - 5s 117us/step - loss: 0.0237 - acc: 0.6449 - val_loss: 0.0258 - val_acc: 0.5963\n",
      "Epoch 35/400\n",
      "39600/40000 [============================>.] - ETA: 0s - loss: 0.0228 - acc: 0.6606\n",
      "Epoch 00035: val_acc improved from 0.59630 to 0.60310, saving model to weights.best2.hdf5\n",
      "40000/40000 [==============================] - 5s 116us/step - loss: 0.0228 - acc: 0.6605 - val_loss: 0.0257 - val_acc: 0.6031\n",
      "Epoch 36/400\n",
      "39600/40000 [============================>.] - ETA: 0s - loss: 0.0220 - acc: 0.6746\n",
      "Epoch 00036: val_acc improved from 0.60310 to 0.62100, saving model to weights.best2.hdf5\n",
      "40000/40000 [==============================] - 5s 115us/step - loss: 0.0220 - acc: 0.6747 - val_loss: 0.0247 - val_acc: 0.6210\n",
      "Epoch 37/400\n",
      "39750/40000 [============================>.] - ETA: 0s - loss: 0.0212 - acc: 0.6884\n",
      "Epoch 00037: val_acc improved from 0.62100 to 0.63250, saving model to weights.best2.hdf5\n",
      "40000/40000 [==============================] - 5s 118us/step - loss: 0.0212 - acc: 0.6883 - val_loss: 0.0243 - val_acc: 0.6325\n",
      "Epoch 38/400\n",
      "39750/40000 [============================>.] - ETA: 0s - loss: 0.0205 - acc: 0.7021\n",
      "Epoch 00038: val_acc improved from 0.63250 to 0.64760, saving model to weights.best2.hdf5\n",
      "40000/40000 [==============================] - 5s 115us/step - loss: 0.0205 - acc: 0.7024 - val_loss: 0.0234 - val_acc: 0.6476\n",
      "Epoch 39/400\n",
      "39900/40000 [============================>.] - ETA: 0s - loss: 0.0197 - acc: 0.7159\n",
      "Epoch 00039: val_acc did not improve\n",
      "40000/40000 [==============================] - 5s 118us/step - loss: 0.0197 - acc: 0.7161 - val_loss: 0.0234 - val_acc: 0.6465\n",
      "Epoch 40/400\n",
      "39600/40000 [============================>.] - ETA: 0s - loss: 0.0190 - acc: 0.7296\n",
      "Epoch 00040: val_acc improved from 0.64760 to 0.66610, saving model to weights.best2.hdf5\n",
      "40000/40000 [==============================] - 5s 116us/step - loss: 0.0189 - acc: 0.7299 - val_loss: 0.0223 - val_acc: 0.6661\n",
      "Epoch 41/400\n",
      "39750/40000 [============================>.] - ETA: 0s - loss: 0.0182 - acc: 0.7387\n",
      "Epoch 00041: val_acc improved from 0.66610 to 0.67580, saving model to weights.best2.hdf5\n",
      "40000/40000 [==============================] - 4s 112us/step - loss: 0.0183 - acc: 0.7386 - val_loss: 0.0218 - val_acc: 0.6758\n",
      "Epoch 42/400\n",
      "39600/40000 [============================>.] - ETA: 0s - loss: 0.0176 - acc: 0.7513\n",
      "Epoch 00042: val_acc improved from 0.67580 to 0.68310, saving model to weights.best2.hdf5\n",
      "40000/40000 [==============================] - 5s 114us/step - loss: 0.0176 - acc: 0.7514 - val_loss: 0.0212 - val_acc: 0.6831\n",
      "Epoch 43/400\n",
      "39900/40000 [============================>.] - ETA: 0s - loss: 0.0169 - acc: 0.7644\n",
      "Epoch 00043: val_acc improved from 0.68310 to 0.69440, saving model to weights.best2.hdf5\n",
      "40000/40000 [==============================] - 5s 113us/step - loss: 0.0169 - acc: 0.7643 - val_loss: 0.0207 - val_acc: 0.6944\n",
      "Epoch 44/400\n",
      "39450/40000 [============================>.] - ETA: 0s - loss: 0.0162 - acc: 0.7737\n",
      "Epoch 00044: val_acc improved from 0.69440 to 0.69950, saving model to weights.best2.hdf5\n",
      "40000/40000 [==============================] - 5s 115us/step - loss: 0.0162 - acc: 0.7739 - val_loss: 0.0203 - val_acc: 0.6995\n",
      "Epoch 45/400\n",
      "39750/40000 [============================>.] - ETA: 0s - loss: 0.0156 - acc: 0.7846\n",
      "Epoch 00045: val_acc improved from 0.69950 to 0.70730, saving model to weights.best2.hdf5\n",
      "40000/40000 [==============================] - 5s 116us/step - loss: 0.0156 - acc: 0.7846 - val_loss: 0.0200 - val_acc: 0.7073\n",
      "Epoch 46/400\n",
      "39750/40000 [============================>.] - ETA: 0s - loss: 0.0149 - acc: 0.7951\n",
      "Epoch 00046: val_acc improved from 0.70730 to 0.71550, saving model to weights.best2.hdf5\n",
      "40000/40000 [==============================] - 5s 115us/step - loss: 0.0149 - acc: 0.7953 - val_loss: 0.0193 - val_acc: 0.7155\n",
      "Epoch 47/400\n",
      "39750/40000 [============================>.] - ETA: 0s - loss: 0.0143 - acc: 0.8037\n",
      "Epoch 00047: val_acc improved from 0.71550 to 0.72110, saving model to weights.best2.hdf5\n",
      "40000/40000 [==============================] - 5s 115us/step - loss: 0.0143 - acc: 0.8037 - val_loss: 0.0192 - val_acc: 0.7211\n",
      "Epoch 48/400\n",
      "39750/40000 [============================>.] - ETA: 0s - loss: 0.0138 - acc: 0.8125\n",
      "Epoch 00048: val_acc improved from 0.72110 to 0.72720, saving model to weights.best2.hdf5\n",
      "40000/40000 [==============================] - 5s 113us/step - loss: 0.0138 - acc: 0.8128 - val_loss: 0.0188 - val_acc: 0.7272\n",
      "Epoch 49/400\n",
      "39600/40000 [============================>.] - ETA: 0s - loss: 0.0133 - acc: 0.8213\n",
      "Epoch 00049: val_acc improved from 0.72720 to 0.73670, saving model to weights.best2.hdf5\n",
      "40000/40000 [==============================] - 5s 117us/step - loss: 0.0133 - acc: 0.8214 - val_loss: 0.0182 - val_acc: 0.7367\n",
      "Epoch 50/400\n",
      "39600/40000 [============================>.] - ETA: 0s - loss: 0.0127 - acc: 0.8283\n",
      "Epoch 00050: val_acc did not improve\n",
      "40000/40000 [==============================] - 5s 114us/step - loss: 0.0127 - acc: 0.8284 - val_loss: 0.0181 - val_acc: 0.7358\n",
      "Epoch 51/400\n",
      "39750/40000 [============================>.] - ETA: 0s - loss: 0.0123 - acc: 0.8357\n",
      "Epoch 00051: val_acc improved from 0.73670 to 0.74760, saving model to weights.best2.hdf5\n",
      "40000/40000 [==============================] - 5s 114us/step - loss: 0.0123 - acc: 0.8359 - val_loss: 0.0177 - val_acc: 0.7476\n",
      "Epoch 52/400\n",
      "39750/40000 [============================>.] - ETA: 0s - loss: 0.0118 - acc: 0.8416\n",
      "Epoch 00052: val_acc improved from 0.74760 to 0.75210, saving model to weights.best2.hdf5\n",
      "40000/40000 [==============================] - 5s 116us/step - loss: 0.0118 - acc: 0.8418 - val_loss: 0.0174 - val_acc: 0.7521\n",
      "Epoch 53/400\n",
      "39750/40000 [============================>.] - ETA: 0s - loss: 0.0113 - acc: 0.8508\n",
      "Epoch 00053: val_acc improved from 0.75210 to 0.75880, saving model to weights.best2.hdf5\n",
      "40000/40000 [==============================] - 5s 116us/step - loss: 0.0113 - acc: 0.8507 - val_loss: 0.0170 - val_acc: 0.7588\n"
     ]
    },
    {
     "name": "stdout",
     "output_type": "stream",
     "text": [
      "Epoch 54/400\n",
      "39900/40000 [============================>.] - ETA: 0s - loss: 0.0109 - acc: 0.8552\n",
      "Epoch 00054: val_acc improved from 0.75880 to 0.75940, saving model to weights.best2.hdf5\n",
      "40000/40000 [==============================] - 5s 115us/step - loss: 0.0109 - acc: 0.8552 - val_loss: 0.0169 - val_acc: 0.7594\n",
      "Epoch 55/400\n",
      "39750/40000 [============================>.] - ETA: 0s - loss: 0.0105 - acc: 0.8626\n",
      "Epoch 00055: val_acc did not improve\n",
      "40000/40000 [==============================] - 4s 112us/step - loss: 0.0105 - acc: 0.8626 - val_loss: 0.0171 - val_acc: 0.7594\n",
      "Epoch 56/400\n",
      "39450/40000 [============================>.] - ETA: 0s - loss: 0.0102 - acc: 0.8684\n",
      "Epoch 00056: val_acc improved from 0.75940 to 0.77120, saving model to weights.best2.hdf5\n",
      "40000/40000 [==============================] - 5s 115us/step - loss: 0.0101 - acc: 0.8687 - val_loss: 0.0164 - val_acc: 0.7712\n",
      "Epoch 57/400\n",
      "39600/40000 [============================>.] - ETA: 0s - loss: 0.0098 - acc: 0.8730\n",
      "Epoch 00057: val_acc did not improve\n",
      "40000/40000 [==============================] - 4s 112us/step - loss: 0.0098 - acc: 0.8731 - val_loss: 0.0164 - val_acc: 0.7711\n",
      "Epoch 58/400\n",
      "39450/40000 [============================>.] - ETA: 0s - loss: 0.0094 - acc: 0.8798\n",
      "Epoch 00058: val_acc did not improve\n",
      "40000/40000 [==============================] - 5s 118us/step - loss: 0.0094 - acc: 0.8800 - val_loss: 0.0167 - val_acc: 0.7683\n",
      "Epoch 59/400\n",
      "39450/40000 [============================>.] - ETA: 0s - loss: 0.0091 - acc: 0.8852\n",
      "Epoch 00059: val_acc improved from 0.77120 to 0.77450, saving model to weights.best2.hdf5\n",
      "40000/40000 [==============================] - 5s 114us/step - loss: 0.0091 - acc: 0.8850 - val_loss: 0.0162 - val_acc: 0.7745\n",
      "Epoch 60/400\n",
      "39750/40000 [============================>.] - ETA: 0s - loss: 0.0089 - acc: 0.8878\n",
      "Epoch 00060: val_acc improved from 0.77450 to 0.78140, saving model to weights.best2.hdf5\n",
      "40000/40000 [==============================] - 5s 117us/step - loss: 0.0089 - acc: 0.8878 - val_loss: 0.0158 - val_acc: 0.7814\n",
      "Epoch 61/400\n",
      "39600/40000 [============================>.] - ETA: 0s - loss: 0.0084 - acc: 0.8941\n",
      "Epoch 00061: val_acc did not improve\n",
      "40000/40000 [==============================] - 5s 116us/step - loss: 0.0085 - acc: 0.8937 - val_loss: 0.0163 - val_acc: 0.7705\n",
      "Epoch 62/400\n",
      "39750/40000 [============================>.] - ETA: 0s - loss: 0.0082 - acc: 0.8960\n",
      "Epoch 00062: val_acc improved from 0.78140 to 0.78290, saving model to weights.best2.hdf5\n",
      "40000/40000 [==============================] - 5s 117us/step - loss: 0.0082 - acc: 0.8961 - val_loss: 0.0157 - val_acc: 0.7829\n",
      "Epoch 63/400\n",
      "39600/40000 [============================>.] - ETA: 0s - loss: 0.0079 - acc: 0.9011\n",
      "Epoch 00063: val_acc did not improve\n",
      "40000/40000 [==============================] - 5s 115us/step - loss: 0.0079 - acc: 0.9010 - val_loss: 0.0157 - val_acc: 0.7823\n",
      "Epoch 64/400\n",
      "39600/40000 [============================>.] - ETA: 0s - loss: 0.0077 - acc: 0.9052\n",
      "Epoch 00064: val_acc improved from 0.78290 to 0.78830, saving model to weights.best2.hdf5\n",
      "40000/40000 [==============================] - 5s 118us/step - loss: 0.0077 - acc: 0.9054 - val_loss: 0.0156 - val_acc: 0.7883\n",
      "Epoch 65/400\n",
      "39900/40000 [============================>.] - ETA: 0s - loss: 0.0074 - acc: 0.9084\n",
      "Epoch 00065: val_acc improved from 0.78830 to 0.79140, saving model to weights.best2.hdf5\n",
      "40000/40000 [==============================] - 5s 115us/step - loss: 0.0074 - acc: 0.9085 - val_loss: 0.0154 - val_acc: 0.7914\n",
      "Epoch 66/400\n",
      "39900/40000 [============================>.] - ETA: 0s - loss: 0.0071 - acc: 0.9131\n",
      "Epoch 00066: val_acc improved from 0.79140 to 0.79210, saving model to weights.best2.hdf5\n",
      "40000/40000 [==============================] - 5s 118us/step - loss: 0.0071 - acc: 0.9131 - val_loss: 0.0154 - val_acc: 0.7921\n",
      "Epoch 67/400\n",
      "39750/40000 [============================>.] - ETA: 0s - loss: 0.0069 - acc: 0.9168\n",
      "Epoch 00067: val_acc did not improve\n",
      "40000/40000 [==============================] - 5s 116us/step - loss: 0.0069 - acc: 0.9167 - val_loss: 0.0153 - val_acc: 0.7903\n",
      "Epoch 68/400\n",
      "39900/40000 [============================>.] - ETA: 0s - loss: 0.0067 - acc: 0.9191\n",
      "Epoch 00068: val_acc improved from 0.79210 to 0.79400, saving model to weights.best2.hdf5\n",
      "40000/40000 [==============================] - 5s 116us/step - loss: 0.0067 - acc: 0.9190 - val_loss: 0.0153 - val_acc: 0.7940\n",
      "Epoch 69/400\n",
      "39750/40000 [============================>.] - ETA: 0s - loss: 0.0065 - acc: 0.9214\n",
      "Epoch 00069: val_acc improved from 0.79400 to 0.79540, saving model to weights.best2.hdf5\n",
      "40000/40000 [==============================] - 5s 113us/step - loss: 0.0065 - acc: 0.9215 - val_loss: 0.0153 - val_acc: 0.7954\n",
      "Epoch 70/400\n",
      "39750/40000 [============================>.] - ETA: 0s - loss: 0.0063 - acc: 0.9250\n",
      "Epoch 00070: val_acc improved from 0.79540 to 0.79800, saving model to weights.best2.hdf5\n",
      "40000/40000 [==============================] - 5s 116us/step - loss: 0.0063 - acc: 0.9251 - val_loss: 0.0150 - val_acc: 0.7980\n",
      "Epoch 71/400\n",
      "39600/40000 [============================>.] - ETA: 0s - loss: 0.0061 - acc: 0.9282\n",
      "Epoch 00071: val_acc did not improve\n",
      "40000/40000 [==============================] - 5s 115us/step - loss: 0.0061 - acc: 0.9282 - val_loss: 0.0157 - val_acc: 0.7935\n",
      "Epoch 72/400\n",
      "39750/40000 [============================>.] - ETA: 0s - loss: 0.0059 - acc: 0.9305\n",
      "Epoch 00072: val_acc did not improve\n",
      "40000/40000 [==============================] - 5s 114us/step - loss: 0.0059 - acc: 0.9305 - val_loss: 0.0151 - val_acc: 0.7970\n",
      "Epoch 73/400\n",
      "39450/40000 [============================>.] - ETA: 0s - loss: 0.0056 - acc: 0.9343\n",
      "Epoch 00073: val_acc improved from 0.79800 to 0.80150, saving model to weights.best2.hdf5\n",
      "40000/40000 [==============================] - 5s 117us/step - loss: 0.0056 - acc: 0.9343 - val_loss: 0.0150 - val_acc: 0.8015\n",
      "Epoch 74/400\n",
      "39450/40000 [============================>.] - ETA: 0s - loss: 0.0055 - acc: 0.9367\n",
      "Epoch 00074: val_acc did not improve\n",
      "40000/40000 [==============================] - 5s 114us/step - loss: 0.0055 - acc: 0.9369 - val_loss: 0.0151 - val_acc: 0.8009\n",
      "Epoch 75/400\n",
      "39750/40000 [============================>.] - ETA: 0s - loss: 0.0053 - acc: 0.9390\n",
      "Epoch 00075: val_acc improved from 0.80150 to 0.80290, saving model to weights.best2.hdf5\n",
      "40000/40000 [==============================] - 5s 118us/step - loss: 0.0053 - acc: 0.9390 - val_loss: 0.0149 - val_acc: 0.8029\n",
      "Epoch 76/400\n",
      "39900/40000 [============================>.] - ETA: 0s - loss: 0.0052 - acc: 0.9413\n",
      "Epoch 00076: val_acc improved from 0.80290 to 0.80370, saving model to weights.best2.hdf5\n",
      "40000/40000 [==============================] - 5s 116us/step - loss: 0.0052 - acc: 0.9412 - val_loss: 0.0149 - val_acc: 0.8037\n",
      "Epoch 77/400\n",
      "39450/40000 [============================>.] - ETA: 0s - loss: 0.0050 - acc: 0.9432\n",
      "Epoch 00077: val_acc did not improve\n",
      "40000/40000 [==============================] - 5s 114us/step - loss: 0.0050 - acc: 0.9432 - val_loss: 0.0153 - val_acc: 0.7973\n",
      "Epoch 78/400\n",
      "39750/40000 [============================>.] - ETA: 0s - loss: 0.0049 - acc: 0.9452\n",
      "Epoch 00078: val_acc did not improve\n",
      "40000/40000 [==============================] - 4s 112us/step - loss: 0.0049 - acc: 0.9452 - val_loss: 0.0151 - val_acc: 0.8015\n",
      "Epoch 79/400\n",
      "39600/40000 [============================>.] - ETA: 0s - loss: 0.0047 - acc: 0.9472\n",
      "Epoch 00079: val_acc improved from 0.80370 to 0.80520, saving model to weights.best2.hdf5\n",
      "40000/40000 [==============================] - 5s 116us/step - loss: 0.0047 - acc: 0.9473 - val_loss: 0.0148 - val_acc: 0.8052\n",
      "Epoch 80/400\n",
      "39450/40000 [============================>.] - ETA: 0s - loss: 0.0045 - acc: 0.9490\n",
      "Epoch 00080: val_acc did not improve\n",
      "40000/40000 [==============================] - 5s 116us/step - loss: 0.0045 - acc: 0.9489 - val_loss: 0.0150 - val_acc: 0.8046\n",
      "Epoch 81/400\n",
      "39750/40000 [============================>.] - ETA: 0s - loss: 0.0044 - acc: 0.9512\n",
      "Epoch 00081: val_acc did not improve\n",
      "40000/40000 [==============================] - 5s 117us/step - loss: 0.0044 - acc: 0.9511 - val_loss: 0.0149 - val_acc: 0.8033\n",
      "Epoch 82/400\n"
     ]
    },
    {
     "name": "stdout",
     "output_type": "stream",
     "text": [
      "39900/40000 [============================>.] - ETA: 0s - loss: 0.0043 - acc: 0.9517\n",
      "Epoch 00082: val_acc improved from 0.80520 to 0.80560, saving model to weights.best2.hdf5\n",
      "40000/40000 [==============================] - 5s 117us/step - loss: 0.0043 - acc: 0.9517 - val_loss: 0.0150 - val_acc: 0.8056\n",
      "Epoch 83/400\n",
      "39750/40000 [============================>.] - ETA: 0s - loss: 0.0042 - acc: 0.9540\n",
      "Epoch 00083: val_acc improved from 0.80560 to 0.80850, saving model to weights.best2.hdf5\n",
      "40000/40000 [==============================] - 5s 114us/step - loss: 0.0042 - acc: 0.9539 - val_loss: 0.0148 - val_acc: 0.8085\n",
      "Epoch 84/400\n",
      "39750/40000 [============================>.] - ETA: 0s - loss: 0.0041 - acc: 0.9545\n",
      "Epoch 00084: val_acc did not improve\n",
      "40000/40000 [==============================] - 5s 113us/step - loss: 0.0041 - acc: 0.9544 - val_loss: 0.0148 - val_acc: 0.8083\n",
      "Epoch 85/400\n",
      "39900/40000 [============================>.] - ETA: 0s - loss: 0.0040 - acc: 0.9559\n",
      "Epoch 00085: val_acc did not improve\n",
      "40000/40000 [==============================] - 5s 116us/step - loss: 0.0040 - acc: 0.9560 - val_loss: 0.0149 - val_acc: 0.8066\n",
      "Epoch 86/400\n",
      "39900/40000 [============================>.] - ETA: 0s - loss: 0.0039 - acc: 0.9572\n",
      "Epoch 00086: val_acc did not improve\n",
      "40000/40000 [==============================] - 5s 117us/step - loss: 0.0039 - acc: 0.9571 - val_loss: 0.0149 - val_acc: 0.8073\n",
      "Epoch 87/400\n",
      "39750/40000 [============================>.] - ETA: 0s - loss: 0.0038 - acc: 0.9580\n",
      "Epoch 00087: val_acc improved from 0.80850 to 0.80920, saving model to weights.best2.hdf5\n",
      "40000/40000 [==============================] - 5s 116us/step - loss: 0.0038 - acc: 0.9580 - val_loss: 0.0148 - val_acc: 0.8092\n",
      "Epoch 88/400\n",
      "39900/40000 [============================>.] - ETA: 0s - loss: 0.0037 - acc: 0.9596\n",
      "Epoch 00088: val_acc improved from 0.80920 to 0.80930, saving model to weights.best2.hdf5\n",
      "40000/40000 [==============================] - 5s 113us/step - loss: 0.0037 - acc: 0.9595 - val_loss: 0.0147 - val_acc: 0.8093\n",
      "Epoch 89/400\n",
      "39600/40000 [============================>.] - ETA: 0s - loss: 0.0037 - acc: 0.9595\n",
      "Epoch 00089: val_acc did not improve\n",
      "40000/40000 [==============================] - 5s 114us/step - loss: 0.0037 - acc: 0.9596 - val_loss: 0.0149 - val_acc: 0.8075\n",
      "Epoch 90/400\n",
      "39750/40000 [============================>.] - ETA: 0s - loss: 0.0036 - acc: 0.9609\n",
      "Epoch 00090: val_acc did not improve\n",
      "40000/40000 [==============================] - 5s 114us/step - loss: 0.0036 - acc: 0.9608 - val_loss: 0.0149 - val_acc: 0.8082\n",
      "Epoch 91/400\n",
      "39450/40000 [============================>.] - ETA: 0s - loss: 0.0035 - acc: 0.9616\n",
      "Epoch 00091: val_acc did not improve\n",
      "40000/40000 [==============================] - 5s 113us/step - loss: 0.0035 - acc: 0.9614 - val_loss: 0.0151 - val_acc: 0.8082\n",
      "Epoch 92/400\n",
      "39600/40000 [============================>.] - ETA: 0s - loss: 0.0034 - acc: 0.9627\n",
      "Epoch 00092: val_acc did not improve\n",
      "40000/40000 [==============================] - 4s 112us/step - loss: 0.0034 - acc: 0.9627 - val_loss: 0.0151 - val_acc: 0.8067\n",
      "Epoch 93/400\n",
      "39450/40000 [============================>.] - ETA: 0s - loss: 0.0034 - acc: 0.9631\n",
      "Epoch 00093: val_acc did not improve\n",
      "40000/40000 [==============================] - 4s 112us/step - loss: 0.0034 - acc: 0.9630 - val_loss: 0.0151 - val_acc: 0.8085\n",
      "Epoch 94/400\n",
      "39750/40000 [============================>.] - ETA: 0s - loss: 0.0033 - acc: 0.9636\n",
      "Epoch 00094: val_acc improved from 0.80930 to 0.81050, saving model to weights.best2.hdf5\n",
      "40000/40000 [==============================] - 5s 113us/step - loss: 0.0033 - acc: 0.9637 - val_loss: 0.0150 - val_acc: 0.8105\n",
      "Epoch 95/400\n",
      "39600/40000 [============================>.] - ETA: 0s - loss: 0.0033 - acc: 0.9645\n",
      "Epoch 00095: val_acc did not improve\n",
      "40000/40000 [==============================] - 5s 113us/step - loss: 0.0033 - acc: 0.9644 - val_loss: 0.0150 - val_acc: 0.8100\n",
      "Epoch 96/400\n",
      "39600/40000 [============================>.] - ETA: 0s - loss: 0.0032 - acc: 0.9651\n",
      "Epoch 00096: val_acc did not improve\n",
      "40000/40000 [==============================] - 5s 115us/step - loss: 0.0032 - acc: 0.9652 - val_loss: 0.0150 - val_acc: 0.8088\n",
      "Epoch 97/400\n",
      "39900/40000 [============================>.] - ETA: 0s - loss: 0.0032 - acc: 0.9659\n",
      "Epoch 00097: val_acc improved from 0.81050 to 0.81080, saving model to weights.best2.hdf5\n",
      "40000/40000 [==============================] - 5s 117us/step - loss: 0.0031 - acc: 0.9659 - val_loss: 0.0149 - val_acc: 0.8108\n",
      "Epoch 98/400\n",
      "39750/40000 [============================>.] - ETA: 0s - loss: 0.0031 - acc: 0.9659\n",
      "Epoch 00098: val_acc did not improve\n",
      "40000/40000 [==============================] - 4s 112us/step - loss: 0.0031 - acc: 0.9660 - val_loss: 0.0148 - val_acc: 0.8102\n",
      "Epoch 99/400\n",
      "39750/40000 [============================>.] - ETA: 0s - loss: 0.0031 - acc: 0.9665\n",
      "Epoch 00099: val_acc did not improve\n",
      "40000/40000 [==============================] - 5s 114us/step - loss: 0.0031 - acc: 0.9665 - val_loss: 0.0150 - val_acc: 0.8096\n",
      "Epoch 100/400\n",
      "39900/40000 [============================>.] - ETA: 0s - loss: 0.0030 - acc: 0.9671\n",
      "Epoch 00100: val_acc did not improve\n",
      "40000/40000 [==============================] - 5s 114us/step - loss: 0.0030 - acc: 0.9670 - val_loss: 0.0150 - val_acc: 0.8075\n",
      "Epoch 101/400\n",
      "39750/40000 [============================>.] - ETA: 0s - loss: 0.0030 - acc: 0.9671\n",
      "Epoch 00101: val_acc improved from 0.81080 to 0.81090, saving model to weights.best2.hdf5\n",
      "40000/40000 [==============================] - 5s 117us/step - loss: 0.0030 - acc: 0.9671 - val_loss: 0.0149 - val_acc: 0.8109\n",
      "Epoch 102/400\n",
      "39450/40000 [============================>.] - ETA: 0s - loss: 0.0029 - acc: 0.9677\n",
      "Epoch 00102: val_acc improved from 0.81090 to 0.81170, saving model to weights.best2.hdf5\n",
      "40000/40000 [==============================] - 5s 116us/step - loss: 0.0029 - acc: 0.9677 - val_loss: 0.0150 - val_acc: 0.8117\n",
      "Epoch 103/400\n",
      "39750/40000 [============================>.] - ETA: 0s - loss: 0.0029 - acc: 0.9681\n",
      "Epoch 00103: val_acc did not improve\n",
      "40000/40000 [==============================] - 5s 114us/step - loss: 0.0029 - acc: 0.9682 - val_loss: 0.0151 - val_acc: 0.8097\n",
      "Epoch 104/400\n",
      "39600/40000 [============================>.] - ETA: 0s - loss: 0.0029 - acc: 0.9683\n",
      "Epoch 00104: val_acc did not improve\n",
      "40000/40000 [==============================] - 5s 114us/step - loss: 0.0029 - acc: 0.9682 - val_loss: 0.0153 - val_acc: 0.8061\n",
      "Epoch 105/400\n",
      "39450/40000 [============================>.] - ETA: 0s - loss: 0.0028 - acc: 0.9686\n",
      "Epoch 00105: val_acc did not improve\n",
      "40000/40000 [==============================] - 5s 115us/step - loss: 0.0028 - acc: 0.9686 - val_loss: 0.0151 - val_acc: 0.8095\n",
      "Epoch 106/400\n",
      "39450/40000 [============================>.] - ETA: 0s - loss: 0.0028 - acc: 0.9690\n",
      "Epoch 00106: val_acc improved from 0.81170 to 0.81280, saving model to weights.best2.hdf5\n",
      "40000/40000 [==============================] - 5s 120us/step - loss: 0.0028 - acc: 0.9690 - val_loss: 0.0149 - val_acc: 0.8128\n",
      "Epoch 107/400\n",
      "39600/40000 [============================>.] - ETA: 0s - loss: 0.0028 - acc: 0.9692\n",
      "Epoch 00107: val_acc did not improve\n",
      "40000/40000 [==============================] - 5s 114us/step - loss: 0.0028 - acc: 0.9693 - val_loss: 0.0150 - val_acc: 0.8110\n",
      "Epoch 108/400\n",
      "39750/40000 [============================>.] - ETA: 0s - loss: 0.0028 - acc: 0.9699\n",
      "Epoch 00108: val_acc improved from 0.81280 to 0.81330, saving model to weights.best2.hdf5\n",
      "40000/40000 [==============================] - 5s 120us/step - loss: 0.0028 - acc: 0.9697 - val_loss: 0.0149 - val_acc: 0.8133\n",
      "Epoch 109/400\n",
      "39750/40000 [============================>.] - ETA: 0s - loss: 0.0027 - acc: 0.9705\n",
      "Epoch 00109: val_acc improved from 0.81330 to 0.81600, saving model to weights.best2.hdf5\n",
      "40000/40000 [==============================] - 5s 119us/step - loss: 0.0027 - acc: 0.9705 - val_loss: 0.0148 - val_acc: 0.8160\n",
      "Epoch 110/400\n",
      "39750/40000 [============================>.] - ETA: 0s - loss: 0.0027 - acc: 0.9701\n",
      "Epoch 00110: val_acc did not improve\n",
      "40000/40000 [==============================] - 5s 115us/step - loss: 0.0027 - acc: 0.9702 - val_loss: 0.0150 - val_acc: 0.8105\n",
      "Epoch 111/400\n"
     ]
    },
    {
     "name": "stdout",
     "output_type": "stream",
     "text": [
      "39450/40000 [============================>.] - ETA: 0s - loss: 0.0027 - acc: 0.9705\n",
      "Epoch 00111: val_acc did not improve\n",
      "40000/40000 [==============================] - 5s 117us/step - loss: 0.0027 - acc: 0.9705 - val_loss: 0.0150 - val_acc: 0.8123\n",
      "Epoch 112/400\n",
      "39750/40000 [============================>.] - ETA: 0s - loss: 0.0026 - acc: 0.9710\n",
      "Epoch 00112: val_acc did not improve\n",
      "40000/40000 [==============================] - 5s 120us/step - loss: 0.0026 - acc: 0.9710 - val_loss: 0.0152 - val_acc: 0.8098\n",
      "Epoch 113/400\n",
      "39450/40000 [============================>.] - ETA: 0s - loss: 0.0026 - acc: 0.9706\n",
      "Epoch 00113: val_acc did not improve\n",
      "40000/40000 [==============================] - 5s 115us/step - loss: 0.0026 - acc: 0.9706 - val_loss: 0.0149 - val_acc: 0.8120\n",
      "Epoch 114/400\n",
      "39750/40000 [============================>.] - ETA: 0s - loss: 0.0026 - acc: 0.9713\n",
      "Epoch 00114: val_acc did not improve\n",
      "40000/40000 [==============================] - 5s 117us/step - loss: 0.0026 - acc: 0.9713 - val_loss: 0.0152 - val_acc: 0.8089\n",
      "Epoch 115/400\n",
      "39600/40000 [============================>.] - ETA: 0s - loss: 0.0026 - acc: 0.9714\n",
      "Epoch 00115: val_acc did not improve\n",
      "40000/40000 [==============================] - 5s 116us/step - loss: 0.0026 - acc: 0.9714 - val_loss: 0.0150 - val_acc: 0.8115\n",
      "Epoch 116/400\n",
      "39600/40000 [============================>.] - ETA: 0s - loss: 0.0026 - acc: 0.9713\n",
      "Epoch 00116: val_acc did not improve\n",
      "40000/40000 [==============================] - 5s 116us/step - loss: 0.0026 - acc: 0.9714 - val_loss: 0.0150 - val_acc: 0.8118\n",
      "Epoch 117/400\n",
      "39450/40000 [============================>.] - ETA: 0s - loss: 0.0025 - acc: 0.9718\n",
      "Epoch 00117: val_acc did not improve\n",
      "40000/40000 [==============================] - 5s 116us/step - loss: 0.0025 - acc: 0.9718 - val_loss: 0.0150 - val_acc: 0.8125\n",
      "Epoch 118/400\n",
      "39750/40000 [============================>.] - ETA: 0s - loss: 0.0025 - acc: 0.9719\n",
      "Epoch 00118: val_acc did not improve\n",
      "40000/40000 [==============================] - 5s 117us/step - loss: 0.0025 - acc: 0.9720 - val_loss: 0.0150 - val_acc: 0.8119\n",
      "Epoch 119/400\n",
      "39900/40000 [============================>.] - ETA: 0s - loss: 0.0025 - acc: 0.9719\n",
      "Epoch 00119: val_acc did not improve\n",
      "40000/40000 [==============================] - 5s 115us/step - loss: 0.0025 - acc: 0.9719 - val_loss: 0.0150 - val_acc: 0.8119\n",
      "Epoch 120/400\n",
      "39900/40000 [============================>.] - ETA: 0s - loss: 0.0025 - acc: 0.9723\n",
      "Epoch 00120: val_acc did not improve\n",
      "40000/40000 [==============================] - 5s 120us/step - loss: 0.0025 - acc: 0.9723 - val_loss: 0.0149 - val_acc: 0.8128\n",
      "Epoch 121/400\n",
      "39600/40000 [============================>.] - ETA: 0s - loss: 0.0024 - acc: 0.9728\n",
      "Epoch 00121: val_acc did not improve\n",
      "40000/40000 [==============================] - 5s 114us/step - loss: 0.0024 - acc: 0.9728 - val_loss: 0.0150 - val_acc: 0.8103\n",
      "Epoch 122/400\n",
      "39900/40000 [============================>.] - ETA: 0s - loss: 0.0024 - acc: 0.9731\n",
      "Epoch 00122: val_acc did not improve\n",
      "40000/40000 [==============================] - 5s 116us/step - loss: 0.0024 - acc: 0.9730 - val_loss: 0.0150 - val_acc: 0.8117\n",
      "Epoch 123/400\n",
      "39750/40000 [============================>.] - ETA: 0s - loss: 0.0024 - acc: 0.9732\n",
      "Epoch 00123: val_acc did not improve\n",
      "40000/40000 [==============================] - 5s 120us/step - loss: 0.0024 - acc: 0.9732 - val_loss: 0.0149 - val_acc: 0.8131\n",
      "Epoch 124/400\n",
      "39600/40000 [============================>.] - ETA: 0s - loss: 0.0024 - acc: 0.9733\n",
      "Epoch 00124: val_acc did not improve\n",
      "40000/40000 [==============================] - 5s 117us/step - loss: 0.0024 - acc: 0.9733 - val_loss: 0.0148 - val_acc: 0.8151\n",
      "Epoch 125/400\n",
      "39600/40000 [============================>.] - ETA: 0s - loss: 0.0024 - acc: 0.9735\n",
      "Epoch 00125: val_acc did not improve\n",
      "40000/40000 [==============================] - 5s 118us/step - loss: 0.0024 - acc: 0.9734 - val_loss: 0.0151 - val_acc: 0.8102\n",
      "Epoch 126/400\n",
      "39900/40000 [============================>.] - ETA: 0s - loss: 0.0023 - acc: 0.9736\n",
      "Epoch 00126: val_acc did not improve\n",
      "40000/40000 [==============================] - 5s 116us/step - loss: 0.0023 - acc: 0.9736 - val_loss: 0.0151 - val_acc: 0.8118\n",
      "Epoch 127/400\n",
      "39900/40000 [============================>.] - ETA: 0s - loss: 0.0024 - acc: 0.9735\n",
      "Epoch 00127: val_acc did not improve\n",
      "40000/40000 [==============================] - 5s 115us/step - loss: 0.0024 - acc: 0.9735 - val_loss: 0.0150 - val_acc: 0.8120\n",
      "Epoch 128/400\n",
      "39600/40000 [============================>.] - ETA: 0s - loss: 0.0024 - acc: 0.9735\n",
      "Epoch 00128: val_acc did not improve\n",
      "40000/40000 [==============================] - 5s 118us/step - loss: 0.0024 - acc: 0.9736 - val_loss: 0.0150 - val_acc: 0.8132\n",
      "Epoch 129/400\n",
      "39600/40000 [============================>.] - ETA: 0s - loss: 0.0023 - acc: 0.9740\n",
      "Epoch 00129: val_acc did not improve\n",
      "40000/40000 [==============================] - 5s 117us/step - loss: 0.0023 - acc: 0.9741 - val_loss: 0.0149 - val_acc: 0.8146\n",
      "Epoch 130/400\n",
      "39750/40000 [============================>.] - ETA: 0s - loss: 0.0023 - acc: 0.9740\n",
      "Epoch 00130: val_acc did not improve\n",
      "40000/40000 [==============================] - 5s 116us/step - loss: 0.0023 - acc: 0.9741 - val_loss: 0.0149 - val_acc: 0.8128\n",
      "Epoch 131/400\n",
      "39600/40000 [============================>.] - ETA: 0s - loss: 0.0023 - acc: 0.9739\n",
      "Epoch 00131: val_acc did not improve\n",
      "40000/40000 [==============================] - 5s 118us/step - loss: 0.0023 - acc: 0.9739 - val_loss: 0.0150 - val_acc: 0.8109\n",
      "Epoch 132/400\n",
      "39900/40000 [============================>.] - ETA: 0s - loss: 0.0023 - acc: 0.9744\n",
      "Epoch 00132: val_acc did not improve\n",
      "40000/40000 [==============================] - 5s 113us/step - loss: 0.0023 - acc: 0.9743 - val_loss: 0.0150 - val_acc: 0.8123\n",
      "Epoch 133/400\n",
      "39600/40000 [============================>.] - ETA: 0s - loss: 0.0023 - acc: 0.9745\n",
      "Epoch 00133: val_acc did not improve\n",
      "40000/40000 [==============================] - 5s 115us/step - loss: 0.0023 - acc: 0.9745 - val_loss: 0.0150 - val_acc: 0.8135\n",
      "Epoch 134/400\n",
      "39600/40000 [============================>.] - ETA: 0s - loss: 0.0023 - acc: 0.9743\n",
      "Epoch 00134: val_acc did not improve\n",
      "40000/40000 [==============================] - 5s 114us/step - loss: 0.0023 - acc: 0.9743 - val_loss: 0.0150 - val_acc: 0.8136\n",
      "Epoch 135/400\n",
      "39600/40000 [============================>.] - ETA: 0s - loss: 0.0022 - acc: 0.9746\n",
      "Epoch 00135: val_acc did not improve\n",
      "40000/40000 [==============================] - 5s 113us/step - loss: 0.0022 - acc: 0.9747 - val_loss: 0.0150 - val_acc: 0.8137\n",
      "Epoch 136/400\n",
      "39450/40000 [============================>.] - ETA: 0s - loss: 0.0022 - acc: 0.9747\n",
      "Epoch 00136: val_acc did not improve\n",
      "40000/40000 [==============================] - 5s 118us/step - loss: 0.0022 - acc: 0.9746 - val_loss: 0.0150 - val_acc: 0.8123\n",
      "Epoch 137/400\n",
      "39750/40000 [============================>.] - ETA: 0s - loss: 0.0022 - acc: 0.9747\n",
      "Epoch 00137: val_acc did not improve\n",
      "40000/40000 [==============================] - 5s 115us/step - loss: 0.0022 - acc: 0.9747 - val_loss: 0.0150 - val_acc: 0.8133\n",
      "Epoch 138/400\n",
      "39600/40000 [============================>.] - ETA: 0s - loss: 0.0022 - acc: 0.9747\n",
      "Epoch 00138: val_acc did not improve\n",
      "40000/40000 [==============================] - 5s 116us/step - loss: 0.0022 - acc: 0.9748 - val_loss: 0.0149 - val_acc: 0.8142\n",
      "Epoch 139/400\n",
      "39900/40000 [============================>.] - ETA: 0s - loss: 0.0022 - acc: 0.9746\n",
      "Epoch 00139: val_acc did not improve\n",
      "40000/40000 [==============================] - 5s 115us/step - loss: 0.0022 - acc: 0.9746 - val_loss: 0.0151 - val_acc: 0.8124\n",
      "Epoch 140/400\n",
      "39450/40000 [============================>.] - ETA: 0s - loss: 0.0022 - acc: 0.9753\n",
      "Epoch 00140: val_acc did not improve\n",
      "40000/40000 [==============================] - 5s 119us/step - loss: 0.0022 - acc: 0.9751 - val_loss: 0.0150 - val_acc: 0.8139\n",
      "Epoch 141/400\n",
      "39900/40000 [============================>.] - ETA: 0s - loss: 0.0022 - acc: 0.9752\n",
      "Epoch 00141: val_acc did not improve\n",
      "40000/40000 [==============================] - 5s 121us/step - loss: 0.0022 - acc: 0.9752 - val_loss: 0.0150 - val_acc: 0.8131\n",
      "Epoch 142/400\n"
     ]
    },
    {
     "name": "stdout",
     "output_type": "stream",
     "text": [
      "39450/40000 [============================>.] - ETA: 0s - loss: 0.0022 - acc: 0.9752\n",
      "Epoch 00142: val_acc did not improve\n",
      "40000/40000 [==============================] - 5s 122us/step - loss: 0.0022 - acc: 0.9751 - val_loss: 0.0151 - val_acc: 0.8139\n",
      "Epoch 143/400\n",
      "39450/40000 [============================>.] - ETA: 0s - loss: 0.0022 - acc: 0.9751\n",
      "Epoch 00143: val_acc did not improve\n",
      "40000/40000 [==============================] - 5s 118us/step - loss: 0.0022 - acc: 0.9751 - val_loss: 0.0149 - val_acc: 0.8140\n",
      "Epoch 144/400\n",
      "39450/40000 [============================>.] - ETA: 0s - loss: 0.0022 - acc: 0.9752\n",
      "Epoch 00144: val_acc did not improve\n",
      "40000/40000 [==============================] - 5s 118us/step - loss: 0.0022 - acc: 0.9754 - val_loss: 0.0149 - val_acc: 0.8149\n",
      "Epoch 145/400\n",
      "39600/40000 [============================>.] - ETA: 0s - loss: 0.0022 - acc: 0.9753\n",
      "Epoch 00145: val_acc did not improve\n",
      "40000/40000 [==============================] - 5s 115us/step - loss: 0.0022 - acc: 0.9753 - val_loss: 0.0150 - val_acc: 0.8139\n",
      "Epoch 146/400\n",
      "39450/40000 [============================>.] - ETA: 0s - loss: 0.0022 - acc: 0.9753\n",
      "Epoch 00146: val_acc did not improve\n",
      "40000/40000 [==============================] - 5s 116us/step - loss: 0.0022 - acc: 0.9754 - val_loss: 0.0149 - val_acc: 0.8133\n",
      "Epoch 147/400\n",
      "39750/40000 [============================>.] - ETA: 0s - loss: 0.0021 - acc: 0.9754\n",
      "Epoch 00147: val_acc did not improve\n",
      "40000/40000 [==============================] - 5s 118us/step - loss: 0.0021 - acc: 0.9755 - val_loss: 0.0149 - val_acc: 0.8132\n",
      "Epoch 148/400\n",
      "39750/40000 [============================>.] - ETA: 0s - loss: 0.0021 - acc: 0.9756\n",
      "Epoch 00148: val_acc did not improve\n",
      "40000/40000 [==============================] - 5s 116us/step - loss: 0.0021 - acc: 0.9756 - val_loss: 0.0150 - val_acc: 0.8141\n",
      "Epoch 149/400\n",
      "39750/40000 [============================>.] - ETA: 0s - loss: 0.0021 - acc: 0.9755\n",
      "Epoch 00149: val_acc improved from 0.81600 to 0.81610, saving model to weights.best2.hdf5\n",
      "40000/40000 [==============================] - 5s 114us/step - loss: 0.0021 - acc: 0.9756 - val_loss: 0.0149 - val_acc: 0.8161\n",
      "Epoch 150/400\n",
      "39600/40000 [============================>.] - ETA: 0s - loss: 0.0021 - acc: 0.9757\n",
      "Epoch 00150: val_acc did not improve\n",
      "40000/40000 [==============================] - 5s 113us/step - loss: 0.0021 - acc: 0.9757 - val_loss: 0.0150 - val_acc: 0.8156\n",
      "Epoch 151/400\n",
      "39600/40000 [============================>.] - ETA: 0s - loss: 0.0021 - acc: 0.9756\n",
      "Epoch 00151: val_acc did not improve\n",
      "40000/40000 [==============================] - 4s 112us/step - loss: 0.0021 - acc: 0.9757 - val_loss: 0.0150 - val_acc: 0.8136\n",
      "Epoch 152/400\n",
      "39450/40000 [============================>.] - ETA: 0s - loss: 0.0021 - acc: 0.9757\n",
      "Epoch 00152: val_acc did not improve\n",
      "40000/40000 [==============================] - 5s 114us/step - loss: 0.0021 - acc: 0.9758 - val_loss: 0.0150 - val_acc: 0.8131\n",
      "Epoch 153/400\n",
      "39450/40000 [============================>.] - ETA: 0s - loss: 0.0021 - acc: 0.9760\n",
      "Epoch 00153: val_acc did not improve\n",
      "40000/40000 [==============================] - 5s 115us/step - loss: 0.0021 - acc: 0.9760 - val_loss: 0.0150 - val_acc: 0.8125\n",
      "Epoch 154/400\n",
      "39450/40000 [============================>.] - ETA: 0s - loss: 0.0021 - acc: 0.9759\n",
      "Epoch 00154: val_acc did not improve\n",
      "40000/40000 [==============================] - 5s 114us/step - loss: 0.0021 - acc: 0.9761 - val_loss: 0.0150 - val_acc: 0.8141\n",
      "Epoch 155/400\n",
      "39450/40000 [============================>.] - ETA: 0s - loss: 0.0021 - acc: 0.9764\n",
      "Epoch 00155: val_acc did not improve\n",
      "40000/40000 [==============================] - 5s 115us/step - loss: 0.0021 - acc: 0.9762 - val_loss: 0.0151 - val_acc: 0.8102\n",
      "Epoch 156/400\n",
      "39450/40000 [============================>.] - ETA: 0s - loss: 0.0021 - acc: 0.9762\n",
      "Epoch 00156: val_acc did not improve\n",
      "40000/40000 [==============================] - 5s 115us/step - loss: 0.0021 - acc: 0.9762 - val_loss: 0.0150 - val_acc: 0.8136\n",
      "Epoch 157/400\n",
      "39450/40000 [============================>.] - ETA: 0s - loss: 0.0020 - acc: 0.9765\n",
      "Epoch 00157: val_acc did not improve\n",
      "40000/40000 [==============================] - 5s 118us/step - loss: 0.0021 - acc: 0.9764 - val_loss: 0.0150 - val_acc: 0.8140\n",
      "Epoch 158/400\n",
      "39750/40000 [============================>.] - ETA: 0s - loss: 0.0021 - acc: 0.9762\n",
      "Epoch 00158: val_acc did not improve\n",
      "40000/40000 [==============================] - 5s 113us/step - loss: 0.0021 - acc: 0.9762 - val_loss: 0.0151 - val_acc: 0.8131\n",
      "Epoch 159/400\n",
      "39750/40000 [============================>.] - ETA: 0s - loss: 0.0021 - acc: 0.9765\n",
      "Epoch 00159: val_acc did not improve\n",
      "40000/40000 [==============================] - 5s 114us/step - loss: 0.0021 - acc: 0.9765 - val_loss: 0.0151 - val_acc: 0.8131\n",
      "Epoch 160/400\n",
      "39600/40000 [============================>.] - ETA: 0s - loss: 0.0021 - acc: 0.9765\n",
      "Epoch 00160: val_acc improved from 0.81610 to 0.81690, saving model to weights.best2.hdf5\n",
      "40000/40000 [==============================] - 5s 116us/step - loss: 0.0021 - acc: 0.9765 - val_loss: 0.0148 - val_acc: 0.8169\n",
      "Epoch 161/400\n",
      "39450/40000 [============================>.] - ETA: 0s - loss: 0.0021 - acc: 0.9764\n",
      "Epoch 00161: val_acc did not improve\n",
      "40000/40000 [==============================] - 5s 115us/step - loss: 0.0021 - acc: 0.9764 - val_loss: 0.0149 - val_acc: 0.8165\n",
      "Epoch 162/400\n",
      "39600/40000 [============================>.] - ETA: 0s - loss: 0.0020 - acc: 0.9767\n",
      "Epoch 00162: val_acc did not improve\n",
      "40000/40000 [==============================] - 5s 116us/step - loss: 0.0020 - acc: 0.9767 - val_loss: 0.0149 - val_acc: 0.8167\n",
      "Epoch 163/400\n",
      "39750/40000 [============================>.] - ETA: 0s - loss: 0.0020 - acc: 0.9767\n",
      "Epoch 00163: val_acc did not improve\n",
      "40000/40000 [==============================] - 5s 114us/step - loss: 0.0020 - acc: 0.9768 - val_loss: 0.0151 - val_acc: 0.8116\n",
      "Epoch 164/400\n",
      "39750/40000 [============================>.] - ETA: 0s - loss: 0.0020 - acc: 0.9768\n",
      "Epoch 00164: val_acc did not improve\n",
      "40000/40000 [==============================] - 5s 115us/step - loss: 0.0020 - acc: 0.9768 - val_loss: 0.0149 - val_acc: 0.8139\n",
      "Epoch 165/400\n",
      "39450/40000 [============================>.] - ETA: 0s - loss: 0.0020 - acc: 0.9769\n",
      "Epoch 00165: val_acc did not improve\n",
      "40000/40000 [==============================] - 5s 114us/step - loss: 0.0020 - acc: 0.9769 - val_loss: 0.0149 - val_acc: 0.8150\n",
      "Epoch 166/400\n",
      "39750/40000 [============================>.] - ETA: 0s - loss: 0.0020 - acc: 0.9767\n",
      "Epoch 00166: val_acc did not improve\n",
      "40000/40000 [==============================] - 5s 115us/step - loss: 0.0020 - acc: 0.9767 - val_loss: 0.0149 - val_acc: 0.8160\n",
      "Epoch 167/400\n",
      "39750/40000 [============================>.] - ETA: 0s - loss: 0.0020 - acc: 0.9770\n",
      "Epoch 00167: val_acc did not improve\n",
      "40000/40000 [==============================] - 5s 121us/step - loss: 0.0020 - acc: 0.9770 - val_loss: 0.0150 - val_acc: 0.8128\n",
      "Epoch 168/400\n",
      "39750/40000 [============================>.] - ETA: 0s - loss: 0.0020 - acc: 0.9770\n",
      "Epoch 00168: val_acc did not improve\n",
      "40000/40000 [==============================] - 5s 119us/step - loss: 0.0020 - acc: 0.9769 - val_loss: 0.0148 - val_acc: 0.8164\n",
      "Epoch 169/400\n",
      "39450/40000 [============================>.] - ETA: 0s - loss: 0.0020 - acc: 0.9769\n",
      "Epoch 00169: val_acc did not improve\n",
      "40000/40000 [==============================] - 5s 114us/step - loss: 0.0020 - acc: 0.9770 - val_loss: 0.0149 - val_acc: 0.8166\n",
      "Epoch 170/400\n",
      "39450/40000 [============================>.] - ETA: 0s - loss: 0.0020 - acc: 0.9774\n",
      "Epoch 00170: val_acc improved from 0.81690 to 0.81770, saving model to weights.best2.hdf5\n",
      "40000/40000 [==============================] - 5s 118us/step - loss: 0.0020 - acc: 0.9772 - val_loss: 0.0149 - val_acc: 0.8177\n",
      "Epoch 171/400\n",
      "39600/40000 [============================>.] - ETA: 0s - loss: 0.0020 - acc: 0.9770\n",
      "Epoch 00171: val_acc did not improve\n",
      "40000/40000 [==============================] - 5s 114us/step - loss: 0.0020 - acc: 0.9772 - val_loss: 0.0150 - val_acc: 0.8130\n",
      "Epoch 172/400\n",
      "39600/40000 [============================>.] - ETA: 0s - loss: 0.0020 - acc: 0.9772\n",
      "Epoch 00172: val_acc did not improve\n",
      "40000/40000 [==============================] - 5s 114us/step - loss: 0.0020 - acc: 0.9772 - val_loss: 0.0149 - val_acc: 0.8169\n"
     ]
    },
    {
     "name": "stdout",
     "output_type": "stream",
     "text": [
      "Epoch 173/400\n",
      "39600/40000 [============================>.] - ETA: 0s - loss: 0.0020 - acc: 0.9773\n",
      "Epoch 00173: val_acc did not improve\n",
      "40000/40000 [==============================] - 5s 113us/step - loss: 0.0020 - acc: 0.9773 - val_loss: 0.0150 - val_acc: 0.8146\n",
      "Epoch 174/400\n",
      "39750/40000 [============================>.] - ETA: 0s - loss: 0.0020 - acc: 0.9773\n",
      "Epoch 00174: val_acc did not improve\n",
      "40000/40000 [==============================] - 5s 115us/step - loss: 0.0020 - acc: 0.9772 - val_loss: 0.0150 - val_acc: 0.8156\n",
      "Epoch 175/400\n",
      "39900/40000 [============================>.] - ETA: 0s - loss: 0.0020 - acc: 0.9773\n",
      "Epoch 00175: val_acc did not improve\n",
      "40000/40000 [==============================] - 5s 113us/step - loss: 0.0020 - acc: 0.9773 - val_loss: 0.0150 - val_acc: 0.8168\n",
      "Epoch 176/400\n",
      "39450/40000 [============================>.] - ETA: 0s - loss: 0.0019 - acc: 0.9774\n",
      "Epoch 00176: val_acc did not improve\n",
      "40000/40000 [==============================] - 5s 113us/step - loss: 0.0020 - acc: 0.9772 - val_loss: 0.0150 - val_acc: 0.8148\n",
      "Epoch 177/400\n",
      "39450/40000 [============================>.] - ETA: 0s - loss: 0.0020 - acc: 0.9774\n",
      "Epoch 00177: val_acc did not improve\n",
      "40000/40000 [==============================] - 5s 116us/step - loss: 0.0020 - acc: 0.9775 - val_loss: 0.0150 - val_acc: 0.8142\n",
      "Epoch 178/400\n",
      "39450/40000 [============================>.] - ETA: 0s - loss: 0.0019 - acc: 0.9775\n",
      "Epoch 00178: val_acc did not improve\n",
      "40000/40000 [==============================] - 5s 115us/step - loss: 0.0020 - acc: 0.9773 - val_loss: 0.0151 - val_acc: 0.8127\n",
      "Epoch 179/400\n",
      "39900/40000 [============================>.] - ETA: 0s - loss: 0.0019 - acc: 0.9775\n",
      "Epoch 00179: val_acc did not improve\n",
      "40000/40000 [==============================] - 5s 115us/step - loss: 0.0019 - acc: 0.9776 - val_loss: 0.0151 - val_acc: 0.8147\n",
      "Epoch 180/400\n",
      "39600/40000 [============================>.] - ETA: 0s - loss: 0.0019 - acc: 0.9775\n",
      "Epoch 00180: val_acc did not improve\n",
      "40000/40000 [==============================] - 5s 113us/step - loss: 0.0019 - acc: 0.9775 - val_loss: 0.0150 - val_acc: 0.8148\n",
      "Epoch 181/400\n",
      "39450/40000 [============================>.] - ETA: 0s - loss: 0.0019 - acc: 0.9775\n",
      "Epoch 00181: val_acc did not improve\n",
      "40000/40000 [==============================] - 4s 110us/step - loss: 0.0019 - acc: 0.9775 - val_loss: 0.0150 - val_acc: 0.8151\n",
      "Epoch 182/400\n",
      "39750/40000 [============================>.] - ETA: 0s - loss: 0.0019 - acc: 0.9775\n",
      "Epoch 00182: val_acc did not improve\n",
      "40000/40000 [==============================] - 5s 115us/step - loss: 0.0019 - acc: 0.9776 - val_loss: 0.0150 - val_acc: 0.8152\n",
      "Epoch 183/400\n",
      "39750/40000 [============================>.] - ETA: 0s - loss: 0.0019 - acc: 0.9776\n",
      "Epoch 00183: val_acc did not improve\n",
      "40000/40000 [==============================] - 5s 119us/step - loss: 0.0019 - acc: 0.9776 - val_loss: 0.0151 - val_acc: 0.8135\n",
      "Epoch 184/400\n",
      "39750/40000 [============================>.] - ETA: 0s - loss: 0.0019 - acc: 0.9776\n",
      "Epoch 00184: val_acc did not improve\n",
      "40000/40000 [==============================] - 4s 111us/step - loss: 0.0019 - acc: 0.9776 - val_loss: 0.0149 - val_acc: 0.8158\n",
      "Epoch 185/400\n",
      "39600/40000 [============================>.] - ETA: 0s - loss: 0.0019 - acc: 0.9779\n",
      "Epoch 00185: val_acc did not improve\n",
      "40000/40000 [==============================] - 4s 112us/step - loss: 0.0019 - acc: 0.9779 - val_loss: 0.0149 - val_acc: 0.8155\n",
      "Epoch 186/400\n",
      "39750/40000 [============================>.] - ETA: 0s - loss: 0.0019 - acc: 0.9778\n",
      "Epoch 00186: val_acc did not improve\n",
      "40000/40000 [==============================] - 5s 113us/step - loss: 0.0019 - acc: 0.9778 - val_loss: 0.0150 - val_acc: 0.8140\n",
      "Epoch 187/400\n",
      "39450/40000 [============================>.] - ETA: 0s - loss: 0.0019 - acc: 0.9779\n",
      "Epoch 00187: val_acc did not improve\n",
      "40000/40000 [==============================] - 5s 115us/step - loss: 0.0019 - acc: 0.9778 - val_loss: 0.0149 - val_acc: 0.8161\n",
      "Epoch 188/400\n",
      "39900/40000 [============================>.] - ETA: 0s - loss: 0.0019 - acc: 0.9780\n",
      "Epoch 00188: val_acc did not improve\n",
      "40000/40000 [==============================] - 5s 117us/step - loss: 0.0019 - acc: 0.9780 - val_loss: 0.0149 - val_acc: 0.8161\n",
      "Epoch 189/400\n",
      "39600/40000 [============================>.] - ETA: 0s - loss: 0.0019 - acc: 0.9779\n",
      "Epoch 00189: val_acc did not improve\n",
      "40000/40000 [==============================] - 5s 114us/step - loss: 0.0019 - acc: 0.9780 - val_loss: 0.0149 - val_acc: 0.8158\n",
      "Epoch 190/400\n",
      "39600/40000 [============================>.] - ETA: 0s - loss: 0.0019 - acc: 0.9782\n",
      "Epoch 00190: val_acc did not improve\n",
      "40000/40000 [==============================] - 5s 114us/step - loss: 0.0019 - acc: 0.9782 - val_loss: 0.0149 - val_acc: 0.8159\n",
      "Epoch 191/400\n",
      "39450/40000 [============================>.] - ETA: 0s - loss: 0.0019 - acc: 0.9780\n",
      "Epoch 00191: val_acc did not improve\n",
      "40000/40000 [==============================] - 5s 119us/step - loss: 0.0019 - acc: 0.9782 - val_loss: 0.0150 - val_acc: 0.8145\n",
      "Epoch 192/400\n",
      "39750/40000 [============================>.] - ETA: 0s - loss: 0.0019 - acc: 0.9782\n",
      "Epoch 00192: val_acc did not improve\n",
      "40000/40000 [==============================] - 5s 117us/step - loss: 0.0019 - acc: 0.9783 - val_loss: 0.0149 - val_acc: 0.8173\n",
      "Epoch 193/400\n",
      "39600/40000 [============================>.] - ETA: 0s - loss: 0.0019 - acc: 0.9782\n",
      "Epoch 00193: val_acc did not improve\n",
      "40000/40000 [==============================] - 5s 115us/step - loss: 0.0019 - acc: 0.9783 - val_loss: 0.0150 - val_acc: 0.8149\n",
      "Epoch 194/400\n",
      "39750/40000 [============================>.] - ETA: 0s - loss: 0.0019 - acc: 0.9783\n",
      "Epoch 00194: val_acc did not improve\n",
      "40000/40000 [==============================] - 5s 117us/step - loss: 0.0019 - acc: 0.9783 - val_loss: 0.0152 - val_acc: 0.8116\n",
      "Epoch 195/400\n",
      "39450/40000 [============================>.] - ETA: 0s - loss: 0.0019 - acc: 0.9782\n",
      "Epoch 00195: val_acc did not improve\n",
      "40000/40000 [==============================] - 4s 111us/step - loss: 0.0019 - acc: 0.9783 - val_loss: 0.0153 - val_acc: 0.8137\n",
      "Epoch 196/400\n",
      "39600/40000 [============================>.] - ETA: 0s - loss: 0.0019 - acc: 0.9782\n",
      "Epoch 00196: val_acc did not improve\n",
      "40000/40000 [==============================] - 4s 112us/step - loss: 0.0019 - acc: 0.9783 - val_loss: 0.0151 - val_acc: 0.8143\n",
      "Epoch 197/400\n",
      "39600/40000 [============================>.] - ETA: 0s - loss: 0.0018 - acc: 0.9786\n",
      "Epoch 00197: val_acc did not improve\n",
      "40000/40000 [==============================] - 5s 116us/step - loss: 0.0018 - acc: 0.9785 - val_loss: 0.0150 - val_acc: 0.8145\n",
      "Epoch 198/400\n",
      "39750/40000 [============================>.] - ETA: 0s - loss: 0.0018 - acc: 0.9785\n",
      "Epoch 00198: val_acc improved from 0.81770 to 0.81770, saving model to weights.best2.hdf5\n",
      "40000/40000 [==============================] - 5s 116us/step - loss: 0.0018 - acc: 0.9785 - val_loss: 0.0149 - val_acc: 0.8177\n",
      "Epoch 199/400\n",
      "39750/40000 [============================>.] - ETA: 0s - loss: 0.0018 - acc: 0.9786\n",
      "Epoch 00199: val_acc did not improve\n",
      "40000/40000 [==============================] - 4s 111us/step - loss: 0.0019 - acc: 0.9785 - val_loss: 0.0150 - val_acc: 0.8156\n",
      "Epoch 200/400\n",
      "39450/40000 [============================>.] - ETA: 0s - loss: 0.0018 - acc: 0.9786\n",
      "Epoch 00200: val_acc did not improve\n",
      "40000/40000 [==============================] - 5s 116us/step - loss: 0.0018 - acc: 0.9786 - val_loss: 0.0149 - val_acc: 0.8158\n",
      "Epoch 201/400\n",
      "39900/40000 [============================>.] - ETA: 0s - loss: 0.0018 - acc: 0.9786\n",
      "Epoch 00201: val_acc did not improve\n",
      "40000/40000 [==============================] - 5s 118us/step - loss: 0.0018 - acc: 0.9786 - val_loss: 0.0149 - val_acc: 0.8176\n",
      "Epoch 202/400\n",
      "39450/40000 [============================>.] - ETA: 0s - loss: 0.0019 - acc: 0.9785\n",
      "Epoch 00202: val_acc did not improve\n",
      "40000/40000 [==============================] - 5s 114us/step - loss: 0.0018 - acc: 0.9786 - val_loss: 0.0149 - val_acc: 0.8148\n",
      "Epoch 203/400\n",
      "39900/40000 [============================>.] - ETA: 0s - loss: 0.0018 - acc: 0.9786\n",
      "Epoch 00203: val_acc did not improve\n",
      "40000/40000 [==============================] - 5s 113us/step - loss: 0.0018 - acc: 0.9787 - val_loss: 0.0149 - val_acc: 0.8164\n",
      "Epoch 204/400\n"
     ]
    },
    {
     "name": "stdout",
     "output_type": "stream",
     "text": [
      "39900/40000 [============================>.] - ETA: 0s - loss: 0.0018 - acc: 0.9788\n",
      "Epoch 00204: val_acc did not improve\n",
      "40000/40000 [==============================] - 5s 114us/step - loss: 0.0018 - acc: 0.9788 - val_loss: 0.0150 - val_acc: 0.8140\n",
      "Epoch 205/400\n",
      "39600/40000 [============================>.] - ETA: 0s - loss: 0.0018 - acc: 0.9787\n",
      "Epoch 00205: val_acc did not improve\n",
      "40000/40000 [==============================] - 4s 112us/step - loss: 0.0018 - acc: 0.9788 - val_loss: 0.0150 - val_acc: 0.8147\n",
      "Epoch 206/400\n",
      "39450/40000 [============================>.] - ETA: 0s - loss: 0.0018 - acc: 0.9788\n",
      "Epoch 00206: val_acc did not improve\n",
      "40000/40000 [==============================] - 4s 109us/step - loss: 0.0018 - acc: 0.9788 - val_loss: 0.0150 - val_acc: 0.8152\n",
      "Epoch 207/400\n",
      "39450/40000 [============================>.] - ETA: 0s - loss: 0.0018 - acc: 0.9789\n",
      "Epoch 00207: val_acc did not improve\n",
      "40000/40000 [==============================] - 4s 111us/step - loss: 0.0018 - acc: 0.9788 - val_loss: 0.0151 - val_acc: 0.8141\n",
      "Epoch 208/400\n",
      "39750/40000 [============================>.] - ETA: 0s - loss: 0.0018 - acc: 0.9790\n",
      "Epoch 00208: val_acc did not improve\n",
      "40000/40000 [==============================] - 4s 108us/step - loss: 0.0018 - acc: 0.9789 - val_loss: 0.0149 - val_acc: 0.8172\n",
      "Epoch 209/400\n",
      "39750/40000 [============================>.] - ETA: 0s - loss: 0.0018 - acc: 0.9788\n",
      "Epoch 00209: val_acc did not improve\n",
      "40000/40000 [==============================] - 4s 108us/step - loss: 0.0018 - acc: 0.9789 - val_loss: 0.0149 - val_acc: 0.8156\n",
      "Epoch 210/400\n",
      "39900/40000 [============================>.] - ETA: 0s - loss: 0.0018 - acc: 0.9790\n",
      "Epoch 00210: val_acc did not improve\n",
      "40000/40000 [==============================] - 4s 110us/step - loss: 0.0018 - acc: 0.9790 - val_loss: 0.0149 - val_acc: 0.8163\n",
      "Epoch 211/400\n",
      "39750/40000 [============================>.] - ETA: 0s - loss: 0.0018 - acc: 0.9790\n",
      "Epoch 00211: val_acc did not improve\n",
      "40000/40000 [==============================] - 4s 108us/step - loss: 0.0018 - acc: 0.9791 - val_loss: 0.0149 - val_acc: 0.8167\n",
      "Epoch 212/400\n",
      "39450/40000 [============================>.] - ETA: 0s - loss: 0.0018 - acc: 0.9791\n",
      "Epoch 00212: val_acc did not improve\n",
      "40000/40000 [==============================] - 4s 109us/step - loss: 0.0018 - acc: 0.9791 - val_loss: 0.0149 - val_acc: 0.8161\n",
      "Epoch 213/400\n",
      "39450/40000 [============================>.] - ETA: 0s - loss: 0.0018 - acc: 0.9791\n",
      "Epoch 00213: val_acc did not improve\n",
      "40000/40000 [==============================] - 4s 111us/step - loss: 0.0018 - acc: 0.9792 - val_loss: 0.0149 - val_acc: 0.8157\n",
      "Epoch 214/400\n",
      "39750/40000 [============================>.] - ETA: 0s - loss: 0.0018 - acc: 0.9792\n",
      "Epoch 00214: val_acc did not improve\n",
      "40000/40000 [==============================] - 4s 109us/step - loss: 0.0018 - acc: 0.9792 - val_loss: 0.0150 - val_acc: 0.8148\n",
      "Epoch 215/400\n",
      "39750/40000 [============================>.] - ETA: 0s - loss: 0.0018 - acc: 0.9792\n",
      "Epoch 00215: val_acc did not improve\n",
      "40000/40000 [==============================] - 4s 108us/step - loss: 0.0018 - acc: 0.9793 - val_loss: 0.0149 - val_acc: 0.8166\n",
      "Epoch 216/400\n",
      "39450/40000 [============================>.] - ETA: 0s - loss: 0.0018 - acc: 0.9795\n",
      "Epoch 00216: val_acc did not improve\n",
      "40000/40000 [==============================] - 4s 111us/step - loss: 0.0018 - acc: 0.9793 - val_loss: 0.0149 - val_acc: 0.8162\n",
      "Epoch 217/400\n",
      "39750/40000 [============================>.] - ETA: 0s - loss: 0.0018 - acc: 0.9791\n",
      "Epoch 00217: val_acc did not improve\n",
      "40000/40000 [==============================] - 5s 113us/step - loss: 0.0018 - acc: 0.9792 - val_loss: 0.0149 - val_acc: 0.8161\n",
      "Epoch 218/400\n",
      "39600/40000 [============================>.] - ETA: 0s - loss: 0.0018 - acc: 0.9794\n",
      "Epoch 00218: val_acc did not improve\n",
      "40000/40000 [==============================] - 5s 113us/step - loss: 0.0018 - acc: 0.9794 - val_loss: 0.0149 - val_acc: 0.8157\n",
      "Epoch 219/400\n",
      "39450/40000 [============================>.] - ETA: 0s - loss: 0.0018 - acc: 0.9794\n",
      "Epoch 00219: val_acc did not improve\n",
      "40000/40000 [==============================] - 4s 112us/step - loss: 0.0018 - acc: 0.9794 - val_loss: 0.0149 - val_acc: 0.8170\n",
      "Epoch 220/400\n",
      "39450/40000 [============================>.] - ETA: 0s - loss: 0.0018 - acc: 0.9794\n",
      "Epoch 00220: val_acc did not improve\n",
      "40000/40000 [==============================] - 5s 113us/step - loss: 0.0018 - acc: 0.9795 - val_loss: 0.0150 - val_acc: 0.8156\n",
      "Epoch 221/400\n",
      "39750/40000 [============================>.] - ETA: 0s - loss: 0.0018 - acc: 0.9794\n",
      "Epoch 00221: val_acc did not improve\n",
      "40000/40000 [==============================] - 5s 114us/step - loss: 0.0018 - acc: 0.9795 - val_loss: 0.0149 - val_acc: 0.8152\n",
      "Epoch 222/400\n",
      "39450/40000 [============================>.] - ETA: 0s - loss: 0.0018 - acc: 0.9794\n",
      "Epoch 00222: val_acc did not improve\n",
      "40000/40000 [==============================] - 5s 114us/step - loss: 0.0018 - acc: 0.9795 - val_loss: 0.0150 - val_acc: 0.8155\n",
      "Epoch 223/400\n",
      "39600/40000 [============================>.] - ETA: 0s - loss: 0.0018 - acc: 0.9795\n",
      "Epoch 00223: val_acc improved from 0.81770 to 0.81840, saving model to weights.best2.hdf5\n",
      "40000/40000 [==============================] - 5s 118us/step - loss: 0.0018 - acc: 0.9795 - val_loss: 0.0149 - val_acc: 0.8184\n",
      "Epoch 224/400\n",
      "39750/40000 [============================>.] - ETA: 0s - loss: 0.0017 - acc: 0.9796\n",
      "Epoch 00224: val_acc did not improve\n",
      "40000/40000 [==============================] - 5s 114us/step - loss: 0.0017 - acc: 0.9795 - val_loss: 0.0149 - val_acc: 0.8148\n",
      "Epoch 225/400\n",
      "39450/40000 [============================>.] - ETA: 0s - loss: 0.0018 - acc: 0.9795\n",
      "Epoch 00225: val_acc did not improve\n",
      "40000/40000 [==============================] - 5s 117us/step - loss: 0.0018 - acc: 0.9795 - val_loss: 0.0149 - val_acc: 0.8171\n",
      "Epoch 226/400\n",
      "39600/40000 [============================>.] - ETA: 0s - loss: 0.0017 - acc: 0.9796\n",
      "Epoch 00226: val_acc did not improve\n",
      "40000/40000 [==============================] - 5s 113us/step - loss: 0.0017 - acc: 0.9797 - val_loss: 0.0149 - val_acc: 0.8174\n",
      "Epoch 227/400\n",
      "39600/40000 [============================>.] - ETA: 0s - loss: 0.0017 - acc: 0.9797\n",
      "Epoch 00227: val_acc did not improve\n",
      "40000/40000 [==============================] - 5s 113us/step - loss: 0.0017 - acc: 0.9797 - val_loss: 0.0149 - val_acc: 0.8179\n",
      "Epoch 228/400\n",
      "39750/40000 [============================>.] - ETA: 0s - loss: 0.0017 - acc: 0.9796\n",
      "Epoch 00228: val_acc did not improve\n",
      "40000/40000 [==============================] - 5s 117us/step - loss: 0.0017 - acc: 0.9797 - val_loss: 0.0150 - val_acc: 0.8149\n",
      "Epoch 229/400\n",
      "39750/40000 [============================>.] - ETA: 0s - loss: 0.0017 - acc: 0.9797\n",
      "Epoch 00229: val_acc did not improve\n",
      "40000/40000 [==============================] - 4s 112us/step - loss: 0.0017 - acc: 0.9797 - val_loss: 0.0149 - val_acc: 0.8176\n",
      "Epoch 230/400\n",
      "39600/40000 [============================>.] - ETA: 0s - loss: 0.0017 - acc: 0.9798\n",
      "Epoch 00230: val_acc did not improve\n",
      "40000/40000 [==============================] - 4s 111us/step - loss: 0.0017 - acc: 0.9798 - val_loss: 0.0149 - val_acc: 0.8171\n",
      "Epoch 231/400\n",
      "39750/40000 [============================>.] - ETA: 0s - loss: 0.0017 - acc: 0.9797\n",
      "Epoch 00231: val_acc did not improve\n",
      "40000/40000 [==============================] - 5s 114us/step - loss: 0.0017 - acc: 0.9798 - val_loss: 0.0149 - val_acc: 0.8176\n",
      "Epoch 232/400\n",
      "39600/40000 [============================>.] - ETA: 0s - loss: 0.0017 - acc: 0.9796\n",
      "Epoch 00232: val_acc did not improve\n",
      "40000/40000 [==============================] - 5s 113us/step - loss: 0.0017 - acc: 0.9797 - val_loss: 0.0150 - val_acc: 0.8159\n",
      "Epoch 233/400\n",
      "39900/40000 [============================>.] - ETA: 0s - loss: 0.0017 - acc: 0.9798\n",
      "Epoch 00233: val_acc did not improve\n",
      "40000/40000 [==============================] - 5s 116us/step - loss: 0.0017 - acc: 0.9798 - val_loss: 0.0149 - val_acc: 0.8175\n",
      "Epoch 234/400\n",
      "39600/40000 [============================>.] - ETA: 0s - loss: 0.0017 - acc: 0.9798\n",
      "Epoch 00234: val_acc did not improve\n",
      "40000/40000 [==============================] - 5s 116us/step - loss: 0.0017 - acc: 0.9798 - val_loss: 0.0149 - val_acc: 0.8175\n",
      "Epoch 235/400\n"
     ]
    },
    {
     "name": "stdout",
     "output_type": "stream",
     "text": [
      "39450/40000 [============================>.] - ETA: 0s - loss: 0.0017 - acc: 0.9799\n",
      "Epoch 00235: val_acc did not improve\n",
      "40000/40000 [==============================] - 5s 114us/step - loss: 0.0017 - acc: 0.9799 - val_loss: 0.0149 - val_acc: 0.8163\n",
      "Epoch 236/400\n",
      "39600/40000 [============================>.] - ETA: 0s - loss: 0.0017 - acc: 0.9798\n",
      "Epoch 00236: val_acc did not improve\n",
      "40000/40000 [==============================] - 5s 115us/step - loss: 0.0017 - acc: 0.9799 - val_loss: 0.0149 - val_acc: 0.8168\n",
      "Epoch 237/400\n",
      "39600/40000 [============================>.] - ETA: 0s - loss: 0.0017 - acc: 0.9799\n",
      "Epoch 00237: val_acc did not improve\n",
      "40000/40000 [==============================] - 5s 115us/step - loss: 0.0017 - acc: 0.9799 - val_loss: 0.0149 - val_acc: 0.8174\n",
      "Epoch 238/400\n",
      "39600/40000 [============================>.] - ETA: 0s - loss: 0.0017 - acc: 0.9799\n",
      "Epoch 00238: val_acc did not improve\n",
      "40000/40000 [==============================] - 5s 113us/step - loss: 0.0017 - acc: 0.9799 - val_loss: 0.0149 - val_acc: 0.8162\n",
      "Epoch 239/400\n",
      "39600/40000 [============================>.] - ETA: 0s - loss: 0.0017 - acc: 0.9799\n",
      "Epoch 00239: val_acc did not improve\n",
      "40000/40000 [==============================] - 5s 116us/step - loss: 0.0017 - acc: 0.9800 - val_loss: 0.0149 - val_acc: 0.8175\n",
      "Epoch 240/400\n",
      "39750/40000 [============================>.] - ETA: 0s - loss: 0.0017 - acc: 0.9799\n",
      "Epoch 00240: val_acc did not improve\n",
      "40000/40000 [==============================] - 4s 111us/step - loss: 0.0017 - acc: 0.9799 - val_loss: 0.0149 - val_acc: 0.8180\n",
      "Epoch 241/400\n",
      "39450/40000 [============================>.] - ETA: 0s - loss: 0.0017 - acc: 0.9799\n",
      "Epoch 00241: val_acc did not improve\n",
      "40000/40000 [==============================] - 5s 113us/step - loss: 0.0017 - acc: 0.9799 - val_loss: 0.0149 - val_acc: 0.8167\n",
      "Epoch 242/400\n",
      "39600/40000 [============================>.] - ETA: 0s - loss: 0.0017 - acc: 0.9801\n",
      "Epoch 00242: val_acc did not improve\n",
      "40000/40000 [==============================] - 5s 113us/step - loss: 0.0017 - acc: 0.9800 - val_loss: 0.0149 - val_acc: 0.8171\n",
      "Epoch 243/400\n",
      "39750/40000 [============================>.] - ETA: 0s - loss: 0.0017 - acc: 0.9801\n",
      "Epoch 00243: val_acc did not improve\n",
      "40000/40000 [==============================] - 5s 115us/step - loss: 0.0017 - acc: 0.9801 - val_loss: 0.0149 - val_acc: 0.8162\n",
      "Epoch 244/400\n",
      "39750/40000 [============================>.] - ETA: 0s - loss: 0.0017 - acc: 0.9801\n",
      "Epoch 00244: val_acc did not improve\n",
      "40000/40000 [==============================] - 5s 118us/step - loss: 0.0017 - acc: 0.9800 - val_loss: 0.0149 - val_acc: 0.8171\n",
      "Epoch 245/400\n",
      "39450/40000 [============================>.] - ETA: 0s - loss: 0.0017 - acc: 0.9799\n",
      "Epoch 00245: val_acc did not improve\n",
      "40000/40000 [==============================] - 5s 113us/step - loss: 0.0017 - acc: 0.9801 - val_loss: 0.0149 - val_acc: 0.8175\n",
      "Epoch 246/400\n",
      "39600/40000 [============================>.] - ETA: 0s - loss: 0.0017 - acc: 0.9802\n",
      "Epoch 00246: val_acc improved from 0.81840 to 0.81860, saving model to weights.best2.hdf5\n",
      "40000/40000 [==============================] - 5s 115us/step - loss: 0.0017 - acc: 0.9799 - val_loss: 0.0149 - val_acc: 0.8186\n",
      "Epoch 247/400\n",
      "39450/40000 [============================>.] - ETA: 0s - loss: 0.0017 - acc: 0.9801\n",
      "Epoch 00247: val_acc improved from 0.81860 to 0.81870, saving model to weights.best2.hdf5\n",
      "40000/40000 [==============================] - 5s 116us/step - loss: 0.0017 - acc: 0.9801 - val_loss: 0.0148 - val_acc: 0.8187\n",
      "Epoch 248/400\n",
      "39750/40000 [============================>.] - ETA: 0s - loss: 0.0017 - acc: 0.9802\n",
      "Epoch 00248: val_acc improved from 0.81870 to 0.81880, saving model to weights.best2.hdf5\n",
      "40000/40000 [==============================] - 5s 118us/step - loss: 0.0017 - acc: 0.9802 - val_loss: 0.0149 - val_acc: 0.8188\n",
      "Epoch 249/400\n",
      "39750/40000 [============================>.] - ETA: 0s - loss: 0.0017 - acc: 0.9802\n",
      "Epoch 00249: val_acc did not improve\n",
      "40000/40000 [==============================] - 4s 111us/step - loss: 0.0017 - acc: 0.9801 - val_loss: 0.0148 - val_acc: 0.8184\n",
      "Epoch 250/400\n",
      "39450/40000 [============================>.] - ETA: 0s - loss: 0.0017 - acc: 0.9801\n",
      "Epoch 00250: val_acc did not improve\n",
      "40000/40000 [==============================] - 4s 112us/step - loss: 0.0017 - acc: 0.9801 - val_loss: 0.0150 - val_acc: 0.8167\n",
      "Epoch 251/400\n",
      "39750/40000 [============================>.] - ETA: 0s - loss: 0.0017 - acc: 0.9802\n",
      "Epoch 00251: val_acc did not improve\n",
      "40000/40000 [==============================] - 4s 111us/step - loss: 0.0017 - acc: 0.9802 - val_loss: 0.0149 - val_acc: 0.8176\n",
      "Epoch 252/400\n",
      "39900/40000 [============================>.] - ETA: 0s - loss: 0.0017 - acc: 0.9801\n",
      "Epoch 00252: val_acc did not improve\n",
      "40000/40000 [==============================] - 8s 192us/step - loss: 0.0017 - acc: 0.9801 - val_loss: 0.0149 - val_acc: 0.8169\n",
      "Epoch 253/400\n",
      "39600/40000 [============================>.] - ETA: 0s - loss: 0.0017 - acc: 0.9804\n",
      "Epoch 00253: val_acc did not improve\n",
      "40000/40000 [==============================] - 8s 194us/step - loss: 0.0017 - acc: 0.9802 - val_loss: 0.0149 - val_acc: 0.8174\n",
      "Epoch 254/400\n",
      "39900/40000 [============================>.] - ETA: 0s - loss: 0.0017 - acc: 0.9802\n",
      "Epoch 00254: val_acc did not improve\n",
      "40000/40000 [==============================] - 8s 194us/step - loss: 0.0017 - acc: 0.9803 - val_loss: 0.0149 - val_acc: 0.8177\n",
      "Epoch 255/400\n",
      "39750/40000 [============================>.] - ETA: 0s - loss: 0.0017 - acc: 0.9802\n",
      "Epoch 00255: val_acc did not improve\n",
      "40000/40000 [==============================] - 8s 193us/step - loss: 0.0017 - acc: 0.9802 - val_loss: 0.0149 - val_acc: 0.8166\n",
      "Epoch 256/400\n",
      "39450/40000 [============================>.] - ETA: 0s - loss: 0.0017 - acc: 0.9803\n",
      "Epoch 00256: val_acc improved from 0.81880 to 0.81930, saving model to weights.best2.hdf5\n",
      "40000/40000 [==============================] - 6s 154us/step - loss: 0.0017 - acc: 0.9802 - val_loss: 0.0148 - val_acc: 0.8193\n",
      "Epoch 257/400\n",
      "39900/40000 [============================>.] - ETA: 0s - loss: 0.0017 - acc: 0.9802\n",
      "Epoch 00257: val_acc did not improve\n",
      "40000/40000 [==============================] - 4s 109us/step - loss: 0.0017 - acc: 0.9802 - val_loss: 0.0149 - val_acc: 0.8158\n",
      "Epoch 258/400\n",
      "39900/40000 [============================>.] - ETA: 0s - loss: 0.0017 - acc: 0.9803\n",
      "Epoch 00258: val_acc did not improve\n",
      "40000/40000 [==============================] - 6s 154us/step - loss: 0.0017 - acc: 0.9803 - val_loss: 0.0149 - val_acc: 0.8172\n",
      "Epoch 259/400\n",
      "39600/40000 [============================>.] - ETA: 0s - loss: 0.0017 - acc: 0.9803\n",
      "Epoch 00259: val_acc did not improve\n",
      "40000/40000 [==============================] - 6s 152us/step - loss: 0.0017 - acc: 0.9803 - val_loss: 0.0150 - val_acc: 0.8150\n",
      "Epoch 260/400\n",
      "39900/40000 [============================>.] - ETA: 0s - loss: 0.0017 - acc: 0.9804\n",
      "Epoch 00260: val_acc did not improve\n",
      "40000/40000 [==============================] - 5s 113us/step - loss: 0.0017 - acc: 0.9803 - val_loss: 0.0150 - val_acc: 0.8158\n",
      "Epoch 261/400\n",
      "39450/40000 [============================>.] - ETA: 0s - loss: 0.0017 - acc: 0.9805\n",
      "Epoch 00261: val_acc did not improve\n",
      "40000/40000 [==============================] - 5s 116us/step - loss: 0.0017 - acc: 0.9803 - val_loss: 0.0150 - val_acc: 0.8176\n",
      "Epoch 262/400\n",
      "39450/40000 [============================>.] - ETA: 0s - loss: 0.0017 - acc: 0.9805\n",
      "Epoch 00262: val_acc did not improve\n",
      "40000/40000 [==============================] - 5s 114us/step - loss: 0.0017 - acc: 0.9804 - val_loss: 0.0149 - val_acc: 0.8172\n",
      "Epoch 263/400\n",
      "39750/40000 [============================>.] - ETA: 0s - loss: 0.0017 - acc: 0.9805\n",
      "Epoch 00263: val_acc did not improve\n",
      "40000/40000 [==============================] - 5s 116us/step - loss: 0.0017 - acc: 0.9804 - val_loss: 0.0149 - val_acc: 0.8179\n",
      "Epoch 264/400\n",
      "39750/40000 [============================>.] - ETA: 0s - loss: 0.0017 - acc: 0.9805\n",
      "Epoch 00264: val_acc did not improve\n",
      "40000/40000 [==============================] - 5s 114us/step - loss: 0.0017 - acc: 0.9805 - val_loss: 0.0149 - val_acc: 0.8187\n",
      "Epoch 265/400\n",
      "39750/40000 [============================>.] - ETA: 0s - loss: 0.0017 - acc: 0.9804\n",
      "Epoch 00265: val_acc did not improve\n",
      "40000/40000 [==============================] - 5s 113us/step - loss: 0.0017 - acc: 0.9804 - val_loss: 0.0148 - val_acc: 0.8186\n"
     ]
    },
    {
     "name": "stdout",
     "output_type": "stream",
     "text": [
      "Epoch 266/400\n",
      "39600/40000 [============================>.] - ETA: 0s - loss: 0.0017 - acc: 0.9806\n",
      "Epoch 00266: val_acc did not improve\n",
      "40000/40000 [==============================] - 5s 113us/step - loss: 0.0017 - acc: 0.9805 - val_loss: 0.0148 - val_acc: 0.8183\n",
      "Epoch 267/400\n",
      "39750/40000 [============================>.] - ETA: 0s - loss: 0.0017 - acc: 0.9805\n",
      "Epoch 00267: val_acc did not improve\n",
      "40000/40000 [==============================] - 4s 109us/step - loss: 0.0017 - acc: 0.9805 - val_loss: 0.0149 - val_acc: 0.8179\n",
      "Epoch 268/400\n",
      "39450/40000 [============================>.] - ETA: 0s - loss: 0.0017 - acc: 0.9806\n",
      "Epoch 00268: val_acc did not improve\n",
      "40000/40000 [==============================] - 5s 115us/step - loss: 0.0016 - acc: 0.9806 - val_loss: 0.0150 - val_acc: 0.8165\n",
      "Epoch 269/400\n",
      "39750/40000 [============================>.] - ETA: 0s - loss: 0.0017 - acc: 0.9804\n",
      "Epoch 00269: val_acc did not improve\n",
      "40000/40000 [==============================] - 4s 109us/step - loss: 0.0017 - acc: 0.9805 - val_loss: 0.0149 - val_acc: 0.8177\n",
      "Epoch 270/400\n",
      "39750/40000 [============================>.] - ETA: 0s - loss: 0.0017 - acc: 0.9806\n",
      "Epoch 00270: val_acc did not improve\n",
      "40000/40000 [==============================] - 4s 108us/step - loss: 0.0016 - acc: 0.9807 - val_loss: 0.0149 - val_acc: 0.8182\n",
      "Epoch 271/400\n",
      "39750/40000 [============================>.] - ETA: 0s - loss: 0.0016 - acc: 0.9807\n",
      "Epoch 00271: val_acc did not improve\n",
      "40000/40000 [==============================] - 5s 137us/step - loss: 0.0016 - acc: 0.9807 - val_loss: 0.0148 - val_acc: 0.8193\n",
      "Epoch 272/400\n",
      "39750/40000 [============================>.] - ETA: 0s - loss: 0.0016 - acc: 0.9807\n",
      "Epoch 00272: val_acc did not improve\n",
      "40000/40000 [==============================] - 6s 143us/step - loss: 0.0016 - acc: 0.9807 - val_loss: 0.0150 - val_acc: 0.8162\n",
      "Epoch 273/400\n",
      "39750/40000 [============================>.] - ETA: 0s - loss: 0.0016 - acc: 0.9807\n",
      "Epoch 00273: val_acc did not improve\n",
      "40000/40000 [==============================] - 6s 143us/step - loss: 0.0016 - acc: 0.9807 - val_loss: 0.0150 - val_acc: 0.8158\n",
      "Epoch 274/400\n",
      "39750/40000 [============================>.] - ETA: 0s - loss: 0.0016 - acc: 0.9807\n",
      "Epoch 00274: val_acc did not improve\n",
      "40000/40000 [==============================] - 6s 142us/step - loss: 0.0016 - acc: 0.9806 - val_loss: 0.0148 - val_acc: 0.8177\n",
      "Epoch 275/400\n",
      "39600/40000 [============================>.] - ETA: 0s - loss: 0.0016 - acc: 0.9806\n",
      "Epoch 00275: val_acc did not improve\n",
      "40000/40000 [==============================] - 5s 118us/step - loss: 0.0016 - acc: 0.9807 - val_loss: 0.0148 - val_acc: 0.8178\n",
      "Epoch 276/400\n",
      "39600/40000 [============================>.] - ETA: 0s - loss: 0.0016 - acc: 0.9808\n",
      "Epoch 00276: val_acc did not improve\n",
      "40000/40000 [==============================] - 5s 115us/step - loss: 0.0016 - acc: 0.9807 - val_loss: 0.0149 - val_acc: 0.8184\n",
      "Epoch 277/400\n",
      "39900/40000 [============================>.] - ETA: 0s - loss: 0.0016 - acc: 0.9807\n",
      "Epoch 00277: val_acc did not improve\n",
      "40000/40000 [==============================] - 5s 114us/step - loss: 0.0016 - acc: 0.9807 - val_loss: 0.0148 - val_acc: 0.8185\n",
      "Epoch 278/400\n",
      "39900/40000 [============================>.] - ETA: 0s - loss: 0.0016 - acc: 0.9807\n",
      "Epoch 00278: val_acc did not improve\n",
      "40000/40000 [==============================] - 5s 116us/step - loss: 0.0016 - acc: 0.9807 - val_loss: 0.0149 - val_acc: 0.8156\n",
      "Epoch 279/400\n",
      "39600/40000 [============================>.] - ETA: 0s - loss: 0.0017 - acc: 0.9806\n",
      "Epoch 00279: val_acc did not improve\n",
      "40000/40000 [==============================] - 5s 119us/step - loss: 0.0016 - acc: 0.9807 - val_loss: 0.0149 - val_acc: 0.8164\n",
      "Epoch 280/400\n",
      "39600/40000 [============================>.] - ETA: 0s - loss: 0.0016 - acc: 0.9808\n",
      "Epoch 00280: val_acc did not improve\n",
      "40000/40000 [==============================] - 5s 115us/step - loss: 0.0016 - acc: 0.9808 - val_loss: 0.0148 - val_acc: 0.8177\n",
      "Epoch 281/400\n",
      "39900/40000 [============================>.] - ETA: 0s - loss: 0.0016 - acc: 0.9808\n",
      "Epoch 00281: val_acc did not improve\n",
      "40000/40000 [==============================] - 5s 114us/step - loss: 0.0016 - acc: 0.9808 - val_loss: 0.0148 - val_acc: 0.8181\n",
      "Epoch 282/400\n",
      "39600/40000 [============================>.] - ETA: 0s - loss: 0.0016 - acc: 0.9807\n",
      "Epoch 00282: val_acc did not improve\n",
      "40000/40000 [==============================] - 4s 112us/step - loss: 0.0016 - acc: 0.9807 - val_loss: 0.0149 - val_acc: 0.8172\n",
      "Epoch 283/400\n",
      "39750/40000 [============================>.] - ETA: 0s - loss: 0.0016 - acc: 0.9808\n",
      "Epoch 00283: val_acc did not improve\n",
      "40000/40000 [==============================] - 5s 114us/step - loss: 0.0016 - acc: 0.9808 - val_loss: 0.0150 - val_acc: 0.8154\n",
      "Epoch 284/400\n",
      "39600/40000 [============================>.] - ETA: 0s - loss: 0.0016 - acc: 0.9807\n",
      "Epoch 00284: val_acc did not improve\n",
      "40000/40000 [==============================] - 5s 114us/step - loss: 0.0016 - acc: 0.9807 - val_loss: 0.0148 - val_acc: 0.8180\n",
      "Epoch 285/400\n",
      "39750/40000 [============================>.] - ETA: 0s - loss: 0.0016 - acc: 0.9809\n",
      "Epoch 00285: val_acc did not improve\n",
      "40000/40000 [==============================] - 4s 112us/step - loss: 0.0016 - acc: 0.9809 - val_loss: 0.0150 - val_acc: 0.8166\n",
      "Epoch 286/400\n",
      "39750/40000 [============================>.] - ETA: 0s - loss: 0.0016 - acc: 0.9808\n",
      "Epoch 00286: val_acc did not improve\n",
      "40000/40000 [==============================] - 5s 116us/step - loss: 0.0016 - acc: 0.9808 - val_loss: 0.0149 - val_acc: 0.8178\n",
      "Epoch 287/400\n",
      "39450/40000 [============================>.] - ETA: 0s - loss: 0.0016 - acc: 0.9809\n",
      "Epoch 00287: val_acc improved from 0.81930 to 0.81940, saving model to weights.best2.hdf5\n",
      "40000/40000 [==============================] - 5s 115us/step - loss: 0.0016 - acc: 0.9809 - val_loss: 0.0148 - val_acc: 0.8194\n",
      "Epoch 288/400\n",
      "39900/40000 [============================>.] - ETA: 0s - loss: 0.0016 - acc: 0.9808\n",
      "Epoch 00288: val_acc did not improve\n",
      "40000/40000 [==============================] - 5s 113us/step - loss: 0.0016 - acc: 0.9809 - val_loss: 0.0150 - val_acc: 0.8176\n",
      "Epoch 289/400\n",
      "39600/40000 [============================>.] - ETA: 0s - loss: 0.0016 - acc: 0.9809\n",
      "Epoch 00289: val_acc did not improve\n",
      "40000/40000 [==============================] - 5s 115us/step - loss: 0.0016 - acc: 0.9809 - val_loss: 0.0149 - val_acc: 0.8185\n",
      "Epoch 290/400\n",
      "39750/40000 [============================>.] - ETA: 0s - loss: 0.0016 - acc: 0.9810\n",
      "Epoch 00290: val_acc improved from 0.81940 to 0.81960, saving model to weights.best2.hdf5\n",
      "40000/40000 [==============================] - 5s 114us/step - loss: 0.0016 - acc: 0.9810 - val_loss: 0.0148 - val_acc: 0.8196\n",
      "Epoch 291/400\n",
      "39750/40000 [============================>.] - ETA: 0s - loss: 0.0016 - acc: 0.9809\n",
      "Epoch 00291: val_acc did not improve\n",
      "40000/40000 [==============================] - 4s 111us/step - loss: 0.0016 - acc: 0.9810 - val_loss: 0.0148 - val_acc: 0.8185\n",
      "Epoch 292/400\n",
      "39450/40000 [============================>.] - ETA: 0s - loss: 0.0016 - acc: 0.9808\n",
      "Epoch 00292: val_acc did not improve\n",
      "40000/40000 [==============================] - 5s 115us/step - loss: 0.0016 - acc: 0.9809 - val_loss: 0.0149 - val_acc: 0.8177\n",
      "Epoch 293/400\n",
      "39900/40000 [============================>.] - ETA: 0s - loss: 0.0016 - acc: 0.9810\n",
      "Epoch 00293: val_acc did not improve\n",
      "40000/40000 [==============================] - 5s 114us/step - loss: 0.0016 - acc: 0.9810 - val_loss: 0.0149 - val_acc: 0.8169\n",
      "Epoch 294/400\n",
      "39900/40000 [============================>.] - ETA: 0s - loss: 0.0016 - acc: 0.9810\n",
      "Epoch 00294: val_acc did not improve\n",
      "40000/40000 [==============================] - 5s 115us/step - loss: 0.0016 - acc: 0.9810 - val_loss: 0.0148 - val_acc: 0.8169\n",
      "Epoch 295/400\n",
      "39600/40000 [============================>.] - ETA: 0s - loss: 0.0016 - acc: 0.9811\n",
      "Epoch 00295: val_acc did not improve\n",
      "40000/40000 [==============================] - 5s 114us/step - loss: 0.0016 - acc: 0.9810 - val_loss: 0.0148 - val_acc: 0.8193\n",
      "Epoch 296/400\n",
      "39750/40000 [============================>.] - ETA: 0s - loss: 0.0016 - acc: 0.9810\n",
      "Epoch 00296: val_acc did not improve\n",
      "40000/40000 [==============================] - 5s 113us/step - loss: 0.0016 - acc: 0.9811 - val_loss: 0.0148 - val_acc: 0.8185\n"
     ]
    },
    {
     "name": "stdout",
     "output_type": "stream",
     "text": [
      "Epoch 297/400\n",
      "39900/40000 [============================>.] - ETA: 0s - loss: 0.0016 - acc: 0.9811\n",
      "Epoch 00297: val_acc did not improve\n",
      "40000/40000 [==============================] - 5s 113us/step - loss: 0.0016 - acc: 0.9811 - val_loss: 0.0148 - val_acc: 0.8194\n",
      "Epoch 298/400\n",
      "39450/40000 [============================>.] - ETA: 0s - loss: 0.0016 - acc: 0.9810\n",
      "Epoch 00298: val_acc did not improve\n",
      "40000/40000 [==============================] - 5s 114us/step - loss: 0.0016 - acc: 0.9811 - val_loss: 0.0149 - val_acc: 0.8176\n",
      "Epoch 299/400\n",
      "39750/40000 [============================>.] - ETA: 0s - loss: 0.0016 - acc: 0.9810\n",
      "Epoch 00299: val_acc did not improve\n",
      "40000/40000 [==============================] - 5s 118us/step - loss: 0.0016 - acc: 0.9810 - val_loss: 0.0149 - val_acc: 0.8172\n",
      "Epoch 300/400\n",
      "39450/40000 [============================>.] - ETA: 0s - loss: 0.0016 - acc: 0.9810\n",
      "Epoch 00300: val_acc did not improve\n",
      "40000/40000 [==============================] - 5s 114us/step - loss: 0.0016 - acc: 0.9811 - val_loss: 0.0149 - val_acc: 0.8178\n",
      "Epoch 301/400\n",
      "39450/40000 [============================>.] - ETA: 0s - loss: 0.0016 - acc: 0.9812\n",
      "Epoch 00301: val_acc did not improve\n",
      "40000/40000 [==============================] - 5s 115us/step - loss: 0.0016 - acc: 0.9811 - val_loss: 0.0149 - val_acc: 0.8174\n",
      "Epoch 302/400\n",
      "39600/40000 [============================>.] - ETA: 0s - loss: 0.0016 - acc: 0.9811\n",
      "Epoch 00302: val_acc did not improve\n",
      "40000/40000 [==============================] - 4s 112us/step - loss: 0.0016 - acc: 0.9811 - val_loss: 0.0149 - val_acc: 0.8171\n",
      "Epoch 303/400\n",
      "39450/40000 [============================>.] - ETA: 0s - loss: 0.0016 - acc: 0.9811\n",
      "Epoch 00303: val_acc did not improve\n",
      "40000/40000 [==============================] - 5s 113us/step - loss: 0.0016 - acc: 0.9811 - val_loss: 0.0149 - val_acc: 0.8184\n",
      "Epoch 304/400\n",
      "39750/40000 [============================>.] - ETA: 0s - loss: 0.0016 - acc: 0.9811\n",
      "Epoch 00304: val_acc did not improve\n",
      "40000/40000 [==============================] - 4s 112us/step - loss: 0.0016 - acc: 0.9812 - val_loss: 0.0148 - val_acc: 0.8188\n",
      "Epoch 305/400\n",
      "39450/40000 [============================>.] - ETA: 0s - loss: 0.0016 - acc: 0.9811\n",
      "Epoch 00305: val_acc did not improve\n",
      "40000/40000 [==============================] - 5s 115us/step - loss: 0.0016 - acc: 0.9811 - val_loss: 0.0149 - val_acc: 0.8190\n",
      "Epoch 306/400\n",
      "39750/40000 [============================>.] - ETA: 0s - loss: 0.0016 - acc: 0.9811\n",
      "Epoch 00306: val_acc did not improve\n",
      "40000/40000 [==============================] - 5s 113us/step - loss: 0.0016 - acc: 0.9811 - val_loss: 0.0149 - val_acc: 0.8172\n",
      "Epoch 307/400\n",
      "39450/40000 [============================>.] - ETA: 0s - loss: 0.0016 - acc: 0.9812\n",
      "Epoch 00307: val_acc did not improve\n",
      "40000/40000 [==============================] - 5s 114us/step - loss: 0.0016 - acc: 0.9812 - val_loss: 0.0149 - val_acc: 0.8189\n",
      "Epoch 308/400\n",
      "39900/40000 [============================>.] - ETA: 0s - loss: 0.0016 - acc: 0.9812\n",
      "Epoch 00308: val_acc did not improve\n",
      "40000/40000 [==============================] - 5s 116us/step - loss: 0.0016 - acc: 0.9812 - val_loss: 0.0149 - val_acc: 0.8174\n",
      "Epoch 309/400\n",
      "39450/40000 [============================>.] - ETA: 0s - loss: 0.0016 - acc: 0.9810\n",
      "Epoch 00309: val_acc did not improve\n",
      "40000/40000 [==============================] - 4s 112us/step - loss: 0.0016 - acc: 0.9812 - val_loss: 0.0149 - val_acc: 0.8167\n",
      "Epoch 310/400\n",
      "39450/40000 [============================>.] - ETA: 0s - loss: 0.0016 - acc: 0.9812\n",
      "Epoch 00310: val_acc did not improve\n",
      "40000/40000 [==============================] - 5s 115us/step - loss: 0.0016 - acc: 0.9811 - val_loss: 0.0148 - val_acc: 0.8192\n",
      "Epoch 311/400\n",
      "39450/40000 [============================>.] - ETA: 0s - loss: 0.0016 - acc: 0.9811\n",
      "Epoch 00311: val_acc did not improve\n",
      "40000/40000 [==============================] - 5s 113us/step - loss: 0.0016 - acc: 0.9812 - val_loss: 0.0149 - val_acc: 0.8189\n",
      "Epoch 312/400\n",
      "39900/40000 [============================>.] - ETA: 0s - loss: 0.0016 - acc: 0.9812\n",
      "Epoch 00312: val_acc did not improve\n",
      "40000/40000 [==============================] - 4s 112us/step - loss: 0.0016 - acc: 0.9812 - val_loss: 0.0151 - val_acc: 0.8155\n",
      "Epoch 313/400\n",
      "39600/40000 [============================>.] - ETA: 0s - loss: 0.0016 - acc: 0.9812\n",
      "Epoch 00313: val_acc did not improve\n",
      "40000/40000 [==============================] - 4s 111us/step - loss: 0.0016 - acc: 0.9813 - val_loss: 0.0149 - val_acc: 0.8170\n",
      "Epoch 314/400\n",
      "39450/40000 [============================>.] - ETA: 0s - loss: 0.0016 - acc: 0.9813\n",
      "Epoch 00314: val_acc did not improve\n",
      "40000/40000 [==============================] - 4s 108us/step - loss: 0.0016 - acc: 0.9812 - val_loss: 0.0150 - val_acc: 0.8145\n",
      "Epoch 315/400\n",
      "39600/40000 [============================>.] - ETA: 0s - loss: 0.0016 - acc: 0.9812\n",
      "Epoch 00315: val_acc did not improve\n",
      "40000/40000 [==============================] - 5s 119us/step - loss: 0.0016 - acc: 0.9813 - val_loss: 0.0149 - val_acc: 0.8180\n",
      "Epoch 316/400\n",
      "39750/40000 [============================>.] - ETA: 0s - loss: 0.0016 - acc: 0.9812\n",
      "Epoch 00316: val_acc did not improve\n",
      "40000/40000 [==============================] - 6s 139us/step - loss: 0.0016 - acc: 0.9813 - val_loss: 0.0149 - val_acc: 0.8173\n",
      "Epoch 317/400\n",
      "39750/40000 [============================>.] - ETA: 0s - loss: 0.0016 - acc: 0.9813\n",
      "Epoch 00317: val_acc did not improve\n",
      "40000/40000 [==============================] - 6s 139us/step - loss: 0.0016 - acc: 0.9813 - val_loss: 0.0148 - val_acc: 0.8169\n",
      "Epoch 318/400\n",
      "39750/40000 [============================>.] - ETA: 0s - loss: 0.0016 - acc: 0.9814\n",
      "Epoch 00318: val_acc did not improve\n",
      "40000/40000 [==============================] - 6s 144us/step - loss: 0.0016 - acc: 0.9813 - val_loss: 0.0148 - val_acc: 0.8171\n",
      "Epoch 319/400\n",
      "39900/40000 [============================>.] - ETA: 0s - loss: 0.0016 - acc: 0.9814\n",
      "Epoch 00319: val_acc did not improve\n",
      "40000/40000 [==============================] - 5s 136us/step - loss: 0.0016 - acc: 0.9813 - val_loss: 0.0148 - val_acc: 0.8185\n",
      "Epoch 320/400\n",
      "39450/40000 [============================>.] - ETA: 0s - loss: 0.0016 - acc: 0.9814\n",
      "Epoch 00320: val_acc did not improve\n",
      "40000/40000 [==============================] - 4s 112us/step - loss: 0.0016 - acc: 0.9813 - val_loss: 0.0148 - val_acc: 0.8185\n",
      "Epoch 321/400\n",
      "39750/40000 [============================>.] - ETA: 0s - loss: 0.0016 - acc: 0.9813\n",
      "Epoch 00321: val_acc did not improve\n",
      "40000/40000 [==============================] - 5s 125us/step - loss: 0.0016 - acc: 0.9814 - val_loss: 0.0149 - val_acc: 0.8179\n",
      "Epoch 322/400\n",
      "39750/40000 [============================>.] - ETA: 0s - loss: 0.0016 - acc: 0.9814\n",
      "Epoch 00322: val_acc did not improve\n",
      "40000/40000 [==============================] - 6s 141us/step - loss: 0.0016 - acc: 0.9814 - val_loss: 0.0149 - val_acc: 0.8167\n",
      "Epoch 323/400\n",
      "39750/40000 [============================>.] - ETA: 0s - loss: 0.0016 - acc: 0.9814\n",
      "Epoch 00323: val_acc did not improve\n",
      "40000/40000 [==============================] - 5s 118us/step - loss: 0.0016 - acc: 0.9814 - val_loss: 0.0148 - val_acc: 0.8179\n",
      "Epoch 324/400\n",
      "39600/40000 [============================>.] - ETA: 0s - loss: 0.0016 - acc: 0.9815\n",
      "Epoch 00324: val_acc did not improve\n",
      "40000/40000 [==============================] - 5s 118us/step - loss: 0.0016 - acc: 0.9814 - val_loss: 0.0149 - val_acc: 0.8170\n",
      "Epoch 325/400\n",
      "39600/40000 [============================>.] - ETA: 0s - loss: 0.0016 - acc: 0.9813\n",
      "Epoch 00325: val_acc did not improve\n",
      "40000/40000 [==============================] - 5s 117us/step - loss: 0.0016 - acc: 0.9814 - val_loss: 0.0150 - val_acc: 0.8167\n",
      "Epoch 326/400\n",
      "39600/40000 [============================>.] - ETA: 0s - loss: 0.0016 - acc: 0.9814\n",
      "Epoch 00326: val_acc did not improve\n",
      "40000/40000 [==============================] - 5s 114us/step - loss: 0.0016 - acc: 0.9814 - val_loss: 0.0149 - val_acc: 0.8175\n",
      "Epoch 327/400\n",
      "39900/40000 [============================>.] - ETA: 0s - loss: 0.0016 - acc: 0.9815\n",
      "Epoch 00327: val_acc did not improve\n",
      "40000/40000 [==============================] - 5s 113us/step - loss: 0.0016 - acc: 0.9815 - val_loss: 0.0150 - val_acc: 0.8163\n",
      "Epoch 328/400\n"
     ]
    },
    {
     "name": "stdout",
     "output_type": "stream",
     "text": [
      "39600/40000 [============================>.] - ETA: 0s - loss: 0.0016 - acc: 0.9815\n",
      "Epoch 00328: val_acc did not improve\n",
      "40000/40000 [==============================] - 5s 116us/step - loss: 0.0016 - acc: 0.9815 - val_loss: 0.0149 - val_acc: 0.8173\n",
      "Epoch 329/400\n",
      "39900/40000 [============================>.] - ETA: 0s - loss: 0.0016 - acc: 0.9815\n",
      "Epoch 00329: val_acc did not improve\n",
      "40000/40000 [==============================] - 5s 114us/step - loss: 0.0016 - acc: 0.9815 - val_loss: 0.0148 - val_acc: 0.8178\n",
      "Epoch 330/400\n",
      "39750/40000 [============================>.] - ETA: 0s - loss: 0.0016 - acc: 0.9815\n",
      "Epoch 00330: val_acc did not improve\n",
      "40000/40000 [==============================] - 5s 114us/step - loss: 0.0016 - acc: 0.9815 - val_loss: 0.0149 - val_acc: 0.8175\n",
      "Epoch 331/400\n",
      "39750/40000 [============================>.] - ETA: 0s - loss: 0.0016 - acc: 0.9815\n",
      "Epoch 00331: val_acc did not improve\n",
      "40000/40000 [==============================] - 5s 115us/step - loss: 0.0016 - acc: 0.9815 - val_loss: 0.0148 - val_acc: 0.8185\n",
      "Epoch 332/400\n",
      "39600/40000 [============================>.] - ETA: 0s - loss: 0.0016 - acc: 0.9816\n",
      "Epoch 00332: val_acc did not improve\n",
      "40000/40000 [==============================] - 4s 111us/step - loss: 0.0016 - acc: 0.9815 - val_loss: 0.0150 - val_acc: 0.8162\n",
      "Epoch 333/400\n",
      "39900/40000 [============================>.] - ETA: 0s - loss: 0.0015 - acc: 0.9816\n",
      "Epoch 00333: val_acc did not improve\n",
      "40000/40000 [==============================] - 5s 115us/step - loss: 0.0016 - acc: 0.9816 - val_loss: 0.0148 - val_acc: 0.8190\n",
      "Epoch 334/400\n",
      "39600/40000 [============================>.] - ETA: 0s - loss: 0.0016 - acc: 0.9815\n",
      "Epoch 00334: val_acc did not improve\n",
      "40000/40000 [==============================] - 4s 112us/step - loss: 0.0016 - acc: 0.9816 - val_loss: 0.0148 - val_acc: 0.8175\n",
      "Epoch 335/400\n",
      "39450/40000 [============================>.] - ETA: 0s - loss: 0.0015 - acc: 0.9817\n",
      "Epoch 00335: val_acc did not improve\n",
      "40000/40000 [==============================] - 5s 116us/step - loss: 0.0016 - acc: 0.9816 - val_loss: 0.0148 - val_acc: 0.8189\n",
      "Epoch 336/400\n",
      "39900/40000 [============================>.] - ETA: 0s - loss: 0.0016 - acc: 0.9816\n",
      "Epoch 00336: val_acc did not improve\n",
      "40000/40000 [==============================] - 5s 115us/step - loss: 0.0016 - acc: 0.9816 - val_loss: 0.0148 - val_acc: 0.8179\n",
      "Epoch 337/400\n",
      "39900/40000 [============================>.] - ETA: 0s - loss: 0.0016 - acc: 0.9816\n",
      "Epoch 00337: val_acc did not improve\n",
      "40000/40000 [==============================] - 5s 115us/step - loss: 0.0016 - acc: 0.9817 - val_loss: 0.0148 - val_acc: 0.8177\n",
      "Epoch 338/400\n",
      "39750/40000 [============================>.] - ETA: 0s - loss: 0.0015 - acc: 0.9817\n",
      "Epoch 00338: val_acc did not improve\n",
      "40000/40000 [==============================] - 5s 118us/step - loss: 0.0016 - acc: 0.9817 - val_loss: 0.0148 - val_acc: 0.8176\n",
      "Epoch 339/400\n",
      "39450/40000 [============================>.] - ETA: 0s - loss: 0.0015 - acc: 0.9817\n",
      "Epoch 00339: val_acc did not improve\n",
      "40000/40000 [==============================] - 5s 114us/step - loss: 0.0016 - acc: 0.9817 - val_loss: 0.0149 - val_acc: 0.8171\n",
      "Epoch 340/400\n",
      "39750/40000 [============================>.] - ETA: 0s - loss: 0.0015 - acc: 0.9816\n",
      "Epoch 00340: val_acc did not improve\n",
      "40000/40000 [==============================] - 5s 115us/step - loss: 0.0015 - acc: 0.9817 - val_loss: 0.0150 - val_acc: 0.8176\n",
      "Epoch 341/400\n",
      "39900/40000 [============================>.] - ETA: 0s - loss: 0.0015 - acc: 0.9817\n",
      "Epoch 00341: val_acc did not improve\n",
      "40000/40000 [==============================] - 5s 113us/step - loss: 0.0015 - acc: 0.9817 - val_loss: 0.0150 - val_acc: 0.8155\n",
      "Epoch 342/400\n",
      "39750/40000 [============================>.] - ETA: 0s - loss: 0.0015 - acc: 0.9818\n",
      "Epoch 00342: val_acc did not improve\n",
      "40000/40000 [==============================] - 5s 113us/step - loss: 0.0015 - acc: 0.9818 - val_loss: 0.0148 - val_acc: 0.8189\n",
      "Epoch 343/400\n",
      "39450/40000 [============================>.] - ETA: 0s - loss: 0.0015 - acc: 0.9818\n",
      "Epoch 00343: val_acc improved from 0.81960 to 0.82040, saving model to weights.best2.hdf5\n",
      "40000/40000 [==============================] - 5s 116us/step - loss: 0.0015 - acc: 0.9818 - val_loss: 0.0148 - val_acc: 0.8204\n",
      "Epoch 344/400\n",
      "39450/40000 [============================>.] - ETA: 0s - loss: 0.0015 - acc: 0.9819\n",
      "Epoch 00344: val_acc did not improve\n",
      "40000/40000 [==============================] - 5s 113us/step - loss: 0.0015 - acc: 0.9818 - val_loss: 0.0148 - val_acc: 0.8184\n",
      "Epoch 345/400\n",
      "39600/40000 [============================>.] - ETA: 0s - loss: 0.0015 - acc: 0.9819\n",
      "Epoch 00345: val_acc did not improve\n",
      "40000/40000 [==============================] - 4s 111us/step - loss: 0.0015 - acc: 0.9818 - val_loss: 0.0149 - val_acc: 0.8182\n",
      "Epoch 346/400\n",
      "39750/40000 [============================>.] - ETA: 0s - loss: 0.0015 - acc: 0.9818\n",
      "Epoch 00346: val_acc did not improve\n",
      "40000/40000 [==============================] - 4s 111us/step - loss: 0.0015 - acc: 0.9818 - val_loss: 0.0148 - val_acc: 0.8194\n",
      "Epoch 347/400\n",
      "39450/40000 [============================>.] - ETA: 0s - loss: 0.0015 - acc: 0.9819\n",
      "Epoch 00347: val_acc did not improve\n",
      "40000/40000 [==============================] - 5s 114us/step - loss: 0.0015 - acc: 0.9818 - val_loss: 0.0150 - val_acc: 0.8172\n",
      "Epoch 348/400\n",
      "39600/40000 [============================>.] - ETA: 0s - loss: 0.0015 - acc: 0.9818\n",
      "Epoch 00348: val_acc did not improve\n",
      "40000/40000 [==============================] - 5s 116us/step - loss: 0.0015 - acc: 0.9818 - val_loss: 0.0149 - val_acc: 0.8183\n",
      "Epoch 349/400\n",
      "39600/40000 [============================>.] - ETA: 0s - loss: 0.0015 - acc: 0.9817\n",
      "Epoch 00349: val_acc did not improve\n",
      "40000/40000 [==============================] - 5s 113us/step - loss: 0.0015 - acc: 0.9818 - val_loss: 0.0148 - val_acc: 0.8180\n",
      "Epoch 350/400\n",
      "39450/40000 [============================>.] - ETA: 0s - loss: 0.0015 - acc: 0.9819\n",
      "Epoch 00350: val_acc did not improve\n",
      "40000/40000 [==============================] - 4s 110us/step - loss: 0.0015 - acc: 0.9819 - val_loss: 0.0149 - val_acc: 0.8166\n",
      "Epoch 351/400\n",
      "39900/40000 [============================>.] - ETA: 0s - loss: 0.0015 - acc: 0.9819\n",
      "Epoch 00351: val_acc did not improve\n",
      "40000/40000 [==============================] - 4s 109us/step - loss: 0.0015 - acc: 0.9819 - val_loss: 0.0148 - val_acc: 0.8196\n",
      "Epoch 352/400\n",
      "39750/40000 [============================>.] - ETA: 0s - loss: 0.0015 - acc: 0.9819\n",
      "Epoch 00352: val_acc did not improve\n",
      "40000/40000 [==============================] - 5s 116us/step - loss: 0.0015 - acc: 0.9818 - val_loss: 0.0148 - val_acc: 0.8191\n",
      "Epoch 353/400\n",
      "39750/40000 [============================>.] - ETA: 0s - loss: 0.0015 - acc: 0.9819\n",
      "Epoch 00353: val_acc did not improve\n",
      "40000/40000 [==============================] - 5s 129us/step - loss: 0.0015 - acc: 0.9819 - val_loss: 0.0148 - val_acc: 0.8197\n",
      "Epoch 354/400\n",
      "39600/40000 [============================>.] - ETA: 0s - loss: 0.0015 - acc: 0.9818\n",
      "Epoch 00354: val_acc did not improve\n",
      "40000/40000 [==============================] - 5s 123us/step - loss: 0.0015 - acc: 0.9819 - val_loss: 0.0149 - val_acc: 0.8172\n",
      "Epoch 355/400\n",
      "39900/40000 [============================>.] - ETA: 0s - loss: 0.0015 - acc: 0.9819\n",
      "Epoch 00355: val_acc did not improve\n",
      "40000/40000 [==============================] - 4s 110us/step - loss: 0.0015 - acc: 0.9819 - val_loss: 0.0149 - val_acc: 0.8162\n",
      "Epoch 356/400\n",
      "39750/40000 [============================>.] - ETA: 0s - loss: 0.0015 - acc: 0.9819\n",
      "Epoch 00356: val_acc did not improve\n",
      "40000/40000 [==============================] - 5s 120us/step - loss: 0.0015 - acc: 0.9819 - val_loss: 0.0149 - val_acc: 0.8170\n",
      "Epoch 357/400\n",
      "39750/40000 [============================>.] - ETA: 0s - loss: 0.0015 - acc: 0.9819\n",
      "Epoch 00357: val_acc did not improve\n",
      "40000/40000 [==============================] - 5s 129us/step - loss: 0.0015 - acc: 0.9819 - val_loss: 0.0149 - val_acc: 0.8191\n",
      "Epoch 358/400\n",
      "39900/40000 [============================>.] - ETA: 0s - loss: 0.0015 - acc: 0.9819\n",
      "Epoch 00358: val_acc did not improve\n",
      "40000/40000 [==============================] - 5s 121us/step - loss: 0.0015 - acc: 0.9819 - val_loss: 0.0149 - val_acc: 0.8169\n",
      "Epoch 359/400\n"
     ]
    },
    {
     "name": "stdout",
     "output_type": "stream",
     "text": [
      "39750/40000 [============================>.] - ETA: 0s - loss: 0.0015 - acc: 0.9819\n",
      "Epoch 00359: val_acc did not improve\n",
      "40000/40000 [==============================] - 4s 108us/step - loss: 0.0015 - acc: 0.9819 - val_loss: 0.0148 - val_acc: 0.8182\n",
      "Epoch 360/400\n",
      "39750/40000 [============================>.] - ETA: 0s - loss: 0.0015 - acc: 0.9819\n",
      "Epoch 00360: val_acc did not improve\n",
      "40000/40000 [==============================] - 5s 123us/step - loss: 0.0015 - acc: 0.9819 - val_loss: 0.0148 - val_acc: 0.8176\n",
      "Epoch 361/400\n",
      "39750/40000 [============================>.] - ETA: 0s - loss: 0.0015 - acc: 0.9818\n",
      "Epoch 00361: val_acc did not improve\n",
      "40000/40000 [==============================] - 5s 130us/step - loss: 0.0015 - acc: 0.9819 - val_loss: 0.0148 - val_acc: 0.8197\n",
      "Epoch 362/400\n",
      "39450/40000 [============================>.] - ETA: 0s - loss: 0.0015 - acc: 0.9819\n",
      "Epoch 00362: val_acc did not improve\n",
      "40000/40000 [==============================] - 5s 125us/step - loss: 0.0015 - acc: 0.9819 - val_loss: 0.0148 - val_acc: 0.8185\n",
      "Epoch 363/400\n",
      "39450/40000 [============================>.] - ETA: 0s - loss: 0.0015 - acc: 0.9820\n",
      "Epoch 00363: val_acc did not improve\n",
      "40000/40000 [==============================] - 5s 114us/step - loss: 0.0015 - acc: 0.9819 - val_loss: 0.0149 - val_acc: 0.8187\n",
      "Epoch 364/400\n",
      "39450/40000 [============================>.] - ETA: 0s - loss: 0.0015 - acc: 0.9819\n",
      "Epoch 00364: val_acc did not improve\n",
      "40000/40000 [==============================] - 5s 116us/step - loss: 0.0015 - acc: 0.9820 - val_loss: 0.0148 - val_acc: 0.8184\n",
      "Epoch 365/400\n",
      "39750/40000 [============================>.] - ETA: 0s - loss: 0.0015 - acc: 0.9820\n",
      "Epoch 00365: val_acc did not improve\n",
      "40000/40000 [==============================] - 5s 113us/step - loss: 0.0015 - acc: 0.9820 - val_loss: 0.0147 - val_acc: 0.8193\n",
      "Epoch 366/400\n",
      "39600/40000 [============================>.] - ETA: 0s - loss: 0.0015 - acc: 0.9820\n",
      "Epoch 00366: val_acc improved from 0.82040 to 0.82070, saving model to weights.best2.hdf5\n",
      "40000/40000 [==============================] - 5s 115us/step - loss: 0.0015 - acc: 0.9820 - val_loss: 0.0147 - val_acc: 0.8207\n",
      "Epoch 367/400\n",
      "39750/40000 [============================>.] - ETA: 0s - loss: 0.0015 - acc: 0.9819\n",
      "Epoch 00367: val_acc did not improve\n",
      "40000/40000 [==============================] - 5s 115us/step - loss: 0.0015 - acc: 0.9820 - val_loss: 0.0148 - val_acc: 0.8194\n",
      "Epoch 368/400\n",
      "39750/40000 [============================>.] - ETA: 0s - loss: 0.0015 - acc: 0.9819\n",
      "Epoch 00368: val_acc did not improve\n",
      "40000/40000 [==============================] - 5s 115us/step - loss: 0.0015 - acc: 0.9820 - val_loss: 0.0148 - val_acc: 0.8187\n",
      "Epoch 369/400\n",
      "39900/40000 [============================>.] - ETA: 0s - loss: 0.0015 - acc: 0.9820\n",
      "Epoch 00369: val_acc did not improve\n",
      "40000/40000 [==============================] - 5s 113us/step - loss: 0.0015 - acc: 0.9819 - val_loss: 0.0149 - val_acc: 0.8182\n",
      "Epoch 370/400\n",
      "39900/40000 [============================>.] - ETA: 0s - loss: 0.0015 - acc: 0.9820\n",
      "Epoch 00370: val_acc did not improve\n",
      "40000/40000 [==============================] - 5s 114us/step - loss: 0.0015 - acc: 0.9821 - val_loss: 0.0148 - val_acc: 0.8195\n",
      "Epoch 371/400\n",
      "39450/40000 [============================>.] - ETA: 0s - loss: 0.0015 - acc: 0.9820\n",
      "Epoch 00371: val_acc did not improve\n",
      "40000/40000 [==============================] - 5s 114us/step - loss: 0.0015 - acc: 0.9821 - val_loss: 0.0149 - val_acc: 0.8168\n",
      "Epoch 372/400\n",
      "39900/40000 [============================>.] - ETA: 0s - loss: 0.0015 - acc: 0.9820\n",
      "Epoch 00372: val_acc did not improve\n",
      "40000/40000 [==============================] - 5s 115us/step - loss: 0.0015 - acc: 0.9821 - val_loss: 0.0148 - val_acc: 0.8196\n",
      "Epoch 373/400\n",
      "39750/40000 [============================>.] - ETA: 0s - loss: 0.0015 - acc: 0.9820\n",
      "Epoch 00373: val_acc did not improve\n",
      "40000/40000 [==============================] - 5s 114us/step - loss: 0.0015 - acc: 0.9820 - val_loss: 0.0149 - val_acc: 0.8166\n",
      "Epoch 374/400\n",
      "39600/40000 [============================>.] - ETA: 0s - loss: 0.0015 - acc: 0.9821\n",
      "Epoch 00374: val_acc did not improve\n",
      "40000/40000 [==============================] - 5s 115us/step - loss: 0.0015 - acc: 0.9821 - val_loss: 0.0148 - val_acc: 0.8177\n",
      "Epoch 375/400\n",
      "39900/40000 [============================>.] - ETA: 0s - loss: 0.0015 - acc: 0.9821\n",
      "Epoch 00375: val_acc did not improve\n",
      "40000/40000 [==============================] - 5s 113us/step - loss: 0.0015 - acc: 0.9821 - val_loss: 0.0149 - val_acc: 0.8183\n",
      "Epoch 376/400\n",
      "39750/40000 [============================>.] - ETA: 0s - loss: 0.0015 - acc: 0.9821\n",
      "Epoch 00376: val_acc did not improve\n",
      "40000/40000 [==============================] - 5s 117us/step - loss: 0.0015 - acc: 0.9821 - val_loss: 0.0148 - val_acc: 0.8205\n",
      "Epoch 377/400\n",
      "39600/40000 [============================>.] - ETA: 0s - loss: 0.0015 - acc: 0.9821\n",
      "Epoch 00377: val_acc did not improve\n",
      "40000/40000 [==============================] - 5s 116us/step - loss: 0.0015 - acc: 0.9821 - val_loss: 0.0148 - val_acc: 0.8185\n",
      "Epoch 378/400\n",
      "39600/40000 [============================>.] - ETA: 0s - loss: 0.0015 - acc: 0.9820\n",
      "Epoch 00378: val_acc did not improve\n",
      "40000/40000 [==============================] - 5s 114us/step - loss: 0.0015 - acc: 0.9821 - val_loss: 0.0148 - val_acc: 0.8181\n",
      "Epoch 379/400\n",
      "39600/40000 [============================>.] - ETA: 0s - loss: 0.0015 - acc: 0.9821\n",
      "Epoch 00379: val_acc did not improve\n",
      "40000/40000 [==============================] - 5s 114us/step - loss: 0.0015 - acc: 0.9821 - val_loss: 0.0148 - val_acc: 0.8171\n",
      "Epoch 380/400\n",
      "39600/40000 [============================>.] - ETA: 0s - loss: 0.0015 - acc: 0.9821\n",
      "Epoch 00380: val_acc did not improve\n",
      "40000/40000 [==============================] - 5s 113us/step - loss: 0.0015 - acc: 0.9821 - val_loss: 0.0149 - val_acc: 0.8166\n",
      "Epoch 381/400\n",
      "39450/40000 [============================>.] - ETA: 0s - loss: 0.0015 - acc: 0.9821\n",
      "Epoch 00381: val_acc did not improve\n",
      "40000/40000 [==============================] - 5s 115us/step - loss: 0.0015 - acc: 0.9821 - val_loss: 0.0149 - val_acc: 0.8170\n",
      "Epoch 382/400\n",
      "39750/40000 [============================>.] - ETA: 0s - loss: 0.0015 - acc: 0.9821\n",
      "Epoch 00382: val_acc did not improve\n",
      "40000/40000 [==============================] - 4s 110us/step - loss: 0.0015 - acc: 0.9821 - val_loss: 0.0149 - val_acc: 0.8174\n",
      "Epoch 383/400\n",
      "39750/40000 [============================>.] - ETA: 0s - loss: 0.0015 - acc: 0.9822\n",
      "Epoch 00383: val_acc did not improve\n",
      "40000/40000 [==============================] - 5s 114us/step - loss: 0.0015 - acc: 0.9821 - val_loss: 0.0147 - val_acc: 0.8197\n",
      "Epoch 384/400\n",
      "39600/40000 [============================>.] - ETA: 0s - loss: 0.0015 - acc: 0.9821\n",
      "Epoch 00384: val_acc did not improve\n",
      "40000/40000 [==============================] - 5s 114us/step - loss: 0.0015 - acc: 0.9821 - val_loss: 0.0148 - val_acc: 0.8179\n",
      "Epoch 385/400\n",
      "39600/40000 [============================>.] - ETA: 0s - loss: 0.0015 - acc: 0.9819\n",
      "Epoch 00385: val_acc did not improve\n",
      "40000/40000 [==============================] - 4s 111us/step - loss: 0.0015 - acc: 0.9821 - val_loss: 0.0148 - val_acc: 0.8193\n",
      "Epoch 386/400\n",
      "39900/40000 [============================>.] - ETA: 0s - loss: 0.0015 - acc: 0.9821\n",
      "Epoch 00386: val_acc did not improve\n",
      "40000/40000 [==============================] - 5s 114us/step - loss: 0.0015 - acc: 0.9822 - val_loss: 0.0148 - val_acc: 0.8205\n",
      "Epoch 387/400\n",
      "39750/40000 [============================>.] - ETA: 0s - loss: 0.0015 - acc: 0.9822\n",
      "Epoch 00387: val_acc did not improve\n",
      "40000/40000 [==============================] - 5s 114us/step - loss: 0.0015 - acc: 0.9822 - val_loss: 0.0148 - val_acc: 0.8191\n",
      "Epoch 388/400\n",
      "39600/40000 [============================>.] - ETA: 0s - loss: 0.0015 - acc: 0.9821\n",
      "Epoch 00388: val_acc did not improve\n",
      "40000/40000 [==============================] - 5s 113us/step - loss: 0.0015 - acc: 0.9822 - val_loss: 0.0148 - val_acc: 0.8194\n",
      "Epoch 389/400\n",
      "39750/40000 [============================>.] - ETA: 0s - loss: 0.0015 - acc: 0.9822\n",
      "Epoch 00389: val_acc did not improve\n",
      "40000/40000 [==============================] - 5s 113us/step - loss: 0.0015 - acc: 0.9822 - val_loss: 0.0148 - val_acc: 0.8185\n",
      "Epoch 390/400\n"
     ]
    },
    {
     "name": "stdout",
     "output_type": "stream",
     "text": [
      "39450/40000 [============================>.] - ETA: 0s - loss: 0.0015 - acc: 0.9823\n",
      "Epoch 00390: val_acc did not improve\n",
      "40000/40000 [==============================] - 5s 114us/step - loss: 0.0015 - acc: 0.9822 - val_loss: 0.0148 - val_acc: 0.8182\n",
      "Epoch 391/400\n",
      "39750/40000 [============================>.] - ETA: 0s - loss: 0.0015 - acc: 0.9821\n",
      "Epoch 00391: val_acc did not improve\n",
      "40000/40000 [==============================] - 5s 115us/step - loss: 0.0015 - acc: 0.9822 - val_loss: 0.0148 - val_acc: 0.8185\n",
      "Epoch 392/400\n",
      "39750/40000 [============================>.] - ETA: 0s - loss: 0.0015 - acc: 0.9823\n",
      "Epoch 00392: val_acc did not improve\n",
      "40000/40000 [==============================] - 5s 115us/step - loss: 0.0015 - acc: 0.9822 - val_loss: 0.0148 - val_acc: 0.8184\n",
      "Epoch 393/400\n",
      "39450/40000 [============================>.] - ETA: 0s - loss: 0.0015 - acc: 0.9821\n",
      "Epoch 00393: val_acc did not improve\n",
      "40000/40000 [==============================] - 4s 112us/step - loss: 0.0015 - acc: 0.9823 - val_loss: 0.0148 - val_acc: 0.8173\n",
      "Epoch 394/400\n",
      "39600/40000 [============================>.] - ETA: 0s - loss: 0.0015 - acc: 0.9822\n",
      "Epoch 00394: val_acc did not improve\n",
      "40000/40000 [==============================] - 5s 115us/step - loss: 0.0015 - acc: 0.9823 - val_loss: 0.0150 - val_acc: 0.8150\n",
      "Epoch 395/400\n",
      "39750/40000 [============================>.] - ETA: 0s - loss: 0.0015 - acc: 0.9824\n",
      "Epoch 00395: val_acc did not improve\n",
      "40000/40000 [==============================] - 5s 113us/step - loss: 0.0015 - acc: 0.9823 - val_loss: 0.0148 - val_acc: 0.8175\n",
      "Epoch 396/400\n",
      "39750/40000 [============================>.] - ETA: 0s - loss: 0.0015 - acc: 0.9823\n",
      "Epoch 00396: val_acc did not improve\n",
      "40000/40000 [==============================] - 4s 110us/step - loss: 0.0015 - acc: 0.9823 - val_loss: 0.0149 - val_acc: 0.8184\n",
      "Epoch 397/400\n",
      "39600/40000 [============================>.] - ETA: 0s - loss: 0.0015 - acc: 0.9822\n",
      "Epoch 00397: val_acc did not improve\n",
      "40000/40000 [==============================] - 5s 114us/step - loss: 0.0015 - acc: 0.9823 - val_loss: 0.0147 - val_acc: 0.8199\n",
      "Epoch 398/400\n",
      "39600/40000 [============================>.] - ETA: 0s - loss: 0.0015 - acc: 0.9823\n",
      "Epoch 00398: val_acc did not improve\n",
      "40000/40000 [==============================] - 5s 113us/step - loss: 0.0015 - acc: 0.9823 - val_loss: 0.0148 - val_acc: 0.8200\n",
      "Epoch 399/400\n",
      "39750/40000 [============================>.] - ETA: 0s - loss: 0.0015 - acc: 0.9824\n",
      "Epoch 00399: val_acc did not improve\n",
      "40000/40000 [==============================] - 4s 112us/step - loss: 0.0015 - acc: 0.9823 - val_loss: 0.0148 - val_acc: 0.8182\n",
      "Epoch 400/400\n",
      "39900/40000 [============================>.] - ETA: 0s - loss: 0.0015 - acc: 0.9823\n",
      "Epoch 00400: val_acc did not improve\n",
      "40000/40000 [==============================] - 5s 114us/step - loss: 0.0015 - acc: 0.9823 - val_loss: 0.0149 - val_acc: 0.8168\n"
     ]
    },
    {
     "ename": "NameError",
     "evalue": "name 'model_generator' is not defined",
     "output_type": "error",
     "traceback": [
      "\u001b[0;31m---------------------------------------------------------------------------\u001b[0m",
      "\u001b[0;31mNameError\u001b[0m                                 Traceback (most recent call last)",
      "\u001b[0;32m<ipython-input-23-b375903ce560>\u001b[0m in \u001b[0;36m<module>\u001b[0;34m()\u001b[0m\n\u001b[1;32m     15\u001b[0m \u001b[0;34m\u001b[0m\u001b[0m\n\u001b[1;32m     16\u001b[0m \u001b[0;31m#re-generating the model\u001b[0m\u001b[0;34m\u001b[0m\u001b[0;34m\u001b[0m\u001b[0m\n\u001b[0;32m---> 17\u001b[0;31m \u001b[0mmodel\u001b[0m\u001b[0;34m=\u001b[0m\u001b[0mmodel_generator\u001b[0m\u001b[0;34m(\u001b[0m\u001b[0;34m)\u001b[0m\u001b[0;34m\u001b[0m\u001b[0m\n\u001b[0m\u001b[1;32m     18\u001b[0m \u001b[0;34m\u001b[0m\u001b[0m\n\u001b[1;32m     19\u001b[0m \u001b[0;31m#loading the best weights for this fold\u001b[0m\u001b[0;34m\u001b[0m\u001b[0;34m\u001b[0m\u001b[0m\n",
      "\u001b[0;31mNameError\u001b[0m: name 'model_generator' is not defined"
     ]
    }
   ],
   "source": [
    "print model.summary()\n",
    "\n",
    "#checkpoints \n",
    "str1=\"weights.best2.hdf5\" \n",
    "\n",
    "filepath=str1\n",
    "print(filepath)\n",
    "\n",
    "checkpoint = ModelCheckpoint(filepath, monitor='val_acc', verbose=1, save_best_only=True, mode='max') \n",
    "callbacks_list = [checkpoint]\n",
    "\n",
    "\n",
    "#fitting the model \n",
    "model.fit(X, Y, batch_size=batch_size,nb_epoch=nb_epoch, verbose=1,callbacks=callbacks_list,validation_split=0.2)\n",
    "\n",
    "#re-generating the model \n",
    "model=model_generator()\n",
    "\n",
    "#loading the best weights for this fold \n",
    "model.load_weights(filepath)\n",
    "\n",
    "\n",
    "#evaluating the model\n",
    "#print(\"testing on test set of fold number:\"+str(fold)) \n",
    "#print(model.evaluate(X2, Y2, verbose=1))\n",
    "#print(model.metrics_names)\n"
   ]
  },
  {
   "cell_type": "code",
   "execution_count": 22,
   "metadata": {
    "nbpresent": {
     "id": "b758cba9-fdf6-4f46-af84-805d6d04544d"
    }
   },
   "outputs": [],
   "source": [
    "#loading the best weights for this fold \n",
    "model.load_weights(filepath)"
   ]
  },
  {
   "cell_type": "code",
   "execution_count": 24,
   "metadata": {
    "nbpresent": {
     "id": "9e8d9553-3c65-495e-a256-de0e8b4b1011"
    },
    "scrolled": true
   },
   "outputs": [
    {
     "name": "stdout",
     "output_type": "stream",
     "text": [
      "(10000, 10)\n"
     ]
    },
    {
     "data": {
      "image/png": "[encoded data removed]",
      "text/plain": [
       "<matplotlib.figure.Figure at 0x7f6f10788550>"
      ]
     },
     "metadata": {},
     "output_type": "display_data"
    },
    {
     "name": "stdout",
     "output_type": "stream",
     "text": [
      "7\n"
     ]
    },
    {
     "data": {
      "image/png": "[encoded data removed]",
      "text/plain": [
       "<matplotlib.figure.Figure at 0x7f6e6a7d4810>"
      ]
     },
     "metadata": {},
     "output_type": "display_data"
    },
    {
     "name": "stdout",
     "output_type": "stream",
     "text": [
      "2\n"
     ]
    },
    {
     "data": {
      "image/png": "[encoded data removed]",
      "text/plain": [
       "<matplotlib.figure.Figure at 0x7f6e686c1190>"
      ]
     },
     "metadata": {},
     "output_type": "display_data"
    },
    {
     "name": "stdout",
     "output_type": "stream",
     "text": [
      "0\n"
     ]
    },
    {
     "data": {
      "image/png": "[encoded data removed]",
      "text/plain": [
       "<matplotlib.figure.Figure at 0x7f6e68721590>"
      ]
     },
     "metadata": {},
     "output_type": "display_data"
    },
    {
     "name": "stdout",
     "output_type": "stream",
     "text": [
      "1\n"
     ]
    },
    {
     "data": {
      "image/png": "[encoded data removed]",
      "text/plain": [
       "<matplotlib.figure.Figure at 0x7f6e6a831110>"
      ]
     },
     "metadata": {},
     "output_type": "display_data"
    },
    {
     "name": "stdout",
     "output_type": "stream",
     "text": [
      "6\n"
     ]
    },
    {
     "data": {
      "image/png": "[encoded data removed]",
      "text/plain": [
       "<matplotlib.figure.Figure at 0x7f6e6ba8f550>"
      ]
     },
     "metadata": {},
     "output_type": "display_data"
    },
    {
     "name": "stdout",
     "output_type": "stream",
     "text": [
      "1\n"
     ]
    },
    {
     "data": {
      "image/png": "[encoded data removed]",
      "text/plain": [
       "<matplotlib.figure.Figure at 0x7f6e6a7e5ed0>"
      ]
     },
     "metadata": {},
     "output_type": "display_data"
    },
    {
     "name": "stdout",
     "output_type": "stream",
     "text": [
      "5\n"
     ]
    },
    {
     "data": {
      "image/png": "[encoded data removed]",
      "text/plain": [
       "<matplotlib.figure.Figure at 0x7f6e6a9dfa50>"
      ]
     },
     "metadata": {},
     "output_type": "display_data"
    },
    {
     "name": "stdout",
     "output_type": "stream",
     "text": [
      "3\n"
     ]
    },
    {
     "data": {
      "image/png": "[encoded data removed]",
      "text/plain": [
       "<matplotlib.figure.Figure at 0x7f6e6aa15bd0>"
      ]
     },
     "metadata": {},
     "output_type": "display_data"
    },
    {
     "name": "stdout",
     "output_type": "stream",
     "text": [
      "8\n"
     ]
    },
    {
     "data": {
      "image/png": "[encoded data removed]",
      "text/plain": [
       "<matplotlib.figure.Figure at 0x7f6e6aa9df90>"
      ]
     },
     "metadata": {},
     "output_type": "display_data"
    },
    {
     "name": "stdout",
     "output_type": "stream",
     "text": [
      "3\n"
     ]
    },
    {
     "data": {
      "image/png": "[encoded data removed]",
      "text/plain": [
       "<matplotlib.figure.Figure at 0x7f6e6a92e150>"
      ]
     },
     "metadata": {},
     "output_type": "display_data"
    },
    {
     "name": "stdout",
     "output_type": "stream",
     "text": [
      "5\n"
     ]
    },
    {
     "data": {
      "image/png": "[encoded data removed]",
      "text/plain": [
       "<matplotlib.figure.Figure at 0x7f6e6a899910>"
      ]
     },
     "metadata": {},
     "output_type": "display_data"
    },
    {
     "name": "stdout",
     "output_type": "stream",
     "text": [
      "1\n"
     ]
    },
    {
     "data": {
      "image/png": "[encoded data removed]",
      "text/plain": [
       "<matplotlib.figure.Figure at 0x7f6e6a970850>"
      ]
     },
     "metadata": {},
     "output_type": "display_data"
    },
    {
     "name": "stdout",
     "output_type": "stream",
     "text": [
      "9\n"
     ]
    },
    {
     "data": {
      "image/png": "[encoded data removed]",
      "text/plain": [
       "<matplotlib.figure.Figure at 0x7f6e6b14d090>"
      ]
     },
     "metadata": {},
     "output_type": "display_data"
    },
    {
     "name": "stdout",
     "output_type": "stream",
     "text": [
      "1\n"
     ]
    },
    {
     "data": {
      "image/png": "[encoded data removed]",
      "text/plain": [
       "<matplotlib.figure.Figure at 0x7f6e6b623150>"
      ]
     },
     "metadata": {},
     "output_type": "display_data"
    },
    {
     "name": "stdout",
     "output_type": "stream",
     "text": [
      "0\n"
     ]
    },
    {
     "data": {
      "image/png": "[encoded data removed]",
      "text/plain": [
       "<matplotlib.figure.Figure at 0x7f6e6b7a7390>"
      ]
     },
     "metadata": {},
     "output_type": "display_data"
    },
    {
     "name": "stdout",
     "output_type": "stream",
     "text": [
      "2\n"
     ]
    },
    {
     "data": {
      "image/png": "[encoded data removed]",
      "text/plain": [
       "<matplotlib.figure.Figure at 0x7f6e6b501090>"
      ]
     },
     "metadata": {},
     "output_type": "display_data"
    },
    {
     "name": "stdout",
     "output_type": "stream",
     "text": [
      "3\n"
     ]
    },
    {
     "data": {
      "image/png": "[encoded data removed]",
      "text/plain": [
       "<matplotlib.figure.Figure at 0x7f6e6b00a0d0>"
      ]
     },
     "metadata": {},
     "output_type": "display_data"
    },
    {
     "name": "stdout",
     "output_type": "stream",
     "text": [
      "0\n"
     ]
    },
    {
     "data": {
      "image/png": "[encoded data removed]",
      "text/plain": [
       "<matplotlib.figure.Figure at 0x7f6e6ae33410>"
      ]
     },
     "metadata": {},
     "output_type": "display_data"
    },
    {
     "name": "stdout",
     "output_type": "stream",
     "text": [
      "0\n"
     ]
    },
    {
     "data": {
      "image/png": "[encoded data removed]",
      "text/plain": [
       "<matplotlib.figure.Figure at 0x7f6e6b74e1d0>"
      ]
     },
     "metadata": {},
     "output_type": "display_data"
    },
    {
     "name": "stdout",
     "output_type": "stream",
     "text": [
      "3\n"
     ]
    },
    {
     "data": {
      "image/png": "[encoded data removed]",
      "text/plain": [
       "<matplotlib.figure.Figure at 0x7f6e6b64c2d0>"
      ]
     },
     "metadata": {},
     "output_type": "display_data"
    },
    {
     "name": "stdout",
     "output_type": "stream",
     "text": [
      "3\n"
     ]
    },
    {
     "data": {
      "image/png": "[encoded data removed]",
      "text/plain": [
       "<matplotlib.figure.Figure at 0x7f6e6b5b8b90>"
      ]
     },
     "metadata": {},
     "output_type": "display_data"
    },
    {
     "name": "stdout",
     "output_type": "stream",
     "text": [
      "0\n"
     ]
    },
    {
     "data": {
      "image/png": "[encoded data removed]",
      "text/plain": [
       "<matplotlib.figure.Figure at 0x7f6e6b4ba390>"
      ]
     },
     "metadata": {},
     "output_type": "display_data"
    },
    {
     "name": "stdout",
     "output_type": "stream",
     "text": [
      "6\n"
     ]
    },
    {
     "data": {
      "image/png": "[encoded data removed]",
      "text/plain": [
       "<matplotlib.figure.Figure at 0x7f6e6b403490>"
      ]
     },
     "metadata": {},
     "output_type": "display_data"
    },
    {
     "name": "stdout",
     "output_type": "stream",
     "text": [
      "1\n"
     ]
    },
    {
     "data": {
      "image/png": "[encoded data removed]",
      "text/plain": [
       "<matplotlib.figure.Figure at 0x7f6e6b655510>"
      ]
     },
     "metadata": {},
     "output_type": "display_data"
    },
    {
     "name": "stdout",
     "output_type": "stream",
     "text": [
      "6\n"
     ]
    },
    {
     "data": {
      "image/png": "[encoded data removed]",
      "text/plain": [
       "<matplotlib.figure.Figure at 0x7f6e6b3d61d0>"
      ]
     },
     "metadata": {},
     "output_type": "display_data"
    },
    {
     "name": "stdout",
     "output_type": "stream",
     "text": [
      "0\n"
     ]
    },
    {
     "data": {
      "image/png": "[encoded data removed]",
      "text/plain": [
       "<matplotlib.figure.Figure at 0x7f6e6b641750>"
      ]
     },
     "metadata": {},
     "output_type": "display_data"
    },
    {
     "name": "stdout",
     "output_type": "stream",
     "text": [
      "2\n"
     ]
    },
    {
     "data": {
      "image/png": "[encoded data removed]",
      "text/plain": [
       "<matplotlib.figure.Figure at 0x7f6e6b27b850>"
      ]
     },
     "metadata": {},
     "output_type": "display_data"
    },
    {
     "name": "stdout",
     "output_type": "stream",
     "text": [
      "8\n"
     ]
    },
    {
     "data": {
      "image/png": "[encoded data removed]",
      "text/plain": [
       "<matplotlib.figure.Figure at 0x7f6e6b3875d0>"
      ]
     },
     "metadata": {},
     "output_type": "display_data"
    },
    {
     "name": "stdout",
     "output_type": "stream",
     "text": [
      "3\n"
     ]
    },
    {
     "data": {
      "image/png": "[encoded data removed]",
      "text/plain": [
       "<matplotlib.figure.Figure at 0x7f6e6b19b390>"
      ]
     },
     "metadata": {},
     "output_type": "display_data"
    },
    {
     "name": "stdout",
     "output_type": "stream",
     "text": [
      "0\n"
     ]
    },
    {
     "data": {
      "image/png": "[encoded data removed]",
      "text/plain": [
       "<matplotlib.figure.Figure at 0x7f6e6b089090>"
      ]
     },
     "metadata": {},
     "output_type": "display_data"
    },
    {
     "name": "stdout",
     "output_type": "stream",
     "text": [
      "2\n"
     ]
    },
    {
     "data": {
      "image/png": "[encoded data removed]",
      "text/plain": [
       "<matplotlib.figure.Figure at 0x7f6e6aed9790>"
      ]
     },
     "metadata": {},
     "output_type": "display_data"
    },
    {
     "name": "stdout",
     "output_type": "stream",
     "text": [
      "9\n"
     ]
    },
    {
     "data": {
      "image/png": "[encoded data removed]",
      "text/plain": [
       "<matplotlib.figure.Figure at 0x7f6e6af56f50>"
      ]
     },
     "metadata": {},
     "output_type": "display_data"
    },
    {
     "name": "stdout",
     "output_type": "stream",
     "text": [
      "9\n"
     ]
    },
    {
     "data": {
      "image/png": "[encoded data removed]",
      "text/plain": [
       "<matplotlib.figure.Figure at 0x7f6e6b1da450>"
      ]
     },
     "metadata": {},
     "output_type": "display_data"
    },
    {
     "name": "stdout",
     "output_type": "stream",
     "text": [
      "1\n"
     ]
    },
    {
     "data": {
      "image/png": "[encoded data removed]",
      "text/plain": [
       "<matplotlib.figure.Figure at 0x7f6e6adef190>"
      ]
     },
     "metadata": {},
     "output_type": "display_data"
    },
    {
     "name": "stdout",
     "output_type": "stream",
     "text": [
      "8\n"
     ]
    },
    {
     "data": {
      "image/png": "[encoded data removed]",
      "text/plain": [
       "<matplotlib.figure.Figure at 0x7f6e6adef0d0>"
      ]
     },
     "metadata": {},
     "output_type": "display_data"
    },
    {
     "name": "stdout",
     "output_type": "stream",
     "text": [
      "6\n"
     ]
    },
    {
     "data": {
      "image/png": "[encoded data removed]",
      "text/plain": [
       "<matplotlib.figure.Figure at 0x7f6e6ab7ed10>"
      ]
     },
     "metadata": {},
     "output_type": "display_data"
    },
    {
     "name": "stdout",
     "output_type": "stream",
     "text": [
      "0\n"
     ]
    },
    {
     "data": {
      "image/png": "[encoded data removed]",
      "text/plain": [
       "<matplotlib.figure.Figure at 0x7f6e6ac03150>"
      ]
     },
     "metadata": {},
     "output_type": "display_data"
    },
    {
     "name": "stdout",
     "output_type": "stream",
     "text": [
      "9\n"
     ]
    },
    {
     "data": {
      "image/png": "[encoded data removed]",
      "text/plain": [
       "<matplotlib.figure.Figure at 0x7f6fe7236810>"
      ]
     },
     "metadata": {},
     "output_type": "display_data"
    },
    {
     "name": "stdout",
     "output_type": "stream",
     "text": [
      "3\n"
     ]
    },
    {
     "data": {
      "image/png": "[encoded data removed]",
      "text/plain": [
       "<matplotlib.figure.Figure at 0x7f6e6a915fd0>"
      ]
     },
     "metadata": {},
     "output_type": "display_data"
    },
    {
     "name": "stdout",
     "output_type": "stream",
     "text": [
      "4\n"
     ]
    },
    {
     "data": {
      "image/png": "[encoded data removed]",
      "text/plain": [
       "<matplotlib.figure.Figure at 0x7f6e6acb5850>"
      ]
     },
     "metadata": {},
     "output_type": "display_data"
    },
    {
     "name": "stdout",
     "output_type": "stream",
     "text": [
      "4\n"
     ]
    },
    {
     "data": {
      "image/png": "[encoded data removed]",
      "text/plain": [
       "<matplotlib.figure.Figure at 0x7f6e6ac0db10>"
      ]
     },
     "metadata": {},
     "output_type": "display_data"
    },
    {
     "name": "stdout",
     "output_type": "stream",
     "text": [
      "7\n"
     ]
    },
    {
     "data": {
      "image/png": "[encoded data removed]",
      "text/plain": [
       "<matplotlib.figure.Figure at 0x7f6e6a8508d0>"
      ]
     },
     "metadata": {},
     "output_type": "display_data"
    },
    {
     "name": "stdout",
     "output_type": "stream",
     "text": [
      "3\n"
     ]
    },
    {
     "data": {
      "image/png": "[encoded data removed]",
      "text/plain": [
       "<matplotlib.figure.Figure at 0x7f6e6ac6cad0>"
      ]
     },
     "metadata": {},
     "output_type": "display_data"
    },
    {
     "name": "stdout",
     "output_type": "stream",
     "text": [
      "5\n"
     ]
    },
    {
     "data": {
      "image/png": "[encoded data removed]",
      "text/plain": [
       "<matplotlib.figure.Figure at 0x7f6e6a8a1610>"
      ]
     },
     "metadata": {},
     "output_type": "display_data"
    },
    {
     "name": "stdout",
     "output_type": "stream",
     "text": [
      "0\n"
     ]
    },
    {
     "data": {
      "image/png": "[encoded data removed]",
      "text/plain": [
       "<matplotlib.figure.Figure at 0x7f6e6b822e90>"
      ]
     },
     "metadata": {},
     "output_type": "display_data"
    },
    {
     "name": "stdout",
     "output_type": "stream",
     "text": [
      "2\n"
     ]
    },
    {
     "data": {
      "image/png": "[encoded data removed]",
      "text/plain": [
       "<matplotlib.figure.Figure at 0x7f6e6aee3a90>"
      ]
     },
     "metadata": {},
     "output_type": "display_data"
    },
    {
     "name": "stdout",
     "output_type": "stream",
     "text": [
      "3\n"
     ]
    },
    {
     "data": {
      "image/png": "[encoded data removed]",
      "text/plain": [
       "<matplotlib.figure.Figure at 0x7f6e6a7d5d90>"
      ]
     },
     "metadata": {},
     "output_type": "display_data"
    },
    {
     "name": "stdout",
     "output_type": "stream",
     "text": [
      "6\n"
     ]
    },
    {
     "data": {
      "image/png": "[encoded data removed]",
      "text/plain": [
       "<matplotlib.figure.Figure at 0x7f6e687211d0>"
      ]
     },
     "metadata": {},
     "output_type": "display_data"
    },
    {
     "name": "stdout",
     "output_type": "stream",
     "text": [
      "8\n"
     ]
    },
    {
     "data": {
      "image/png": "[encoded data removed]",
      "text/plain": [
       "<matplotlib.figure.Figure at 0x7f6e6b584490>"
      ]
     },
     "metadata": {},
     "output_type": "display_data"
    },
    {
     "name": "stdout",
     "output_type": "stream",
     "text": [
      "4\n"
     ]
    },
    {
     "data": {
      "image/png": "[encoded data removed]",
      "text/plain": [
       "<matplotlib.figure.Figure at 0x7f6e6aed3e90>"
      ]
     },
     "metadata": {},
     "output_type": "display_data"
    },
    {
     "name": "stdout",
     "output_type": "stream",
     "text": [
      "9\n"
     ]
    },
    {
     "data": {
      "image/png": "[encoded data removed]",
      "text/plain": [
       "<matplotlib.figure.Figure at 0x7f6e6b2fdd10>"
      ]
     },
     "metadata": {},
     "output_type": "display_data"
    },
    {
     "name": "stdout",
     "output_type": "stream",
     "text": [
      "7\n"
     ]
    },
    {
     "data": {
      "image/png": "[encoded data removed]",
      "text/plain": [
       "<matplotlib.figure.Figure at 0x7f6e6b2ee5d0>"
      ]
     },
     "metadata": {},
     "output_type": "display_data"
    },
    {
     "name": "stdout",
     "output_type": "stream",
     "text": [
      "3\n"
     ]
    },
    {
     "data": {
      "image/png": "[encoded data removed]",
      "text/plain": [
       "<matplotlib.figure.Figure at 0x7f6e6b2ed350>"
      ]
     },
     "metadata": {},
     "output_type": "display_data"
    },
    {
     "name": "stdout",
     "output_type": "stream",
     "text": [
      "9\n"
     ]
    },
    {
     "data": {
      "image/png": "[encoded data removed]",
      "text/plain": [
       "<matplotlib.figure.Figure at 0x7f6e6ae89d90>"
      ]
     },
     "metadata": {},
     "output_type": "display_data"
    },
    {
     "name": "stdout",
     "output_type": "stream",
     "text": [
      "8\n"
     ]
    },
    {
     "data": {
      "image/png": "[encoded data removed]",
      "text/plain": [
       "<matplotlib.figure.Figure at 0x7f6e6a912ad0>"
      ]
     },
     "metadata": {},
     "output_type": "display_data"
    },
    {
     "name": "stdout",
     "output_type": "stream",
     "text": [
      "2\n"
     ]
    },
    {
     "data": {
      "image/png": "[encoded data removed]",
      "text/plain": [
       "<matplotlib.figure.Figure at 0x7f6e6aa8b390>"
      ]
     },
     "metadata": {},
     "output_type": "display_data"
    },
    {
     "name": "stdout",
     "output_type": "stream",
     "text": [
      "2\n"
     ]
    },
    {
     "data": {
      "image/png": "[encoded data removed]",
      "text/plain": [
       "<matplotlib.figure.Figure at 0x7f6e6b5e9a10>"
      ]
     },
     "metadata": {},
     "output_type": "display_data"
    },
    {
     "name": "stdout",
     "output_type": "stream",
     "text": [
      "6\n"
     ]
    },
    {
     "data": {
      "image/png": "[encoded data removed]",
      "text/plain": [
       "<matplotlib.figure.Figure at 0x7f6e6b37e490>"
      ]
     },
     "metadata": {},
     "output_type": "display_data"
    },
    {
     "name": "stdout",
     "output_type": "stream",
     "text": [
      "5\n"
     ]
    },
    {
     "data": {
      "image/png": "[encoded data removed]",
      "text/plain": [
       "<matplotlib.figure.Figure at 0x7f6e6b295cd0>"
      ]
     },
     "metadata": {},
     "output_type": "display_data"
    },
    {
     "name": "stdout",
     "output_type": "stream",
     "text": [
      "9\n"
     ]
    },
    {
     "data": {
      "image/png": "[encoded data removed]",
      "text/plain": [
       "<matplotlib.figure.Figure at 0x7f6e6b2271d0>"
      ]
     },
     "metadata": {},
     "output_type": "display_data"
    },
    {
     "name": "stdout",
     "output_type": "stream",
     "text": [
      "7\n"
     ]
    },
    {
     "data": {
      "image/png": "[encoded data removed]",
      "text/plain": [
       "<matplotlib.figure.Figure at 0x7f6e6af27050>"
      ]
     },
     "metadata": {},
     "output_type": "display_data"
    },
    {
     "name": "stdout",
     "output_type": "stream",
     "text": [
      "9\n"
     ]
    },
    {
     "data": {
      "image/png": "[encoded data removed]",
      "text/plain": [
       "<matplotlib.figure.Figure at 0x7f6e6b521d50>"
      ]
     },
     "metadata": {},
     "output_type": "display_data"
    },
    {
     "name": "stdout",
     "output_type": "stream",
     "text": [
      "3\n"
     ]
    },
    {
     "data": {
      "image/png": "[encoded data removed]",
      "text/plain": [
       "<matplotlib.figure.Figure at 0x7f6e6b0148d0>"
      ]
     },
     "metadata": {},
     "output_type": "display_data"
    },
    {
     "name": "stdout",
     "output_type": "stream",
     "text": [
      "3\n"
     ]
    },
    {
     "data": {
      "image/png": "[encoded data removed]",
      "text/plain": [
       "<matplotlib.figure.Figure at 0x7f6e6afdd450>"
      ]
     },
     "metadata": {},
     "output_type": "display_data"
    },
    {
     "name": "stdout",
     "output_type": "stream",
     "text": [
      "1\n"
     ]
    },
    {
     "data": {
      "image/png": "[encoded data removed]",
      "text/plain": [
       "<matplotlib.figure.Figure at 0x7f6e6ac4d510>"
      ]
     },
     "metadata": {},
     "output_type": "display_data"
    },
    {
     "name": "stdout",
     "output_type": "stream",
     "text": [
      "8\n"
     ]
    },
    {
     "data": {
      "image/png": "[encoded data removed]",
      "text/plain": [
       "<matplotlib.figure.Figure at 0x7f6e6b0e4050>"
      ]
     },
     "metadata": {},
     "output_type": "display_data"
    },
    {
     "name": "stdout",
     "output_type": "stream",
     "text": [
      "3\n"
     ]
    },
    {
     "data": {
      "image/png": "[encoded data removed]",
      "text/plain": [
       "<matplotlib.figure.Figure at 0x7f6e6b5c4850>"
      ]
     },
     "metadata": {},
     "output_type": "display_data"
    },
    {
     "name": "stdout",
     "output_type": "stream",
     "text": [
      "3\n"
     ]
    },
    {
     "data": {
      "image/png": "[encoded data removed]",
      "text/plain": [
       "<matplotlib.figure.Figure at 0x7f6e6b68ef10>"
      ]
     },
     "metadata": {},
     "output_type": "display_data"
    },
    {
     "name": "stdout",
     "output_type": "stream",
     "text": [
      "1\n"
     ]
    },
    {
     "data": {
      "image/png": "[encoded data removed]",
      "text/plain": [
       "<matplotlib.figure.Figure at 0x7f6e6b4c1150>"
      ]
     },
     "metadata": {},
     "output_type": "display_data"
    },
    {
     "name": "stdout",
     "output_type": "stream",
     "text": [
      "5\n"
     ]
    },
    {
     "data": {
      "image/png": "[encoded data removed]",
      "text/plain": [
       "<matplotlib.figure.Figure at 0x7f6e6aaecc50>"
      ]
     },
     "metadata": {},
     "output_type": "display_data"
    },
    {
     "name": "stdout",
     "output_type": "stream",
     "text": [
      "2\n"
     ]
    },
    {
     "data": {
      "image/png": "[encoded data removed]",
      "text/plain": [
       "<matplotlib.figure.Figure at 0x7f6e6b3c3150>"
      ]
     },
     "metadata": {},
     "output_type": "display_data"
    },
    {
     "name": "stdout",
     "output_type": "stream",
     "text": [
      "4\n"
     ]
    },
    {
     "data": {
      "image/png": "[encoded data removed]",
      "text/plain": [
       "<matplotlib.figure.Figure at 0x7f6e6a7f5110>"
      ]
     },
     "metadata": {},
     "output_type": "display_data"
    },
    {
     "name": "stdout",
     "output_type": "stream",
     "text": [
      "9\n"
     ]
    },
    {
     "data": {
      "image/png": "[encoded data removed]",
      "text/plain": [
       "<matplotlib.figure.Figure at 0x7f7011168190>"
      ]
     },
     "metadata": {},
     "output_type": "display_data"
    },
    {
     "name": "stdout",
     "output_type": "stream",
     "text": [
      "7\n"
     ]
    },
    {
     "data": {
      "image/png": "[encoded data removed]",
      "text/plain": [
       "<matplotlib.figure.Figure at 0x7f6e6b2e23d0>"
      ]
     },
     "metadata": {},
     "output_type": "display_data"
    },
    {
     "name": "stdout",
     "output_type": "stream",
     "text": [
      "8\n"
     ]
    },
    {
     "data": {
      "image/png": "[encoded data removed]",
      "text/plain": [
       "<matplotlib.figure.Figure at 0x7f6e6babed50>"
      ]
     },
     "metadata": {},
     "output_type": "display_data"
    },
    {
     "name": "stdout",
     "output_type": "stream",
     "text": [
      "1\n"
     ]
    },
    {
     "data": {
      "image/png": "[encoded data removed]",
      "text/plain": [
       "<matplotlib.figure.Figure at 0x7f6e6a82e390>"
      ]
     },
     "metadata": {},
     "output_type": "display_data"
    },
    {
     "name": "stdout",
     "output_type": "stream",
     "text": [
      "8\n"
     ]
    },
    {
     "data": {
      "image/png": "[encoded data removed]",
      "text/plain": [
       "<matplotlib.figure.Figure at 0x7f6e6b4c9110>"
      ]
     },
     "metadata": {},
     "output_type": "display_data"
    },
    {
     "name": "stdout",
     "output_type": "stream",
     "text": [
      "8\n"
     ]
    },
    {
     "data": {
      "image/png": "[encoded data removed]",
      "text/plain": [
       "<matplotlib.figure.Figure at 0x7f6e6b6fb510>"
      ]
     },
     "metadata": {},
     "output_type": "display_data"
    },
    {
     "name": "stdout",
     "output_type": "stream",
     "text": [
      "1\n"
     ]
    },
    {
     "data": {
      "image/png": "[encoded data removed]",
      "text/plain": [
       "<matplotlib.figure.Figure at 0x7f6e6b67f690>"
      ]
     },
     "metadata": {},
     "output_type": "display_data"
    },
    {
     "name": "stdout",
     "output_type": "stream",
     "text": [
      "4\n"
     ]
    },
    {
     "data": {
      "image/png": "[encoded data removed]",
      "text/plain": [
       "<matplotlib.figure.Figure at 0x7f6e6a870b10>"
      ]
     },
     "metadata": {},
     "output_type": "display_data"
    },
    {
     "name": "stdout",
     "output_type": "stream",
     "text": [
      "9\n"
     ]
    },
    {
     "data": {
      "image/png": "[encoded data removed]",
      "text/plain": [
       "<matplotlib.figure.Figure at 0x7f6e6abf3cd0>"
      ]
     },
     "metadata": {},
     "output_type": "display_data"
    },
    {
     "name": "stdout",
     "output_type": "stream",
     "text": [
      "4\n"
     ]
    },
    {
     "data": {
      "image/png": "[encoded data removed]",
      "text/plain": [
       "<matplotlib.figure.Figure at 0x7f6e6b539150>"
      ]
     },
     "metadata": {},
     "output_type": "display_data"
    },
    {
     "name": "stdout",
     "output_type": "stream",
     "text": [
      "6\n"
     ]
    },
    {
     "data": {
      "image/png": "[encoded data removed]",
      "text/plain": [
       "<matplotlib.figure.Figure at 0x7f6e686b1390>"
      ]
     },
     "metadata": {},
     "output_type": "display_data"
    },
    {
     "name": "stdout",
     "output_type": "stream",
     "text": [
      "1\n"
     ]
    },
    {
     "data": {
      "image/png": "[encoded data removed]",
      "text/plain": [
       "<matplotlib.figure.Figure at 0x7f6e6b15e310>"
      ]
     },
     "metadata": {},
     "output_type": "display_data"
    },
    {
     "name": "stdout",
     "output_type": "stream",
     "text": [
      "3\n"
     ]
    },
    {
     "data": {
      "image/png": "[encoded data removed]",
      "text/plain": [
       "<matplotlib.figure.Figure at 0x7f6e6b65b810>"
      ]
     },
     "metadata": {},
     "output_type": "display_data"
    },
    {
     "name": "stdout",
     "output_type": "stream",
     "text": [
      "8\n"
     ]
    },
    {
     "data": {
      "image/png": "[encoded data removed]",
      "text/plain": [
       "<matplotlib.figure.Figure at 0x7f6e6b559a90>"
      ]
     },
     "metadata": {},
     "output_type": "display_data"
    },
    {
     "name": "stdout",
     "output_type": "stream",
     "text": [
      "9\n"
     ]
    },
    {
     "data": {
      "image/png": "[encoded data removed]",
      "text/plain": [
       "<matplotlib.figure.Figure at 0x7f6e686d7710>"
      ]
     },
     "metadata": {},
     "output_type": "display_data"
    },
    {
     "name": "stdout",
     "output_type": "stream",
     "text": [
      "7\n"
     ]
    },
    {
     "data": {
      "image/png": "[encoded data removed]",
      "text/plain": [
       "<matplotlib.figure.Figure at 0x7f6e6a9233d0>"
      ]
     },
     "metadata": {},
     "output_type": "display_data"
    },
    {
     "name": "stdout",
     "output_type": "stream",
     "text": [
      "1\n"
     ]
    },
    {
     "data": {
      "image/png": "[encoded data removed]",
      "text/plain": [
       "<matplotlib.figure.Figure at 0x7f6e6b391150>"
      ]
     },
     "metadata": {},
     "output_type": "display_data"
    },
    {
     "name": "stdout",
     "output_type": "stream",
     "text": [
      "8\n"
     ]
    },
    {
     "data": {
      "image/png": "[encoded data removed]",
      "text/plain": [
       "<matplotlib.figure.Figure at 0x7f6e6b5078d0>"
      ]
     },
     "metadata": {},
     "output_type": "display_data"
    },
    {
     "name": "stdout",
     "output_type": "stream",
     "text": [
      "3\n"
     ]
    },
    {
     "data": {
      "image/png": "[encoded data removed]",
      "text/plain": [
       "<matplotlib.figure.Figure at 0x7f6e6aec75d0>"
      ]
     },
     "metadata": {},
     "output_type": "display_data"
    },
    {
     "name": "stdout",
     "output_type": "stream",
     "text": [
      "4\n"
     ]
    },
    {
     "data": {
      "image/png": "[encoded data removed]",
      "text/plain": [
       "<matplotlib.figure.Figure at 0x7f6e6b793610>"
      ]
     },
     "metadata": {},
     "output_type": "display_data"
    },
    {
     "name": "stdout",
     "output_type": "stream",
     "text": [
      "0\n"
     ]
    },
    {
     "data": {
      "image/png": "[encoded data removed]",
      "text/plain": [
       "<matplotlib.figure.Figure at 0x7f6e6ae974d0>"
      ]
     },
     "metadata": {},
     "output_type": "display_data"
    },
    {
     "name": "stdout",
     "output_type": "stream",
     "text": [
      "2\n"
     ]
    },
    {
     "data": {
      "image/png": "[encoded data removed]",
      "text/plain": [
       "<matplotlib.figure.Figure at 0x7f6e6b2f51d0>"
      ]
     },
     "metadata": {},
     "output_type": "display_data"
    },
    {
     "name": "stdout",
     "output_type": "stream",
     "text": [
      "9\n"
     ]
    },
    {
     "data": {
      "image/png": "[encoded data removed]",
      "text/plain": [
       "<matplotlib.figure.Figure at 0x7f6e6a81cd90>"
      ]
     },
     "metadata": {},
     "output_type": "display_data"
    },
    {
     "name": "stdout",
     "output_type": "stream",
     "text": [
      "3\n"
     ]
    },
    {
     "data": {
      "image/png": "[encoded data removed]",
      "text/plain": [
       "<matplotlib.figure.Figure at 0x7f6e6b23ad50>"
      ]
     },
     "metadata": {},
     "output_type": "display_data"
    },
    {
     "name": "stdout",
     "output_type": "stream",
     "text": [
      "9\n"
     ]
    },
    {
     "data": {
      "image/png": "[encoded data removed]",
      "text/plain": [
       "<matplotlib.figure.Figure at 0x7f6e6b0b3350>"
      ]
     },
     "metadata": {},
     "output_type": "display_data"
    },
    {
     "name": "stdout",
     "output_type": "stream",
     "text": [
      "7\n"
     ]
    },
    {
     "data": {
      "image/png": "[encoded data removed]",
      "text/plain": [
       "<matplotlib.figure.Figure at 0x7f6e6ac975d0>"
      ]
     },
     "metadata": {},
     "output_type": "display_data"
    },
    {
     "name": "stdout",
     "output_type": "stream",
     "text": [
      "2\n"
     ]
    },
    {
     "data": {
      "image/png": "[encoded data removed]",
      "text/plain": [
       "<matplotlib.figure.Figure at 0x7f6e6ac2f790>"
      ]
     },
     "metadata": {},
     "output_type": "display_data"
    },
    {
     "name": "stdout",
     "output_type": "stream",
     "text": [
      "4\n"
     ]
    }
   ],
   "source": [
    "# this part shows a subset of test set and the prediction of the model. \n",
    "#Just to see how well the model performs\n",
    "y_pred=model.predict(X2)\n",
    "print y_pred.shape\n",
    "y_pred=np.argmax(y_pred,axis=1)\n",
    "\n",
    "import matplotlib.pyplot as plt\n",
    "import matplotlib.cm as cm\n",
    "for i in range(100):\n",
    "    img= X_test[i].reshape(64, 64)\n",
    "    plt.imshow(img, cmap=plt.get_cmap('binary'))\n",
    "    plt.show()\n",
    "    print y_pred[i]   "
   ]
  },
  {
   "cell_type": "code",
   "execution_count": 30,
   "metadata": {
    "nbpresent": {
     "id": "0b92d844-5a1a-4f0d-9cfc-7ce399630726"
    }
   },
   "outputs": [],
   "source": [
    "import pandas as pd\n",
    "i=range(0,10000)\n",
    "my_df = pd.DataFrame(zip(i,y_pred), columns = [\"Id\", \"Label\"])\n",
    "my_df.to_csv('submission.csv', index=False, header=True)\n"
   ]
  },
  {
   "cell_type": "code",
   "execution_count": null,
   "metadata": {
    "nbpresent": {
     "id": "aa4b80fb-9f19-4db6-9aab-44d3d42a4ac1"
    }
   },
   "outputs": [],
   "source": []
  }
 ],
 "metadata": {
  "kernelspec": {
   "display_name": "Python [conda env:tensorflow]",
   "language": "python",
   "name": "conda-env-tensorflow-py"
  },
  "language_info": {
   "codemirror_mode": {
    "name": "ipython",
    "version": 2
   },
   "file_extension": ".py",
   "mimetype": "text/x-python",
   "name": "python",
   "nbconvert_exporter": "python",
   "pygments_lexer": "ipython2",
   "version": "2.7.14"
  }
 },
 "nbformat": 4,
 "nbformat_minor": 2
}

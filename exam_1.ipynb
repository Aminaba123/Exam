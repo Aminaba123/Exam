{
 "cells": [
  {
   "cell_type": "code",
   "execution_count": 3,
   "metadata": {},
   "outputs": [],
   "source": [
    "def computeTF(wordDict, bow):\n",
    "    tfDick = {}\n",
    "    bowCount =lin(bow)\n",
    "    for word, count in wordDict.items():\n",
    "        tfDict[word] = count/float(bowCount)\n",
    "    return tfDict"
   ]
  },
  {
   "cell_type": "code",
   "execution_count": 4,
   "metadata": {},
   "outputs": [],
   "source": [
    "s1 = \"The car is driven on the road\""
   ]
  },
  {
   "cell_type": "code",
   "execution_count": 5,
   "metadata": {},
   "outputs": [],
   "source": [
    "def computeIDF (docList):\n",
    "    import math \n",
    "    N = len(docList)\n",
    "    \n",
    "    idfDict = dict.fromkeys(docList[0].keys(),0)\n",
    "    for doc in docList:\n",
    "        for word,val in doc.items():\n",
    "            idfDict[word] +=1\n",
    "    for word, val in idfDict.items():\n",
    "        idfDict[word] = math.log10(N / float(val)+1)\n",
    "        \n",
    "    return idfDict    \n",
    "    "
   ]
  },
  {
   "cell_type": "code",
   "execution_count": 6,
   "metadata": {},
   "outputs": [
    {
     "ename": "AttributeError",
     "evalue": "'str' object has no attribute 'keys'",
     "output_type": "error",
     "traceback": [
      "\u001b[1;31m\u001b[0m",
      "\u001b[1;31mAttributeError\u001b[0mTraceback (most recent call last)",
      "\u001b[1;32m<ipython-input-6-3661ae03a3fb>\u001b[0m in \u001b[0;36m<module>\u001b[1;34m()\u001b[0m\n\u001b[1;32m----> 1\u001b[1;33m \u001b[0mcomputeIDF\u001b[0m \u001b[1;33m(\u001b[0m\u001b[0ms1\u001b[0m\u001b[1;33m)\u001b[0m\u001b[1;33m\u001b[0m\u001b[0m\n\u001b[0m",
      "\u001b[1;32m<ipython-input-5-0eff816e3bc9>\u001b[0m in \u001b[0;36mcomputeIDF\u001b[1;34m(docList)\u001b[0m\n\u001b[0;32m      3\u001b[0m     \u001b[0mN\u001b[0m \u001b[1;33m=\u001b[0m \u001b[0mlen\u001b[0m\u001b[1;33m(\u001b[0m\u001b[0mdocList\u001b[0m\u001b[1;33m)\u001b[0m\u001b[1;33m\u001b[0m\u001b[0m\n\u001b[0;32m      4\u001b[0m \u001b[1;33m\u001b[0m\u001b[0m\n\u001b[1;32m----> 5\u001b[1;33m     \u001b[0midfDict\u001b[0m \u001b[1;33m=\u001b[0m \u001b[0mdict\u001b[0m\u001b[1;33m.\u001b[0m\u001b[0mfromkeys\u001b[0m\u001b[1;33m(\u001b[0m\u001b[0mdocList\u001b[0m\u001b[1;33m[\u001b[0m\u001b[1;36m0\u001b[0m\u001b[1;33m]\u001b[0m\u001b[1;33m.\u001b[0m\u001b[0mkeys\u001b[0m\u001b[1;33m(\u001b[0m\u001b[1;33m)\u001b[0m\u001b[1;33m,\u001b[0m\u001b[1;36m0\u001b[0m\u001b[1;33m)\u001b[0m\u001b[1;33m\u001b[0m\u001b[0m\n\u001b[0m\u001b[0;32m      6\u001b[0m     \u001b[1;32mfor\u001b[0m \u001b[0mdoc\u001b[0m \u001b[1;32min\u001b[0m \u001b[0mdocList\u001b[0m\u001b[1;33m:\u001b[0m\u001b[1;33m\u001b[0m\u001b[0m\n\u001b[0;32m      7\u001b[0m         \u001b[1;32mfor\u001b[0m \u001b[0mword\u001b[0m\u001b[1;33m,\u001b[0m\u001b[0mval\u001b[0m \u001b[1;32min\u001b[0m \u001b[0mdoc\u001b[0m\u001b[1;33m.\u001b[0m\u001b[0mitems\u001b[0m\u001b[1;33m(\u001b[0m\u001b[1;33m)\u001b[0m\u001b[1;33m:\u001b[0m\u001b[1;33m\u001b[0m\u001b[0m\n",
      "\u001b[1;31mAttributeError\u001b[0m: 'str' object has no attribute 'keys'"
     ]
    }
   ],
   "source": [
    "computeIDF (s1)"
   ]
  },
  {
   "cell_type": "code",
   "execution_count": 64,
   "metadata": {},
   "outputs": [
    {
     "name": "stdout",
     "output_type": "stream",
     "text": [
      "(u'love', 1.6931471805599454)\n",
      "(u'like', 1.6931471805599454)\n",
      "(u'dog', 1.6931471805599454)\n",
      "(u'cat', 1.2876820724517808)\n",
      "(u'interested', 1.6931471805599454)\n",
      "(u'in', 1.6931471805599454)\n"
     ]
    }
   ],
   "source": [
    "from sklearn.feature_extraction.text import CountVectorizer, TfidfTransformer\n",
    "# our corpus\n",
    "data = ['I like dog', 'I love cat', 'I interested in cat']\n",
    "\n",
    "cv = CountVectorizer()\n",
    "\n",
    "# convert text data into term-frequency matrix\n",
    "data = cv.fit_transform(data)\n",
    "\n",
    "tfidf_transformer = TfidfTransformer()\n",
    "\n",
    "# convert term-frequency matrix into tf-idf\n",
    "tfidf_matrix = tfidf_transformer.fit_transform(data)\n",
    "\n",
    "# create dictionary to find a tfidf word each word\n",
    "word2tfidf = dict(zip(cv.get_feature_names(), tfidf_transformer.idf_))\n",
    "\n",
    "for word, score in word2tfidf.items():\n",
    "    print(word, score)"
   ]
  },
  {
   "cell_type": "code",
   "execution_count": 65,
   "metadata": {},
   "outputs": [
    {
     "data": {
      "text/plain": [
       "<3x6 sparse matrix of type '<type 'numpy.float64'>'\n",
       "\twith 7 stored elements in Compressed Sparse Row format>"
      ]
     },
     "execution_count": 65,
     "metadata": {},
     "output_type": "execute_result"
    }
   ],
   "source": [
    "tfidf_matrix"
   ]
  },
  {
   "cell_type": "code",
   "execution_count": 8,
   "metadata": {},
   "outputs": [
    {
     "name": "stdout",
     "output_type": "stream",
     "text": [
      "(u'brown', 1.916290731874155)\n",
      "(u'lazy', 1.916290731874155)\n",
      "(u'peacock', 1.916290731874155)\n",
      "(u'brwon', 1.916290731874155)\n",
      "(u'jumps', 1.916290731874155)\n",
      "(u'fox', 1.5108256237659907)\n",
      "(u'dog', 1.5108256237659907)\n",
      "(u'tiger', 1.916290731874155)\n",
      "(u'lion', 1.916290731874155)\n",
      "(u'elephant', 1.5108256237659907)\n",
      "(u'quick', 1.916290731874155)\n",
      "(u'the', 1.0)\n",
      "(u'over', 1.916290731874155)\n"
     ]
    }
   ],
   "source": [
    "from sklearn.feature_extraction.text import CountVectorizer, TfidfTransformer\n",
    "# our corpus\n",
    "data = ['The quick brwon fox', 'Brown fox jumps over the jumps jumps', 'The the the lazy dog elephant' , 'The the the the the dog peacock lion tiger elephant']\n",
    "\n",
    "cv = CountVectorizer()\n",
    "\n",
    "# convert text data into term-frequency matrix\n",
    "data = cv.fit_transform(data)\n",
    "\n",
    "tfidf_transformer = TfidfTransformer()\n",
    "\n",
    "# convert term-frequency matrix into tf-idf\n",
    "tfidf_matrix = tfidf_transformer.fit_transform(data)\n",
    "\n",
    "# create dictionary to find a tfidf word each word\n",
    "word2tfidf = dict(zip(cv.get_feature_names(), tfidf_transformer.idf_))\n",
    "\n",
    "for word, score in word2tfidf.items():\n",
    "    print(word, score)"
   ]
  },
  {
   "cell_type": "code",
   "execution_count": 9,
   "metadata": {},
   "outputs": [],
   "source": [
    "def computeIDF (docList):\n",
    "    import math \n",
    "    N = len(docList)\n",
    "    \n",
    "    idfDict = dict.fromkeys(docList[0].keys(),0)\n",
    "    for doc in docList:\n",
    "        for word,val in doc.items():\n",
    "            idfDict[word] +=1\n",
    "    for word, val in idfDict.items():\n",
    "        idfDict[word] = math.log10(N / float(val)+1)\n",
    "        \n",
    "    return idfDict  "
   ]
  },
  {
   "cell_type": "code",
   "execution_count": 17,
   "metadata": {},
   "outputs": [],
   "source": [
    "docList = ['The quick brwon fox']"
   ]
  },
  {
   "cell_type": "code",
   "execution_count": 18,
   "metadata": {},
   "outputs": [],
   "source": [
    "def computeIDF (docList):\n",
    "    import math \n",
    "    N = len(docList)\n",
    "    \n",
    "    idfDict = dict.fromkeys(docList[0].keys(),0)\n",
    "    for doc in docList:\n",
    "        for word,val in doc.items():\n",
    "            idfDict[word] +=1\n",
    "    for word, val in idfDict.items():\n",
    "        idfDict[word] = math.log10(N / float(val)+1)\n",
    "        \n",
    "    return idfDict "
   ]
  },
  {
   "cell_type": "code",
   "execution_count": null,
   "metadata": {},
   "outputs": [],
   "source": [
    "def create_freq_dict(sents):\n",
    "    i=0\n",
    "    freqDict_list = [ ]\n",
    "    for sent in sents:\n",
    "        i +=1\n",
    "        freq_dict ={}\n",
    "        "
   ]
  },
  {
   "cell_type": "code",
   "execution_count": 20,
   "metadata": {},
   "outputs": [],
   "source": [
    "docA = \"The cat sat on my face\"\n",
    "docB = \"The dog sat on my bed\""
   ]
  },
  {
   "cell_type": "code",
   "execution_count": 21,
   "metadata": {},
   "outputs": [],
   "source": [
    "bowA = docA.split(\" \")\n",
    "bowB = docB.split(\" \")"
   ]
  },
  {
   "cell_type": "code",
   "execution_count": 22,
   "metadata": {},
   "outputs": [
    {
     "data": {
      "text/plain": [
       "['The', 'dog', 'sat', 'on', 'my', 'bed']"
      ]
     },
     "execution_count": 22,
     "metadata": {},
     "output_type": "execute_result"
    }
   ],
   "source": [
    "bowB\n"
   ]
  },
  {
   "cell_type": "code",
   "execution_count": 23,
   "metadata": {},
   "outputs": [],
   "source": [
    "wordSet = set(bowA).union(set(bowB))\n"
   ]
  },
  {
   "cell_type": "code",
   "execution_count": 24,
   "metadata": {},
   "outputs": [
    {
     "data": {
      "text/plain": [
       "{'The', 'bed', 'cat', 'dog', 'face', 'my', 'on', 'sat'}"
      ]
     },
     "execution_count": 24,
     "metadata": {},
     "output_type": "execute_result"
    }
   ],
   "source": [
    "wordSet\n"
   ]
  },
  {
   "cell_type": "code",
   "execution_count": 26,
   "metadata": {},
   "outputs": [],
   "source": [
    "wordDictA = dict.fromkeys(wordSet, 0) \n",
    "wordDictB = dict.fromkeys(wordSet, 0)\n"
   ]
  },
  {
   "cell_type": "code",
   "execution_count": 27,
   "metadata": {},
   "outputs": [
    {
     "data": {
      "text/plain": [
       "{'The': 0, 'bed': 0, 'cat': 0, 'dog': 0, 'face': 0, 'my': 0, 'on': 0, 'sat': 0}"
      ]
     },
     "execution_count": 27,
     "metadata": {},
     "output_type": "execute_result"
    }
   ],
   "source": [
    "wordDictA\n"
   ]
  },
  {
   "cell_type": "code",
   "execution_count": 28,
   "metadata": {},
   "outputs": [],
   "source": [
    "for word in bowA:\n",
    "    wordDictA[word]+=1\n",
    "    \n",
    "for word in bowB:\n",
    "    wordDictB[word]+=1"
   ]
  },
  {
   "cell_type": "code",
   "execution_count": 29,
   "metadata": {},
   "outputs": [
    {
     "data": {
      "text/plain": [
       "{'The': 1, 'bed': 0, 'cat': 1, 'dog': 0, 'face': 1, 'my': 1, 'on': 1, 'sat': 1}"
      ]
     },
     "execution_count": 29,
     "metadata": {},
     "output_type": "execute_result"
    }
   ],
   "source": [
    "wordDictA"
   ]
  },
  {
   "cell_type": "code",
   "execution_count": 30,
   "metadata": {},
   "outputs": [
    {
     "data": {
      "text/html": [
       "<div>\n",
       "<style scoped>\n",
       "    .dataframe tbody tr th:only-of-type {\n",
       "        vertical-align: middle;\n",
       "    }\n",
       "\n",
       "    .dataframe tbody tr th {\n",
       "        vertical-align: top;\n",
       "    }\n",
       "\n",
       "    .dataframe thead th {\n",
       "        text-align: right;\n",
       "    }\n",
       "</style>\n",
       "<table border=\"1\" class=\"dataframe\">\n",
       "  <thead>\n",
       "    <tr style=\"text-align: right;\">\n",
       "      <th></th>\n",
       "      <th>The</th>\n",
       "      <th>bed</th>\n",
       "      <th>cat</th>\n",
       "      <th>dog</th>\n",
       "      <th>face</th>\n",
       "      <th>my</th>\n",
       "      <th>on</th>\n",
       "      <th>sat</th>\n",
       "    </tr>\n",
       "  </thead>\n",
       "  <tbody>\n",
       "    <tr>\n",
       "      <th>0</th>\n",
       "      <td>1</td>\n",
       "      <td>0</td>\n",
       "      <td>1</td>\n",
       "      <td>0</td>\n",
       "      <td>1</td>\n",
       "      <td>1</td>\n",
       "      <td>1</td>\n",
       "      <td>1</td>\n",
       "    </tr>\n",
       "    <tr>\n",
       "      <th>1</th>\n",
       "      <td>1</td>\n",
       "      <td>1</td>\n",
       "      <td>0</td>\n",
       "      <td>1</td>\n",
       "      <td>0</td>\n",
       "      <td>1</td>\n",
       "      <td>1</td>\n",
       "      <td>1</td>\n",
       "    </tr>\n",
       "  </tbody>\n",
       "</table>\n",
       "</div>"
      ],
      "text/plain": [
       "   The  bed  cat  dog  face  my  on  sat\n",
       "0    1    0    1    0     1   1   1    1\n",
       "1    1    1    0    1     0   1   1    1"
      ]
     },
     "execution_count": 30,
     "metadata": {},
     "output_type": "execute_result"
    }
   ],
   "source": [
    "import pandas as pd\n",
    "pd.DataFrame([wordDictA, wordDictB])"
   ]
  },
  {
   "cell_type": "code",
   "execution_count": 31,
   "metadata": {},
   "outputs": [],
   "source": [
    "def computeTF(wordDict, bow):\n",
    "    tfDict = {}\n",
    "    bowCount = len(bow)\n",
    "    for word, count in wordDict.items():\n",
    "        tfDict[word] = count/float(bowCount)\n",
    "    return tfDict"
   ]
  },
  {
   "cell_type": "code",
   "execution_count": 33,
   "metadata": {},
   "outputs": [],
   "source": [
    "tfBowA = computeTF(wordDictA, bowA)\n",
    "tfBowB = computeTF(wordDictB, bowB)"
   ]
  },
  {
   "cell_type": "code",
   "execution_count": 34,
   "metadata": {},
   "outputs": [
    {
     "data": {
      "text/plain": [
       "{'The': 0.16666666666666666,\n",
       " 'bed': 0.0,\n",
       " 'cat': 0.16666666666666666,\n",
       " 'dog': 0.0,\n",
       " 'face': 0.16666666666666666,\n",
       " 'my': 0.16666666666666666,\n",
       " 'on': 0.16666666666666666,\n",
       " 'sat': 0.16666666666666666}"
      ]
     },
     "execution_count": 34,
     "metadata": {},
     "output_type": "execute_result"
    }
   ],
   "source": [
    "tfBowA"
   ]
  },
  {
   "cell_type": "code",
   "execution_count": 35,
   "metadata": {},
   "outputs": [
    {
     "data": {
      "text/plain": [
       "{'The': 0.16666666666666666,\n",
       " 'bed': 0.16666666666666666,\n",
       " 'cat': 0.0,\n",
       " 'dog': 0.16666666666666666,\n",
       " 'face': 0.0,\n",
       " 'my': 0.16666666666666666,\n",
       " 'on': 0.16666666666666666,\n",
       " 'sat': 0.16666666666666666}"
      ]
     },
     "execution_count": 35,
     "metadata": {},
     "output_type": "execute_result"
    }
   ],
   "source": [
    "tfBowB"
   ]
  },
  {
   "cell_type": "code",
   "execution_count": 36,
   "metadata": {},
   "outputs": [],
   "source": [
    "def computeIDF(docList):\n",
    "    import math\n",
    "    idfDict = {}\n",
    "    N = len(docList)\n",
    "    \n",
    "    idfDict = dict.fromkeys(docList[0].keys(), 0)\n",
    "    for doc in docList:\n",
    "        for word, val in doc.items():\n",
    "            if val > 0:\n",
    "                idfDict[word] += 1\n",
    "    \n",
    "    for word, val in idfDict.items():\n",
    "        idfDict[word] = math.log10(N / float(val)+1)\n",
    "        \n",
    "    return idfDict"
   ]
  },
  {
   "cell_type": "code",
   "execution_count": 37,
   "metadata": {},
   "outputs": [],
   "source": [
    "idfs = computeIDF([wordDictA, wordDictB])\n"
   ]
  },
  {
   "cell_type": "code",
   "execution_count": 38,
   "metadata": {},
   "outputs": [],
   "source": [
    "def computeTFIDF(tfBow, idfs):\n",
    "    tfidf = {}\n",
    "    for word, val in tfBow.items():\n",
    "        tfidf[word] = val*idfs[word]\n",
    "    return tfidf"
   ]
  },
  {
   "cell_type": "code",
   "execution_count": 39,
   "metadata": {},
   "outputs": [],
   "source": [
    "tfidfBowA = computeTFIDF(tfBowA, idfs)\n",
    "tfidfBowB = computeTFIDF(tfBowB, idfs)"
   ]
  },
  {
   "cell_type": "code",
   "execution_count": 40,
   "metadata": {},
   "outputs": [
    {
     "data": {
      "text/html": [
       "<div>\n",
       "<style scoped>\n",
       "    .dataframe tbody tr th:only-of-type {\n",
       "        vertical-align: middle;\n",
       "    }\n",
       "\n",
       "    .dataframe tbody tr th {\n",
       "        vertical-align: top;\n",
       "    }\n",
       "\n",
       "    .dataframe thead th {\n",
       "        text-align: right;\n",
       "    }\n",
       "</style>\n",
       "<table border=\"1\" class=\"dataframe\">\n",
       "  <thead>\n",
       "    <tr style=\"text-align: right;\">\n",
       "      <th></th>\n",
       "      <th>The</th>\n",
       "      <th>bed</th>\n",
       "      <th>cat</th>\n",
       "      <th>dog</th>\n",
       "      <th>face</th>\n",
       "      <th>my</th>\n",
       "      <th>on</th>\n",
       "      <th>sat</th>\n",
       "    </tr>\n",
       "  </thead>\n",
       "  <tbody>\n",
       "    <tr>\n",
       "      <th>0</th>\n",
       "      <td>0.050172</td>\n",
       "      <td>0.00000</td>\n",
       "      <td>0.07952</td>\n",
       "      <td>0.00000</td>\n",
       "      <td>0.07952</td>\n",
       "      <td>0.050172</td>\n",
       "      <td>0.050172</td>\n",
       "      <td>0.050172</td>\n",
       "    </tr>\n",
       "    <tr>\n",
       "      <th>1</th>\n",
       "      <td>0.050172</td>\n",
       "      <td>0.07952</td>\n",
       "      <td>0.00000</td>\n",
       "      <td>0.07952</td>\n",
       "      <td>0.00000</td>\n",
       "      <td>0.050172</td>\n",
       "      <td>0.050172</td>\n",
       "      <td>0.050172</td>\n",
       "    </tr>\n",
       "  </tbody>\n",
       "</table>\n",
       "</div>"
      ],
      "text/plain": [
       "        The      bed      cat      dog     face        my        on       sat\n",
       "0  0.050172  0.00000  0.07952  0.00000  0.07952  0.050172  0.050172  0.050172\n",
       "1  0.050172  0.07952  0.00000  0.07952  0.00000  0.050172  0.050172  0.050172"
      ]
     },
     "execution_count": 40,
     "metadata": {},
     "output_type": "execute_result"
    }
   ],
   "source": [
    "import pandas as pd\n",
    "pd.DataFrame([tfidfBowA, tfidfBowB])"
   ]
  },
  {
   "cell_type": "code",
   "execution_count": 41,
   "metadata": {},
   "outputs": [],
   "source": [
    "docA = \"The quick brwon fox\"\n",
    "docB = \"Brown fox jumps over the jumps jumps jumps\"\n",
    "docC = \"The the the lazy dog elephant\"\n",
    "docD = \"The the the the the dog peacock lion tiger elephant\"\n"
   ]
  },
  {
   "cell_type": "code",
   "execution_count": 42,
   "metadata": {},
   "outputs": [],
   "source": [
    "bowA = docA.split(\" \")\n",
    "bowB = docB.split(\" \")\n",
    "bowC = docC.split(\" \")\n",
    "bowD = docD.split(\" \")"
   ]
  },
  {
   "cell_type": "code",
   "execution_count": 45,
   "metadata": {},
   "outputs": [],
   "source": [
    "def preprocess(data):\n",
    "    data = convert_lower_case(data)\n",
    "    data = remove_punctuation(data)\n",
    "    data = remove_apostrophe(data)\n",
    "    data = remove_single_characters(data)\n",
    "    data = convert_numbers(data)\n",
    "    data = remove_stop_words(data)\n",
    "    data = stemming(data)\n",
    "    data = remove_punctuation(data)\n",
    "    data = convert_numbers(data)"
   ]
  },
  {
   "cell_type": "code",
   "execution_count": 46,
   "metadata": {},
   "outputs": [],
   "source": [
    "def preprocess(data):\n",
    "    data = convert_lower_case(data)\n",
    "    data = remove_punctuation(data)\n",
    "    data = remove_apostrophe(data)\n",
    "    data = remove_single_characters(data)\n",
    "    data = convert_numbers(data)\n",
    "    data = remove_stop_words(data)\n",
    "    data = stemming(data)\n",
    "    data = remove_punctuation(data)\n",
    "    data = convert_numbers(data)"
   ]
  },
  {
   "cell_type": "code",
   "execution_count": 47,
   "metadata": {},
   "outputs": [
    {
     "ename": "NameError",
     "evalue": "name 'processed_text' is not defined",
     "output_type": "error",
     "traceback": [
      "\u001b[1;31m\u001b[0m",
      "\u001b[1;31mNameError\u001b[0mTraceback (most recent call last)",
      "\u001b[1;32m<ipython-input-47-002db570fa64>\u001b[0m in \u001b[0;36m<module>\u001b[1;34m()\u001b[0m\n\u001b[0;32m      1\u001b[0m \u001b[0mDF\u001b[0m \u001b[1;33m=\u001b[0m \u001b[1;33m{\u001b[0m\u001b[1;33m}\u001b[0m\u001b[1;33m\u001b[0m\u001b[0m\n\u001b[1;32m----> 2\u001b[1;33m \u001b[1;32mfor\u001b[0m \u001b[0mi\u001b[0m \u001b[1;32min\u001b[0m \u001b[0mrange\u001b[0m\u001b[1;33m(\u001b[0m\u001b[0mlen\u001b[0m\u001b[1;33m(\u001b[0m\u001b[0mprocessed_text\u001b[0m\u001b[1;33m)\u001b[0m\u001b[1;33m)\u001b[0m\u001b[1;33m:\u001b[0m\u001b[1;33m\u001b[0m\u001b[0m\n\u001b[0m\u001b[0;32m      3\u001b[0m     \u001b[0mtokens\u001b[0m \u001b[1;33m=\u001b[0m \u001b[0mprocessed_text\u001b[0m\u001b[1;33m[\u001b[0m\u001b[0mi\u001b[0m\u001b[1;33m]\u001b[0m\u001b[1;33m\u001b[0m\u001b[0m\n\u001b[0;32m      4\u001b[0m     \u001b[1;32mfor\u001b[0m \u001b[0mw\u001b[0m \u001b[1;32min\u001b[0m \u001b[0mtokens\u001b[0m\u001b[1;33m:\u001b[0m\u001b[1;33m\u001b[0m\u001b[0m\n\u001b[0;32m      5\u001b[0m         \u001b[1;32mtry\u001b[0m\u001b[1;33m:\u001b[0m\u001b[1;33m\u001b[0m\u001b[0m\n",
      "\u001b[1;31mNameError\u001b[0m: name 'processed_text' is not defined"
     ]
    }
   ],
   "source": [
    "DF = {}\n",
    "for i in range(len(processed_text)):\n",
    "    tokens = processed_text[i]\n",
    "    for w in tokens:\n",
    "        try:\n",
    "            DF[w].add(i)\n",
    "        except:\n",
    "            DF[w] = {i}"
   ]
  },
  {
   "cell_type": "code",
   "execution_count": 48,
   "metadata": {},
   "outputs": [],
   "source": [
    "docA = \"The cat sat on my face\"\n",
    "docB = \"The dog sat on my bed\"\n",
    "docC = \"The dog sat on my bed salam\""
   ]
  },
  {
   "cell_type": "code",
   "execution_count": 49,
   "metadata": {},
   "outputs": [],
   "source": [
    "bowA = docA.split(\" \")\n",
    "bowB = docB.split(\" \")\n",
    "bowC = docC.split(\" \")"
   ]
  },
  {
   "cell_type": "code",
   "execution_count": null,
   "metadata": {},
   "outputs": [],
   "source": [
    "docA = \"The quick brwon fox\"\n",
    "docB = \"Brown fox jumps over the jumps jumps jumps\"\n",
    "docC = \"The the the lazy dog elephant\"\n",
    "docD = \"The the the the the dog peacock peacock tiger elephant\""
   ]
  },
  {
   "cell_type": "code",
   "execution_count": 66,
   "metadata": {},
   "outputs": [],
   "source": [
    "a = ['the', 'dog', 'sat', 'on', 'my', 'bed']"
   ]
  },
  {
   "cell_type": "code",
   "execution_count": 80,
   "metadata": {},
   "outputs": [],
   "source": [
    "wordSet = {'the', 'quick', 'brown','fox','jumps','over','lazy','dog','elephant','peacock','peacock','tiger','lion'}"
   ]
  },
  {
   "cell_type": "code",
   "execution_count": 81,
   "metadata": {},
   "outputs": [],
   "source": [
    "wordDictA = dict.fromkeys(wordSet, 0) \n",
    "wordDictB = dict.fromkeys(wordSet, 0)\n",
    "wordDictC = dict.fromkeys(wordSet, 0) \n",
    "wordDictD = dict.fromkeys(wordSet, 0)"
   ]
  },
  {
   "cell_type": "code",
   "execution_count": 82,
   "metadata": {},
   "outputs": [
    {
     "data": {
      "text/plain": [
       "{'brown': 0,\n",
       " 'dog': 0,\n",
       " 'elephant': 0,\n",
       " 'fox': 0,\n",
       " 'jumps': 0,\n",
       " 'lazy': 0,\n",
       " 'lion': 0,\n",
       " 'over': 0,\n",
       " 'peacock': 0,\n",
       " 'quick': 0,\n",
       " 'the': 0,\n",
       " 'tiger': 0}"
      ]
     },
     "execution_count": 82,
     "metadata": {},
     "output_type": "execute_result"
    }
   ],
   "source": [
    "wordDictD"
   ]
  },
  {
   "cell_type": "code",
   "execution_count": 83,
   "metadata": {},
   "outputs": [],
   "source": [
    "bowA = ['the', 'quick', 'brown', 'fox']\n",
    "\n",
    "for word in bowA:\n",
    "    wordDictA[word]+=1"
   ]
  },
  {
   "cell_type": "code",
   "execution_count": 84,
   "metadata": {},
   "outputs": [],
   "source": [
    "bowB = ['brown', 'fox', 'jumps', 'over','the', 'jumps' ,'jumps']\n",
    "\n",
    "for word in bowB:\n",
    "    wordDictB[word]+=1"
   ]
  },
  {
   "cell_type": "code",
   "execution_count": 85,
   "metadata": {},
   "outputs": [],
   "source": [
    "bowC = ['the', 'the', 'the', 'lazy','dog', 'elephant']\n",
    "\n",
    "for word in bowC:\n",
    "    wordDictC[word]+=1"
   ]
  },
  {
   "cell_type": "code",
   "execution_count": 86,
   "metadata": {},
   "outputs": [],
   "source": [
    "bowD = ['the', 'the', 'the', 'the','the','dog','peacock', 'lion', 'tiger', 'elephant']\n",
    "\n",
    "for word in bowD:\n",
    "    wordDictD[word]+=1"
   ]
  },
  {
   "cell_type": "code",
   "execution_count": 89,
   "metadata": {},
   "outputs": [
    {
     "data": {
      "text/html": [
       "<div>\n",
       "<style scoped>\n",
       "    .dataframe tbody tr th:only-of-type {\n",
       "        vertical-align: middle;\n",
       "    }\n",
       "\n",
       "    .dataframe tbody tr th {\n",
       "        vertical-align: top;\n",
       "    }\n",
       "\n",
       "    .dataframe thead th {\n",
       "        text-align: right;\n",
       "    }\n",
       "</style>\n",
       "<table border=\"1\" class=\"dataframe\">\n",
       "  <thead>\n",
       "    <tr style=\"text-align: right;\">\n",
       "      <th></th>\n",
       "      <th>brown</th>\n",
       "      <th>dog</th>\n",
       "      <th>elephant</th>\n",
       "      <th>fox</th>\n",
       "      <th>jumps</th>\n",
       "      <th>lazy</th>\n",
       "      <th>lion</th>\n",
       "      <th>over</th>\n",
       "      <th>peacock</th>\n",
       "      <th>quick</th>\n",
       "      <th>the</th>\n",
       "      <th>tiger</th>\n",
       "    </tr>\n",
       "  </thead>\n",
       "  <tbody>\n",
       "    <tr>\n",
       "      <th>0</th>\n",
       "      <td>1</td>\n",
       "      <td>0</td>\n",
       "      <td>0</td>\n",
       "      <td>1</td>\n",
       "      <td>0</td>\n",
       "      <td>0</td>\n",
       "      <td>0</td>\n",
       "      <td>0</td>\n",
       "      <td>0</td>\n",
       "      <td>1</td>\n",
       "      <td>1</td>\n",
       "      <td>0</td>\n",
       "    </tr>\n",
       "    <tr>\n",
       "      <th>1</th>\n",
       "      <td>1</td>\n",
       "      <td>0</td>\n",
       "      <td>0</td>\n",
       "      <td>1</td>\n",
       "      <td>3</td>\n",
       "      <td>0</td>\n",
       "      <td>0</td>\n",
       "      <td>1</td>\n",
       "      <td>0</td>\n",
       "      <td>0</td>\n",
       "      <td>1</td>\n",
       "      <td>0</td>\n",
       "    </tr>\n",
       "    <tr>\n",
       "      <th>2</th>\n",
       "      <td>0</td>\n",
       "      <td>1</td>\n",
       "      <td>1</td>\n",
       "      <td>0</td>\n",
       "      <td>0</td>\n",
       "      <td>1</td>\n",
       "      <td>0</td>\n",
       "      <td>0</td>\n",
       "      <td>0</td>\n",
       "      <td>0</td>\n",
       "      <td>3</td>\n",
       "      <td>0</td>\n",
       "    </tr>\n",
       "    <tr>\n",
       "      <th>3</th>\n",
       "      <td>0</td>\n",
       "      <td>1</td>\n",
       "      <td>1</td>\n",
       "      <td>0</td>\n",
       "      <td>0</td>\n",
       "      <td>0</td>\n",
       "      <td>1</td>\n",
       "      <td>0</td>\n",
       "      <td>1</td>\n",
       "      <td>0</td>\n",
       "      <td>5</td>\n",
       "      <td>1</td>\n",
       "    </tr>\n",
       "  </tbody>\n",
       "</table>\n",
       "</div>"
      ],
      "text/plain": [
       "   brown  dog  elephant  fox  jumps  lazy  lion  over  peacock  quick  the  \\\n",
       "0      1    0         0    1      0     0     0     0        0      1    1   \n",
       "1      1    0         0    1      3     0     0     1        0      0    1   \n",
       "2      0    1         1    0      0     1     0     0        0      0    3   \n",
       "3      0    1         1    0      0     0     1     0        1      0    5   \n",
       "\n",
       "   tiger  \n",
       "0      0  \n",
       "1      0  \n",
       "2      0  \n",
       "3      1  "
      ]
     },
     "execution_count": 89,
     "metadata": {},
     "output_type": "execute_result"
    }
   ],
   "source": [
    "import pandas as pd\n",
    "pd.DataFrame([wordDictA, wordDictB, wordDictC, wordDictD])"
   ]
  },
  {
   "cell_type": "code",
   "execution_count": 90,
   "metadata": {},
   "outputs": [],
   "source": [
    "def computeTF(wordDict, bow):\n",
    "    tfDict = {}\n",
    "    bowCount = len(bow)\n",
    "    for word, count in wordDict.items():\n",
    "        tfDict[word] = count/float(bowCount)\n",
    "    return tfDict"
   ]
  },
  {
   "cell_type": "code",
   "execution_count": 91,
   "metadata": {},
   "outputs": [],
   "source": [
    "tfBowA = computeTF(wordDictA, bowA)\n",
    "tfBowB = computeTF(wordDictB, bowB)\n",
    "tfBowC = computeTF(wordDictC, bowC)\n",
    "tfBowD = computeTF(wordDictD, bowD)"
   ]
  },
  {
   "cell_type": "code",
   "execution_count": 92,
   "metadata": {},
   "outputs": [],
   "source": [
    "def computeIDF(docList):\n",
    "    import math\n",
    "    idfDict = {}\n",
    "    N = len(docList)\n",
    "    \n",
    "    idfDict = dict.fromkeys(docList[0].keys(), 0)\n",
    "    for doc in docList:\n",
    "        for word, val in doc.items():\n",
    "            if val > 0:\n",
    "                idfDict[word] += 1\n",
    "    \n",
    "    for word, val in idfDict.items():\n",
    "        idfDict[word] = math.log10(N / float(val)+1)\n",
    "        \n",
    "    return idfDict"
   ]
  },
  {
   "cell_type": "code",
   "execution_count": 93,
   "metadata": {},
   "outputs": [],
   "source": [
    "idfs = computeIDF([wordDictA, wordDictB , wordDictC, wordDictD])"
   ]
  },
  {
   "cell_type": "code",
   "execution_count": 94,
   "metadata": {},
   "outputs": [],
   "source": [
    "def computeTFIDF(tfBow, idfs):\n",
    "    tfidf = {}\n",
    "    for word, val in tfBow.items():\n",
    "        tfidf[word] = val*idfs[word]\n",
    "    return tfidf"
   ]
  },
  {
   "cell_type": "code",
   "execution_count": 95,
   "metadata": {},
   "outputs": [],
   "source": [
    "tfidfBowA = computeTFIDF(tfBowA, idfs)\n",
    "tfidfBowB = computeTFIDF(tfBowB, idfs)\n",
    "tfidfBowC = computeTFIDF(tfBowC, idfs)\n",
    "tfidfBowD = computeTFIDF(tfBowD, idfs)"
   ]
  },
  {
   "cell_type": "code",
   "execution_count": 96,
   "metadata": {},
   "outputs": [
    {
     "data": {
      "text/html": [
       "<div>\n",
       "<style scoped>\n",
       "    .dataframe tbody tr th:only-of-type {\n",
       "        vertical-align: middle;\n",
       "    }\n",
       "\n",
       "    .dataframe tbody tr th {\n",
       "        vertical-align: top;\n",
       "    }\n",
       "\n",
       "    .dataframe thead th {\n",
       "        text-align: right;\n",
       "    }\n",
       "</style>\n",
       "<table border=\"1\" class=\"dataframe\">\n",
       "  <thead>\n",
       "    <tr style=\"text-align: right;\">\n",
       "      <th></th>\n",
       "      <th>brown</th>\n",
       "      <th>dog</th>\n",
       "      <th>elephant</th>\n",
       "      <th>fox</th>\n",
       "      <th>jumps</th>\n",
       "      <th>lazy</th>\n",
       "      <th>lion</th>\n",
       "      <th>over</th>\n",
       "      <th>peacock</th>\n",
       "      <th>quick</th>\n",
       "      <th>the</th>\n",
       "      <th>tiger</th>\n",
       "    </tr>\n",
       "  </thead>\n",
       "  <tbody>\n",
       "    <tr>\n",
       "      <th>0</th>\n",
       "      <td>0.11928</td>\n",
       "      <td>0.000000</td>\n",
       "      <td>0.000000</td>\n",
       "      <td>0.11928</td>\n",
       "      <td>0.000000</td>\n",
       "      <td>0.000000</td>\n",
       "      <td>0.000000</td>\n",
       "      <td>0.000000</td>\n",
       "      <td>0.000000</td>\n",
       "      <td>0.174743</td>\n",
       "      <td>0.075257</td>\n",
       "      <td>0.000000</td>\n",
       "    </tr>\n",
       "    <tr>\n",
       "      <th>1</th>\n",
       "      <td>0.06816</td>\n",
       "      <td>0.000000</td>\n",
       "      <td>0.000000</td>\n",
       "      <td>0.06816</td>\n",
       "      <td>0.299559</td>\n",
       "      <td>0.000000</td>\n",
       "      <td>0.000000</td>\n",
       "      <td>0.099853</td>\n",
       "      <td>0.000000</td>\n",
       "      <td>0.000000</td>\n",
       "      <td>0.043004</td>\n",
       "      <td>0.000000</td>\n",
       "    </tr>\n",
       "    <tr>\n",
       "      <th>2</th>\n",
       "      <td>0.00000</td>\n",
       "      <td>0.079520</td>\n",
       "      <td>0.079520</td>\n",
       "      <td>0.00000</td>\n",
       "      <td>0.000000</td>\n",
       "      <td>0.116495</td>\n",
       "      <td>0.000000</td>\n",
       "      <td>0.000000</td>\n",
       "      <td>0.000000</td>\n",
       "      <td>0.000000</td>\n",
       "      <td>0.150515</td>\n",
       "      <td>0.000000</td>\n",
       "    </tr>\n",
       "    <tr>\n",
       "      <th>3</th>\n",
       "      <td>0.00000</td>\n",
       "      <td>0.047712</td>\n",
       "      <td>0.047712</td>\n",
       "      <td>0.00000</td>\n",
       "      <td>0.000000</td>\n",
       "      <td>0.000000</td>\n",
       "      <td>0.069897</td>\n",
       "      <td>0.000000</td>\n",
       "      <td>0.069897</td>\n",
       "      <td>0.000000</td>\n",
       "      <td>0.150515</td>\n",
       "      <td>0.069897</td>\n",
       "    </tr>\n",
       "  </tbody>\n",
       "</table>\n",
       "</div>"
      ],
      "text/plain": [
       "     brown       dog  elephant      fox     jumps      lazy      lion  \\\n",
       "0  0.11928  0.000000  0.000000  0.11928  0.000000  0.000000  0.000000   \n",
       "1  0.06816  0.000000  0.000000  0.06816  0.299559  0.000000  0.000000   \n",
       "2  0.00000  0.079520  0.079520  0.00000  0.000000  0.116495  0.000000   \n",
       "3  0.00000  0.047712  0.047712  0.00000  0.000000  0.000000  0.069897   \n",
       "\n",
       "       over   peacock     quick       the     tiger  \n",
       "0  0.000000  0.000000  0.174743  0.075257  0.000000  \n",
       "1  0.099853  0.000000  0.000000  0.043004  0.000000  \n",
       "2  0.000000  0.000000  0.000000  0.150515  0.000000  \n",
       "3  0.000000  0.069897  0.000000  0.150515  0.069897  "
      ]
     },
     "execution_count": 96,
     "metadata": {},
     "output_type": "execute_result"
    }
   ],
   "source": [
    "import pandas as pd\n",
    "pd.DataFrame([tfidfBowA, tfidfBowB, tfidfBowC, tfidfBowD])"
   ]
  },
  {
   "cell_type": "code",
   "execution_count": 97,
   "metadata": {},
   "outputs": [],
   "source": [
    "a = pd.DataFrame([tfidfBowA, tfidfBowB, tfidfBowC, tfidfBowD])"
   ]
  },
  {
   "cell_type": "code",
   "execution_count": 98,
   "metadata": {},
   "outputs": [
    {
     "name": "stdout",
     "output_type": "stream",
     "text": [
      "     brown       dog  elephant      fox     jumps      lazy      lion  \\\n",
      "0  0.11928  0.000000  0.000000  0.11928  0.000000  0.000000  0.000000   \n",
      "1  0.06816  0.000000  0.000000  0.06816  0.299559  0.000000  0.000000   \n",
      "2  0.00000  0.079520  0.079520  0.00000  0.000000  0.116495  0.000000   \n",
      "3  0.00000  0.047712  0.047712  0.00000  0.000000  0.000000  0.069897   \n",
      "\n",
      "       over   peacock     quick       the     tiger  \n",
      "0  0.000000  0.000000  0.174743  0.075257  0.000000  \n",
      "1  0.099853  0.000000  0.000000  0.043004  0.000000  \n",
      "2  0.000000  0.000000  0.000000  0.150515  0.000000  \n",
      "3  0.000000  0.069897  0.000000  0.150515  0.069897  \n"
     ]
    }
   ],
   "source": [
    "print a"
   ]
  },
  {
   "cell_type": "code",
   "execution_count": 99,
   "metadata": {},
   "outputs": [],
   "source": [
    "b = a"
   ]
  },
  {
   "cell_type": "code",
   "execution_count": 103,
   "metadata": {
    "scrolled": true
   },
   "outputs": [
    {
     "data": {
      "text/html": [
       "<div>\n",
       "<style scoped>\n",
       "    .dataframe tbody tr th:only-of-type {\n",
       "        vertical-align: middle;\n",
       "    }\n",
       "\n",
       "    .dataframe tbody tr th {\n",
       "        vertical-align: top;\n",
       "    }\n",
       "\n",
       "    .dataframe thead th {\n",
       "        text-align: right;\n",
       "    }\n",
       "</style>\n",
       "<table border=\"1\" class=\"dataframe\">\n",
       "  <thead>\n",
       "    <tr style=\"text-align: right;\">\n",
       "      <th></th>\n",
       "      <th>brown</th>\n",
       "      <th>dog</th>\n",
       "      <th>elephant</th>\n",
       "      <th>fox</th>\n",
       "      <th>jumps</th>\n",
       "      <th>lazy</th>\n",
       "      <th>lion</th>\n",
       "      <th>over</th>\n",
       "      <th>peacock</th>\n",
       "      <th>quick</th>\n",
       "      <th>the</th>\n",
       "      <th>tiger</th>\n",
       "    </tr>\n",
       "  </thead>\n",
       "  <tbody>\n",
       "    <tr>\n",
       "      <th>0</th>\n",
       "      <td>0.11928</td>\n",
       "      <td>0.000000</td>\n",
       "      <td>0.000000</td>\n",
       "      <td>0.11928</td>\n",
       "      <td>0.000000</td>\n",
       "      <td>0.000000</td>\n",
       "      <td>0.000000</td>\n",
       "      <td>0.000000</td>\n",
       "      <td>0.000000</td>\n",
       "      <td>0.174743</td>\n",
       "      <td>0.075257</td>\n",
       "      <td>0.000000</td>\n",
       "    </tr>\n",
       "    <tr>\n",
       "      <th>1</th>\n",
       "      <td>0.06816</td>\n",
       "      <td>0.000000</td>\n",
       "      <td>0.000000</td>\n",
       "      <td>0.06816</td>\n",
       "      <td>0.299559</td>\n",
       "      <td>0.000000</td>\n",
       "      <td>0.000000</td>\n",
       "      <td>0.099853</td>\n",
       "      <td>0.000000</td>\n",
       "      <td>0.000000</td>\n",
       "      <td>0.043004</td>\n",
       "      <td>0.000000</td>\n",
       "    </tr>\n",
       "    <tr>\n",
       "      <th>2</th>\n",
       "      <td>0.00000</td>\n",
       "      <td>0.079520</td>\n",
       "      <td>0.079520</td>\n",
       "      <td>0.00000</td>\n",
       "      <td>0.000000</td>\n",
       "      <td>0.116495</td>\n",
       "      <td>0.000000</td>\n",
       "      <td>0.000000</td>\n",
       "      <td>0.000000</td>\n",
       "      <td>0.000000</td>\n",
       "      <td>0.150515</td>\n",
       "      <td>0.000000</td>\n",
       "    </tr>\n",
       "    <tr>\n",
       "      <th>3</th>\n",
       "      <td>0.00000</td>\n",
       "      <td>0.047712</td>\n",
       "      <td>0.047712</td>\n",
       "      <td>0.00000</td>\n",
       "      <td>0.000000</td>\n",
       "      <td>0.000000</td>\n",
       "      <td>0.069897</td>\n",
       "      <td>0.000000</td>\n",
       "      <td>0.069897</td>\n",
       "      <td>0.000000</td>\n",
       "      <td>0.150515</td>\n",
       "      <td>0.069897</td>\n",
       "    </tr>\n",
       "  </tbody>\n",
       "</table>\n",
       "</div>"
      ],
      "text/plain": [
       "     brown       dog  elephant      fox     jumps      lazy      lion  \\\n",
       "0  0.11928  0.000000  0.000000  0.11928  0.000000  0.000000  0.000000   \n",
       "1  0.06816  0.000000  0.000000  0.06816  0.299559  0.000000  0.000000   \n",
       "2  0.00000  0.079520  0.079520  0.00000  0.000000  0.116495  0.000000   \n",
       "3  0.00000  0.047712  0.047712  0.00000  0.000000  0.000000  0.069897   \n",
       "\n",
       "       over   peacock     quick       the     tiger  \n",
       "0  0.000000  0.000000  0.174743  0.075257  0.000000  \n",
       "1  0.099853  0.000000  0.000000  0.043004  0.000000  \n",
       "2  0.000000  0.000000  0.000000  0.150515  0.000000  \n",
       "3  0.000000  0.069897  0.000000  0.150515  0.069897  "
      ]
     },
     "execution_count": 103,
     "metadata": {},
     "output_type": "execute_result"
    }
   ],
   "source": [
    "b"
   ]
  },
  {
   "cell_type": "code",
   "execution_count": 104,
   "metadata": {},
   "outputs": [],
   "source": [
    "b = b.values"
   ]
  },
  {
   "cell_type": "code",
   "execution_count": 105,
   "metadata": {},
   "outputs": [
    {
     "name": "stdout",
     "output_type": "stream",
     "text": [
      "[[0.11928031 0.         0.         0.11928031 0.         0.\n",
      "  0.         0.         0.         0.1747425  0.0752575  0.        ]\n",
      " [0.06816018 0.         0.         0.06816018 0.29955857 0.\n",
      "  0.         0.09985286 0.         0.         0.04300429 0.        ]\n",
      " [0.         0.07952021 0.07952021 0.         0.         0.116495\n",
      "  0.         0.         0.         0.         0.150515   0.        ]\n",
      " [0.         0.04771213 0.04771213 0.         0.         0.\n",
      "  0.069897   0.         0.069897   0.         0.150515   0.069897  ]]\n"
     ]
    }
   ],
   "source": [
    "print b"
   ]
  },
  {
   "cell_type": "code",
   "execution_count": 106,
   "metadata": {},
   "outputs": [
    {
     "ename": "NameError",
     "evalue": "name 'np' is not defined",
     "output_type": "error",
     "traceback": [
      "\u001b[1;31m\u001b[0m",
      "\u001b[1;31mNameError\u001b[0mTraceback (most recent call last)",
      "\u001b[1;32m<ipython-input-106-8fc1353beced>\u001b[0m in \u001b[0;36m<module>\u001b[1;34m()\u001b[0m\n\u001b[1;32m----> 1\u001b[1;33m \u001b[0mU\u001b[0m\u001b[1;33m,\u001b[0m \u001b[0mD\u001b[0m\u001b[1;33m,\u001b[0m \u001b[0mV\u001b[0m \u001b[1;33m=\u001b[0m \u001b[0mnp\u001b[0m\u001b[1;33m.\u001b[0m\u001b[0mlinalg\u001b[0m\u001b[1;33m.\u001b[0m\u001b[0msvd\u001b[0m\u001b[1;33m(\u001b[0m\u001b[0mb\u001b[0m\u001b[1;33m)\u001b[0m\u001b[1;33m\u001b[0m\u001b[0m\n\u001b[0m",
      "\u001b[1;31mNameError\u001b[0m: name 'np' is not defined"
     ]
    }
   ],
   "source": [
    "U, D, V = np.linalg.svd(b)"
   ]
  },
  {
   "cell_type": "code",
   "execution_count": 108,
   "metadata": {},
   "outputs": [],
   "source": [
    "import numpy as np\n",
    "u, s, vh = np.linalg.svd(b)"
   ]
  },
  {
   "cell_type": "code",
   "execution_count": 112,
   "metadata": {},
   "outputs": [
    {
     "name": "stdout",
     "output_type": "stream",
     "text": [
      "(4L, 4L)\n"
     ]
    }
   ],
   "source": [
    "print u.shape"
   ]
  },
  {
   "cell_type": "code",
   "execution_count": null,
   "metadata": {},
   "outputs": [],
   "source": []
  },
  {
   "cell_type": "code",
   "execution_count": 113,
   "metadata": {},
   "outputs": [
    {
     "name": "stdout",
     "output_type": "stream",
     "text": [
      "(4L,)\n"
     ]
    }
   ],
   "source": [
    "print s.shape"
   ]
  },
  {
   "cell_type": "code",
   "execution_count": 114,
   "metadata": {},
   "outputs": [
    {
     "name": "stdout",
     "output_type": "stream",
     "text": [
      "(12L, 12L)\n"
     ]
    }
   ],
   "source": [
    "print vh.shape"
   ]
  },
  {
   "cell_type": "code",
   "execution_count": 119,
   "metadata": {},
   "outputs": [
    {
     "data": {
      "text/plain": [
       "<matplotlib.collections.PathCollection at 0x1fa400f0>"
      ]
     },
     "execution_count": 119,
     "metadata": {},
     "output_type": "execute_result"
    },
    {
     "data": {
      "image/png": "[encoded data removed]",
      "text/plain": [
       "<Figure size 432x288 with 1 Axes>"
      ]
     },
     "metadata": {
      "needs_background": "light"
     },
     "output_type": "display_data"
    }
   ],
   "source": [
    "%matplotlib inline\n",
    "import matplotlib.pyplot as plt\n",
    "\n",
    "plt.scatter(u[0],s , marker='o')"
   ]
  },
  {
   "cell_type": "code",
   "execution_count": 120,
   "metadata": {},
   "outputs": [
    {
     "data": {
      "text/plain": [
       "<matplotlib.collections.PathCollection at 0x1fdfc470>"
      ]
     },
     "execution_count": 120,
     "metadata": {},
     "output_type": "execute_result"
    },
    {
     "data": {
      "image/png": "[encoded data removed]",
      "text/plain": [
       "<Figure size 432x288 with 1 Axes>"
      ]
     },
     "metadata": {
      "needs_background": "light"
     },
     "output_type": "display_data"
    }
   ],
   "source": [
    "%matplotlib inline\n",
    "import matplotlib.pyplot as plt\n",
    "\n",
    "plt.scatter(u[1],s , marker='o')"
   ]
  },
  {
   "cell_type": "code",
   "execution_count": 121,
   "metadata": {},
   "outputs": [
    {
     "data": {
      "text/plain": [
       "<matplotlib.collections.PathCollection at 0x1fea99e8>"
      ]
     },
     "execution_count": 121,
     "metadata": {},
     "output_type": "execute_result"
    },
    {
     "data": {
      "image/png": "[encoded data removed]",
      "text/plain": [
       "<Figure size 432x288 with 1 Axes>"
      ]
     },
     "metadata": {
      "needs_background": "light"
     },
     "output_type": "display_data"
    }
   ],
   "source": [
    "%matplotlib inline\n",
    "import matplotlib.pyplot as plt\n",
    "\n",
    "plt.scatter(u[2],s , marker='o')"
   ]
  },
  {
   "cell_type": "code",
   "execution_count": 122,
   "metadata": {},
   "outputs": [
    {
     "data": {
      "text/plain": [
       "<matplotlib.collections.PathCollection at 0x2004e780>"
      ]
     },
     "execution_count": 122,
     "metadata": {},
     "output_type": "execute_result"
    },
    {
     "data": {
      "image/png": "[encoded data removed]",
      "text/plain": [
       "<Figure size 432x288 with 1 Axes>"
      ]
     },
     "metadata": {
      "needs_background": "light"
     },
     "output_type": "display_data"
    }
   ],
   "source": [
    "%matplotlib inline\n",
    "import matplotlib.pyplot as plt\n",
    "\n",
    "plt.scatter(u[3],s , marker='o')"
   ]
  },
  {
   "cell_type": "code",
   "execution_count": 123,
   "metadata": {},
   "outputs": [
    {
     "data": {
      "text/plain": [
       "<matplotlib.collections.PathCollection at 0x202c61d0>"
      ]
     },
     "execution_count": 123,
     "metadata": {},
     "output_type": "execute_result"
    },
    {
     "data": {
      "image/png": "[encoded data removed]",
      "text/plain": [
       "<Figure size 432x288 with 1 Axes>"
      ]
     },
     "metadata": {
      "needs_background": "light"
     },
     "output_type": "display_data"
    }
   ],
   "source": [
    "%matplotlib inline\n",
    "import matplotlib.pyplot as plt\n",
    "\n",
    "plt.scatter(u[0],u[1] , marker='o')"
   ]
  },
  {
   "cell_type": "code",
   "execution_count": 124,
   "metadata": {},
   "outputs": [
    {
     "data": {
      "text/plain": [
       "<matplotlib.collections.PathCollection at 0x202edb38>"
      ]
     },
     "execution_count": 124,
     "metadata": {},
     "output_type": "execute_result"
    },
    {
     "data": {
      "image/png": "[encoded data removed]",
      "text/plain": [
       "<Figure size 432x288 with 1 Axes>"
      ]
     },
     "metadata": {
      "needs_background": "light"
     },
     "output_type": "display_data"
    }
   ],
   "source": [
    "%matplotlib inline\n",
    "import matplotlib.pyplot as plt\n",
    "\n",
    "plt.scatter(u[0],u[2] , marker='o')"
   ]
  },
  {
   "cell_type": "code",
   "execution_count": null,
   "metadata": {},
   "outputs": [],
   "source": [
    "R <- svd(X)\n",
    "U <- R$u\n",
    "V <- R$v\n",
    "S <- diag(R$d)\n",
    "\n",
    "plot(V[,1], V[,2], main=\"Graph of documents space 2D\", pch=20, col=1)\n",
    "text(V[,1], V[,2], seq(nbDoc), pos=2,col=\"red\")\n",
    "\n",
    "### (IMPORTANT!!! It is not always possible to draw all terms appearing in U!! Better use a subset)\n",
    "plot(U[,1], U[,2], main=\"Graph of terms space 2D\", pch=20, col=1)\n",
    "text(U[,1], U[,2], seq(nbTerms), pos=2,col=\"red\")\n",
    "\n",
    "## Graphing U and V \n",
    "plot(U[,1], U[,2], main=\"Graph of doc/terms space 2D\", pch=20, col=1)\n",
    "points(V[,1], V[,2], pch=20, col=\"green\")\n",
    "text(V[,1], V[,2], seq(nbDoc), pos=2,col=\"green\")\n",
    "text(U[,1], U[,2], seq(nbTerms), pos=2,col=\"red\")\n",
    "\n",
    "## Ploting the singular value gives you an idea of the weigth of each vector.\n",
    "## The first is the most important\n",
    "plot(seq(1:length(R$d)), R$d, type=\"b\")\n",
    "\n",
    "### To respect the litterature!\n",
    "VS <- V %*% S\n",
    "US <- U %*% S\n",
    "plot(VS[,1], VS[,2], main=\"Graph of documents space 2D\", pch=20, col=1)\n",
    "text(VS[,1], VS[,2], seq(nbDoc), pos=2,col=\"red\")\n",
    "plot(US[,1], US[,2], main=\"Graph of doc/terms space 2D\", pch=20, col=1)\n",
    "points(VS[,1], VS[,2], pch=20, col=\"green\")\n",
    "text(VS[,1], VS[,2], seq(nbDoc), pos=2,col=\"green\")\n",
    "text(US[,1], US[,2], seq(nbTerms), pos=2,col=\"red\")\n",
    "\n",
    "# some useful index if you want to test one term in particular"
   ]
  },
  {
   "cell_type": "code",
   "execution_count": 125,
   "metadata": {},
   "outputs": [
    {
     "data": {
      "text/html": [
       "<div>\n",
       "<style scoped>\n",
       "    .dataframe tbody tr th:only-of-type {\n",
       "        vertical-align: middle;\n",
       "    }\n",
       "\n",
       "    .dataframe tbody tr th {\n",
       "        vertical-align: top;\n",
       "    }\n",
       "\n",
       "    .dataframe thead th {\n",
       "        text-align: right;\n",
       "    }\n",
       "</style>\n",
       "<table border=\"1\" class=\"dataframe\">\n",
       "  <thead>\n",
       "    <tr style=\"text-align: right;\">\n",
       "      <th></th>\n",
       "      <th>brown</th>\n",
       "      <th>dog</th>\n",
       "      <th>elephant</th>\n",
       "      <th>fox</th>\n",
       "      <th>jumps</th>\n",
       "      <th>lazy</th>\n",
       "      <th>lion</th>\n",
       "      <th>over</th>\n",
       "      <th>peacock</th>\n",
       "      <th>quick</th>\n",
       "      <th>the</th>\n",
       "      <th>tiger</th>\n",
       "    </tr>\n",
       "  </thead>\n",
       "  <tbody>\n",
       "    <tr>\n",
       "      <th>0</th>\n",
       "      <td>0.11928</td>\n",
       "      <td>0.000000</td>\n",
       "      <td>0.000000</td>\n",
       "      <td>0.11928</td>\n",
       "      <td>0.000000</td>\n",
       "      <td>0.000000</td>\n",
       "      <td>0.000000</td>\n",
       "      <td>0.000000</td>\n",
       "      <td>0.000000</td>\n",
       "      <td>0.174743</td>\n",
       "      <td>0.075257</td>\n",
       "      <td>0.000000</td>\n",
       "    </tr>\n",
       "    <tr>\n",
       "      <th>1</th>\n",
       "      <td>0.06816</td>\n",
       "      <td>0.000000</td>\n",
       "      <td>0.000000</td>\n",
       "      <td>0.06816</td>\n",
       "      <td>0.299559</td>\n",
       "      <td>0.000000</td>\n",
       "      <td>0.000000</td>\n",
       "      <td>0.099853</td>\n",
       "      <td>0.000000</td>\n",
       "      <td>0.000000</td>\n",
       "      <td>0.043004</td>\n",
       "      <td>0.000000</td>\n",
       "    </tr>\n",
       "    <tr>\n",
       "      <th>2</th>\n",
       "      <td>0.00000</td>\n",
       "      <td>0.079520</td>\n",
       "      <td>0.079520</td>\n",
       "      <td>0.00000</td>\n",
       "      <td>0.000000</td>\n",
       "      <td>0.116495</td>\n",
       "      <td>0.000000</td>\n",
       "      <td>0.000000</td>\n",
       "      <td>0.000000</td>\n",
       "      <td>0.000000</td>\n",
       "      <td>0.150515</td>\n",
       "      <td>0.000000</td>\n",
       "    </tr>\n",
       "    <tr>\n",
       "      <th>3</th>\n",
       "      <td>0.00000</td>\n",
       "      <td>0.047712</td>\n",
       "      <td>0.047712</td>\n",
       "      <td>0.00000</td>\n",
       "      <td>0.000000</td>\n",
       "      <td>0.000000</td>\n",
       "      <td>0.069897</td>\n",
       "      <td>0.000000</td>\n",
       "      <td>0.069897</td>\n",
       "      <td>0.000000</td>\n",
       "      <td>0.150515</td>\n",
       "      <td>0.069897</td>\n",
       "    </tr>\n",
       "  </tbody>\n",
       "</table>\n",
       "</div>"
      ],
      "text/plain": [
       "     brown       dog  elephant      fox     jumps      lazy      lion  \\\n",
       "0  0.11928  0.000000  0.000000  0.11928  0.000000  0.000000  0.000000   \n",
       "1  0.06816  0.000000  0.000000  0.06816  0.299559  0.000000  0.000000   \n",
       "2  0.00000  0.079520  0.079520  0.00000  0.000000  0.116495  0.000000   \n",
       "3  0.00000  0.047712  0.047712  0.00000  0.000000  0.000000  0.069897   \n",
       "\n",
       "       over   peacock     quick       the     tiger  \n",
       "0  0.000000  0.000000  0.174743  0.075257  0.000000  \n",
       "1  0.099853  0.000000  0.000000  0.043004  0.000000  \n",
       "2  0.000000  0.000000  0.000000  0.150515  0.000000  \n",
       "3  0.000000  0.069897  0.000000  0.150515  0.069897  "
      ]
     },
     "execution_count": 125,
     "metadata": {},
     "output_type": "execute_result"
    }
   ],
   "source": [
    "a"
   ]
  },
  {
   "cell_type": "code",
   "execution_count": 126,
   "metadata": {},
   "outputs": [],
   "source": [
    "a.to_csv(\"matrix.tab\",sep=\"\\t\",header=False,index=False)"
   ]
  },
  {
   "cell_type": "code",
   "execution_count": 127,
   "metadata": {},
   "outputs": [
    {
     "data": {
      "text/plain": [
       "u'C:\\\\Users\\\\An47880'"
      ]
     },
     "execution_count": 127,
     "metadata": {},
     "output_type": "execute_result"
    }
   ],
   "source": [
    "pwd"
   ]
  },
  {
   "cell_type": "code",
   "execution_count": 128,
   "metadata": {},
   "outputs": [
    {
     "data": {
      "text/plain": [
       "<matplotlib.collections.PathCollection at 0x20607e48>"
      ]
     },
     "execution_count": 128,
     "metadata": {},
     "output_type": "execute_result"
    },
    {
     "data": {
      "image/png": "[encoded data removed]",
      "text/plain": [
       "<Figure size 432x288 with 1 Axes>"
      ]
     },
     "metadata": {
      "needs_background": "light"
     },
     "output_type": "display_data"
    }
   ],
   "source": [
    "%matplotlib inline\n",
    "import matplotlib.pyplot as plt\n",
    "\n",
    "plt.scatter(u,u , marker='o')"
   ]
  },
  {
   "cell_type": "code",
   "execution_count": 129,
   "metadata": {},
   "outputs": [
    {
     "data": {
      "text/plain": [
       "<matplotlib.collections.PathCollection at 0x207e5048>"
      ]
     },
     "execution_count": 129,
     "metadata": {},
     "output_type": "execute_result"
    },
    {
     "data": {
      "image/png": "[encoded data removed]",
      "text/plain": [
       "<Figure size 432x288 with 1 Axes>"
      ]
     },
     "metadata": {
      "needs_background": "light"
     },
     "output_type": "display_data"
    }
   ],
   "source": [
    "%matplotlib inline\n",
    "import matplotlib.pyplot as plt\n",
    "\n",
    "plt.scatter(s,s , marker='o')"
   ]
  },
  {
   "cell_type": "code",
   "execution_count": 130,
   "metadata": {},
   "outputs": [
    {
     "data": {
      "text/plain": [
       "<matplotlib.collections.PathCollection at 0x2091f550>"
      ]
     },
     "execution_count": 130,
     "metadata": {},
     "output_type": "execute_result"
    },
    {
     "data": {
      "image/png": "[encoded data removed]",
      "text/plain": [
       "<Figure size 432x288 with 1 Axes>"
      ]
     },
     "metadata": {
      "needs_background": "light"
     },
     "output_type": "display_data"
    }
   ],
   "source": [
    "%matplotlib inline\n",
    "import matplotlib.pyplot as plt\n",
    "\n",
    "plt.scatter(vh,vh , marker='o')"
   ]
  },
  {
   "cell_type": "code",
   "execution_count": 132,
   "metadata": {},
   "outputs": [
    {
     "data": {
      "text/plain": [
       "<matplotlib.collections.PathCollection at 0x20b73550>"
      ]
     },
     "execution_count": 132,
     "metadata": {},
     "output_type": "execute_result"
    },
    {
     "data": {
      "image/png": "[encoded data removed]",
      "text/plain": [
       "<Figure size 432x288 with 1 Axes>"
      ]
     },
     "metadata": {
      "needs_background": "light"
     },
     "output_type": "display_data"
    }
   ],
   "source": [
    "%matplotlib inline\n",
    "import matplotlib.pyplot as plt\n",
    "\n",
    "plt.scatter(vh,vh , marker='o')"
   ]
  },
  {
   "cell_type": "code",
   "execution_count": 133,
   "metadata": {},
   "outputs": [
    {
     "name": "stdout",
     "output_type": "stream",
     "text": [
      "     brown       dog  elephant      fox     jumps      lazy      lion  \\\n",
      "0  0.11928  0.000000  0.000000  0.11928  0.000000  0.000000  0.000000   \n",
      "1  0.06816  0.000000  0.000000  0.06816  0.299559  0.000000  0.000000   \n",
      "2  0.00000  0.079520  0.079520  0.00000  0.000000  0.116495  0.000000   \n",
      "3  0.00000  0.047712  0.047712  0.00000  0.000000  0.000000  0.069897   \n",
      "\n",
      "       over   peacock     quick       the     tiger  \n",
      "0  0.000000  0.000000  0.174743  0.075257  0.000000  \n",
      "1  0.099853  0.000000  0.000000  0.043004  0.000000  \n",
      "2  0.000000  0.000000  0.000000  0.150515  0.000000  \n",
      "3  0.000000  0.069897  0.000000  0.150515  0.069897  \n"
     ]
    }
   ],
   "source": [
    "print a"
   ]
  },
  {
   "cell_type": "code",
   "execution_count": 135,
   "metadata": {},
   "outputs": [
    {
     "name": "stdout",
     "output_type": "stream",
     "text": [
      "[-0.29955896 -0.07811432 -0.07811432 -0.29955896 -0.74908141 -0.07325954\n",
      " -0.04117587 -0.2496938  -0.04117587 -0.18915214 -0.37232158 -0.04117587]\n"
     ]
    }
   ],
   "source": [
    "print vh[0]"
   ]
  },
  {
   "cell_type": "code",
   "execution_count": 137,
   "metadata": {},
   "outputs": [
    {
     "name": "stdout",
     "output_type": "stream",
     "text": [
      "[0.34991325 0.27898326 0.22597157 0.12208299]\n"
     ]
    }
   ],
   "source": [
    "print s"
   ]
  },
  {
   "cell_type": "code",
   "execution_count": 139,
   "metadata": {},
   "outputs": [
    {
     "name": "stdout",
     "output_type": "stream",
     "text": [
      "[[-0.37876783  0.35454359  0.85466579 -0.01949748]\n",
      " [-0.87499919 -0.43805531 -0.20610616 -0.00205359]\n",
      " [-0.22004793  0.6158077  -0.36805637 -0.66097979]\n",
      " [-0.20613164  0.55062443 -0.3026568   0.75014755]]\n"
     ]
    }
   ],
   "source": [
    "print u"
   ]
  },
  {
   "cell_type": "code",
   "execution_count": 140,
   "metadata": {},
   "outputs": [
    {
     "name": "stdout",
     "output_type": "stream",
     "text": [
      "[-0.37876783  0.35454359  0.85466579 -0.01949748]\n"
     ]
    }
   ],
   "source": [
    "print u[0]"
   ]
  },
  {
   "cell_type": "code",
   "execution_count": 141,
   "metadata": {},
   "outputs": [
    {
     "data": {
      "text/plain": [
       "<matplotlib.collections.PathCollection at 0x210182e8>"
      ]
     },
     "execution_count": 141,
     "metadata": {},
     "output_type": "execute_result"
    },
    {
     "data": {
      "image/png": "[encoded data removed]",
      "text/plain": [
       "<Figure size 432x288 with 1 Axes>"
      ]
     },
     "metadata": {
      "needs_background": "light"
     },
     "output_type": "display_data"
    }
   ],
   "source": [
    "%matplotlib inline\n",
    "import matplotlib.pyplot as plt\n",
    "\n",
    "plt.scatter(u[0],s , marker='o')"
   ]
  },
  {
   "cell_type": "code",
   "execution_count": 142,
   "metadata": {},
   "outputs": [
    {
     "data": {
      "text/plain": [
       "<matplotlib.collections.PathCollection at 0x1f817320>"
      ]
     },
     "execution_count": 142,
     "metadata": {},
     "output_type": "execute_result"
    },
    {
     "data": {
      "image/png": "[encoded data removed]",
      "text/plain": [
       "<Figure size 432x288 with 1 Axes>"
      ]
     },
     "metadata": {
      "needs_background": "light"
     },
     "output_type": "display_data"
    }
   ],
   "source": [
    "%matplotlib inline\n",
    "import matplotlib.pyplot as plt\n",
    "\n",
    "plt.scatter(u[1],s , marker='o')"
   ]
  },
  {
   "cell_type": "code",
   "execution_count": 143,
   "metadata": {},
   "outputs": [
    {
     "data": {
      "text/plain": [
       "<matplotlib.collections.PathCollection at 0x20a82b00>"
      ]
     },
     "execution_count": 143,
     "metadata": {},
     "output_type": "execute_result"
    },
    {
     "data": {
      "image/png": "[encoded data removed]",
      "text/plain": [
       "<Figure size 432x288 with 1 Axes>"
      ]
     },
     "metadata": {
      "needs_background": "light"
     },
     "output_type": "display_data"
    }
   ],
   "source": [
    "%matplotlib inline\n",
    "import matplotlib.pyplot as plt\n",
    "\n",
    "plt.scatter(vh,vh , marker='o')"
   ]
  },
  {
   "cell_type": "code",
   "execution_count": 144,
   "metadata": {},
   "outputs": [],
   "source": [
    "import numpy as np\n",
    "u, s, vh = np.linalg.svd(b)"
   ]
  },
  {
   "cell_type": "code",
   "execution_count": 145,
   "metadata": {},
   "outputs": [
    {
     "name": "stdout",
     "output_type": "stream",
     "text": [
      "[[-0.37876783  0.35454359  0.85466579 -0.01949748]\n",
      " [-0.87499919 -0.43805531 -0.20610616 -0.00205359]\n",
      " [-0.22004793  0.6158077  -0.36805637 -0.66097979]\n",
      " [-0.20613164  0.55062443 -0.3026568   0.75014755]]\n"
     ]
    }
   ],
   "source": [
    "print u"
   ]
  },
  {
   "cell_type": "code",
   "execution_count": 146,
   "metadata": {},
   "outputs": [
    {
     "name": "stdout",
     "output_type": "stream",
     "text": [
      "[0.34991325 0.27898326 0.22597157 0.12208299]\n"
     ]
    }
   ],
   "source": [
    "print s"
   ]
  },
  {
   "cell_type": "code",
   "execution_count": 147,
   "metadata": {},
   "outputs": [
    {
     "name": "stdout",
     "output_type": "stream",
     "text": [
      "[[-0.29955896 -0.07811432 -0.07811432 -0.29955896 -0.74908141 -0.07325954\n",
      "  -0.04117587 -0.2496938  -0.04117587 -0.18915214 -0.37232158 -0.04117587]\n",
      " [ 0.04456233  0.26969582  0.26969582  0.04456233 -0.47036236  0.25714274\n",
      "   0.1379545  -0.15678745  0.1379545   0.22207008  0.65742059  0.1379545 ]\n",
      " [ 0.38897181 -0.19342397 -0.19342397  0.38897181 -0.27322404 -0.1897439\n",
      "  -0.0936171  -0.09107468 -0.0936171   0.66090808 -0.20133431 -0.0936171 ]\n",
      " [-0.02019641 -0.13736653 -0.13736653 -0.02019641 -0.00503896 -0.63072537\n",
      "   0.42948704 -0.00167965  0.42948704 -0.02790756  0.09719158  0.42948704]\n",
      " [-0.1107903  -0.82151835  0.37816477 -0.13913913  0.13481188  0.13894459\n",
      "   0.00993901 -0.28839604  0.00993901  0.1160396   0.12669316  0.00993901]\n",
      " [ 0.2294557  -0.1262376  -0.58069869 -0.35916941  0.03475611  0.56449007\n",
      "   0.20637024  0.01158537  0.20637024  0.11585371 -0.06341261  0.20637024]\n",
      " [-0.18926874 -0.01846034  0.04209728  0.39798275 -0.01883272  0.22294654\n",
      "   0.79411135 -0.00627757 -0.20588865 -0.06277572 -0.18504317 -0.20588865]\n",
      " [-0.0369301  -0.27383945  0.12605492 -0.04637971 -0.28839604  0.04631486\n",
      "   0.003313    0.90386799  0.003313    0.03867987  0.04223105  0.003313  ]\n",
      " [-0.18926874 -0.01846034  0.04209728  0.39798275 -0.01883272  0.22294654\n",
      "  -0.20588865 -0.00627757  0.79411135 -0.06277572 -0.18504317 -0.20588865]\n",
      " [-0.64678623  0.21389252  0.00579531 -0.24237594  0.19508138 -0.01998932\n",
      "   0.02221933  0.06502713  0.02221933  0.65027126 -0.1005944   0.02221933]\n",
      " [-0.40556507 -0.22867264 -0.60284358  0.26859137 -0.03583656 -0.07126472\n",
      "  -0.16572443 -0.01194552 -0.16572443 -0.11945519  0.49446453 -0.16572443]\n",
      " [-0.18926874 -0.01846034  0.04209728  0.39798275 -0.01883272  0.22294654\n",
      "  -0.20588865 -0.00627757 -0.20588865 -0.06277572 -0.18504317  0.79411135]]\n"
     ]
    }
   ],
   "source": [
    "print vh"
   ]
  },
  {
   "cell_type": "code",
   "execution_count": 148,
   "metadata": {},
   "outputs": [
    {
     "name": "stdout",
     "output_type": "stream",
     "text": [
      "[-0.29955896 -0.07811432 -0.07811432 -0.29955896 -0.74908141 -0.07325954\n",
      " -0.04117587 -0.2496938  -0.04117587 -0.18915214 -0.37232158 -0.04117587]\n"
     ]
    }
   ],
   "source": [
    "print vh[0]"
   ]
  },
  {
   "cell_type": "code",
   "execution_count": 149,
   "metadata": {},
   "outputs": [
    {
     "data": {
      "text/plain": [
       "<matplotlib.collections.PathCollection at 0x20fb06d8>"
      ]
     },
     "execution_count": 149,
     "metadata": {},
     "output_type": "execute_result"
    },
    {
     "data": {
      "image/png": "[encoded data removed]",
      "text/plain": [
       "<Figure size 432x288 with 1 Axes>"
      ]
     },
     "metadata": {
      "needs_background": "light"
     },
     "output_type": "display_data"
    }
   ],
   "source": [
    "%matplotlib inline\n",
    "import matplotlib.pyplot as plt\n",
    "\n",
    "plt.scatter(vh[0],vh[1] , marker='o')"
   ]
  },
  {
   "cell_type": "code",
   "execution_count": 150,
   "metadata": {},
   "outputs": [
    {
     "data": {
      "text/plain": [
       "<matplotlib.collections.PathCollection at 0x20f41940>"
      ]
     },
     "execution_count": 150,
     "metadata": {},
     "output_type": "execute_result"
    },
    {
     "data": {
      "image/png": "[encoded data removed]",
      "text/plain": [
       "<Figure size 432x288 with 1 Axes>"
      ]
     },
     "metadata": {
      "needs_background": "light"
     },
     "output_type": "display_data"
    }
   ],
   "source": [
    "%matplotlib inline\n",
    "import matplotlib.pyplot as plt\n",
    "\n",
    "plt.scatter(u[0],u[1] , marker='o')"
   ]
  },
  {
   "cell_type": "code",
   "execution_count": 153,
   "metadata": {},
   "outputs": [
    {
     "name": "stdout",
     "output_type": "stream",
     "text": [
      "     brown       dog  elephant      fox     jumps      lazy      lion  \\\n",
      "0  0.11928  0.000000  0.000000  0.11928  0.000000  0.000000  0.000000   \n",
      "1  0.06816  0.000000  0.000000  0.06816  0.299559  0.000000  0.000000   \n",
      "2  0.00000  0.079520  0.079520  0.00000  0.000000  0.116495  0.000000   \n",
      "3  0.00000  0.047712  0.047712  0.00000  0.000000  0.000000  0.069897   \n",
      "\n",
      "       over   peacock     quick       the     tiger  \n",
      "0  0.000000  0.000000  0.174743  0.075257  0.000000  \n",
      "1  0.099853  0.000000  0.000000  0.043004  0.000000  \n",
      "2  0.000000  0.000000  0.000000  0.150515  0.000000  \n",
      "3  0.000000  0.069897  0.000000  0.150515  0.069897  \n"
     ]
    }
   ],
   "source": [
    "print a"
   ]
  },
  {
   "cell_type": "code",
   "execution_count": 156,
   "metadata": {},
   "outputs": [
    {
     "data": {
      "text/plain": [
       "<matplotlib.collections.PathCollection at 0x219a05f8>"
      ]
     },
     "execution_count": 156,
     "metadata": {},
     "output_type": "execute_result"
    },
    {
     "data": {
      "image/png": "[encoded data removed]",
      "text/plain": [
       "<Figure size 432x288 with 1 Axes>"
      ]
     },
     "metadata": {
      "needs_background": "light"
     },
     "output_type": "display_data"
    }
   ],
   "source": [
    "%matplotlib inline\n",
    "import matplotlib.pyplot as plt\n",
    "\n",
    "plt.scatter(b,b , marker='o')"
   ]
  },
  {
   "cell_type": "code",
   "execution_count": 157,
   "metadata": {},
   "outputs": [
    {
     "data": {
      "text/plain": [
       "<matplotlib.collections.PathCollection at 0x2195e898>"
      ]
     },
     "execution_count": 157,
     "metadata": {},
     "output_type": "execute_result"
    },
    {
     "data": {
      "image/png": "[encoded data removed]",
      "text/plain": [
       "<Figure size 432x288 with 1 Axes>"
      ]
     },
     "metadata": {
      "needs_background": "light"
     },
     "output_type": "display_data"
    }
   ],
   "source": [
    "%matplotlib inline\n",
    "import matplotlib.pyplot as plt\n",
    "\n",
    "plt.scatter(a,a , marker='o')"
   ]
  },
  {
   "cell_type": "code",
   "execution_count": 165,
   "metadata": {},
   "outputs": [
    {
     "name": "stdout",
     "output_type": "stream",
     "text": [
      "[[0.11928031 0.         0.         0.11928031 0.         0.\n",
      "  0.         0.         0.         0.1747425  0.0752575  0.        ]\n",
      " [0.06816018 0.         0.         0.06816018 0.29955857 0.\n",
      "  0.         0.09985286 0.         0.         0.04300429 0.        ]\n",
      " [0.         0.07952021 0.07952021 0.         0.         0.116495\n",
      "  0.         0.         0.         0.         0.150515   0.        ]\n",
      " [0.         0.04771213 0.04771213 0.         0.         0.\n",
      "  0.069897   0.         0.069897   0.         0.150515   0.069897  ]]\n"
     ]
    }
   ],
   "source": [
    "print b"
   ]
  },
  {
   "cell_type": "code",
   "execution_count": null,
   "metadata": {},
   "outputs": [],
   "source": []
  },
  {
   "cell_type": "code",
   "execution_count": 159,
   "metadata": {},
   "outputs": [
    {
     "name": "stdout",
     "output_type": "stream",
     "text": [
      "     brown       dog  elephant      fox     jumps      lazy      lion  \\\n",
      "0  0.11928  0.000000  0.000000  0.11928  0.000000  0.000000  0.000000   \n",
      "1  0.06816  0.000000  0.000000  0.06816  0.299559  0.000000  0.000000   \n",
      "2  0.00000  0.079520  0.079520  0.00000  0.000000  0.116495  0.000000   \n",
      "3  0.00000  0.047712  0.047712  0.00000  0.000000  0.000000  0.069897   \n",
      "\n",
      "       over   peacock     quick       the     tiger  \n",
      "0  0.000000  0.000000  0.174743  0.075257  0.000000  \n",
      "1  0.099853  0.000000  0.000000  0.043004  0.000000  \n",
      "2  0.000000  0.000000  0.000000  0.150515  0.000000  \n",
      "3  0.000000  0.069897  0.000000  0.150515  0.069897  \n"
     ]
    }
   ],
   "source": [
    "print a"
   ]
  },
  {
   "cell_type": "code",
   "execution_count": 161,
   "metadata": {},
   "outputs": [
    {
     "name": "stdout",
     "output_type": "stream",
     "text": [
      "0    0.11928\n",
      "1    0.06816\n",
      "2    0.00000\n",
      "3    0.00000\n",
      "Name: brown, dtype: float64\n"
     ]
    }
   ],
   "source": [
    "print a['brown']"
   ]
  },
  {
   "cell_type": "code",
   "execution_count": 162,
   "metadata": {},
   "outputs": [
    {
     "data": {
      "text/plain": [
       "<matplotlib.collections.PathCollection at 0x219f7898>"
      ]
     },
     "execution_count": 162,
     "metadata": {},
     "output_type": "execute_result"
    },
    {
     "data": {
      "image/png": "[encoded data removed]",
      "text/plain": [
       "<Figure size 432x288 with 1 Axes>"
      ]
     },
     "metadata": {
      "needs_background": "light"
     },
     "output_type": "display_data"
    }
   ],
   "source": [
    "%matplotlib inline\n",
    "import matplotlib.pyplot as plt\n",
    "\n",
    "plt.scatter(a['brown'],a['brown'] , marker='o')"
   ]
  },
  {
   "cell_type": "code",
   "execution_count": 163,
   "metadata": {},
   "outputs": [
    {
     "data": {
      "text/plain": [
       "<matplotlib.collections.PathCollection at 0x21ce7470>"
      ]
     },
     "execution_count": 163,
     "metadata": {},
     "output_type": "execute_result"
    },
    {
     "data": {
      "image/png": "[encoded data removed]",
      "text/plain": [
       "<Figure size 432x288 with 1 Axes>"
      ]
     },
     "metadata": {
      "needs_background": "light"
     },
     "output_type": "display_data"
    }
   ],
   "source": [
    "%matplotlib inline\n",
    "import matplotlib.pyplot as plt\n",
    "\n",
    "plt.scatter(a['the'],a['the'] , marker='o')"
   ]
  },
  {
   "cell_type": "code",
   "execution_count": 167,
   "metadata": {},
   "outputs": [
    {
     "data": {
      "text/plain": [
       "<matplotlib.collections.PathCollection at 0x22174eb8>"
      ]
     },
     "execution_count": 167,
     "metadata": {},
     "output_type": "execute_result"
    },
    {
     "data": {
      "image/png": "[encoded data removed]",
      "text/plain": [
       "<Figure size 432x288 with 1 Axes>"
      ]
     },
     "metadata": {
      "needs_background": "light"
     },
     "output_type": "display_data"
    }
   ],
   "source": [
    "%matplotlib inline\n",
    "import matplotlib.pyplot as plt\n",
    "\n",
    "plt.scatter(vh[0],vh[0] , marker='o')"
   ]
  },
  {
   "cell_type": "code",
   "execution_count": 168,
   "metadata": {},
   "outputs": [
    {
     "data": {
      "text/plain": [
       "<matplotlib.collections.PathCollection at 0x2235bb00>"
      ]
     },
     "execution_count": 168,
     "metadata": {},
     "output_type": "execute_result"
    },
    {
     "data": {
      "image/png": "[encoded data removed]",
      "text/plain": [
       "<Figure size 432x288 with 1 Axes>"
      ]
     },
     "metadata": {
      "needs_background": "light"
     },
     "output_type": "display_data"
    }
   ],
   "source": [
    "%matplotlib inline\n",
    "import matplotlib.pyplot as plt\n",
    "\n",
    "plt.scatter(vh[1],vh[1] , marker='o')"
   ]
  },
  {
   "cell_type": "code",
   "execution_count": 172,
   "metadata": {},
   "outputs": [
    {
     "data": {
      "text/plain": [
       "<matplotlib.collections.PathCollection at 0x2272f668>"
      ]
     },
     "execution_count": 172,
     "metadata": {},
     "output_type": "execute_result"
    },
    {
     "data": {
      "image/png": "[encoded data removed]",
      "text/plain": [
       "<Figure size 432x288 with 1 Axes>"
      ]
     },
     "metadata": {
      "needs_background": "light"
     },
     "output_type": "display_data"
    }
   ],
   "source": [
    "%matplotlib inline\n",
    "import matplotlib.pyplot as plt\n",
    "\n",
    "plt.scatter(vh[2],vh[2] , marker='o', color='g')"
   ]
  },
  {
   "cell_type": "code",
   "execution_count": 174,
   "metadata": {},
   "outputs": [
    {
     "data": {
      "text/plain": [
       "(12L, 12L)"
      ]
     },
     "execution_count": 174,
     "metadata": {},
     "output_type": "execute_result"
    }
   ],
   "source": [
    "vh.shape"
   ]
  },
  {
   "cell_type": "code",
   "execution_count": 176,
   "metadata": {},
   "outputs": [
    {
     "data": {
      "text/plain": [
       "<matplotlib.collections.PathCollection at 0x22b4aa58>"
      ]
     },
     "execution_count": 176,
     "metadata": {},
     "output_type": "execute_result"
    },
    {
     "data": {
      "image/png": "[encoded data removed]",
      "text/plain": [
       "<Figure size 432x288 with 1 Axes>"
      ]
     },
     "metadata": {
      "needs_background": "light"
     },
     "output_type": "display_data"
    }
   ],
   "source": [
    "%matplotlib inline\n",
    "import matplotlib.pyplot as plt\n",
    "\n",
    "plt.scatter(vh[:,1],vh[:,1] , marker='o', color='g')"
   ]
  },
  {
   "cell_type": "code",
   "execution_count": 177,
   "metadata": {},
   "outputs": [
    {
     "data": {
      "text/plain": [
       "<matplotlib.collections.PathCollection at 0x22ce5400>"
      ]
     },
     "execution_count": 177,
     "metadata": {},
     "output_type": "execute_result"
    },
    {
     "data": {
      "image/png": "[encoded data removed]",
      "text/plain": [
       "<Figure size 432x288 with 1 Axes>"
      ]
     },
     "metadata": {
      "needs_background": "light"
     },
     "output_type": "display_data"
    }
   ],
   "source": [
    "%matplotlib inline\n",
    "import matplotlib.pyplot as plt\n",
    "\n",
    "plt.scatter(vh[:,2],vh[:,2] , marker='o', color='g')"
   ]
  },
  {
   "cell_type": "code",
   "execution_count": 178,
   "metadata": {},
   "outputs": [
    {
     "data": {
      "text/plain": [
       "<matplotlib.collections.PathCollection at 0x22f11d68>"
      ]
     },
     "execution_count": 178,
     "metadata": {},
     "output_type": "execute_result"
    },
    {
     "data": {
      "image/png": "[encoded data removed]",
      "text/plain": [
       "<Figure size 432x288 with 1 Axes>"
      ]
     },
     "metadata": {
      "needs_background": "light"
     },
     "output_type": "display_data"
    }
   ],
   "source": [
    "%matplotlib inline\n",
    "import matplotlib.pyplot as plt\n",
    "\n",
    "plt.scatter(vh[:,3],vh[:,3] , marker='o', color='g')"
   ]
  },
  {
   "cell_type": "code",
   "execution_count": 179,
   "metadata": {},
   "outputs": [
    {
     "name": "stdout",
     "output_type": "stream",
     "text": [
      "     brown       dog  elephant      fox     jumps      lazy      lion  \\\n",
      "0  0.11928  0.000000  0.000000  0.11928  0.000000  0.000000  0.000000   \n",
      "1  0.06816  0.000000  0.000000  0.06816  0.299559  0.000000  0.000000   \n",
      "2  0.00000  0.079520  0.079520  0.00000  0.000000  0.116495  0.000000   \n",
      "3  0.00000  0.047712  0.047712  0.00000  0.000000  0.000000  0.069897   \n",
      "\n",
      "       over   peacock     quick       the     tiger  \n",
      "0  0.000000  0.000000  0.174743  0.075257  0.000000  \n",
      "1  0.099853  0.000000  0.000000  0.043004  0.000000  \n",
      "2  0.000000  0.000000  0.000000  0.150515  0.000000  \n",
      "3  0.000000  0.069897  0.000000  0.150515  0.069897  \n"
     ]
    }
   ],
   "source": [
    "print a"
   ]
  },
  {
   "cell_type": "code",
   "execution_count": null,
   "metadata": {},
   "outputs": [],
   "source": [
    "for i in a:\n",
    "    print(\"Cluster %d:\" % i, end='')\n",
    "    for ind in order_centroids[i, :10]:\n",
    "        print(' %s' % terms[ind], end='')\n",
    "    print()"
   ]
  },
  {
   "cell_type": "code",
   "execution_count": 180,
   "metadata": {},
   "outputs": [
    {
     "name": "stdout",
     "output_type": "stream",
     "text": [
      "brown\n",
      "dog\n",
      "elephant\n",
      "fox\n",
      "jumps\n",
      "lazy\n",
      "lion\n",
      "over\n",
      "peacock\n",
      "quick\n",
      "the\n",
      "tiger\n"
     ]
    }
   ],
   "source": [
    "for i in a:\n",
    "    print i"
   ]
  },
  {
   "cell_type": "code",
   "execution_count": 181,
   "metadata": {},
   "outputs": [
    {
     "name": "stdout",
     "output_type": "stream",
     "text": [
      "0    0.11928\n",
      "1    0.06816\n",
      "2    0.00000\n",
      "3    0.00000\n",
      "Name: brown, dtype: float64\n",
      "0    0.000000\n",
      "1    0.000000\n",
      "2    0.079520\n",
      "3    0.047712\n",
      "Name: dog, dtype: float64\n",
      "0    0.000000\n",
      "1    0.000000\n",
      "2    0.079520\n",
      "3    0.047712\n",
      "Name: elephant, dtype: float64\n",
      "0    0.11928\n",
      "1    0.06816\n",
      "2    0.00000\n",
      "3    0.00000\n",
      "Name: fox, dtype: float64\n",
      "0    0.000000\n",
      "1    0.299559\n",
      "2    0.000000\n",
      "3    0.000000\n",
      "Name: jumps, dtype: float64\n",
      "0    0.000000\n",
      "1    0.000000\n",
      "2    0.116495\n",
      "3    0.000000\n",
      "Name: lazy, dtype: float64\n",
      "0    0.000000\n",
      "1    0.000000\n",
      "2    0.000000\n",
      "3    0.069897\n",
      "Name: lion, dtype: float64\n",
      "0    0.000000\n",
      "1    0.099853\n",
      "2    0.000000\n",
      "3    0.000000\n",
      "Name: over, dtype: float64\n",
      "0    0.000000\n",
      "1    0.000000\n",
      "2    0.000000\n",
      "3    0.069897\n",
      "Name: peacock, dtype: float64\n",
      "0    0.174743\n",
      "1    0.000000\n",
      "2    0.000000\n",
      "3    0.000000\n",
      "Name: quick, dtype: float64\n",
      "0    0.075257\n",
      "1    0.043004\n",
      "2    0.150515\n",
      "3    0.150515\n",
      "Name: the, dtype: float64\n",
      "0    0.000000\n",
      "1    0.000000\n",
      "2    0.000000\n",
      "3    0.069897\n",
      "Name: tiger, dtype: float64\n"
     ]
    }
   ],
   "source": [
    "for i in a:\n",
    "    print a[i]"
   ]
  },
  {
   "cell_type": "code",
   "execution_count": 183,
   "metadata": {},
   "outputs": [
    {
     "name": "stdout",
     "output_type": "stream",
     "text": [
      "[0.11928031 0.         0.         0.11928031 0.         0.\n",
      " 0.         0.         0.         0.1747425  0.0752575  0.        ]\n",
      "[0.06816018 0.         0.         0.06816018 0.29955857 0.\n",
      " 0.         0.09985286 0.         0.         0.04300429 0.        ]\n",
      "[0.         0.07952021 0.07952021 0.         0.         0.116495\n",
      " 0.         0.         0.         0.         0.150515   0.        ]\n",
      "[0.         0.04771213 0.04771213 0.         0.         0.\n",
      " 0.069897   0.         0.069897   0.         0.150515   0.069897  ]\n"
     ]
    }
   ],
   "source": [
    "for i in b:\n",
    "    print i"
   ]
  },
  {
   "cell_type": "code",
   "execution_count": null,
   "metadata": {},
   "outputs": [],
   "source": [
    "'#4d0404'"
   ]
  },
  {
   "cell_type": "code",
   "execution_count": 185,
   "metadata": {},
   "outputs": [
    {
     "data": {
      "text/html": [
       "<div>\n",
       "<style scoped>\n",
       "    .dataframe tbody tr th:only-of-type {\n",
       "        vertical-align: middle;\n",
       "    }\n",
       "\n",
       "    .dataframe tbody tr th {\n",
       "        vertical-align: top;\n",
       "    }\n",
       "\n",
       "    .dataframe thead th {\n",
       "        text-align: right;\n",
       "    }\n",
       "</style>\n",
       "<table border=\"1\" class=\"dataframe\">\n",
       "  <thead>\n",
       "    <tr style=\"text-align: right;\">\n",
       "      <th></th>\n",
       "      <th>brown</th>\n",
       "      <th>dog</th>\n",
       "      <th>elephant</th>\n",
       "      <th>fox</th>\n",
       "      <th>jumps</th>\n",
       "      <th>lazy</th>\n",
       "      <th>lion</th>\n",
       "      <th>over</th>\n",
       "      <th>peacock</th>\n",
       "      <th>quick</th>\n",
       "      <th>the</th>\n",
       "      <th>tiger</th>\n",
       "    </tr>\n",
       "  </thead>\n",
       "  <tbody>\n",
       "    <tr>\n",
       "      <th>0</th>\n",
       "      <td>0.11928</td>\n",
       "      <td>0.000000</td>\n",
       "      <td>0.000000</td>\n",
       "      <td>0.11928</td>\n",
       "      <td>0.000000</td>\n",
       "      <td>0.000000</td>\n",
       "      <td>0.000000</td>\n",
       "      <td>0.000000</td>\n",
       "      <td>0.000000</td>\n",
       "      <td>0.174743</td>\n",
       "      <td>0.075257</td>\n",
       "      <td>0.000000</td>\n",
       "    </tr>\n",
       "    <tr>\n",
       "      <th>1</th>\n",
       "      <td>0.06816</td>\n",
       "      <td>0.000000</td>\n",
       "      <td>0.000000</td>\n",
       "      <td>0.06816</td>\n",
       "      <td>0.299559</td>\n",
       "      <td>0.000000</td>\n",
       "      <td>0.000000</td>\n",
       "      <td>0.099853</td>\n",
       "      <td>0.000000</td>\n",
       "      <td>0.000000</td>\n",
       "      <td>0.043004</td>\n",
       "      <td>0.000000</td>\n",
       "    </tr>\n",
       "    <tr>\n",
       "      <th>2</th>\n",
       "      <td>0.00000</td>\n",
       "      <td>0.079520</td>\n",
       "      <td>0.079520</td>\n",
       "      <td>0.00000</td>\n",
       "      <td>0.000000</td>\n",
       "      <td>0.116495</td>\n",
       "      <td>0.000000</td>\n",
       "      <td>0.000000</td>\n",
       "      <td>0.000000</td>\n",
       "      <td>0.000000</td>\n",
       "      <td>0.150515</td>\n",
       "      <td>0.000000</td>\n",
       "    </tr>\n",
       "    <tr>\n",
       "      <th>3</th>\n",
       "      <td>0.00000</td>\n",
       "      <td>0.047712</td>\n",
       "      <td>0.047712</td>\n",
       "      <td>0.00000</td>\n",
       "      <td>0.000000</td>\n",
       "      <td>0.000000</td>\n",
       "      <td>0.069897</td>\n",
       "      <td>0.000000</td>\n",
       "      <td>0.069897</td>\n",
       "      <td>0.000000</td>\n",
       "      <td>0.150515</td>\n",
       "      <td>0.069897</td>\n",
       "    </tr>\n",
       "  </tbody>\n",
       "</table>\n",
       "</div>"
      ],
      "text/plain": [
       "     brown       dog  elephant      fox     jumps      lazy      lion  \\\n",
       "0  0.11928  0.000000  0.000000  0.11928  0.000000  0.000000  0.000000   \n",
       "1  0.06816  0.000000  0.000000  0.06816  0.299559  0.000000  0.000000   \n",
       "2  0.00000  0.079520  0.079520  0.00000  0.000000  0.116495  0.000000   \n",
       "3  0.00000  0.047712  0.047712  0.00000  0.000000  0.000000  0.069897   \n",
       "\n",
       "       over   peacock     quick       the     tiger  \n",
       "0  0.000000  0.000000  0.174743  0.075257  0.000000  \n",
       "1  0.099853  0.000000  0.000000  0.043004  0.000000  \n",
       "2  0.000000  0.000000  0.000000  0.150515  0.000000  \n",
       "3  0.000000  0.069897  0.000000  0.150515  0.069897  "
      ]
     },
     "execution_count": 185,
     "metadata": {},
     "output_type": "execute_result"
    }
   ],
   "source": [
    "a"
   ]
  },
  {
   "cell_type": "code",
   "execution_count": 190,
   "metadata": {},
   "outputs": [],
   "source": [
    "labels = ['{0}'.format(i) for i in a]"
   ]
  },
  {
   "cell_type": "code",
   "execution_count": 191,
   "metadata": {},
   "outputs": [
    {
     "name": "stdout",
     "output_type": "stream",
     "text": [
      "['brown', 'dog', 'elephant', 'fox', 'jumps', 'lazy', 'lion', 'over', 'peacock', 'quick', 'the', 'tiger']\n"
     ]
    }
   ],
   "source": [
    "print labels"
   ]
  },
  {
   "cell_type": "code",
   "execution_count": 196,
   "metadata": {},
   "outputs": [
    {
     "data": {
      "image/png": "[encoded data removed]",
      "text/plain": [
       "<Figure size 432x288 with 1 Axes>"
      ]
     },
     "metadata": {
      "needs_background": "light"
     },
     "output_type": "display_data"
    }
   ],
   "source": [
    "plt.scatter(vh[:,3],vh[:,3] , marker='o', color='g')\n",
    "\n",
    "for label, x, y in zip(labels, vh[:,3],vh[:,3]):\n",
    "    plt.annotate(\n",
    "        label,\n",
    "        xy=(x, y), xytext=(-20, 20),\n",
    "        textcoords='offset points', ha='right', va='bottom',\n",
    "        bbox=dict(boxstyle='round,pad=0.6', fc='yellow', alpha=0.5),\n",
    "        arrowprops=dict(arrowstyle = '->', connectionstyle='arc3,rad=0'))\n",
    "\n",
    "plt.show()"
   ]
  },
  {
   "cell_type": "code",
   "execution_count": 201,
   "metadata": {},
   "outputs": [
    {
     "data": {
      "image/png": "[encoded data removed]",
      "text/plain": [
       "<Figure size 432x288 with 1 Axes>"
      ]
     },
     "metadata": {
      "needs_background": "light"
     },
     "output_type": "display_data"
    }
   ],
   "source": [
    "plt.scatter(vh[:,0],vh[:,1] , marker='o', color='g')\n",
    "\n",
    "for label, x, y in zip(labels, vh[:,3],vh[:,3]):\n",
    "    plt.annotate(\n",
    "        label,\n",
    "        xy=(x, y), xytext=(-20, 20),\n",
    "        textcoords='offset points', ha='right', va='bottom',\n",
    "        bbox=dict(boxstyle='round,pad=0.6', fc='yellow', alpha=0.5),\n",
    "        arrowprops=dict(arrowstyle = '->', connectionstyle='arc3,rad=0'))\n",
    "\n",
    "plt.show()"
   ]
  },
  {
   "cell_type": "code",
   "execution_count": 202,
   "metadata": {},
   "outputs": [
    {
     "data": {
      "text/plain": [
       "array([[-0.37876783,  0.35454359,  0.85466579, -0.01949748],\n",
       "       [-0.87499919, -0.43805531, -0.20610616, -0.00205359],\n",
       "       [-0.22004793,  0.6158077 , -0.36805637, -0.66097979],\n",
       "       [-0.20613164,  0.55062443, -0.3026568 ,  0.75014755]])"
      ]
     },
     "execution_count": 202,
     "metadata": {},
     "output_type": "execute_result"
    }
   ],
   "source": [
    "u"
   ]
  },
  {
   "cell_type": "code",
   "execution_count": 203,
   "metadata": {},
   "outputs": [
    {
     "data": {
      "text/plain": [
       "array([0.34991325, 0.27898326, 0.22597157, 0.12208299])"
      ]
     },
     "execution_count": 203,
     "metadata": {},
     "output_type": "execute_result"
    }
   ],
   "source": [
    "s"
   ]
  },
  {
   "cell_type": "code",
   "execution_count": 206,
   "metadata": {},
   "outputs": [
    {
     "data": {
      "text/plain": [
       "array([[-0.29955896, -0.07811432, -0.07811432, -0.29955896, -0.74908141,\n",
       "        -0.07325954, -0.04117587, -0.2496938 , -0.04117587, -0.18915214,\n",
       "        -0.37232158, -0.04117587],\n",
       "       [ 0.04456233,  0.26969582,  0.26969582,  0.04456233, -0.47036236,\n",
       "         0.25714274,  0.1379545 , -0.15678745,  0.1379545 ,  0.22207008,\n",
       "         0.65742059,  0.1379545 ],\n",
       "       [ 0.38897181, -0.19342397, -0.19342397,  0.38897181, -0.27322404,\n",
       "        -0.1897439 , -0.0936171 , -0.09107468, -0.0936171 ,  0.66090808,\n",
       "        -0.20133431, -0.0936171 ],\n",
       "       [-0.02019641, -0.13736653, -0.13736653, -0.02019641, -0.00503896,\n",
       "        -0.63072537,  0.42948704, -0.00167965,  0.42948704, -0.02790756,\n",
       "         0.09719158,  0.42948704],\n",
       "       [-0.1107903 , -0.82151835,  0.37816477, -0.13913913,  0.13481188,\n",
       "         0.13894459,  0.00993901, -0.28839604,  0.00993901,  0.1160396 ,\n",
       "         0.12669316,  0.00993901],\n",
       "       [ 0.2294557 , -0.1262376 , -0.58069869, -0.35916941,  0.03475611,\n",
       "         0.56449007,  0.20637024,  0.01158537,  0.20637024,  0.11585371,\n",
       "        -0.06341261,  0.20637024],\n",
       "       [-0.18926874, -0.01846034,  0.04209728,  0.39798275, -0.01883272,\n",
       "         0.22294654,  0.79411135, -0.00627757, -0.20588865, -0.06277572,\n",
       "        -0.18504317, -0.20588865],\n",
       "       [-0.0369301 , -0.27383945,  0.12605492, -0.04637971, -0.28839604,\n",
       "         0.04631486,  0.003313  ,  0.90386799,  0.003313  ,  0.03867987,\n",
       "         0.04223105,  0.003313  ],\n",
       "       [-0.18926874, -0.01846034,  0.04209728,  0.39798275, -0.01883272,\n",
       "         0.22294654, -0.20588865, -0.00627757,  0.79411135, -0.06277572,\n",
       "        -0.18504317, -0.20588865],\n",
       "       [-0.64678623,  0.21389252,  0.00579531, -0.24237594,  0.19508138,\n",
       "        -0.01998932,  0.02221933,  0.06502713,  0.02221933,  0.65027126,\n",
       "        -0.1005944 ,  0.02221933],\n",
       "       [-0.40556507, -0.22867264, -0.60284358,  0.26859137, -0.03583656,\n",
       "        -0.07126472, -0.16572443, -0.01194552, -0.16572443, -0.11945519,\n",
       "         0.49446453, -0.16572443],\n",
       "       [-0.18926874, -0.01846034,  0.04209728,  0.39798275, -0.01883272,\n",
       "         0.22294654, -0.20588865, -0.00627757, -0.20588865, -0.06277572,\n",
       "        -0.18504317,  0.79411135]])"
      ]
     },
     "execution_count": 206,
     "metadata": {},
     "output_type": "execute_result"
    }
   ],
   "source": [
    "vh"
   ]
  },
  {
   "cell_type": "code",
   "execution_count": 207,
   "metadata": {},
   "outputs": [
    {
     "data": {
      "text/plain": [
       "array([-0.29955896, -0.07811432, -0.07811432, -0.29955896, -0.74908141,\n",
       "       -0.07325954, -0.04117587, -0.2496938 , -0.04117587, -0.18915214,\n",
       "       -0.37232158, -0.04117587])"
      ]
     },
     "execution_count": 207,
     "metadata": {},
     "output_type": "execute_result"
    }
   ],
   "source": [
    "vh[0]"
   ]
  },
  {
   "cell_type": "code",
   "execution_count": 208,
   "metadata": {},
   "outputs": [
    {
     "data": {
      "text/plain": [
       "array([ 0.04456233,  0.26969582,  0.26969582,  0.04456233, -0.47036236,\n",
       "        0.25714274,  0.1379545 , -0.15678745,  0.1379545 ,  0.22207008,\n",
       "        0.65742059,  0.1379545 ])"
      ]
     },
     "execution_count": 208,
     "metadata": {},
     "output_type": "execute_result"
    }
   ],
   "source": [
    "vh[1]"
   ]
  },
  {
   "cell_type": "code",
   "execution_count": 210,
   "metadata": {},
   "outputs": [
    {
     "data": {
      "text/html": [
       "<div>\n",
       "<style scoped>\n",
       "    .dataframe tbody tr th:only-of-type {\n",
       "        vertical-align: middle;\n",
       "    }\n",
       "\n",
       "    .dataframe tbody tr th {\n",
       "        vertical-align: top;\n",
       "    }\n",
       "\n",
       "    .dataframe thead th {\n",
       "        text-align: right;\n",
       "    }\n",
       "</style>\n",
       "<table border=\"1\" class=\"dataframe\">\n",
       "  <thead>\n",
       "    <tr style=\"text-align: right;\">\n",
       "      <th></th>\n",
       "      <th>0</th>\n",
       "      <th>1</th>\n",
       "      <th>2</th>\n",
       "      <th>3</th>\n",
       "    </tr>\n",
       "  </thead>\n",
       "  <tbody>\n",
       "    <tr>\n",
       "      <th>brown</th>\n",
       "      <td>0.119280</td>\n",
       "      <td>0.068160</td>\n",
       "      <td>0.000000</td>\n",
       "      <td>0.000000</td>\n",
       "    </tr>\n",
       "    <tr>\n",
       "      <th>dog</th>\n",
       "      <td>0.000000</td>\n",
       "      <td>0.000000</td>\n",
       "      <td>0.079520</td>\n",
       "      <td>0.047712</td>\n",
       "    </tr>\n",
       "    <tr>\n",
       "      <th>elephant</th>\n",
       "      <td>0.000000</td>\n",
       "      <td>0.000000</td>\n",
       "      <td>0.079520</td>\n",
       "      <td>0.047712</td>\n",
       "    </tr>\n",
       "    <tr>\n",
       "      <th>fox</th>\n",
       "      <td>0.119280</td>\n",
       "      <td>0.068160</td>\n",
       "      <td>0.000000</td>\n",
       "      <td>0.000000</td>\n",
       "    </tr>\n",
       "    <tr>\n",
       "      <th>jumps</th>\n",
       "      <td>0.000000</td>\n",
       "      <td>0.299559</td>\n",
       "      <td>0.000000</td>\n",
       "      <td>0.000000</td>\n",
       "    </tr>\n",
       "    <tr>\n",
       "      <th>lazy</th>\n",
       "      <td>0.000000</td>\n",
       "      <td>0.000000</td>\n",
       "      <td>0.116495</td>\n",
       "      <td>0.000000</td>\n",
       "    </tr>\n",
       "    <tr>\n",
       "      <th>lion</th>\n",
       "      <td>0.000000</td>\n",
       "      <td>0.000000</td>\n",
       "      <td>0.000000</td>\n",
       "      <td>0.069897</td>\n",
       "    </tr>\n",
       "    <tr>\n",
       "      <th>over</th>\n",
       "      <td>0.000000</td>\n",
       "      <td>0.099853</td>\n",
       "      <td>0.000000</td>\n",
       "      <td>0.000000</td>\n",
       "    </tr>\n",
       "    <tr>\n",
       "      <th>peacock</th>\n",
       "      <td>0.000000</td>\n",
       "      <td>0.000000</td>\n",
       "      <td>0.000000</td>\n",
       "      <td>0.069897</td>\n",
       "    </tr>\n",
       "    <tr>\n",
       "      <th>quick</th>\n",
       "      <td>0.174743</td>\n",
       "      <td>0.000000</td>\n",
       "      <td>0.000000</td>\n",
       "      <td>0.000000</td>\n",
       "    </tr>\n",
       "    <tr>\n",
       "      <th>the</th>\n",
       "      <td>0.075257</td>\n",
       "      <td>0.043004</td>\n",
       "      <td>0.150515</td>\n",
       "      <td>0.150515</td>\n",
       "    </tr>\n",
       "    <tr>\n",
       "      <th>tiger</th>\n",
       "      <td>0.000000</td>\n",
       "      <td>0.000000</td>\n",
       "      <td>0.000000</td>\n",
       "      <td>0.069897</td>\n",
       "    </tr>\n",
       "  </tbody>\n",
       "</table>\n",
       "</div>"
      ],
      "text/plain": [
       "                 0         1         2         3\n",
       "brown     0.119280  0.068160  0.000000  0.000000\n",
       "dog       0.000000  0.000000  0.079520  0.047712\n",
       "elephant  0.000000  0.000000  0.079520  0.047712\n",
       "fox       0.119280  0.068160  0.000000  0.000000\n",
       "jumps     0.000000  0.299559  0.000000  0.000000\n",
       "lazy      0.000000  0.000000  0.116495  0.000000\n",
       "lion      0.000000  0.000000  0.000000  0.069897\n",
       "over      0.000000  0.099853  0.000000  0.000000\n",
       "peacock   0.000000  0.000000  0.000000  0.069897\n",
       "quick     0.174743  0.000000  0.000000  0.000000\n",
       "the       0.075257  0.043004  0.150515  0.150515\n",
       "tiger     0.000000  0.000000  0.000000  0.069897"
      ]
     },
     "execution_count": 210,
     "metadata": {},
     "output_type": "execute_result"
    }
   ],
   "source": [
    "a.T"
   ]
  },
  {
   "cell_type": "code",
   "execution_count": 211,
   "metadata": {},
   "outputs": [],
   "source": [
    "import numpy as np\n",
    "u, s, vh = np.linalg.svd(a.T)"
   ]
  },
  {
   "cell_type": "code",
   "execution_count": 212,
   "metadata": {},
   "outputs": [
    {
     "name": "stdout",
     "output_type": "stream",
     "text": [
      "[[-0.29955896  0.04456233  0.38897181 -0.02019641 -0.1107903   0.2294557\n",
      "  -0.18926874 -0.0369301  -0.18926874 -0.64678623 -0.40556507 -0.18926874]\n",
      " [-0.07811432  0.26969582 -0.19342397 -0.13736653 -0.82151835 -0.1262376\n",
      "  -0.01846034 -0.27383945 -0.01846034  0.21389252 -0.22867264 -0.01846034]\n",
      " [-0.07811432  0.26969582 -0.19342397 -0.13736653  0.37816477 -0.58069869\n",
      "   0.04209728  0.12605492  0.04209728  0.00579531 -0.60284358  0.04209728]\n",
      " [-0.29955896  0.04456233  0.38897181 -0.02019641 -0.13913913 -0.35916941\n",
      "   0.39798275 -0.04637971  0.39798275 -0.24237594  0.26859137  0.39798275]\n",
      " [-0.74908141 -0.47036236 -0.27322404 -0.00503896  0.13481188  0.03475611\n",
      "  -0.01883272 -0.28839604 -0.01883272  0.19508138 -0.03583656 -0.01883272]\n",
      " [-0.07325954  0.25714274 -0.1897439  -0.63072537  0.13894459  0.56449007\n",
      "   0.22294654  0.04631486  0.22294654 -0.01998932 -0.07126472  0.22294654]\n",
      " [-0.04117587  0.1379545  -0.0936171   0.42948704  0.00993901  0.20637024\n",
      "   0.79411135  0.003313   -0.20588865  0.02221933 -0.16572443 -0.20588865]\n",
      " [-0.2496938  -0.15678745 -0.09107468 -0.00167965 -0.28839604  0.01158537\n",
      "  -0.00627757  0.90386799 -0.00627757  0.06502713 -0.01194552 -0.00627757]\n",
      " [-0.04117587  0.1379545  -0.0936171   0.42948704  0.00993901  0.20637024\n",
      "  -0.20588865  0.003313    0.79411135  0.02221933 -0.16572443 -0.20588865]\n",
      " [-0.18915214  0.22207008  0.66090808 -0.02790756  0.1160396   0.11585371\n",
      "  -0.06277572  0.03867987 -0.06277572  0.65027126 -0.11945519 -0.06277572]\n",
      " [-0.37232158  0.65742059 -0.20133431  0.09719158  0.12669316 -0.06341261\n",
      "  -0.18504317  0.04223105 -0.18504317 -0.1005944   0.49446453 -0.18504317]\n",
      " [-0.04117587  0.1379545  -0.0936171   0.42948704  0.00993901  0.20637024\n",
      "  -0.20588865  0.003313   -0.20588865  0.02221933 -0.16572443  0.79411135]]\n"
     ]
    }
   ],
   "source": [
    "print u[]"
   ]
  },
  {
   "cell_type": "code",
   "execution_count": 214,
   "metadata": {},
   "outputs": [
    {
     "data": {
      "text/plain": [
       "(4L,)"
      ]
     },
     "execution_count": 214,
     "metadata": {},
     "output_type": "execute_result"
    }
   ],
   "source": [
    "s.shape"
   ]
  },
  {
   "cell_type": "code",
   "execution_count": 220,
   "metadata": {},
   "outputs": [
    {
     "name": "stdout",
     "output_type": "stream",
     "text": [
      "[ 0.04456233  0.26969582  0.26969582  0.04456233 -0.47036236  0.25714274\n",
      "  0.1379545  -0.15678745  0.1379545   0.22207008  0.65742059  0.1379545 ]\n"
     ]
    }
   ],
   "source": [
    "print u[:,1]"
   ]
  },
  {
   "cell_type": "code",
   "execution_count": null,
   "metadata": {},
   "outputs": [],
   "source": []
  },
  {
   "cell_type": "code",
   "execution_count": null,
   "metadata": {},
   "outputs": [],
   "source": []
  },
  {
   "cell_type": "code",
   "execution_count": null,
   "metadata": {},
   "outputs": [],
   "source": []
  },
  {
   "cell_type": "code",
   "execution_count": 217,
   "metadata": {},
   "outputs": [
    {
     "ename": "SyntaxError",
     "evalue": "invalid syntax (<ipython-input-217-4045847d7b53>, line 3)",
     "output_type": "error",
     "traceback": [
      "\u001b[1;36m  File \u001b[1;32m\"<ipython-input-217-4045847d7b53>\"\u001b[1;36m, line \u001b[1;32m3\u001b[0m\n\u001b[1;33m    for label, x, y in zip(labels, u[:,0]],u[:,0]):\u001b[0m\n\u001b[1;37m                                         ^\u001b[0m\n\u001b[1;31mSyntaxError\u001b[0m\u001b[1;31m:\u001b[0m invalid syntax\n"
     ]
    }
   ],
   "source": [
    "plt.scatter(u[:,0],u[:,0] , marker='o', color='g')\n",
    "\n",
    "for label, x, y in zip(labels, u[:,0]],u[:,0]):\n",
    "    plt.annotate(\n",
    "        label,\n",
    "        xy=(x, y), xytext=(-20, 20),\n",
    "        textcoords='offset points', ha='right', va='bottom',\n",
    "        bbox=dict(boxstyle='round,pad=0.6', fc='yellow', alpha=0.5),\n",
    "        arrowprops=dict(arrowstyle = '->', connectionstyle='arc3,rad=0'))\n",
    "\n",
    "plt.show()"
   ]
  },
  {
   "cell_type": "code",
   "execution_count": 221,
   "metadata": {},
   "outputs": [
    {
     "data": {
      "text/plain": [
       "<matplotlib.collections.PathCollection at 0x230e70b8>"
      ]
     },
     "execution_count": 221,
     "metadata": {},
     "output_type": "execute_result"
    },
    {
     "data": {
      "image/png": "[encoded data removed]",
      "text/plain": [
       "<Figure size 432x288 with 1 Axes>"
      ]
     },
     "metadata": {
      "needs_background": "light"
     },
     "output_type": "display_data"
    }
   ],
   "source": [
    "plt.scatter(u[:,0],u[:,0] , marker='o', color='g')"
   ]
  },
  {
   "cell_type": "code",
   "execution_count": 222,
   "metadata": {},
   "outputs": [
    {
     "data": {
      "text/plain": [
       "<matplotlib.collections.PathCollection at 0x24049a90>"
      ]
     },
     "execution_count": 222,
     "metadata": {},
     "output_type": "execute_result"
    },
    {
     "data": {
      "image/png": "[encoded data removed]",
      "text/plain": [
       "<Figure size 432x288 with 1 Axes>"
      ]
     },
     "metadata": {
      "needs_background": "light"
     },
     "output_type": "display_data"
    }
   ],
   "source": [
    "plt.scatter(u[:,1],u[:,1] , marker='o', color='g')"
   ]
  },
  {
   "cell_type": "code",
   "execution_count": 223,
   "metadata": {},
   "outputs": [
    {
     "data": {
      "text/plain": [
       "<matplotlib.collections.PathCollection at 0x23198438>"
      ]
     },
     "execution_count": 223,
     "metadata": {},
     "output_type": "execute_result"
    },
    {
     "data": {
      "image/png": "[encoded data removed]",
      "text/plain": [
       "<Figure size 432x288 with 1 Axes>"
      ]
     },
     "metadata": {
      "needs_background": "light"
     },
     "output_type": "display_data"
    }
   ],
   "source": [
    "plt.scatter(u[:,1],u[:,0] , marker='o', color='g')"
   ]
  },
  {
   "cell_type": "code",
   "execution_count": 225,
   "metadata": {},
   "outputs": [
    {
     "data": {
      "text/plain": [
       "0    0.075257\n",
       "1    0.043004\n",
       "2    0.150515\n",
       "3    0.150515\n",
       "Name: the, dtype: float64"
      ]
     },
     "execution_count": 225,
     "metadata": {},
     "output_type": "execute_result"
    }
   ],
   "source": [
    "a[\"the\"]"
   ]
  },
  {
   "cell_type": "code",
   "execution_count": 226,
   "metadata": {},
   "outputs": [
    {
     "data": {
      "text/html": [
       "<div>\n",
       "<style scoped>\n",
       "    .dataframe tbody tr th:only-of-type {\n",
       "        vertical-align: middle;\n",
       "    }\n",
       "\n",
       "    .dataframe tbody tr th {\n",
       "        vertical-align: top;\n",
       "    }\n",
       "\n",
       "    .dataframe thead th {\n",
       "        text-align: right;\n",
       "    }\n",
       "</style>\n",
       "<table border=\"1\" class=\"dataframe\">\n",
       "  <thead>\n",
       "    <tr style=\"text-align: right;\">\n",
       "      <th></th>\n",
       "      <th>brown</th>\n",
       "      <th>dog</th>\n",
       "      <th>elephant</th>\n",
       "      <th>fox</th>\n",
       "      <th>jumps</th>\n",
       "      <th>lazy</th>\n",
       "      <th>lion</th>\n",
       "      <th>over</th>\n",
       "      <th>peacock</th>\n",
       "      <th>quick</th>\n",
       "      <th>the</th>\n",
       "      <th>tiger</th>\n",
       "    </tr>\n",
       "  </thead>\n",
       "  <tbody>\n",
       "    <tr>\n",
       "      <th>0</th>\n",
       "      <td>0.11928</td>\n",
       "      <td>0.000000</td>\n",
       "      <td>0.000000</td>\n",
       "      <td>0.11928</td>\n",
       "      <td>0.000000</td>\n",
       "      <td>0.000000</td>\n",
       "      <td>0.000000</td>\n",
       "      <td>0.000000</td>\n",
       "      <td>0.000000</td>\n",
       "      <td>0.174743</td>\n",
       "      <td>0.075257</td>\n",
       "      <td>0.000000</td>\n",
       "    </tr>\n",
       "    <tr>\n",
       "      <th>1</th>\n",
       "      <td>0.06816</td>\n",
       "      <td>0.000000</td>\n",
       "      <td>0.000000</td>\n",
       "      <td>0.06816</td>\n",
       "      <td>0.299559</td>\n",
       "      <td>0.000000</td>\n",
       "      <td>0.000000</td>\n",
       "      <td>0.099853</td>\n",
       "      <td>0.000000</td>\n",
       "      <td>0.000000</td>\n",
       "      <td>0.043004</td>\n",
       "      <td>0.000000</td>\n",
       "    </tr>\n",
       "    <tr>\n",
       "      <th>2</th>\n",
       "      <td>0.00000</td>\n",
       "      <td>0.079520</td>\n",
       "      <td>0.079520</td>\n",
       "      <td>0.00000</td>\n",
       "      <td>0.000000</td>\n",
       "      <td>0.116495</td>\n",
       "      <td>0.000000</td>\n",
       "      <td>0.000000</td>\n",
       "      <td>0.000000</td>\n",
       "      <td>0.000000</td>\n",
       "      <td>0.150515</td>\n",
       "      <td>0.000000</td>\n",
       "    </tr>\n",
       "    <tr>\n",
       "      <th>3</th>\n",
       "      <td>0.00000</td>\n",
       "      <td>0.047712</td>\n",
       "      <td>0.047712</td>\n",
       "      <td>0.00000</td>\n",
       "      <td>0.000000</td>\n",
       "      <td>0.000000</td>\n",
       "      <td>0.069897</td>\n",
       "      <td>0.000000</td>\n",
       "      <td>0.069897</td>\n",
       "      <td>0.000000</td>\n",
       "      <td>0.150515</td>\n",
       "      <td>0.069897</td>\n",
       "    </tr>\n",
       "  </tbody>\n",
       "</table>\n",
       "</div>"
      ],
      "text/plain": [
       "     brown       dog  elephant      fox     jumps      lazy      lion  \\\n",
       "0  0.11928  0.000000  0.000000  0.11928  0.000000  0.000000  0.000000   \n",
       "1  0.06816  0.000000  0.000000  0.06816  0.299559  0.000000  0.000000   \n",
       "2  0.00000  0.079520  0.079520  0.00000  0.000000  0.116495  0.000000   \n",
       "3  0.00000  0.047712  0.047712  0.00000  0.000000  0.000000  0.069897   \n",
       "\n",
       "       over   peacock     quick       the     tiger  \n",
       "0  0.000000  0.000000  0.174743  0.075257  0.000000  \n",
       "1  0.099853  0.000000  0.000000  0.043004  0.000000  \n",
       "2  0.000000  0.000000  0.000000  0.150515  0.000000  \n",
       "3  0.000000  0.069897  0.000000  0.150515  0.069897  "
      ]
     },
     "execution_count": 226,
     "metadata": {},
     "output_type": "execute_result"
    }
   ],
   "source": [
    "a"
   ]
  },
  {
   "cell_type": "code",
   "execution_count": 227,
   "metadata": {},
   "outputs": [
    {
     "data": {
      "text/html": [
       "<div>\n",
       "<style scoped>\n",
       "    .dataframe tbody tr th:only-of-type {\n",
       "        vertical-align: middle;\n",
       "    }\n",
       "\n",
       "    .dataframe tbody tr th {\n",
       "        vertical-align: top;\n",
       "    }\n",
       "\n",
       "    .dataframe thead th {\n",
       "        text-align: right;\n",
       "    }\n",
       "</style>\n",
       "<table border=\"1\" class=\"dataframe\">\n",
       "  <thead>\n",
       "    <tr style=\"text-align: right;\">\n",
       "      <th></th>\n",
       "      <th>0</th>\n",
       "      <th>1</th>\n",
       "      <th>2</th>\n",
       "      <th>3</th>\n",
       "    </tr>\n",
       "  </thead>\n",
       "  <tbody>\n",
       "    <tr>\n",
       "      <th>brown</th>\n",
       "      <td>0.119280</td>\n",
       "      <td>0.068160</td>\n",
       "      <td>0.000000</td>\n",
       "      <td>0.000000</td>\n",
       "    </tr>\n",
       "    <tr>\n",
       "      <th>dog</th>\n",
       "      <td>0.000000</td>\n",
       "      <td>0.000000</td>\n",
       "      <td>0.079520</td>\n",
       "      <td>0.047712</td>\n",
       "    </tr>\n",
       "    <tr>\n",
       "      <th>elephant</th>\n",
       "      <td>0.000000</td>\n",
       "      <td>0.000000</td>\n",
       "      <td>0.079520</td>\n",
       "      <td>0.047712</td>\n",
       "    </tr>\n",
       "    <tr>\n",
       "      <th>fox</th>\n",
       "      <td>0.119280</td>\n",
       "      <td>0.068160</td>\n",
       "      <td>0.000000</td>\n",
       "      <td>0.000000</td>\n",
       "    </tr>\n",
       "    <tr>\n",
       "      <th>jumps</th>\n",
       "      <td>0.000000</td>\n",
       "      <td>0.299559</td>\n",
       "      <td>0.000000</td>\n",
       "      <td>0.000000</td>\n",
       "    </tr>\n",
       "    <tr>\n",
       "      <th>lazy</th>\n",
       "      <td>0.000000</td>\n",
       "      <td>0.000000</td>\n",
       "      <td>0.116495</td>\n",
       "      <td>0.000000</td>\n",
       "    </tr>\n",
       "    <tr>\n",
       "      <th>lion</th>\n",
       "      <td>0.000000</td>\n",
       "      <td>0.000000</td>\n",
       "      <td>0.000000</td>\n",
       "      <td>0.069897</td>\n",
       "    </tr>\n",
       "    <tr>\n",
       "      <th>over</th>\n",
       "      <td>0.000000</td>\n",
       "      <td>0.099853</td>\n",
       "      <td>0.000000</td>\n",
       "      <td>0.000000</td>\n",
       "    </tr>\n",
       "    <tr>\n",
       "      <th>peacock</th>\n",
       "      <td>0.000000</td>\n",
       "      <td>0.000000</td>\n",
       "      <td>0.000000</td>\n",
       "      <td>0.069897</td>\n",
       "    </tr>\n",
       "    <tr>\n",
       "      <th>quick</th>\n",
       "      <td>0.174743</td>\n",
       "      <td>0.000000</td>\n",
       "      <td>0.000000</td>\n",
       "      <td>0.000000</td>\n",
       "    </tr>\n",
       "    <tr>\n",
       "      <th>the</th>\n",
       "      <td>0.075257</td>\n",
       "      <td>0.043004</td>\n",
       "      <td>0.150515</td>\n",
       "      <td>0.150515</td>\n",
       "    </tr>\n",
       "    <tr>\n",
       "      <th>tiger</th>\n",
       "      <td>0.000000</td>\n",
       "      <td>0.000000</td>\n",
       "      <td>0.000000</td>\n",
       "      <td>0.069897</td>\n",
       "    </tr>\n",
       "  </tbody>\n",
       "</table>\n",
       "</div>"
      ],
      "text/plain": [
       "                 0         1         2         3\n",
       "brown     0.119280  0.068160  0.000000  0.000000\n",
       "dog       0.000000  0.000000  0.079520  0.047712\n",
       "elephant  0.000000  0.000000  0.079520  0.047712\n",
       "fox       0.119280  0.068160  0.000000  0.000000\n",
       "jumps     0.000000  0.299559  0.000000  0.000000\n",
       "lazy      0.000000  0.000000  0.116495  0.000000\n",
       "lion      0.000000  0.000000  0.000000  0.069897\n",
       "over      0.000000  0.099853  0.000000  0.000000\n",
       "peacock   0.000000  0.000000  0.000000  0.069897\n",
       "quick     0.174743  0.000000  0.000000  0.000000\n",
       "the       0.075257  0.043004  0.150515  0.150515\n",
       "tiger     0.000000  0.000000  0.000000  0.069897"
      ]
     },
     "execution_count": 227,
     "metadata": {},
     "output_type": "execute_result"
    }
   ],
   "source": [
    "a.T"
   ]
  },
  {
   "cell_type": "code",
   "execution_count": 228,
   "metadata": {},
   "outputs": [
    {
     "data": {
      "text/plain": [
       "array([0.34991325, 0.27898326, 0.22597157, 0.12208299])"
      ]
     },
     "execution_count": 228,
     "metadata": {},
     "output_type": "execute_result"
    }
   ],
   "source": [
    "s"
   ]
  },
  {
   "cell_type": "code",
   "execution_count": 230,
   "metadata": {},
   "outputs": [
    {
     "data": {
      "text/plain": [
       "array([[-0.29955896,  0.04456233],\n",
       "       [-0.07811432,  0.26969582],\n",
       "       [-0.07811432,  0.26969582],\n",
       "       [-0.29955896,  0.04456233],\n",
       "       [-0.74908141, -0.47036236],\n",
       "       [-0.07325954,  0.25714274],\n",
       "       [-0.04117587,  0.1379545 ],\n",
       "       [-0.2496938 , -0.15678745],\n",
       "       [-0.04117587,  0.1379545 ],\n",
       "       [-0.18915214,  0.22207008],\n",
       "       [-0.37232158,  0.65742059],\n",
       "       [-0.04117587,  0.1379545 ]])"
      ]
     },
     "execution_count": 230,
     "metadata": {},
     "output_type": "execute_result"
    }
   ],
   "source": [
    "np.u[:,:2]"
   ]
  },
  {
   "cell_type": "code",
   "execution_count": 231,
   "metadata": {},
   "outputs": [
    {
     "data": {
      "text/plain": [
       "<matplotlib.collections.PathCollection at 0x23feeb38>"
      ]
     },
     "execution_count": 231,
     "metadata": {},
     "output_type": "execute_result"
    },
    {
     "data": {
      "image/png": "[encoded data removed]",
      "text/plain": [
       "<Figure size 432x288 with 1 Axes>"
      ]
     },
     "metadata": {
      "needs_background": "light"
     },
     "output_type": "display_data"
    }
   ],
   "source": [
    "plt.scatter(u[:,:2],u[:,:2] , marker='o', color='g')"
   ]
  },
  {
   "cell_type": "code",
   "execution_count": 232,
   "metadata": {},
   "outputs": [
    {
     "data": {
      "text/plain": [
       "array([[-0.29955896,  0.04456233,  0.38897181, -0.02019641, -0.1107903 ,\n",
       "         0.2294557 , -0.18926874, -0.0369301 , -0.18926874, -0.64678623,\n",
       "        -0.40556507, -0.18926874],\n",
       "       [-0.07811432,  0.26969582, -0.19342397, -0.13736653, -0.82151835,\n",
       "        -0.1262376 , -0.01846034, -0.27383945, -0.01846034,  0.21389252,\n",
       "        -0.22867264, -0.01846034],\n",
       "       [-0.07811432,  0.26969582, -0.19342397, -0.13736653,  0.37816477,\n",
       "        -0.58069869,  0.04209728,  0.12605492,  0.04209728,  0.00579531,\n",
       "        -0.60284358,  0.04209728],\n",
       "       [-0.29955896,  0.04456233,  0.38897181, -0.02019641, -0.13913913,\n",
       "        -0.35916941,  0.39798275, -0.04637971,  0.39798275, -0.24237594,\n",
       "         0.26859137,  0.39798275],\n",
       "       [-0.74908141, -0.47036236, -0.27322404, -0.00503896,  0.13481188,\n",
       "         0.03475611, -0.01883272, -0.28839604, -0.01883272,  0.19508138,\n",
       "        -0.03583656, -0.01883272],\n",
       "       [-0.07325954,  0.25714274, -0.1897439 , -0.63072537,  0.13894459,\n",
       "         0.56449007,  0.22294654,  0.04631486,  0.22294654, -0.01998932,\n",
       "        -0.07126472,  0.22294654],\n",
       "       [-0.04117587,  0.1379545 , -0.0936171 ,  0.42948704,  0.00993901,\n",
       "         0.20637024,  0.79411135,  0.003313  , -0.20588865,  0.02221933,\n",
       "        -0.16572443, -0.20588865],\n",
       "       [-0.2496938 , -0.15678745, -0.09107468, -0.00167965, -0.28839604,\n",
       "         0.01158537, -0.00627757,  0.90386799, -0.00627757,  0.06502713,\n",
       "        -0.01194552, -0.00627757],\n",
       "       [-0.04117587,  0.1379545 , -0.0936171 ,  0.42948704,  0.00993901,\n",
       "         0.20637024, -0.20588865,  0.003313  ,  0.79411135,  0.02221933,\n",
       "        -0.16572443, -0.20588865],\n",
       "       [-0.18915214,  0.22207008,  0.66090808, -0.02790756,  0.1160396 ,\n",
       "         0.11585371, -0.06277572,  0.03867987, -0.06277572,  0.65027126,\n",
       "        -0.11945519, -0.06277572],\n",
       "       [-0.37232158,  0.65742059, -0.20133431,  0.09719158,  0.12669316,\n",
       "        -0.06341261, -0.18504317,  0.04223105, -0.18504317, -0.1005944 ,\n",
       "         0.49446453, -0.18504317],\n",
       "       [-0.04117587,  0.1379545 , -0.0936171 ,  0.42948704,  0.00993901,\n",
       "         0.20637024, -0.20588865,  0.003313  , -0.20588865,  0.02221933,\n",
       "        -0.16572443,  0.79411135]])"
      ]
     },
     "execution_count": 232,
     "metadata": {},
     "output_type": "execute_result"
    }
   ],
   "source": [
    "u"
   ]
  },
  {
   "cell_type": "code",
   "execution_count": 233,
   "metadata": {},
   "outputs": [
    {
     "data": {
      "text/plain": [
       "array([0.34991325, 0.27898326, 0.22597157, 0.12208299])"
      ]
     },
     "execution_count": 233,
     "metadata": {},
     "output_type": "execute_result"
    }
   ],
   "source": [
    "s"
   ]
  },
  {
   "cell_type": "code",
   "execution_count": 234,
   "metadata": {},
   "outputs": [
    {
     "data": {
      "text/plain": [
       "array([[-0.37876783, -0.87499919, -0.22004793, -0.20613164],\n",
       "       [ 0.35454359, -0.43805531,  0.6158077 ,  0.55062443],\n",
       "       [ 0.85466579, -0.20610616, -0.36805637, -0.3026568 ],\n",
       "       [-0.01949748, -0.00205359, -0.66097979,  0.75014755]])"
      ]
     },
     "execution_count": 234,
     "metadata": {},
     "output_type": "execute_result"
    }
   ],
   "source": [
    "vh"
   ]
  },
  {
   "cell_type": "code",
   "execution_count": 235,
   "metadata": {},
   "outputs": [
    {
     "data": {
      "text/plain": [
       "array([[-0.29955896,  0.04456233],\n",
       "       [-0.07811432,  0.26969582],\n",
       "       [-0.07811432,  0.26969582],\n",
       "       [-0.29955896,  0.04456233],\n",
       "       [-0.74908141, -0.47036236],\n",
       "       [-0.07325954,  0.25714274],\n",
       "       [-0.04117587,  0.1379545 ],\n",
       "       [-0.2496938 , -0.15678745],\n",
       "       [-0.04117587,  0.1379545 ],\n",
       "       [-0.18915214,  0.22207008],\n",
       "       [-0.37232158,  0.65742059],\n",
       "       [-0.04117587,  0.1379545 ]])"
      ]
     },
     "execution_count": 235,
     "metadata": {},
     "output_type": "execute_result"
    }
   ],
   "source": [
    "u[:,:2]"
   ]
  },
  {
   "cell_type": "code",
   "execution_count": 237,
   "metadata": {},
   "outputs": [
    {
     "data": {
      "text/plain": [
       "(4L,)"
      ]
     },
     "execution_count": 237,
     "metadata": {},
     "output_type": "execute_result"
    }
   ],
   "source": [
    "s.shape"
   ]
  },
  {
   "cell_type": "code",
   "execution_count": 238,
   "metadata": {},
   "outputs": [
    {
     "data": {
      "text/plain": [
       "array([[0.34991325],\n",
       "       [0.27898326],\n",
       "       [0.22597157],\n",
       "       [0.12208299]])"
      ]
     },
     "execution_count": 238,
     "metadata": {},
     "output_type": "execute_result"
    }
   ],
   "source": [
    "\n"
   ]
  },
  {
   "cell_type": "code",
   "execution_count": 239,
   "metadata": {},
   "outputs": [
    {
     "data": {
      "text/plain": [
       "array([[1., 0., 0., 0.],\n",
       "       [0., 1., 0., 0.],\n",
       "       [0., 0., 1., 0.],\n",
       "       [0., 0., 0., 1.]])"
      ]
     },
     "execution_count": 239,
     "metadata": {},
     "output_type": "execute_result"
    }
   ],
   "source": [
    "np.identity(4)"
   ]
  },
  {
   "cell_type": "code",
   "execution_count": 241,
   "metadata": {},
   "outputs": [
    {
     "data": {
      "text/plain": [
       "array([[0.34991325],\n",
       "       [0.27898326],\n",
       "       [0.22597157],\n",
       "       [0.12208299]])"
      ]
     },
     "execution_count": 241,
     "metadata": {},
     "output_type": "execute_result"
    }
   ],
   "source": [
    "s.reshape(-1,1)"
   ]
  },
  {
   "cell_type": "code",
   "execution_count": null,
   "metadata": {},
   "outputs": [],
   "source": [
    "np.multiply(a,b)"
   ]
  },
  {
   "cell_type": "code",
   "execution_count": 242,
   "metadata": {},
   "outputs": [
    {
     "data": {
      "text/plain": [
       "<matplotlib.collections.PathCollection at 0x23a5bcf8>"
      ]
     },
     "execution_count": 242,
     "metadata": {},
     "output_type": "execute_result"
    },
    {
     "data": {
      "image/png": "[encoded data removed]",
      "text/plain": [
       "<Figure size 432x288 with 1 Axes>"
      ]
     },
     "metadata": {
      "needs_background": "light"
     },
     "output_type": "display_data"
    }
   ],
   "source": [
    "plt.scatter(u[:,0],u[:,1] , marker='o', color='g')"
   ]
  },
  {
   "cell_type": "code",
   "execution_count": 243,
   "metadata": {},
   "outputs": [
    {
     "data": {
      "text/plain": [
       "['brown',\n",
       " 'dog',\n",
       " 'elephant',\n",
       " 'fox',\n",
       " 'jumps',\n",
       " 'lazy',\n",
       " 'lion',\n",
       " 'over',\n",
       " 'peacock',\n",
       " 'quick',\n",
       " 'the',\n",
       " 'tiger']"
      ]
     },
     "execution_count": 243,
     "metadata": {},
     "output_type": "execute_result"
    }
   ],
   "source": [
    "labels"
   ]
  },
  {
   "cell_type": "code",
   "execution_count": 244,
   "metadata": {},
   "outputs": [
    {
     "data": {
      "image/png": "[encoded data removed]",
      "text/plain": [
       "<Figure size 432x288 with 1 Axes>"
      ]
     },
     "metadata": {
      "needs_background": "light"
     },
     "output_type": "display_data"
    }
   ],
   "source": [
    "plt.scatter(u[:,0],u[:,1] , marker='o', color='g')\n",
    "\n",
    "for label, x, y in zip(labels, u[:,0],u[:,1]):\n",
    "    plt.annotate(\n",
    "        label,\n",
    "        xy=(x, y), xytext=(-20, 20),\n",
    "        textcoords='offset points', ha='right', va='bottom',\n",
    "        bbox=dict(boxstyle='round,pad=0.6', fc='yellow', alpha=0.5),\n",
    "        arrowprops=dict(arrowstyle = '->', connectionstyle='arc3,rad=0'))\n",
    "\n",
    "plt.show()"
   ]
  },
  {
   "cell_type": "code",
   "execution_count": null,
   "metadata": {},
   "outputs": [],
   "source": [
    "plt.scatter(vh[0,:],vh[1,:] , marker='o', color='g')\n",
    "\n",
    "for label, x, y in zip(labels, u[:,0],u[:,1]):\n",
    "    plt.annotate(\n",
    "        label,\n",
    "        xy=(x, y), xytext=(-20, 20),\n",
    "        textcoords='offset points', ha='right', va='bottom',\n",
    "        bbox=dict(boxstyle='round,pad=0.6', fc='yellow', alpha=0.5),\n",
    "        arrowprops=dict(arrowstyle = '->', connectionstyle='arc3,rad=0'))\n",
    "\n",
    "plt.show()"
   ]
  },
  {
   "cell_type": "code",
   "execution_count": 245,
   "metadata": {},
   "outputs": [
    {
     "data": {
      "text/plain": [
       "<matplotlib.collections.PathCollection at 0x238504a8>"
      ]
     },
     "execution_count": 245,
     "metadata": {},
     "output_type": "execute_result"
    },
    {
     "data": {
      "image/png": "[encoded data removed]",
      "text/plain": [
       "<Figure size 432x288 with 1 Axes>"
      ]
     },
     "metadata": {
      "needs_background": "light"
     },
     "output_type": "display_data"
    }
   ],
   "source": [
    "plt.scatter(vh[0,:],vh[1,:] , marker='o', color='g')\n"
   ]
  },
  {
   "cell_type": "code",
   "execution_count": 246,
   "metadata": {},
   "outputs": [
    {
     "data": {
      "text/plain": [
       "array([[-0.37876783, -0.87499919, -0.22004793, -0.20613164],\n",
       "       [ 0.35454359, -0.43805531,  0.6158077 ,  0.55062443],\n",
       "       [ 0.85466579, -0.20610616, -0.36805637, -0.3026568 ],\n",
       "       [-0.01949748, -0.00205359, -0.66097979,  0.75014755]])"
      ]
     },
     "execution_count": 246,
     "metadata": {},
     "output_type": "execute_result"
    }
   ],
   "source": [
    "vh"
   ]
  },
  {
   "cell_type": "code",
   "execution_count": 248,
   "metadata": {},
   "outputs": [
    {
     "data": {
      "text/html": [
       "<div>\n",
       "<style scoped>\n",
       "    .dataframe tbody tr th:only-of-type {\n",
       "        vertical-align: middle;\n",
       "    }\n",
       "\n",
       "    .dataframe tbody tr th {\n",
       "        vertical-align: top;\n",
       "    }\n",
       "\n",
       "    .dataframe thead th {\n",
       "        text-align: right;\n",
       "    }\n",
       "</style>\n",
       "<table border=\"1\" class=\"dataframe\">\n",
       "  <thead>\n",
       "    <tr style=\"text-align: right;\">\n",
       "      <th></th>\n",
       "      <th>brown</th>\n",
       "      <th>dog</th>\n",
       "      <th>elephant</th>\n",
       "      <th>fox</th>\n",
       "      <th>jumps</th>\n",
       "      <th>lazy</th>\n",
       "      <th>lion</th>\n",
       "      <th>over</th>\n",
       "      <th>peacock</th>\n",
       "      <th>quick</th>\n",
       "      <th>the</th>\n",
       "      <th>tiger</th>\n",
       "    </tr>\n",
       "  </thead>\n",
       "  <tbody>\n",
       "    <tr>\n",
       "      <th>0</th>\n",
       "      <td>0.11928</td>\n",
       "      <td>0.000000</td>\n",
       "      <td>0.000000</td>\n",
       "      <td>0.11928</td>\n",
       "      <td>0.000000</td>\n",
       "      <td>0.000000</td>\n",
       "      <td>0.000000</td>\n",
       "      <td>0.000000</td>\n",
       "      <td>0.000000</td>\n",
       "      <td>0.174743</td>\n",
       "      <td>0.075257</td>\n",
       "      <td>0.000000</td>\n",
       "    </tr>\n",
       "    <tr>\n",
       "      <th>1</th>\n",
       "      <td>0.06816</td>\n",
       "      <td>0.000000</td>\n",
       "      <td>0.000000</td>\n",
       "      <td>0.06816</td>\n",
       "      <td>0.299559</td>\n",
       "      <td>0.000000</td>\n",
       "      <td>0.000000</td>\n",
       "      <td>0.099853</td>\n",
       "      <td>0.000000</td>\n",
       "      <td>0.000000</td>\n",
       "      <td>0.043004</td>\n",
       "      <td>0.000000</td>\n",
       "    </tr>\n",
       "    <tr>\n",
       "      <th>2</th>\n",
       "      <td>0.00000</td>\n",
       "      <td>0.079520</td>\n",
       "      <td>0.079520</td>\n",
       "      <td>0.00000</td>\n",
       "      <td>0.000000</td>\n",
       "      <td>0.116495</td>\n",
       "      <td>0.000000</td>\n",
       "      <td>0.000000</td>\n",
       "      <td>0.000000</td>\n",
       "      <td>0.000000</td>\n",
       "      <td>0.150515</td>\n",
       "      <td>0.000000</td>\n",
       "    </tr>\n",
       "    <tr>\n",
       "      <th>3</th>\n",
       "      <td>0.00000</td>\n",
       "      <td>0.047712</td>\n",
       "      <td>0.047712</td>\n",
       "      <td>0.00000</td>\n",
       "      <td>0.000000</td>\n",
       "      <td>0.000000</td>\n",
       "      <td>0.069897</td>\n",
       "      <td>0.000000</td>\n",
       "      <td>0.069897</td>\n",
       "      <td>0.000000</td>\n",
       "      <td>0.150515</td>\n",
       "      <td>0.069897</td>\n",
       "    </tr>\n",
       "  </tbody>\n",
       "</table>\n",
       "</div>"
      ],
      "text/plain": [
       "     brown       dog  elephant      fox     jumps      lazy      lion  \\\n",
       "0  0.11928  0.000000  0.000000  0.11928  0.000000  0.000000  0.000000   \n",
       "1  0.06816  0.000000  0.000000  0.06816  0.299559  0.000000  0.000000   \n",
       "2  0.00000  0.079520  0.079520  0.00000  0.000000  0.116495  0.000000   \n",
       "3  0.00000  0.047712  0.047712  0.00000  0.000000  0.000000  0.069897   \n",
       "\n",
       "       over   peacock     quick       the     tiger  \n",
       "0  0.000000  0.000000  0.174743  0.075257  0.000000  \n",
       "1  0.099853  0.000000  0.000000  0.043004  0.000000  \n",
       "2  0.000000  0.000000  0.000000  0.150515  0.000000  \n",
       "3  0.000000  0.069897  0.000000  0.150515  0.069897  "
      ]
     },
     "execution_count": 248,
     "metadata": {},
     "output_type": "execute_result"
    }
   ],
   "source": []
  },
  {
   "cell_type": "code",
   "execution_count": 249,
   "metadata": {},
   "outputs": [],
   "source": [
    "doc= ['doc1','doc2','doc3','doc4']"
   ]
  },
  {
   "cell_type": "code",
   "execution_count": 250,
   "metadata": {},
   "outputs": [
    {
     "data": {
      "image/png": "[encoded data removed]",
      "text/plain": [
       "<Figure size 432x288 with 1 Axes>"
      ]
     },
     "metadata": {
      "needs_background": "light"
     },
     "output_type": "display_data"
    }
   ],
   "source": [
    "plt.scatter(vh[0,:],vh[1,:] , marker='o', color='g')\n",
    "\n",
    "for label, x, y in zip(doc, vh[0,:],vh[1,:]):\n",
    "    plt.annotate(\n",
    "        label,\n",
    "        xy=(x, y), xytext=(-20, 20),\n",
    "        textcoords='offset points', ha='right', va='bottom',\n",
    "        bbox=dict(boxstyle='round,pad=0.6', fc='yellow', alpha=0.5),\n",
    "        arrowprops=dict(arrowstyle = '->', connectionstyle='arc3,rad=0'))\n",
    "\n",
    "plt.show()"
   ]
  },
  {
   "cell_type": "code",
   "execution_count": 251,
   "metadata": {},
   "outputs": [
    {
     "data": {
      "text/plain": [
       "(4L, 4L)"
      ]
     },
     "execution_count": 251,
     "metadata": {},
     "output_type": "execute_result"
    }
   ],
   "source": [
    "vh.shape"
   ]
  },
  {
   "cell_type": "code",
   "execution_count": 252,
   "metadata": {},
   "outputs": [
    {
     "data": {
      "text/plain": [
       "(4L,)"
      ]
     },
     "execution_count": 252,
     "metadata": {},
     "output_type": "execute_result"
    }
   ],
   "source": [
    "s.shape"
   ]
  },
  {
   "cell_type": "code",
   "execution_count": 255,
   "metadata": {},
   "outputs": [
    {
     "data": {
      "text/plain": [
       "array([-0.29955896,  0.04456233,  0.38897181, -0.02019641, -0.1107903 ,\n",
       "        0.2294557 , -0.18926874, -0.0369301 , -0.18926874, -0.64678623,\n",
       "       -0.40556507, -0.18926874])"
      ]
     },
     "execution_count": 255,
     "metadata": {},
     "output_type": "execute_result"
    }
   ],
   "source": [
    "u[0]"
   ]
  },
  {
   "cell_type": "code",
   "execution_count": 256,
   "metadata": {},
   "outputs": [
    {
     "data": {
      "text/plain": [
       "array([-0.29955896, -0.07811432, -0.07811432, -0.29955896, -0.74908141,\n",
       "       -0.07325954, -0.04117587, -0.2496938 , -0.04117587, -0.18915214,\n",
       "       -0.37232158, -0.04117587])"
      ]
     },
     "execution_count": 256,
     "metadata": {},
     "output_type": "execute_result"
    }
   ],
   "source": [
    "u[:,0]"
   ]
  },
  {
   "cell_type": "code",
   "execution_count": 257,
   "metadata": {},
   "outputs": [
    {
     "data": {
      "text/plain": [
       "4"
      ]
     },
     "execution_count": 257,
     "metadata": {},
     "output_type": "execute_result"
    }
   ],
   "source": [
    "len(label)"
   ]
  },
  {
   "cell_type": "code",
   "execution_count": 260,
   "metadata": {},
   "outputs": [],
   "source": [
    "labels = ['{0}'.format(i) for i in a]"
   ]
  },
  {
   "cell_type": "code",
   "execution_count": null,
   "metadata": {},
   "outputs": [],
   "source": []
  },
  {
   "cell_type": "code",
   "execution_count": 261,
   "metadata": {},
   "outputs": [
    {
     "name": "stdout",
     "output_type": "stream",
     "text": [
      "['brown', 'dog', 'elephant', 'fox', 'jumps', 'lazy', 'lion', 'over', 'peacock', 'quick', 'the', 'tiger']\n"
     ]
    }
   ],
   "source": [
    "print labels"
   ]
  },
  {
   "cell_type": "code",
   "execution_count": 262,
   "metadata": {},
   "outputs": [
    {
     "data": {
      "text/html": [
       "<div>\n",
       "<style scoped>\n",
       "    .dataframe tbody tr th:only-of-type {\n",
       "        vertical-align: middle;\n",
       "    }\n",
       "\n",
       "    .dataframe tbody tr th {\n",
       "        vertical-align: top;\n",
       "    }\n",
       "\n",
       "    .dataframe thead th {\n",
       "        text-align: right;\n",
       "    }\n",
       "</style>\n",
       "<table border=\"1\" class=\"dataframe\">\n",
       "  <thead>\n",
       "    <tr style=\"text-align: right;\">\n",
       "      <th></th>\n",
       "      <th>brown</th>\n",
       "      <th>dog</th>\n",
       "      <th>elephant</th>\n",
       "      <th>fox</th>\n",
       "      <th>jumps</th>\n",
       "      <th>lazy</th>\n",
       "      <th>lion</th>\n",
       "      <th>over</th>\n",
       "      <th>peacock</th>\n",
       "      <th>quick</th>\n",
       "      <th>the</th>\n",
       "      <th>tiger</th>\n",
       "    </tr>\n",
       "  </thead>\n",
       "  <tbody>\n",
       "    <tr>\n",
       "      <th>0</th>\n",
       "      <td>0.11928</td>\n",
       "      <td>0.000000</td>\n",
       "      <td>0.000000</td>\n",
       "      <td>0.11928</td>\n",
       "      <td>0.000000</td>\n",
       "      <td>0.000000</td>\n",
       "      <td>0.000000</td>\n",
       "      <td>0.000000</td>\n",
       "      <td>0.000000</td>\n",
       "      <td>0.174743</td>\n",
       "      <td>0.075257</td>\n",
       "      <td>0.000000</td>\n",
       "    </tr>\n",
       "    <tr>\n",
       "      <th>1</th>\n",
       "      <td>0.06816</td>\n",
       "      <td>0.000000</td>\n",
       "      <td>0.000000</td>\n",
       "      <td>0.06816</td>\n",
       "      <td>0.299559</td>\n",
       "      <td>0.000000</td>\n",
       "      <td>0.000000</td>\n",
       "      <td>0.099853</td>\n",
       "      <td>0.000000</td>\n",
       "      <td>0.000000</td>\n",
       "      <td>0.043004</td>\n",
       "      <td>0.000000</td>\n",
       "    </tr>\n",
       "    <tr>\n",
       "      <th>2</th>\n",
       "      <td>0.00000</td>\n",
       "      <td>0.079520</td>\n",
       "      <td>0.079520</td>\n",
       "      <td>0.00000</td>\n",
       "      <td>0.000000</td>\n",
       "      <td>0.116495</td>\n",
       "      <td>0.000000</td>\n",
       "      <td>0.000000</td>\n",
       "      <td>0.000000</td>\n",
       "      <td>0.000000</td>\n",
       "      <td>0.150515</td>\n",
       "      <td>0.000000</td>\n",
       "    </tr>\n",
       "    <tr>\n",
       "      <th>3</th>\n",
       "      <td>0.00000</td>\n",
       "      <td>0.047712</td>\n",
       "      <td>0.047712</td>\n",
       "      <td>0.00000</td>\n",
       "      <td>0.000000</td>\n",
       "      <td>0.000000</td>\n",
       "      <td>0.069897</td>\n",
       "      <td>0.000000</td>\n",
       "      <td>0.069897</td>\n",
       "      <td>0.000000</td>\n",
       "      <td>0.150515</td>\n",
       "      <td>0.069897</td>\n",
       "    </tr>\n",
       "  </tbody>\n",
       "</table>\n",
       "</div>"
      ],
      "text/plain": [
       "     brown       dog  elephant      fox     jumps      lazy      lion  \\\n",
       "0  0.11928  0.000000  0.000000  0.11928  0.000000  0.000000  0.000000   \n",
       "1  0.06816  0.000000  0.000000  0.06816  0.299559  0.000000  0.000000   \n",
       "2  0.00000  0.079520  0.079520  0.00000  0.000000  0.116495  0.000000   \n",
       "3  0.00000  0.047712  0.047712  0.00000  0.000000  0.000000  0.069897   \n",
       "\n",
       "       over   peacock     quick       the     tiger  \n",
       "0  0.000000  0.000000  0.174743  0.075257  0.000000  \n",
       "1  0.099853  0.000000  0.000000  0.043004  0.000000  \n",
       "2  0.000000  0.000000  0.000000  0.150515  0.000000  \n",
       "3  0.000000  0.069897  0.000000  0.150515  0.069897  "
      ]
     },
     "execution_count": 262,
     "metadata": {},
     "output_type": "execute_result"
    }
   ],
   "source": [
    "a"
   ]
  },
  {
   "cell_type": "code",
   "execution_count": 264,
   "metadata": {},
   "outputs": [],
   "source": [
    "import numpy as np\n",
    "u, s, vh = np.linalg.svd(a.T)"
   ]
  },
  {
   "cell_type": "code",
   "execution_count": 266,
   "metadata": {},
   "outputs": [
    {
     "data": {
      "text/plain": [
       "(12L, 12L)"
      ]
     },
     "execution_count": 266,
     "metadata": {},
     "output_type": "execute_result"
    }
   ],
   "source": [
    "u.shape"
   ]
  },
  {
   "cell_type": "code",
   "execution_count": 267,
   "metadata": {},
   "outputs": [
    {
     "data": {
      "text/plain": [
       "(4L,)"
      ]
     },
     "execution_count": 267,
     "metadata": {},
     "output_type": "execute_result"
    }
   ],
   "source": [
    "s.shape"
   ]
  },
  {
   "cell_type": "code",
   "execution_count": 268,
   "metadata": {},
   "outputs": [
    {
     "data": {
      "text/plain": [
       "(4L, 4L)"
      ]
     },
     "execution_count": 268,
     "metadata": {},
     "output_type": "execute_result"
    }
   ],
   "source": [
    "vh.shape"
   ]
  },
  {
   "cell_type": "code",
   "execution_count": 269,
   "metadata": {},
   "outputs": [
    {
     "data": {
      "text/plain": [
       "u'C:\\\\Users\\\\An47880'"
      ]
     },
     "execution_count": 269,
     "metadata": {},
     "output_type": "execute_result"
    }
   ],
   "source": [
    "pwd"
   ]
  },
  {
   "cell_type": "code",
   "execution_count": 270,
   "metadata": {},
   "outputs": [
    {
     "name": "stdout",
     "output_type": "stream",
     "text": [
      "C:\\Users\\An47880\\Desktop\n"
     ]
    }
   ],
   "source": [
    "cd Desktop/"
   ]
  },
  {
   "cell_type": "code",
   "execution_count": 285,
   "metadata": {},
   "outputs": [],
   "source": [
    "import numpy as np\n",
    "import pandas as pd\n",
    "\n",
    "df = pd.read_csv('final_1.csv',sep=',' ,parse_dates=True,keep_date_col = True)"
   ]
  },
  {
   "cell_type": "code",
   "execution_count": 286,
   "metadata": {},
   "outputs": [
    {
     "name": "stdout",
     "output_type": "stream",
     "text": [
      "                                ,1,2,3,4,5,6,7,8,9,10\n",
      "0   Action,0.178451178,0.783919598,0.123853211,0,0...\n",
      "1   Adventure,0.185185185,0.351758794,0.036697248,...\n",
      "2     Animation,0.13468013,0.01005025,0,0,0,0,0,0,0,0\n",
      "3   Childrens,0.134680135,0.010050251,0,0,0,0,0,0,0,0\n",
      "4   Comedy,0.393939394,0.005025126,0.009174312,0,0...\n",
      "5   Crime,0.363636364,0.065326633,0.064220183,0,1,...\n",
      "6   Documentary,0.033670034,0.005025126,0.41284403...\n",
      "7                  Drama,0.01010101,0,0,0,0,0,0,1,0,0\n",
      "8   Fantasy,0.306397306,0.110552764,0.380733945,1,...\n",
      "9    FilmNoir,0.070707071,0,0.004587156,0,0,0,0,0,0,0\n",
      "10       Horror,0,0,0.105504587,0,0,0.0078125,0,0,0,0\n",
      "11  Musical,0.016835017,0.08040201,0.018348624,0,0...\n",
      "12  Mystery,0.185185185,0.351758794,0.036697248,0,...\n",
      "13              Romance,0,0,0.275229358,0,0,0,0,0,0,0\n",
      "14  SciFi,0.074074074,0.346733668,0.041284404,0,0,...\n",
      "15  Thriller,0.04040404,0.376884422,0.610091743,0,...\n",
      "16  War,0.225589226,0.015075377,0,0,0,0,0,0.021276...\n",
      "17              Western,0.090909091,0,0,0,0,0,0,0,0,0\n"
     ]
    }
   ],
   "source": [
    "print df"
   ]
  },
  {
   "cell_type": "code",
   "execution_count": 278,
   "metadata": {},
   "outputs": [
    {
     "data": {
      "text/plain": [
       "['(2nd Edition) William F. Punch, Richard Enbody - The Practice of Computing Using Python-Addison-Wesley (2012).pdf',\n",
       " '1_chunk',\n",
       " 'Abstarct.pdf',\n",
       " 'Amin.pptx',\n",
       " 'Amin_1.pdf',\n",
       " 'Amin_1.pptx',\n",
       " 'Amin_sherkat_before_27_01_2018.mat',\n",
       " 'assignment_5.R',\n",
       " 'Ass_2.png',\n",
       " 'Bishop - Pattern Recognition and Machine Learning.pdf',\n",
       " 'BLI_17062019210046589.csv',\n",
       " 'box.png',\n",
       " 'Box_plot.png',\n",
       " 'Camfil',\n",
       " 'CamGT 4V300 E10.mat',\n",
       " 'data.csv',\n",
       " 'data.txt',\n",
       " 'desktop.ini',\n",
       " 'Drivers Handbook Study Guide.pdf',\n",
       " 'Elnaz.png',\n",
       " 'ets.htm',\n",
       " 'exam.ipynb',\n",
       " 'file.txt',\n",
       " 'Final',\n",
       " 'final_1.csv',\n",
       " 'gitlab.cer',\n",
       " 'GTC cyl cyl set.mat',\n",
       " 'How to deal with Imbalance data.ipynb',\n",
       " 'LSTM for Dynamic Emotion and Group Emotion.pdf',\n",
       " 'LSTM-Modeling_affect recognition framework.html',\n",
       " 'LSTM-Modeling_affect recognition framework_files',\n",
       " 'Machine Learning with TensorFlow.pdf',\n",
       " 'Matrix.Analysis.Applied.Linear.Algebra.pdf',\n",
       " 'matrix.tab',\n",
       " 'Movavi Video Editor 15.lnk',\n",
       " 'movieLens.txt',\n",
       " 'New folder',\n",
       " 'New folder (2)',\n",
       " 'New folder (3)',\n",
       " 'New folder (4)',\n",
       " 'Poster',\n",
       " 'Proposal',\n",
       " 'Python-for-Computational-Science-and-Engineering--khoob-1.pdf',\n",
       " 'Python.3.Object.Oriented.Programming.Dusty.Phillips.2010.pdf',\n",
       " 'Q_8.csv.csv',\n",
       " 'Research_proposal_commented.pdf',\n",
       " 'sample.csv',\n",
       " 'Statistical.jpg',\n",
       " 'Table.png',\n",
       " 'Telegram.lnk',\n",
       " 'WEO_Data.xls',\n",
       " 'XMGT F7 + 3V600 E10.mat',\n",
       " '[D._Michie,_D._J._Spiegelhalter,_C._C._Tay.pdf',\n",
       " '[Ethem_Alpaydin]_Introduction_to_Machine_Learning_(BookFi).pdf']"
      ]
     },
     "execution_count": 278,
     "metadata": {},
     "output_type": "execute_result"
    }
   ],
   "source": [
    "import os\n",
    "\n",
    "os.listdir(\".\")"
   ]
  },
  {
   "cell_type": "code",
   "execution_count": 289,
   "metadata": {},
   "outputs": [],
   "source": [
    "import numpy as np\n",
    "import pandas as pd\n",
    "\n",
    "df = pd.read_csv('final_1.csv',delimiter = ',')"
   ]
  },
  {
   "cell_type": "code",
   "execution_count": 290,
   "metadata": {},
   "outputs": [
    {
     "name": "stdout",
     "output_type": "stream",
     "text": [
      "                                ,1,2,3,4,5,6,7,8,9,10\n",
      "0   Action,0.178451178,0.783919598,0.123853211,0,0...\n",
      "1   Adventure,0.185185185,0.351758794,0.036697248,...\n",
      "2     Animation,0.13468013,0.01005025,0,0,0,0,0,0,0,0\n",
      "3   Childrens,0.134680135,0.010050251,0,0,0,0,0,0,0,0\n",
      "4   Comedy,0.393939394,0.005025126,0.009174312,0,0...\n",
      "5   Crime,0.363636364,0.065326633,0.064220183,0,1,...\n",
      "6   Documentary,0.033670034,0.005025126,0.41284403...\n",
      "7                  Drama,0.01010101,0,0,0,0,0,0,1,0,0\n",
      "8   Fantasy,0.306397306,0.110552764,0.380733945,1,...\n",
      "9    FilmNoir,0.070707071,0,0.004587156,0,0,0,0,0,0,0\n",
      "10       Horror,0,0,0.105504587,0,0,0.0078125,0,0,0,0\n",
      "11  Musical,0.016835017,0.08040201,0.018348624,0,0...\n",
      "12  Mystery,0.185185185,0.351758794,0.036697248,0,...\n",
      "13              Romance,0,0,0.275229358,0,0,0,0,0,0,0\n",
      "14  SciFi,0.074074074,0.346733668,0.041284404,0,0,...\n",
      "15  Thriller,0.04040404,0.376884422,0.610091743,0,...\n",
      "16  War,0.225589226,0.015075377,0,0,0,0,0,0.021276...\n",
      "17              Western,0.090909091,0,0,0,0,0,0,0,0,0\n"
     ]
    }
   ],
   "source": [
    "print df"
   ]
  },
  {
   "cell_type": "code",
   "execution_count": 291,
   "metadata": {},
   "outputs": [],
   "source": [
    "df = pd.DataFrame(df)"
   ]
  },
  {
   "cell_type": "code",
   "execution_count": 292,
   "metadata": {},
   "outputs": [
    {
     "name": "stdout",
     "output_type": "stream",
     "text": [
      "                                ,1,2,3,4,5,6,7,8,9,10\n",
      "0   Action,0.178451178,0.783919598,0.123853211,0,0...\n",
      "1   Adventure,0.185185185,0.351758794,0.036697248,...\n",
      "2     Animation,0.13468013,0.01005025,0,0,0,0,0,0,0,0\n",
      "3   Childrens,0.134680135,0.010050251,0,0,0,0,0,0,0,0\n",
      "4   Comedy,0.393939394,0.005025126,0.009174312,0,0...\n",
      "5   Crime,0.363636364,0.065326633,0.064220183,0,1,...\n",
      "6   Documentary,0.033670034,0.005025126,0.41284403...\n",
      "7                  Drama,0.01010101,0,0,0,0,0,0,1,0,0\n",
      "8   Fantasy,0.306397306,0.110552764,0.380733945,1,...\n",
      "9    FilmNoir,0.070707071,0,0.004587156,0,0,0,0,0,0,0\n",
      "10       Horror,0,0,0.105504587,0,0,0.0078125,0,0,0,0\n",
      "11  Musical,0.016835017,0.08040201,0.018348624,0,0...\n",
      "12  Mystery,0.185185185,0.351758794,0.036697248,0,...\n",
      "13              Romance,0,0,0.275229358,0,0,0,0,0,0,0\n",
      "14  SciFi,0.074074074,0.346733668,0.041284404,0,0,...\n",
      "15  Thriller,0.04040404,0.376884422,0.610091743,0,...\n",
      "16  War,0.225589226,0.015075377,0,0,0,0,0,0.021276...\n",
      "17              Western,0.090909091,0,0,0,0,0,0,0,0,0\n"
     ]
    }
   ],
   "source": [
    "print df"
   ]
  },
  {
   "cell_type": "code",
   "execution_count": 301,
   "metadata": {},
   "outputs": [],
   "source": [
    "import numpy as np\n",
    "import pandas as pd\n",
    "\n",
    "df = pd.read_csv('f.csv',delimiter = ',')"
   ]
  },
  {
   "cell_type": "code",
   "execution_count": 306,
   "metadata": {},
   "outputs": [
    {
     "data": {
      "text/plain": [
       "<bound method DataFrame.head of                                  1,2,3,4,5,6,7,8,9,10\n",
       "0   Action,0.178451178,0.783919598,0.123853211,0,0...\n",
       "1   Adventure,0.185185185,0.351758794,0.036697248,...\n",
       "2     Animation,0.13468013,0.01005025,0,0,0,0,0,0,0,0\n",
       "3   Childrens,0.134680135,0.010050251,0,0,0,0,0,0,0,0\n",
       "4   Comedy,0.393939394,0.005025126,0.009174312,0,0...\n",
       "5   Crime,0.363636364,0.065326633,0.064220183,0,1,...\n",
       "6   Documentary,0.033670034,0.005025126,0.41284403...\n",
       "7                  Drama,0.01010101,0,0,0,0,0,0,1,0,0\n",
       "8   Fantasy,0.306397306,0.110552764,0.380733945,1,...\n",
       "9    FilmNoir,0.070707071,0,0.004587156,0,0,0,0,0,0,0\n",
       "10       Horror,0,0,0.105504587,0,0,0.0078125,0,0,0,0\n",
       "11  Musical,0.016835017,0.08040201,0.018348624,0,0...\n",
       "12  Mystery,0.185185185,0.351758794,0.036697248,0,...\n",
       "13              Romance,0,0,0.275229358,0,0,0,0,0,0,0\n",
       "14  SciFi,0.074074074,0.346733668,0.041284404,0,0,...\n",
       "15  Thriller,0.04040404,0.376884422,0.610091743,0,...\n",
       "16  War,0.225589226,0.015075377,0,0,0,0,0,0.021276...\n",
       "17              Western,0.090909091,0,0,0,0,0,0,0,0,0>"
      ]
     },
     "execution_count": 306,
     "metadata": {},
     "output_type": "execute_result"
    }
   ],
   "source": [
    "df.head"
   ]
  },
  {
   "cell_type": "code",
   "execution_count": 324,
   "metadata": {},
   "outputs": [
    {
     "name": "stdout",
     "output_type": "stream",
     "text": [
      "['1,2,3,4,5,6,7,8,9,10']\n",
      "['Action,0.178451178,0.783919598,0.123853211,0,0,0.1015625,0,0,0,0']\n",
      "['Adventure,0.185185185,0.351758794,0.036697248,0,0,0,0,0,0,0']\n",
      "['Animation,0.13468013,0.01005025,0,0,0,0,0,0,0,0']\n",
      "['Childrens,0.134680135,0.010050251,0,0,0,0,0,0,0,0']\n",
      "['Comedy,0.393939394,0.005025126,0.009174312,0,0,0,0,0,0,0']\n",
      "['Crime,0.363636364,0.065326633,0.064220183,0,1,0.109375,1,0.021276596,1,0.158730159']\n",
      "['Documentary,0.033670034,0.005025126,0.412844037,0,0,0.046875,0,0,0,0']\n",
      "['Drama,0.01010101,0,0,0,0,0,0,1,0,0']\n",
      "['Fantasy,0.306397306,0.110552764,0.380733945,1,0,0.6640625,0,0,1,0']\n",
      "['FilmNoir,0.070707071,0,0.004587156,0,0,0,0,0,0,0']\n",
      "['Horror,0,0,0.105504587,0,0,0.0078125,0,0,0,0']\n",
      "['Musical,0.016835017,0.08040201,0.018348624,0,0,0.015625,0,0,0,1']\n",
      "['Mystery,0.185185185,0.351758794,0.036697248,0,0,0,0,0,0,0']\n",
      "['Romance,0,0,0.275229358,0,0,0,0,0,0,0']\n",
      "['SciFi,0.074074074,0.346733668,0.041284404,0,0,0,0,0,0,0']\n",
      "['Thriller,0.04040404,0.376884422,0.610091743,0,0,0.140625,0,0,0,0.158730159']\n",
      "['War,0.225589226,0.015075377,0,0,0,0,0,0.021276596,0,0']\n",
      "['Western,0.090909091,0,0,0,0,0,0,0,0,0']\n"
     ]
    }
   ],
   "source": [
    "import csv\n",
    "with open('f.csv', 'rb') as f:\n",
    "    reader = csv.reader(f)\n",
    "    for row in reader:\n",
    "        print row"
   ]
  },
  {
   "cell_type": "code",
   "execution_count": 325,
   "metadata": {},
   "outputs": [],
   "source": [
    "import numpy as np\n",
    "import pandas as pd\n",
    "\n",
    "df = pd.read_csv('f.csv',delimiter = ',')"
   ]
  },
  {
   "cell_type": "code",
   "execution_count": 331,
   "metadata": {},
   "outputs": [
    {
     "name": "stdout",
     "output_type": "stream",
     "text": [
      "                                 1,2,3,4,5,6,7,8,9,10\n",
      "0   Action,0.178451178,0.783919598,0.123853211,0,0...\n",
      "1   Adventure,0.185185185,0.351758794,0.036697248,...\n",
      "2     Animation,0.13468013,0.01005025,0,0,0,0,0,0,0,0\n",
      "3   Childrens,0.134680135,0.010050251,0,0,0,0,0,0,0,0\n",
      "4   Comedy,0.393939394,0.005025126,0.009174312,0,0...\n",
      "5   Crime,0.363636364,0.065326633,0.064220183,0,1,...\n",
      "6   Documentary,0.033670034,0.005025126,0.41284403...\n",
      "7                  Drama,0.01010101,0,0,0,0,0,0,1,0,0\n",
      "8   Fantasy,0.306397306,0.110552764,0.380733945,1,...\n",
      "9    FilmNoir,0.070707071,0,0.004587156,0,0,0,0,0,0,0\n",
      "10       Horror,0,0,0.105504587,0,0,0.0078125,0,0,0,0\n",
      "11  Musical,0.016835017,0.08040201,0.018348624,0,0...\n",
      "12  Mystery,0.185185185,0.351758794,0.036697248,0,...\n",
      "13              Romance,0,0,0.275229358,0,0,0,0,0,0,0\n",
      "14  SciFi,0.074074074,0.346733668,0.041284404,0,0,...\n",
      "15  Thriller,0.04040404,0.376884422,0.610091743,0,...\n",
      "16  War,0.225589226,0.015075377,0,0,0,0,0,0.021276...\n",
      "17              Western,0.090909091,0,0,0,0,0,0,0,0,0\n"
     ]
    }
   ],
   "source": [
    "print df"
   ]
  },
  {
   "cell_type": "code",
   "execution_count": 333,
   "metadata": {},
   "outputs": [
    {
     "data": {
      "text/plain": [
       "array(['Action,0.178451178,0.783919598,0.123853211,0,0,0.1015625,0,0,0,0'],\n",
       "      dtype=object)"
      ]
     },
     "execution_count": 333,
     "metadata": {},
     "output_type": "execute_result"
    }
   ],
   "source": [
    "df.values[0]"
   ]
  },
  {
   "cell_type": "code",
   "execution_count": 347,
   "metadata": {},
   "outputs": [
    {
     "data": {
      "image/png": "[encoded data removed]",
      "text/plain": [
       "<Figure size 1440x1080 with 1 Axes>"
      ]
     },
     "metadata": {
      "needs_background": "light"
     },
     "output_type": "display_data"
    }
   ],
   "source": [
    "import pylab\n",
    "fig = plt.figure(figsize=(20,15))\n",
    "plt.scatter(vh[0,:],vh[1,:] , marker='o', color='g')\n",
    "\n",
    "for label, x, y in zip(doc, vh[0,:],vh[1,:]):\n",
    "    plt.annotate(\n",
    "        label,\n",
    "        xy=(x, y), xytext=(-20, 20),\n",
    "        textcoords='offset points', ha='right', va='bottom',\n",
    "        bbox=dict(boxstyle='round,pad=0.6', fc='yellow', alpha=0.5),\n",
    "        arrowprops=dict(arrowstyle = '->', connectionstyle='arc3,rad=0'))\n",
    "pylab.ylabel('V1', fontsize=18)\n",
    "pylab.xlabel('V0',fontsize=18)\n",
    "pylab.title('Graph of Documents',fontsize=18)\n",
    "        #pylab.show()\n",
    "    \n",
    "#fig = plt.figure(figsize=(20,15))\n",
    "#pylab.plot(f_var_t, '-m', label='Error Toal')\n",
    "pylab.show()\n",
    "plt.show()"
   ]
  },
  {
   "cell_type": "code",
   "execution_count": 354,
   "metadata": {},
   "outputs": [
    {
     "data": {
      "image/png": "[encoded data removed]",
      "text/plain": [
       "<Figure size 1440x1080 with 1 Axes>"
      ]
     },
     "metadata": {
      "needs_background": "light"
     },
     "output_type": "display_data"
    }
   ],
   "source": [
    "fig = plt.figure(figsize=(20,15))\n",
    "\n",
    "plt.scatter(u[:,0],u[:,1] , marker='o', color='g')\n",
    "\n",
    "for label, x, y in zip(labels, u[:,0],u[:,1]):\n",
    "    plt.annotate(\n",
    "        label,\n",
    "        xy=(x, y), xytext=(-20, 20),\n",
    "        textcoords='offset points', ha='right', va='bottom',\n",
    "        bbox=dict(boxstyle='round,pad=0.6', fc='yellow', alpha=0.5),\n",
    "        arrowprops=dict(arrowstyle = '->', connectionstyle='arc3,rad=0'))\n",
    "pylab.ylabel('V1', fontsize=18)\n",
    "pylab.xlabel('V0',fontsize=18)\n",
    "pylab.title('Graph of Terms',fontsize=18)\n",
    "        #pylab.show()\n",
    "    \n",
    "#fig = plt.figure(figsize=(20,15))\n",
    "#pylab.plot(f_var_t, '-m', label='Error Toal')\n",
    "pylab.show()\n",
    "plt.show()"
   ]
  },
  {
   "cell_type": "code",
   "execution_count": null,
   "metadata": {},
   "outputs": [],
   "source": []
  }
 ],
 "metadata": {
  "kernelspec": {
   "display_name": "Python 2",
   "language": "python",
   "name": "python2"
  },
  "language_info": {
   "codemirror_mode": {
    "name": "ipython",
    "version": 2
   },
   "file_extension": ".py",
   "mimetype": "text/x-python",
   "name": "python",
   "nbconvert_exporter": "python",
   "pygments_lexer": "ipython2",
   "version": "2.7.15"
  }
 },
 "nbformat": 4,
 "nbformat_minor": 2
}

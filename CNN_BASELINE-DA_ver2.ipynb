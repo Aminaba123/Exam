{
 "cells": [
  {
   "cell_type": "code",
   "execution_count": 1,
   "metadata": {},
   "outputs": [
    {
     "name": "stderr",
     "output_type": "stream",
     "text": [
      "/home/an80020/anaconda2/envs/tensorflow/lib/python2.7/site-packages/h5py/__init__.py:36: FutureWarning: Conversion of the second argument of issubdtype from `float` to `np.floating` is deprecated. In future, it will be treated as `np.float64 == np.dtype(float).type`.\n",
      "  from ._conv import register_converters as _register_converters\n",
      "Using TensorFlow backend.\n"
     ]
    }
   ],
   "source": [
    "import numpy as np\n",
    "import csv\n",
    "\n",
    "import os, sys\n",
    "from keras.utils import np_utils\n",
    "from keras.models import Model\n",
    "from keras.layers import Dense, MaxPooling2D, Flatten, Conv2D, MaxPooling2D, Input, Activation\n",
    "from keras.callbacks import TensorBoard\n",
    "from keras.layers.core import Reshape\n",
    "from keras import backend as K\n",
    "from keras import optimizers\n",
    "import keras.constraints as constraints\n",
    "from keras.utils import np_utils, to_categorical\n",
    "from sklearn.utils import shuffle\n",
    "from keras.layers.normalization import BatchNormalization\n",
    "from keras.layers.core import Dropout\n",
    "from keras.callbacks import ModelCheckpoint\n",
    "from keras import regularizers\n",
    "from numpy import array\n",
    "\n",
    "\n",
    "from keras.layers import Input, Dense\n",
    "from keras.layers.advanced_activations import  LeakyReLU\n",
    "from keras.models import Model\n",
    "import keras.initializers as init\n",
    "\n",
    "os.environ[\"CUDA_VISIBLE_DEVICES\"]=\"0\"\n",
    "import tensorflow as tf\n",
    "config = tf.ConfigProto( )\n",
    "config.gpu_options.allow_growth = True\n",
    "sess = tf.Session(config=config)\n",
    "import keras.backend.tensorflow_backend as tf_bkend\n",
    "tf_bkend.set_session(sess)"
   ]
  },
  {
   "cell_type": "code",
   "execution_count": 2,
   "metadata": {
    "scrolled": true
   },
   "outputs": [],
   "source": [
    "#from keras.datasets import mnist\n",
    "#from scipy.misc import imresize\n",
    "#x_mnist=[]\n",
    "#y_mnist=[]\n",
    "\n",
    "#(x_train_mnist, y_train_mnist), (x_test_mnist, y_test_mnist) = mnist.load_data()\n",
    "\n",
    "#for i in range(60000):\n",
    "#    x_mnist.append((imresize(x_train_mnist[i], size=(64, 64), interp='nearest')).flatten())  \n",
    "#    y_mnist.append(y_train_mnist[i].flatten())"
   ]
  },
  {
   "cell_type": "code",
   "execution_count": 5,
   "metadata": {},
   "outputs": [],
   "source": [
    "reader_feature = csv.reader(open('train_x.csv'))\n",
    "reader_target = csv.reader(open('train_y.csv'))"
   ]
  },
  {
   "cell_type": "code",
   "execution_count": 4,
   "metadata": {},
   "outputs": [
    {
     "name": "stdout",
     "output_type": "stream",
     "text": [
      "0\n",
      "50000\n"
     ]
    }
   ],
   "source": [
    "import matplotlib.pyplot as plt\n",
    "import matplotlib.cm as cm\n",
    "\n",
    "i=0\n",
    "train_feat=[]\n",
    "\n",
    "print len(train_feat)\n",
    "\n",
    "for row in reader_feature:\n",
    "    tmp=np.asarray(row)\n",
    "    tmp=tmp.astype('float32')\n",
    "    tmp=tmp.reshape(64, 64)\n",
    "    #S=undesired_objects (tmp)\n",
    "    tmp[tmp < 240] = 0   \n",
    "    train_feat.append(tmp.flatten()) \n",
    "    i=i+1\n",
    "print len(train_feat)"
   ]
  },
  {
   "cell_type": "code",
   "execution_count": 5,
   "metadata": {},
   "outputs": [
    {
     "name": "stdout",
     "output_type": "stream",
     "text": [
      "50000\n"
     ]
    }
   ],
   "source": [
    "i=0\n",
    "train_target=[]\n",
    "\n",
    "for row in reader_target:\n",
    "    train_target.append(row)\n",
    "    i=i+1\n",
    "print i"
   ]
  },
  {
   "cell_type": "code",
   "execution_count": 6,
   "metadata": {},
   "outputs": [],
   "source": [
    "nb_classes=10\n",
    "batch_size=128\n",
    "nb_epoch=10000"
   ]
  },
  {
   "cell_type": "code",
   "execution_count": 7,
   "metadata": {},
   "outputs": [],
   "source": [
    "train_feat=np.asarray(train_feat)\n",
    "train_target=np.asarray(train_target)\n"
   ]
  },
  {
   "cell_type": "code",
   "execution_count": 8,
   "metadata": {},
   "outputs": [],
   "source": [
    "X_train=train_feat.astype('float32')"
   ]
  },
  {
   "cell_type": "code",
   "execution_count": 9,
   "metadata": {},
   "outputs": [
    {
     "name": "stdout",
     "output_type": "stream",
     "text": [
      "(50000, 4096)\n"
     ]
    }
   ],
   "source": [
    "print X_train.shape"
   ]
  },
  {
   "cell_type": "code",
   "execution_count": 10,
   "metadata": {},
   "outputs": [],
   "source": [
    "data,label=shuffle(X_train,train_target,random_state=0)\n",
    "train_data=[data,label]\n",
    "(X,Y)=(train_data[0],train_data[1])"
   ]
  },
  {
   "cell_type": "code",
   "execution_count": 11,
   "metadata": {},
   "outputs": [],
   "source": [
    "from sklearn.model_selection import train_test_split\n",
    "\n",
    "X_train, X_valid, Y_train, Y_valid = train_test_split(X, Y, test_size=0.2, random_state=0)"
   ]
  },
  {
   "cell_type": "code",
   "execution_count": 12,
   "metadata": {},
   "outputs": [],
   "source": [
    "X_train= X_train.reshape(-1, 64, 64, 1)\n",
    "Y_train=to_categorical(Y_train, num_classes=nb_classes)\n",
    "\n",
    "X_valid= X_valid.reshape(-1, 64, 64, 1)\n",
    "Y_valid=to_categorical(Y_valid, num_classes=nb_classes)"
   ]
  },
  {
   "cell_type": "code",
   "execution_count": 13,
   "metadata": {},
   "outputs": [],
   "source": [
    "def model_generator(): \n",
    "    ########################################5 LAYERS####################\n",
    "    from keras.layers import Input, Dense\n",
    "    from keras.models import Model\n",
    "    from keras.callbacks import ModelCheckpoint\n",
    "\n",
    "    inp =  Input(shape=(64, 64, 1))\n",
    "\n",
    "    #----------------------\n",
    "    conv1 = Conv2D(filters=64, kernel_size=(3, 3) ,strides=(2, 2), activation='relu')(inp)\n",
    "\n",
    "    norm1=BatchNormalization()(conv1)\n",
    "\n",
    "    pool1 = MaxPooling2D(pool_size=(2, 2), strides=(1, 1))(norm1)\n",
    "    #----------------------\n",
    "\n",
    "    conv2 = Conv2D(filters=64, kernel_size=(3, 3), strides=(2, 2), activation='relu')(pool1)\n",
    "\n",
    "    norm2=BatchNormalization()(conv2)\n",
    "\n",
    "    pool2 = MaxPooling2D(pool_size=(2, 2), strides=(1, 1))(norm2)\n",
    "    \n",
    "    #----------------------\n",
    "\n",
    "    conv3 = Conv2D(filters=32, kernel_size=(3, 3), strides=(2, 2), activation='relu')(pool2)\n",
    "\n",
    "    norm3=BatchNormalization()(conv3)\n",
    "\n",
    "    pool3 = MaxPooling2D(pool_size=(2, 2), strides=(1, 1))(norm3)\n",
    "    \n",
    "    #----------------------\n",
    "\n",
    "    conv4 = Conv2D(filters=16, kernel_size=(3,3), strides=(2, 2), activation='relu')(pool3)\n",
    "\n",
    "    norm4=BatchNormalization()(conv4)\n",
    "\n",
    "    pool4= MaxPooling2D(pool_size=(2, 2), strides=(1, 1))(norm4)\n",
    "\n",
    "       \n",
    "\n",
    "    flat = Flatten()(pool4)\n",
    "    dense1 = Dense(256,activation='relu')(flat)\n",
    "    dense2 = Dense(128,activation='relu')(dense1)\n",
    "    dense3 = Dense(64,activation='relu')(dense2)\n",
    "    dense4 = Dense(10,activation='softmax')(dense3)\n",
    "    model = Model(inp, dense4)\n",
    "\n",
    "    model.compile(loss='categorical_crossentropy',\n",
    "              optimizer=optimizers.Adam(lr=0.01, decay=1e-6, amsgrad=False)\n",
    "              ,metrics=['accuracy'])\n",
    "\n",
    "    return model"
   ]
  },
  {
   "cell_type": "code",
   "execution_count": 15,
   "metadata": {
    "scrolled": true
   },
   "outputs": [
    {
     "name": "stdout",
     "output_type": "stream",
     "text": [
      "_________________________________________________________________\n",
      "Layer (type)                 Output Shape              Param #   \n",
      "=================================================================\n",
      "input_2 (InputLayer)         (None, 64, 64, 1)         0         \n",
      "_________________________________________________________________\n",
      "conv2d_5 (Conv2D)            (None, 31, 31, 64)        640       \n",
      "_________________________________________________________________\n",
      "batch_normalization_5 (Batch (None, 31, 31, 64)        256       \n",
      "_________________________________________________________________\n",
      "max_pooling2d_5 (MaxPooling2 (None, 30, 30, 64)        0         \n",
      "_________________________________________________________________\n",
      "conv2d_6 (Conv2D)            (None, 14, 14, 64)        36928     \n",
      "_________________________________________________________________\n",
      "batch_normalization_6 (Batch (None, 14, 14, 64)        256       \n",
      "_________________________________________________________________\n",
      "max_pooling2d_6 (MaxPooling2 (None, 13, 13, 64)        0         \n",
      "_________________________________________________________________\n",
      "conv2d_7 (Conv2D)            (None, 6, 6, 32)          18464     \n",
      "_________________________________________________________________\n",
      "batch_normalization_7 (Batch (None, 6, 6, 32)          128       \n",
      "_________________________________________________________________\n",
      "max_pooling2d_7 (MaxPooling2 (None, 5, 5, 32)          0         \n",
      "_________________________________________________________________\n",
      "conv2d_8 (Conv2D)            (None, 2, 2, 16)          4624      \n",
      "_________________________________________________________________\n",
      "batch_normalization_8 (Batch (None, 2, 2, 16)          64        \n",
      "_________________________________________________________________\n",
      "max_pooling2d_8 (MaxPooling2 (None, 1, 1, 16)          0         \n",
      "_________________________________________________________________\n",
      "flatten_2 (Flatten)          (None, 16)                0         \n",
      "_________________________________________________________________\n",
      "dense_5 (Dense)              (None, 256)               4352      \n",
      "_________________________________________________________________\n",
      "dense_6 (Dense)              (None, 128)               32896     \n",
      "_________________________________________________________________\n",
      "dense_7 (Dense)              (None, 64)                8256      \n",
      "_________________________________________________________________\n",
      "dense_8 (Dense)              (None, 10)                650       \n",
      "=================================================================\n",
      "Total params: 107,514\n",
      "Trainable params: 107,162\n",
      "Non-trainable params: 352\n",
      "_________________________________________________________________\n",
      "None\n",
      "weights.best4.hdf5\n",
      "Train on 40000 samples, validate on 10000 samples\n",
      "Epoch 1/10000\n",
      "39712/40000 [============================>.] - ETA: 0s - loss: 1.7928 - acc: 0.3473\n",
      "Epoch 00001: val_acc improved from -inf to 0.51770, saving model to weights.best4.hdf5\n",
      "40000/40000 [==============================] - 10s 246us/step - loss: 1.7885 - acc: 0.3492 - val_loss: 1.4687 - val_acc: 0.5177\n",
      "Epoch 2/10000\n",
      "39776/40000 [============================>.] - ETA: 0s - loss: 1.0185 - acc: 0.6672\n",
      "Epoch 00002: val_acc improved from 0.51770 to 0.64620, saving model to weights.best4.hdf5\n",
      "40000/40000 [==============================] - 8s 205us/step - loss: 1.0176 - acc: 0.6676 - val_loss: 1.1241 - val_acc: 0.6462\n",
      "Epoch 3/10000\n",
      "39744/40000 [============================>.] - ETA: 0s - loss: 0.7480 - acc: 0.7732\n",
      "Epoch 00003: val_acc improved from 0.64620 to 0.78770, saving model to weights.best4.hdf5\n",
      "40000/40000 [==============================] - 8s 204us/step - loss: 0.7470 - acc: 0.7735 - val_loss: 0.7122 - val_acc: 0.7877\n",
      "Epoch 4/10000\n",
      "39872/40000 [============================>.] - ETA: 0s - loss: 0.6174 - acc: 0.8139\n",
      "Epoch 00004: val_acc improved from 0.78770 to 0.80990, saving model to weights.best4.hdf5\n",
      "40000/40000 [==============================] - 8s 205us/step - loss: 0.6171 - acc: 0.8138 - val_loss: 0.6288 - val_acc: 0.8099\n",
      "Epoch 5/10000\n",
      "39712/40000 [============================>.] - ETA: 0s - loss: 0.5641 - acc: 0.8300\n",
      "Epoch 00005: val_acc improved from 0.80990 to 0.83180, saving model to weights.best4.hdf5\n",
      "40000/40000 [==============================] - 8s 205us/step - loss: 0.5657 - acc: 0.8297 - val_loss: 0.5728 - val_acc: 0.8318\n",
      "Epoch 6/10000\n",
      "39840/40000 [============================>.] - ETA: 0s - loss: 0.5049 - acc: 0.8490\n",
      "Epoch 00006: val_acc improved from 0.83180 to 0.83720, saving model to weights.best4.hdf5\n",
      "40000/40000 [==============================] - 8s 208us/step - loss: 0.5048 - acc: 0.8490 - val_loss: 0.5532 - val_acc: 0.8372\n",
      "Epoch 7/10000\n",
      "39840/40000 [============================>.] - ETA: 0s - loss: 0.4631 - acc: 0.8618\n",
      "Epoch 00007: val_acc did not improve\n",
      "40000/40000 [==============================] - 8s 205us/step - loss: 0.4635 - acc: 0.8617 - val_loss: 0.6185 - val_acc: 0.8132\n",
      "Epoch 8/10000\n",
      "39808/40000 [============================>.] - ETA: 0s - loss: 0.4434 - acc: 0.8663\n",
      "Epoch 00008: val_acc improved from 0.83720 to 0.84650, saving model to weights.best4.hdf5\n",
      "40000/40000 [==============================] - 8s 207us/step - loss: 0.4428 - acc: 0.8665 - val_loss: 0.5515 - val_acc: 0.8465\n",
      "Epoch 9/10000\n",
      "39744/40000 [============================>.] - ETA: 0s - loss: 0.4213 - acc: 0.8724\n",
      "Epoch 00009: val_acc improved from 0.84650 to 0.84810, saving model to weights.best4.hdf5\n",
      "40000/40000 [==============================] - 8s 207us/step - loss: 0.4212 - acc: 0.8725 - val_loss: 0.5391 - val_acc: 0.8481\n",
      "Epoch 10/10000\n",
      "39776/40000 [============================>.] - ETA: 0s - loss: 0.3958 - acc: 0.8824\n",
      "Epoch 00010: val_acc did not improve\n",
      "40000/40000 [==============================] - 8s 205us/step - loss: 0.3957 - acc: 0.8825 - val_loss: 0.5473 - val_acc: 0.8435\n",
      "Epoch 11/10000\n",
      "39744/40000 [============================>.] - ETA: 0s - loss: 0.3800 - acc: 0.8865\n",
      "Epoch 00011: val_acc did not improve\n",
      "40000/40000 [==============================] - 8s 205us/step - loss: 0.3803 - acc: 0.8862 - val_loss: 0.7135 - val_acc: 0.8060\n",
      "Epoch 12/10000\n",
      "39712/40000 [============================>.] - ETA: 0s - loss: 0.3647 - acc: 0.8919\n",
      "Epoch 00012: val_acc did not improve\n",
      "40000/40000 [==============================] - 8s 205us/step - loss: 0.3648 - acc: 0.8918 - val_loss: 0.5787 - val_acc: 0.8316\n",
      "Epoch 13/10000\n",
      "39776/40000 [============================>.] - ETA: 0s - loss: 0.3525 - acc: 0.8963\n",
      "Epoch 00013: val_acc improved from 0.84810 to 0.86380, saving model to weights.best4.hdf5\n",
      "40000/40000 [==============================] - 8s 207us/step - loss: 0.3521 - acc: 0.8965 - val_loss: 0.5149 - val_acc: 0.8638\n",
      "Epoch 14/10000\n",
      "39936/40000 [============================>.] - ETA: 0s - loss: 0.3446 - acc: 0.8967\n",
      "Epoch 00014: val_acc did not improve\n",
      "40000/40000 [==============================] - 8s 205us/step - loss: 0.3445 - acc: 0.8966 - val_loss: 0.4887 - val_acc: 0.8619\n",
      "Epoch 15/10000\n",
      "39936/40000 [============================>.] - ETA: 0s - loss: 0.3242 - acc: 0.9044\n",
      "Epoch 00015: val_acc did not improve\n",
      "40000/40000 [==============================] - 8s 205us/step - loss: 0.3241 - acc: 0.9044 - val_loss: 0.5167 - val_acc: 0.8582\n",
      "Epoch 16/10000\n",
      "39840/40000 [============================>.] - ETA: 0s - loss: 0.3182 - acc: 0.9059\n",
      "Epoch 00016: val_acc improved from 0.86380 to 0.87170, saving model to weights.best4.hdf5\n",
      "40000/40000 [==============================] - 8s 211us/step - loss: 0.3185 - acc: 0.9057 - val_loss: 0.4663 - val_acc: 0.8717\n",
      "Epoch 17/10000\n",
      "39968/40000 [============================>.] - ETA: 0s - loss: 0.3035 - acc: 0.9097\n",
      "Epoch 00017: val_acc did not improve\n",
      "40000/40000 [==============================] - 8s 208us/step - loss: 0.3036 - acc: 0.9096 - val_loss: 0.4888 - val_acc: 0.8643\n",
      "Epoch 18/10000\n",
      "39840/40000 [============================>.] - ETA: 0s - loss: 0.2965 - acc: 0.9116\n",
      "Epoch 00018: val_acc did not improve\n",
      "40000/40000 [==============================] - 8s 209us/step - loss: 0.2964 - acc: 0.9116 - val_loss: 0.5136 - val_acc: 0.8588\n",
      "Epoch 19/10000\n",
      "39808/40000 [============================>.] - ETA: 0s - loss: 0.2869 - acc: 0.9160\n",
      "Epoch 00019: val_acc did not improve\n",
      "40000/40000 [==============================] - 8s 204us/step - loss: 0.2870 - acc: 0.9160 - val_loss: 0.5800 - val_acc: 0.8488\n"
     ]
    },
    {
     "name": "stdout",
     "output_type": "stream",
     "text": [
      "Epoch 20/10000\n",
      "39872/40000 [============================>.] - ETA: 0s - loss: 0.2781 - acc: 0.9184\n",
      "Epoch 00020: val_acc did not improve\n",
      "40000/40000 [==============================] - 9s 216us/step - loss: 0.2781 - acc: 0.9184 - val_loss: 0.5083 - val_acc: 0.8654\n",
      "Epoch 21/10000\n",
      "39840/40000 [============================>.] - ETA: 0s - loss: 0.2788 - acc: 0.9183\n",
      "Epoch 00021: val_acc did not improve\n",
      "40000/40000 [==============================] - 8s 205us/step - loss: 0.2788 - acc: 0.9183 - val_loss: 0.4863 - val_acc: 0.8660\n",
      "Epoch 22/10000\n",
      "39840/40000 [============================>.] - ETA: 0s - loss: 0.2699 - acc: 0.9224\n",
      "Epoch 00022: val_acc did not improve\n",
      "40000/40000 [==============================] - 8s 208us/step - loss: 0.2699 - acc: 0.9225 - val_loss: 0.5068 - val_acc: 0.8667\n",
      "Epoch 23/10000\n",
      "39712/40000 [============================>.] - ETA: 0s - loss: 0.2687 - acc: 0.9208\n",
      "Epoch 00023: val_acc did not improve\n",
      "40000/40000 [==============================] - 8s 210us/step - loss: 0.2685 - acc: 0.9209 - val_loss: 0.5085 - val_acc: 0.8689\n",
      "Epoch 24/10000\n",
      "39808/40000 [============================>.] - ETA: 0s - loss: 0.2617 - acc: 0.9238\n",
      "Epoch 00024: val_acc did not improve\n",
      "40000/40000 [==============================] - 8s 204us/step - loss: 0.2617 - acc: 0.9238 - val_loss: 0.5509 - val_acc: 0.8575\n",
      "Epoch 25/10000\n",
      "39712/40000 [============================>.] - ETA: 0s - loss: 0.2482 - acc: 0.9283\n",
      "Epoch 00025: val_acc did not improve\n",
      "40000/40000 [==============================] - 8s 212us/step - loss: 0.2493 - acc: 0.9279 - val_loss: 0.5923 - val_acc: 0.8436\n",
      "Epoch 26/10000\n",
      "39904/40000 [============================>.] - ETA: 0s - loss: 0.2439 - acc: 0.9280\n",
      "Epoch 00026: val_acc improved from 0.87170 to 0.87260, saving model to weights.best4.hdf5\n",
      "40000/40000 [==============================] - 9s 215us/step - loss: 0.2437 - acc: 0.9280 - val_loss: 0.4800 - val_acc: 0.8726\n",
      "Epoch 27/10000\n",
      "39776/40000 [============================>.] - ETA: 0s - loss: 0.2473 - acc: 0.9273\n",
      "Epoch 00027: val_acc did not improve\n",
      "40000/40000 [==============================] - 8s 205us/step - loss: 0.2475 - acc: 0.9272 - val_loss: 0.5364 - val_acc: 0.8637\n",
      "Epoch 28/10000\n",
      "39776/40000 [============================>.] - ETA: 0s - loss: 0.2336 - acc: 0.9324\n",
      "Epoch 00028: val_acc did not improve\n",
      "40000/40000 [==============================] - 8s 212us/step - loss: 0.2341 - acc: 0.9322 - val_loss: 0.5867 - val_acc: 0.8591\n",
      "Epoch 29/10000\n",
      "39712/40000 [============================>.] - ETA: 0s - loss: 0.2334 - acc: 0.9324\n",
      "Epoch 00029: val_acc did not improve\n",
      "40000/40000 [==============================] - 8s 209us/step - loss: 0.2336 - acc: 0.9323 - val_loss: 0.5497 - val_acc: 0.8673\n",
      "Epoch 30/10000\n",
      "39840/40000 [============================>.] - ETA: 0s - loss: 0.2279 - acc: 0.9351\n",
      "Epoch 00030: val_acc did not improve\n",
      "40000/40000 [==============================] - 8s 208us/step - loss: 0.2283 - acc: 0.9351 - val_loss: 0.5336 - val_acc: 0.8628\n",
      "Epoch 31/10000\n",
      "39776/40000 [============================>.] - ETA: 0s - loss: 0.2154 - acc: 0.9378\n",
      "Epoch 00031: val_acc did not improve\n",
      "40000/40000 [==============================] - 8s 203us/step - loss: 0.2152 - acc: 0.9378 - val_loss: 0.5218 - val_acc: 0.8677\n",
      "Epoch 32/10000\n",
      "39904/40000 [============================>.] - ETA: 0s - loss: 0.2173 - acc: 0.9382\n",
      "Epoch 00032: val_acc did not improve\n",
      "40000/40000 [==============================] - 8s 203us/step - loss: 0.2175 - acc: 0.9381 - val_loss: 0.5783 - val_acc: 0.8596\n",
      "Epoch 33/10000\n",
      "39968/40000 [============================>.] - ETA: 0s - loss: 0.2148 - acc: 0.9389\n",
      "Epoch 00033: val_acc did not improve\n",
      "40000/40000 [==============================] - 8s 212us/step - loss: 0.2148 - acc: 0.9389 - val_loss: 0.5327 - val_acc: 0.8678\n",
      "Epoch 34/10000\n",
      "39744/40000 [============================>.] - ETA: 0s - loss: 0.2040 - acc: 0.9415\n",
      "Epoch 00034: val_acc did not improve\n",
      "40000/40000 [==============================] - 8s 202us/step - loss: 0.2038 - acc: 0.9415 - val_loss: 0.5713 - val_acc: 0.8631\n",
      "Epoch 35/10000\n",
      "39872/40000 [============================>.] - ETA: 0s - loss: 0.2039 - acc: 0.9410\n",
      "Epoch 00035: val_acc did not improve\n",
      "40000/40000 [==============================] - 9s 214us/step - loss: 0.2042 - acc: 0.9410 - val_loss: 0.5267 - val_acc: 0.8618\n",
      "Epoch 36/10000\n",
      "39872/40000 [============================>.] - ETA: 0s - loss: 0.2075 - acc: 0.9408\n",
      "Epoch 00036: val_acc did not improve\n",
      "40000/40000 [==============================] - 9s 213us/step - loss: 0.2080 - acc: 0.9406 - val_loss: 0.6057 - val_acc: 0.8587\n",
      "Epoch 37/10000\n",
      "39776/40000 [============================>.] - ETA: 0s - loss: 0.1930 - acc: 0.9449\n",
      "Epoch 00037: val_acc did not improve\n",
      "40000/40000 [==============================] - 8s 205us/step - loss: 0.1932 - acc: 0.9450 - val_loss: 0.5731 - val_acc: 0.8656\n",
      "Epoch 38/10000\n",
      "39776/40000 [============================>.] - ETA: 0s - loss: 0.1951 - acc: 0.9447\n",
      "Epoch 00038: val_acc did not improve\n",
      "40000/40000 [==============================] - 8s 208us/step - loss: 0.1952 - acc: 0.9448 - val_loss: 0.5543 - val_acc: 0.8670\n",
      "Epoch 39/10000\n",
      "39840/40000 [============================>.] - ETA: 0s - loss: 0.1906 - acc: 0.9452\n",
      "Epoch 00039: val_acc did not improve\n",
      "40000/40000 [==============================] - 8s 207us/step - loss: 0.1903 - acc: 0.9453 - val_loss: 0.5834 - val_acc: 0.8658\n",
      "Epoch 40/10000\n",
      "39968/40000 [============================>.] - ETA: 0s - loss: 0.1935 - acc: 0.9456\n",
      "Epoch 00040: val_acc did not improve\n",
      "40000/40000 [==============================] - 8s 204us/step - loss: 0.1934 - acc: 0.9456 - val_loss: 0.5661 - val_acc: 0.8690\n",
      "Epoch 41/10000\n",
      "39776/40000 [============================>.] - ETA: 0s - loss: 0.1864 - acc: 0.9468\n",
      "Epoch 00041: val_acc did not improve\n",
      "40000/40000 [==============================] - 8s 203us/step - loss: 0.1863 - acc: 0.9468 - val_loss: 0.5795 - val_acc: 0.8690\n",
      "Epoch 42/10000\n",
      "39744/40000 [============================>.] - ETA: 0s - loss: 0.1932 - acc: 0.9466\n",
      "Epoch 00042: val_acc did not improve\n",
      "40000/40000 [==============================] - 8s 202us/step - loss: 0.1931 - acc: 0.9466 - val_loss: 0.5206 - val_acc: 0.8724\n",
      "Epoch 43/10000\n",
      "39872/40000 [============================>.] - ETA: 0s - loss: 0.1829 - acc: 0.9490\n",
      "Epoch 00043: val_acc did not improve\n",
      "40000/40000 [==============================] - 8s 206us/step - loss: 0.1829 - acc: 0.9490 - val_loss: 0.5654 - val_acc: 0.8696\n",
      "Epoch 44/10000\n",
      "39712/40000 [============================>.] - ETA: 0s - loss: 0.1809 - acc: 0.9506\n",
      "Epoch 00044: val_acc did not improve\n",
      "40000/40000 [==============================] - 8s 211us/step - loss: 0.1810 - acc: 0.9506 - val_loss: 0.5786 - val_acc: 0.8615\n",
      "Epoch 45/10000\n",
      "39744/40000 [============================>.] - ETA: 0s - loss: 0.1836 - acc: 0.9480\n",
      "Epoch 00045: val_acc did not improve\n",
      "40000/40000 [==============================] - 8s 212us/step - loss: 0.1833 - acc: 0.9480 - val_loss: 0.5583 - val_acc: 0.8726\n",
      "Epoch 46/10000\n",
      "39872/40000 [============================>.] - ETA: 0s - loss: 0.1893 - acc: 0.9467\n",
      "Epoch 00046: val_acc improved from 0.87260 to 0.87590, saving model to weights.best4.hdf5\n",
      "40000/40000 [==============================] - 8s 202us/step - loss: 0.1891 - acc: 0.9467 - val_loss: 0.5423 - val_acc: 0.8759\n",
      "Epoch 47/10000\n",
      "39968/40000 [============================>.] - ETA: 0s - loss: 0.1759 - acc: 0.9498\n",
      "Epoch 00047: val_acc did not improve\n",
      "40000/40000 [==============================] - 8s 202us/step - loss: 0.1759 - acc: 0.9497 - val_loss: 0.5870 - val_acc: 0.8694\n",
      "Epoch 48/10000\n",
      "39744/40000 [============================>.] - ETA: 0s - loss: 0.1713 - acc: 0.9524\n",
      "Epoch 00048: val_acc did not improve\n",
      "40000/40000 [==============================] - 8s 210us/step - loss: 0.1711 - acc: 0.9524 - val_loss: 0.5445 - val_acc: 0.8747\n",
      "Epoch 49/10000\n",
      "39872/40000 [============================>.] - ETA: 0s - loss: 0.1869 - acc: 0.9485\n",
      "Epoch 00049: val_acc did not improve\n",
      "40000/40000 [==============================] - 8s 208us/step - loss: 0.1866 - acc: 0.9486 - val_loss: 0.6752 - val_acc: 0.8594\n",
      "Epoch 50/10000\n",
      "39872/40000 [============================>.] - ETA: 0s - loss: 0.1684 - acc: 0.9526\n",
      "Epoch 00050: val_acc did not improve\n",
      "40000/40000 [==============================] - 8s 206us/step - loss: 0.1689 - acc: 0.9525 - val_loss: 0.5610 - val_acc: 0.8686\n"
     ]
    },
    {
     "name": "stdout",
     "output_type": "stream",
     "text": [
      "Epoch 51/10000\n",
      "39808/40000 [============================>.] - ETA: 0s - loss: 0.1725 - acc: 0.9520\n",
      "Epoch 00051: val_acc did not improve\n",
      "40000/40000 [==============================] - 8s 205us/step - loss: 0.1734 - acc: 0.9518 - val_loss: 0.5967 - val_acc: 0.8691\n",
      "Epoch 52/10000\n",
      "39968/40000 [============================>.] - ETA: 0s - loss: 0.1674 - acc: 0.9526\n",
      "Epoch 00052: val_acc improved from 0.87590 to 0.87860, saving model to weights.best4.hdf5\n",
      "40000/40000 [==============================] - 8s 205us/step - loss: 0.1673 - acc: 0.9526 - val_loss: 0.5703 - val_acc: 0.8786\n",
      "Epoch 53/10000\n",
      "39904/40000 [============================>.] - ETA: 0s - loss: 0.1630 - acc: 0.9531\n",
      "Epoch 00053: val_acc did not improve\n",
      "40000/40000 [==============================] - 8s 212us/step - loss: 0.1633 - acc: 0.9530 - val_loss: 0.5826 - val_acc: 0.8655\n",
      "Epoch 54/10000\n",
      "39904/40000 [============================>.] - ETA: 0s - loss: 0.1670 - acc: 0.9528\n",
      "Epoch 00054: val_acc did not improve\n",
      "40000/40000 [==============================] - 8s 202us/step - loss: 0.1669 - acc: 0.9528 - val_loss: 0.5957 - val_acc: 0.8727\n",
      "Epoch 55/10000\n",
      "39776/40000 [============================>.] - ETA: 0s - loss: 0.1565 - acc: 0.9569\n",
      "Epoch 00055: val_acc did not improve\n",
      "40000/40000 [==============================] - 8s 207us/step - loss: 0.1563 - acc: 0.9569 - val_loss: 0.5739 - val_acc: 0.8657\n",
      "Epoch 56/10000\n",
      "39872/40000 [============================>.] - ETA: 0s - loss: 0.1543 - acc: 0.9565\n",
      "Epoch 00056: val_acc did not improve\n",
      "40000/40000 [==============================] - 8s 207us/step - loss: 0.1545 - acc: 0.9564 - val_loss: 0.6565 - val_acc: 0.8641\n",
      "Epoch 57/10000\n",
      "39968/40000 [============================>.] - ETA: 0s - loss: 0.1517 - acc: 0.9573\n",
      "Epoch 00057: val_acc did not improve\n",
      "40000/40000 [==============================] - 8s 211us/step - loss: 0.1516 - acc: 0.9573 - val_loss: 0.6036 - val_acc: 0.8704\n",
      "Epoch 58/10000\n",
      "39712/40000 [============================>.] - ETA: 0s - loss: 0.1463 - acc: 0.9592\n",
      "Epoch 00058: val_acc did not improve\n",
      "40000/40000 [==============================] - 8s 207us/step - loss: 0.1466 - acc: 0.9592 - val_loss: 0.6528 - val_acc: 0.8568\n",
      "Epoch 59/10000\n",
      "39904/40000 [============================>.] - ETA: 0s - loss: 0.1640 - acc: 0.9538\n",
      "Epoch 00059: val_acc did not improve\n",
      "40000/40000 [==============================] - 9s 217us/step - loss: 0.1641 - acc: 0.9537 - val_loss: 0.6344 - val_acc: 0.8669\n",
      "Epoch 60/10000\n",
      "39904/40000 [============================>.] - ETA: 0s - loss: 0.1822 - acc: 0.9487\n",
      "Epoch 00060: val_acc did not improve\n",
      "40000/40000 [==============================] - 9s 218us/step - loss: 0.1823 - acc: 0.9486 - val_loss: 0.6886 - val_acc: 0.8502\n",
      "Epoch 61/10000\n",
      "39744/40000 [============================>.] - ETA: 0s - loss: 0.1466 - acc: 0.9591\n",
      "Epoch 00061: val_acc did not improve\n",
      "40000/40000 [==============================] - 8s 204us/step - loss: 0.1466 - acc: 0.9591 - val_loss: 0.5645 - val_acc: 0.8762\n",
      "Epoch 62/10000\n",
      "39968/40000 [============================>.] - ETA: 0s - loss: 0.1536 - acc: 0.9576\n",
      "Epoch 00062: val_acc did not improve\n",
      "40000/40000 [==============================] - 8s 201us/step - loss: 0.1536 - acc: 0.9577 - val_loss: 0.5833 - val_acc: 0.8708\n",
      "Epoch 63/10000\n",
      "39712/40000 [============================>.] - ETA: 0s - loss: 0.1415 - acc: 0.9605\n",
      "Epoch 00063: val_acc did not improve\n",
      "40000/40000 [==============================] - 8s 206us/step - loss: 0.1415 - acc: 0.9605 - val_loss: 0.6408 - val_acc: 0.8652\n",
      "Epoch 64/10000\n",
      "39904/40000 [============================>.] - ETA: 0s - loss: 0.1505 - acc: 0.9581\n",
      "Epoch 00064: val_acc did not improve\n",
      "40000/40000 [==============================] - 8s 206us/step - loss: 0.1507 - acc: 0.9580 - val_loss: 0.6193 - val_acc: 0.8601\n",
      "Epoch 65/10000\n",
      "39968/40000 [============================>.] - ETA: 0s - loss: 0.1413 - acc: 0.9611\n",
      "Epoch 00065: val_acc did not improve\n",
      "40000/40000 [==============================] - 9s 215us/step - loss: 0.1414 - acc: 0.9611 - val_loss: 0.6141 - val_acc: 0.8654\n",
      "Epoch 66/10000\n",
      "39744/40000 [============================>.] - ETA: 0s - loss: 0.1458 - acc: 0.9590\n",
      "Epoch 00066: val_acc did not improve\n",
      "40000/40000 [==============================] - 8s 206us/step - loss: 0.1460 - acc: 0.9590 - val_loss: 0.6104 - val_acc: 0.8755\n",
      "Epoch 67/10000\n",
      "39872/40000 [============================>.] - ETA: 0s - loss: 0.1336 - acc: 0.9626\n",
      "Epoch 00067: val_acc did not improve\n",
      "40000/40000 [==============================] - 8s 197us/step - loss: 0.1336 - acc: 0.9626 - val_loss: 0.6050 - val_acc: 0.8714\n",
      "Epoch 68/10000\n",
      "39776/40000 [============================>.] - ETA: 0s - loss: 0.1474 - acc: 0.9590\n",
      "Epoch 00068: val_acc did not improve\n",
      "40000/40000 [==============================] - 8s 207us/step - loss: 0.1482 - acc: 0.9588 - val_loss: 0.7098 - val_acc: 0.8552\n",
      "Epoch 69/10000\n",
      "39776/40000 [============================>.] - ETA: 0s - loss: 0.1526 - acc: 0.9581\n",
      "Epoch 00069: val_acc did not improve\n",
      "40000/40000 [==============================] - 8s 207us/step - loss: 0.1530 - acc: 0.9581 - val_loss: 0.5963 - val_acc: 0.8760\n",
      "Epoch 70/10000\n",
      "39744/40000 [============================>.] - ETA: 0s - loss: 0.1301 - acc: 0.9632\n",
      "Epoch 00070: val_acc did not improve\n",
      "40000/40000 [==============================] - 8s 198us/step - loss: 0.1308 - acc: 0.9628 - val_loss: 0.7190 - val_acc: 0.8568\n",
      "Epoch 71/10000\n",
      "39872/40000 [============================>.] - ETA: 0s - loss: 0.1379 - acc: 0.9628\n",
      "Epoch 00071: val_acc did not improve\n",
      "40000/40000 [==============================] - 8s 210us/step - loss: 0.1381 - acc: 0.9627 - val_loss: 0.6849 - val_acc: 0.8647\n",
      "Epoch 72/10000\n",
      "39840/40000 [============================>.] - ETA: 0s - loss: 0.1384 - acc: 0.9634\n",
      "Epoch 00072: val_acc did not improve\n",
      "40000/40000 [==============================] - 9s 215us/step - loss: 0.1387 - acc: 0.9634 - val_loss: 0.6025 - val_acc: 0.8739\n",
      "Epoch 73/10000\n",
      "39808/40000 [============================>.] - ETA: 0s - loss: 0.1338 - acc: 0.9638\n",
      "Epoch 00073: val_acc did not improve\n",
      "40000/40000 [==============================] - 9s 216us/step - loss: 0.1338 - acc: 0.9637 - val_loss: 0.6702 - val_acc: 0.8674\n",
      "Epoch 74/10000\n",
      "39872/40000 [============================>.] - ETA: 0s - loss: 0.1299 - acc: 0.9653\n",
      "Epoch 00074: val_acc did not improve\n",
      "40000/40000 [==============================] - 9s 218us/step - loss: 0.1298 - acc: 0.9653 - val_loss: 0.6230 - val_acc: 0.8735\n",
      "Epoch 75/10000\n",
      "39904/40000 [============================>.] - ETA: 0s - loss: 0.1265 - acc: 0.9654\n",
      "Epoch 00075: val_acc did not improve\n",
      "40000/40000 [==============================] - 9s 220us/step - loss: 0.1263 - acc: 0.9654 - val_loss: 0.6455 - val_acc: 0.8709\n",
      "Epoch 76/10000\n",
      "39904/40000 [============================>.] - ETA: 0s - loss: 0.1459 - acc: 0.9592\n",
      "Epoch 00076: val_acc did not improve\n",
      "40000/40000 [==============================] - 9s 220us/step - loss: 0.1456 - acc: 0.9593 - val_loss: 0.6764 - val_acc: 0.8655\n",
      "Epoch 77/10000\n",
      "39744/40000 [============================>.] - ETA: 0s - loss: 0.1418 - acc: 0.9618\n",
      "Epoch 00077: val_acc did not improve\n",
      "40000/40000 [==============================] - 9s 219us/step - loss: 0.1413 - acc: 0.9619 - val_loss: 0.6287 - val_acc: 0.8756\n",
      "Epoch 78/10000\n",
      "39872/40000 [============================>.] - ETA: 0s - loss: 0.1311 - acc: 0.9635\n",
      "Epoch 00078: val_acc did not improve\n",
      "40000/40000 [==============================] - 8s 205us/step - loss: 0.1309 - acc: 0.9635 - val_loss: 0.6354 - val_acc: 0.8752\n",
      "Epoch 79/10000\n",
      "39936/40000 [============================>.] - ETA: 0s - loss: 0.1309 - acc: 0.9649\n",
      "Epoch 00079: val_acc did not improve\n",
      "40000/40000 [==============================] - 8s 199us/step - loss: 0.1309 - acc: 0.9649 - val_loss: 0.6714 - val_acc: 0.8630\n",
      "Epoch 80/10000\n",
      "39872/40000 [============================>.] - ETA: 0s - loss: 0.1244 - acc: 0.9662\n",
      "Epoch 00080: val_acc did not improve\n",
      "40000/40000 [==============================] - 8s 206us/step - loss: 0.1247 - acc: 0.9662 - val_loss: 0.7802 - val_acc: 0.8544\n",
      "Epoch 81/10000\n",
      "39936/40000 [============================>.] - ETA: 0s - loss: 0.1234 - acc: 0.9667\n",
      "Epoch 00081: val_acc did not improve\n",
      "40000/40000 [==============================] - 8s 209us/step - loss: 0.1234 - acc: 0.9667 - val_loss: 0.7079 - val_acc: 0.8643\n"
     ]
    },
    {
     "name": "stdout",
     "output_type": "stream",
     "text": [
      "Epoch 82/10000\n",
      "39968/40000 [============================>.] - ETA: 0s - loss: 0.1334 - acc: 0.9641\n",
      "Epoch 00082: val_acc did not improve\n",
      "40000/40000 [==============================] - 8s 210us/step - loss: 0.1333 - acc: 0.9641 - val_loss: 0.6995 - val_acc: 0.8645\n",
      "Epoch 83/10000\n",
      "39808/40000 [============================>.] - ETA: 0s - loss: 0.1210 - acc: 0.9672\n",
      "Epoch 00083: val_acc did not improve\n",
      "40000/40000 [==============================] - 8s 209us/step - loss: 0.1215 - acc: 0.9671 - val_loss: 0.6440 - val_acc: 0.8735\n",
      "Epoch 84/10000\n",
      "39840/40000 [============================>.] - ETA: 0s - loss: 0.1159 - acc: 0.9688\n",
      "Epoch 00084: val_acc did not improve\n",
      "40000/40000 [==============================] - 9s 217us/step - loss: 0.1160 - acc: 0.9688 - val_loss: 0.6146 - val_acc: 0.8745\n",
      "Epoch 85/10000\n",
      "39744/40000 [============================>.] - ETA: 0s - loss: 0.1395 - acc: 0.9632\n",
      "Epoch 00085: val_acc did not improve\n",
      "40000/40000 [==============================] - 8s 209us/step - loss: 0.1389 - acc: 0.9633 - val_loss: 0.6545 - val_acc: 0.8681\n",
      "Epoch 86/10000\n",
      "39904/40000 [============================>.] - ETA: 0s - loss: 0.1183 - acc: 0.9684\n",
      "Epoch 00086: val_acc did not improve\n",
      "40000/40000 [==============================] - 9s 219us/step - loss: 0.1183 - acc: 0.9683 - val_loss: 0.7006 - val_acc: 0.8677\n",
      "Epoch 87/10000\n",
      "39968/40000 [============================>.] - ETA: 0s - loss: 0.1226 - acc: 0.9675\n",
      "Epoch 00087: val_acc did not improve\n",
      "40000/40000 [==============================] - 9s 216us/step - loss: 0.1225 - acc: 0.9675 - val_loss: 0.6942 - val_acc: 0.8688\n",
      "Epoch 88/10000\n",
      "39904/40000 [============================>.] - ETA: 0s - loss: 0.1172 - acc: 0.9676\n",
      "Epoch 00088: val_acc did not improve\n",
      "40000/40000 [==============================] - 8s 211us/step - loss: 0.1169 - acc: 0.9677 - val_loss: 0.6672 - val_acc: 0.8701\n",
      "Epoch 89/10000\n",
      "39744/40000 [============================>.] - ETA: 0s - loss: 0.1487 - acc: 0.9606\n",
      "Epoch 00089: val_acc did not improve\n",
      "40000/40000 [==============================] - 8s 202us/step - loss: 0.1484 - acc: 0.9606 - val_loss: 0.6909 - val_acc: 0.8673\n",
      "Epoch 90/10000\n",
      "39904/40000 [============================>.] - ETA: 0s - loss: 0.1240 - acc: 0.9670\n",
      "Epoch 00090: val_acc did not improve\n",
      "40000/40000 [==============================] - 8s 199us/step - loss: 0.1238 - acc: 0.9670 - val_loss: 0.6752 - val_acc: 0.8677\n",
      "Epoch 91/10000\n",
      "39776/40000 [============================>.] - ETA: 0s - loss: 0.1033 - acc: 0.9718\n",
      "Epoch 00091: val_acc did not improve\n",
      "40000/40000 [==============================] - 8s 199us/step - loss: 0.1038 - acc: 0.9716 - val_loss: 0.6579 - val_acc: 0.8761\n",
      "Epoch 92/10000\n",
      "39904/40000 [============================>.] - ETA: 0s - loss: 0.1260 - acc: 0.9661\n",
      "Epoch 00092: val_acc did not improve\n",
      "40000/40000 [==============================] - 8s 200us/step - loss: 0.1258 - acc: 0.9661 - val_loss: 0.6505 - val_acc: 0.8716\n",
      "Epoch 93/10000\n",
      "39840/40000 [============================>.] - ETA: 0s - loss: 0.1207 - acc: 0.9673\n",
      "Epoch 00093: val_acc did not improve\n",
      "40000/40000 [==============================] - 9s 213us/step - loss: 0.1208 - acc: 0.9672 - val_loss: 0.6834 - val_acc: 0.8625\n",
      "Epoch 94/10000\n",
      "39968/40000 [============================>.] - ETA: 0s - loss: 0.1344 - acc: 0.9631\n",
      "Epoch 00094: val_acc did not improve\n",
      "40000/40000 [==============================] - 10s 243us/step - loss: 0.1343 - acc: 0.9631 - val_loss: 0.7301 - val_acc: 0.8662\n",
      "Epoch 95/10000\n",
      "39872/40000 [============================>.] - ETA: 0s - loss: 0.1035 - acc: 0.9715\n",
      "Epoch 00095: val_acc did not improve\n",
      "40000/40000 [==============================] - 11s 264us/step - loss: 0.1038 - acc: 0.9715 - val_loss: 0.7461 - val_acc: 0.8736\n",
      "Epoch 96/10000\n",
      "39840/40000 [============================>.] - ETA: 0s - loss: 0.1285 - acc: 0.9664\n",
      "Epoch 00096: val_acc did not improve\n",
      "40000/40000 [==============================] - 10s 262us/step - loss: 0.1283 - acc: 0.9664 - val_loss: 0.6893 - val_acc: 0.8658\n",
      "Epoch 97/10000\n",
      "39744/40000 [============================>.] - ETA: 0s - loss: 0.1078 - acc: 0.9715\n",
      "Epoch 00097: val_acc did not improve\n",
      "40000/40000 [==============================] - 10s 253us/step - loss: 0.1078 - acc: 0.9715 - val_loss: 0.6812 - val_acc: 0.8699\n",
      "Epoch 98/10000\n",
      "39904/40000 [============================>.] - ETA: 0s - loss: 0.1178 - acc: 0.9684\n",
      "Epoch 00098: val_acc did not improve\n",
      "40000/40000 [==============================] - 11s 267us/step - loss: 0.1176 - acc: 0.9685 - val_loss: 0.6673 - val_acc: 0.8728\n",
      "Epoch 99/10000\n",
      "39744/40000 [============================>.] - ETA: 0s - loss: 0.1092 - acc: 0.9704\n",
      "Epoch 00099: val_acc did not improve\n",
      "40000/40000 [==============================] - 9s 225us/step - loss: 0.1093 - acc: 0.9704 - val_loss: 0.6662 - val_acc: 0.8679\n",
      "Epoch 100/10000\n",
      "39936/40000 [============================>.] - ETA: 0s - loss: 0.1023 - acc: 0.9726\n",
      "Epoch 00100: val_acc did not improve\n",
      "40000/40000 [==============================] - 11s 276us/step - loss: 0.1022 - acc: 0.9726 - val_loss: 0.7568 - val_acc: 0.8684\n",
      "Epoch 101/10000\n",
      "39872/40000 [============================>.] - ETA: 0s - loss: 0.1072 - acc: 0.9722\n",
      "Epoch 00101: val_acc did not improve\n",
      "40000/40000 [==============================] - 9s 213us/step - loss: 0.1074 - acc: 0.9721 - val_loss: 0.6771 - val_acc: 0.8653\n",
      "Epoch 102/10000\n",
      "39840/40000 [============================>.] - ETA: 0s - loss: 0.1036 - acc: 0.9730\n",
      "Epoch 00102: val_acc did not improve\n",
      "40000/40000 [==============================] - 11s 285us/step - loss: 0.1036 - acc: 0.9730 - val_loss: 0.6996 - val_acc: 0.8715\n",
      "Epoch 103/10000\n",
      "39872/40000 [============================>.] - ETA: 0s - loss: 0.1164 - acc: 0.9699\n",
      "Epoch 00103: val_acc did not improve\n",
      "40000/40000 [==============================] - 9s 217us/step - loss: 0.1162 - acc: 0.9699 - val_loss: 0.6798 - val_acc: 0.8724\n",
      "Epoch 104/10000\n",
      "39936/40000 [============================>.] - ETA: 0s - loss: 0.1209 - acc: 0.9699\n",
      "Epoch 00104: val_acc did not improve\n",
      "40000/40000 [==============================] - 11s 273us/step - loss: 0.1209 - acc: 0.9698 - val_loss: 0.6699 - val_acc: 0.8714\n",
      "Epoch 105/10000\n",
      "39968/40000 [============================>.] - ETA: 0s - loss: 0.0948 - acc: 0.9739\n",
      "Epoch 00105: val_acc did not improve\n",
      "40000/40000 [==============================] - 9s 228us/step - loss: 0.0947 - acc: 0.9739 - val_loss: 0.7330 - val_acc: 0.8708\n",
      "Epoch 106/10000\n",
      "39936/40000 [============================>.] - ETA: 0s - loss: 0.1129 - acc: 0.9707\n",
      "Epoch 00106: val_acc did not improve\n",
      "40000/40000 [==============================] - 10s 259us/step - loss: 0.1130 - acc: 0.9707 - val_loss: 0.7023 - val_acc: 0.8611\n",
      "Epoch 107/10000\n",
      "39936/40000 [============================>.] - ETA: 0s - loss: 0.1183 - acc: 0.9686\n",
      "Epoch 00107: val_acc did not improve\n",
      "40000/40000 [==============================] - 10s 241us/step - loss: 0.1186 - acc: 0.9685 - val_loss: 0.6780 - val_acc: 0.8633\n",
      "Epoch 108/10000\n",
      "39936/40000 [============================>.] - ETA: 0s - loss: 0.1086 - acc: 0.9712\n",
      "Epoch 00108: val_acc did not improve\n",
      "40000/40000 [==============================] - 10s 247us/step - loss: 0.1087 - acc: 0.9711 - val_loss: 0.7052 - val_acc: 0.8723\n",
      "Epoch 109/10000\n",
      "39840/40000 [============================>.] - ETA: 0s - loss: 0.1040 - acc: 0.9732\n",
      "Epoch 00109: val_acc did not improve\n",
      "40000/40000 [==============================] - 10s 254us/step - loss: 0.1042 - acc: 0.9732 - val_loss: 0.7107 - val_acc: 0.8714\n",
      "Epoch 110/10000\n",
      "39840/40000 [============================>.] - ETA: 0s - loss: 0.1002 - acc: 0.9728\n",
      "Epoch 00110: val_acc did not improve\n",
      "40000/40000 [==============================] - 9s 235us/step - loss: 0.1001 - acc: 0.9728 - val_loss: 0.7178 - val_acc: 0.8740\n",
      "Epoch 111/10000\n",
      "39936/40000 [============================>.] - ETA: 0s - loss: 0.1141 - acc: 0.9710\n",
      "Epoch 00111: val_acc did not improve\n",
      "40000/40000 [==============================] - 11s 266us/step - loss: 0.1141 - acc: 0.9710 - val_loss: 0.6650 - val_acc: 0.8762\n",
      "Epoch 112/10000\n",
      "39936/40000 [============================>.] - ETA: 0s - loss: 0.1019 - acc: 0.9720\n",
      "Epoch 00112: val_acc did not improve\n",
      "40000/40000 [==============================] - 9s 222us/step - loss: 0.1019 - acc: 0.9721 - val_loss: 0.7499 - val_acc: 0.8586\n",
      "Epoch 113/10000\n"
     ]
    },
    {
     "name": "stdout",
     "output_type": "stream",
     "text": [
      "39936/40000 [============================>.] - ETA: 0s - loss: 0.1104 - acc: 0.9715\n",
      "Epoch 00113: val_acc did not improve\n",
      "40000/40000 [==============================] - 11s 279us/step - loss: 0.1104 - acc: 0.9715 - val_loss: 0.7131 - val_acc: 0.8728\n",
      "Epoch 114/10000\n",
      "39744/40000 [============================>.] - ETA: 0s - loss: 0.0981 - acc: 0.9741\n",
      "Epoch 00114: val_acc did not improve\n",
      "40000/40000 [==============================] - 9s 213us/step - loss: 0.0982 - acc: 0.9740 - val_loss: 0.7132 - val_acc: 0.8706\n",
      "Epoch 115/10000\n",
      "39936/40000 [============================>.] - ETA: 0s - loss: 0.1256 - acc: 0.9686\n",
      "Epoch 00115: val_acc did not improve\n",
      "40000/40000 [==============================] - 11s 281us/step - loss: 0.1261 - acc: 0.9685 - val_loss: 0.7443 - val_acc: 0.8696\n",
      "Epoch 116/10000\n",
      "39872/40000 [============================>.] - ETA: 0s - loss: 0.1094 - acc: 0.9708\n",
      "Epoch 00116: val_acc did not improve\n",
      "40000/40000 [==============================] - 9s 220us/step - loss: 0.1093 - acc: 0.9709 - val_loss: 0.7481 - val_acc: 0.8710\n",
      "Epoch 117/10000\n",
      "39936/40000 [============================>.] - ETA: 0s - loss: 0.1201 - acc: 0.9699\n",
      "Epoch 00117: val_acc did not improve\n",
      "40000/40000 [==============================] - 11s 267us/step - loss: 0.1201 - acc: 0.9698 - val_loss: 0.7405 - val_acc: 0.8713\n",
      "Epoch 118/10000\n",
      "39968/40000 [============================>.] - ETA: 0s - loss: 0.0912 - acc: 0.9755\n",
      "Epoch 00118: val_acc did not improve\n",
      "40000/40000 [==============================] - 9s 234us/step - loss: 0.0915 - acc: 0.9755 - val_loss: 0.7441 - val_acc: 0.8729\n",
      "Epoch 119/10000\n",
      "39904/40000 [============================>.] - ETA: 0s - loss: 0.1007 - acc: 0.9737\n",
      "Epoch 00119: val_acc did not improve\n",
      "40000/40000 [==============================] - 10s 254us/step - loss: 0.1005 - acc: 0.9738 - val_loss: 0.7166 - val_acc: 0.8672\n",
      "Epoch 120/10000\n",
      "39968/40000 [============================>.] - ETA: 0s - loss: 0.1107 - acc: 0.9706\n",
      "Epoch 00120: val_acc did not improve\n",
      "40000/40000 [==============================] - 10s 247us/step - loss: 0.1110 - acc: 0.9705 - val_loss: 0.8345 - val_acc: 0.8656\n",
      "Epoch 121/10000\n",
      "39776/40000 [============================>.] - ETA: 0s - loss: 0.1226 - acc: 0.9679\n",
      "Epoch 00121: val_acc did not improve\n",
      "40000/40000 [==============================] - 10s 240us/step - loss: 0.1228 - acc: 0.9679 - val_loss: 0.7224 - val_acc: 0.8705\n",
      "Epoch 122/10000\n",
      "39872/40000 [============================>.] - ETA: 0s - loss: 0.1014 - acc: 0.9742\n",
      "Epoch 00122: val_acc did not improve\n",
      "40000/40000 [==============================] - 10s 259us/step - loss: 0.1016 - acc: 0.9742 - val_loss: 0.7168 - val_acc: 0.8723\n",
      "Epoch 123/10000\n",
      "39904/40000 [============================>.] - ETA: 0s - loss: 0.0898 - acc: 0.9766\n",
      "Epoch 00123: val_acc did not improve\n",
      "40000/40000 [==============================] - 9s 229us/step - loss: 0.0897 - acc: 0.9767 - val_loss: 0.7665 - val_acc: 0.8668\n",
      "Epoch 124/10000\n",
      "39936/40000 [============================>.] - ETA: 0s - loss: 0.1206 - acc: 0.9696\n",
      "Epoch 00124: val_acc did not improve\n",
      "40000/40000 [==============================] - 11s 273us/step - loss: 0.1207 - acc: 0.9696 - val_loss: 0.7193 - val_acc: 0.8619\n",
      "Epoch 125/10000\n",
      "39840/40000 [============================>.] - ETA: 0s - loss: 0.0945 - acc: 0.9758\n",
      "Epoch 00125: val_acc did not improve\n",
      "40000/40000 [==============================] - 9s 216us/step - loss: 0.0945 - acc: 0.9758 - val_loss: 0.7127 - val_acc: 0.8712\n",
      "Epoch 126/10000\n",
      "39968/40000 [============================>.] - ETA: 0s - loss: 0.0978 - acc: 0.9751\n",
      "Epoch 00126: val_acc did not improve\n",
      "40000/40000 [==============================] - 11s 284us/step - loss: 0.0980 - acc: 0.9750 - val_loss: 0.7554 - val_acc: 0.8662\n",
      "Epoch 127/10000\n",
      "39840/40000 [============================>.] - ETA: 0s - loss: 0.1071 - acc: 0.9717\n",
      "Epoch 00127: val_acc did not improve\n",
      "40000/40000 [==============================] - 9s 216us/step - loss: 0.1070 - acc: 0.9717 - val_loss: 0.6981 - val_acc: 0.8681\n",
      "Epoch 128/10000\n",
      "39968/40000 [============================>.] - ETA: 0s - loss: 0.1116 - acc: 0.9717\n",
      "Epoch 00128: val_acc did not improve\n",
      "40000/40000 [==============================] - 11s 273us/step - loss: 0.1115 - acc: 0.9717 - val_loss: 0.7472 - val_acc: 0.8718\n",
      "Epoch 129/10000\n",
      "39840/40000 [============================>.] - ETA: 0s - loss: 0.1089 - acc: 0.9715\n",
      "Epoch 00129: val_acc did not improve\n",
      "40000/40000 [==============================] - 9s 227us/step - loss: 0.1089 - acc: 0.9716 - val_loss: 0.7595 - val_acc: 0.8705\n",
      "Epoch 130/10000\n",
      "39840/40000 [============================>.] - ETA: 0s - loss: 0.0972 - acc: 0.9739\n",
      "Epoch 00130: val_acc did not improve\n",
      "40000/40000 [==============================] - 10s 260us/step - loss: 0.0973 - acc: 0.9739 - val_loss: 0.8354 - val_acc: 0.8529\n",
      "Epoch 131/10000\n",
      "39808/40000 [============================>.] - ETA: 0s - loss: 0.1181 - acc: 0.9697\n",
      "Epoch 00131: val_acc did not improve\n",
      "40000/40000 [==============================] - 10s 241us/step - loss: 0.1179 - acc: 0.9697 - val_loss: 0.7255 - val_acc: 0.8739\n",
      "Epoch 132/10000\n",
      "39968/40000 [============================>.] - ETA: 0s - loss: 0.0990 - acc: 0.9748\n",
      "Epoch 00132: val_acc did not improve\n",
      "40000/40000 [==============================] - 10s 247us/step - loss: 0.0990 - acc: 0.9748 - val_loss: 0.6926 - val_acc: 0.8714\n",
      "Epoch 133/10000\n",
      "39808/40000 [============================>.] - ETA: 0s - loss: 0.1000 - acc: 0.9745\n",
      "Epoch 00133: val_acc did not improve\n",
      "40000/40000 [==============================] - 10s 253us/step - loss: 0.1002 - acc: 0.9744 - val_loss: 0.7433 - val_acc: 0.8698\n",
      "Epoch 134/10000\n",
      "39936/40000 [============================>.] - ETA: 0s - loss: 0.0893 - acc: 0.9762\n",
      "Epoch 00134: val_acc did not improve\n",
      "40000/40000 [==============================] - 9s 235us/step - loss: 0.0895 - acc: 0.9761 - val_loss: 0.8116 - val_acc: 0.8634\n",
      "Epoch 135/10000\n",
      "39776/40000 [============================>.] - ETA: 0s - loss: 0.0827 - acc: 0.9780\n",
      "Epoch 00135: val_acc did not improve\n",
      "40000/40000 [==============================] - 11s 266us/step - loss: 0.0826 - acc: 0.9780 - val_loss: 0.7602 - val_acc: 0.8731\n",
      "Epoch 136/10000\n",
      "39776/40000 [============================>.] - ETA: 0s - loss: 0.1056 - acc: 0.9734\n",
      "Epoch 00136: val_acc did not improve\n",
      "40000/40000 [==============================] - 9s 222us/step - loss: 0.1060 - acc: 0.9734 - val_loss: 0.7360 - val_acc: 0.8743\n",
      "Epoch 137/10000\n",
      "39904/40000 [============================>.] - ETA: 0s - loss: 0.1033 - acc: 0.9749\n",
      "Epoch 00137: val_acc did not improve\n",
      "40000/40000 [==============================] - 11s 279us/step - loss: 0.1033 - acc: 0.9749 - val_loss: 0.7683 - val_acc: 0.8678\n",
      "Epoch 138/10000\n",
      "39872/40000 [============================>.] - ETA: 0s - loss: 0.1054 - acc: 0.9727\n",
      "Epoch 00138: val_acc did not improve\n",
      "40000/40000 [==============================] - 9s 213us/step - loss: 0.1053 - acc: 0.9727 - val_loss: 0.7638 - val_acc: 0.8681\n",
      "Epoch 139/10000\n",
      "39872/40000 [============================>.] - ETA: 0s - loss: 0.0901 - acc: 0.9760\n",
      "Epoch 00139: val_acc did not improve\n",
      "40000/40000 [==============================] - 11s 281us/step - loss: 0.0902 - acc: 0.9760 - val_loss: 0.7159 - val_acc: 0.8770\n",
      "Epoch 140/10000\n",
      "39840/40000 [============================>.] - ETA: 0s - loss: 0.0929 - acc: 0.9768\n",
      "Epoch 00140: val_acc did not improve\n",
      "40000/40000 [==============================] - 9s 220us/step - loss: 0.0929 - acc: 0.9768 - val_loss: 0.6874 - val_acc: 0.8756\n",
      "Epoch 141/10000\n",
      "39712/40000 [============================>.] - ETA: 0s - loss: 0.0917 - acc: 0.9763\n",
      "Epoch 00141: val_acc did not improve\n",
      "40000/40000 [==============================] - 11s 268us/step - loss: 0.0914 - acc: 0.9764 - val_loss: 0.8331 - val_acc: 0.8514\n",
      "Epoch 142/10000\n",
      "39968/40000 [============================>.] - ETA: 0s - loss: 0.0935 - acc: 0.9766\n",
      "Epoch 00142: val_acc did not improve\n",
      "40000/40000 [==============================] - 9s 232us/step - loss: 0.0934 - acc: 0.9766 - val_loss: 0.7672 - val_acc: 0.8684\n",
      "Epoch 143/10000\n",
      "39712/40000 [============================>.] - ETA: 0s - loss: 0.0946 - acc: 0.9757\n",
      "Epoch 00143: val_acc did not improve\n",
      "40000/40000 [==============================] - 10s 256us/step - loss: 0.0942 - acc: 0.9758 - val_loss: 0.7091 - val_acc: 0.8683\n",
      "Epoch 144/10000\n"
     ]
    },
    {
     "name": "stdout",
     "output_type": "stream",
     "text": [
      "39968/40000 [============================>.] - ETA: 0s - loss: 0.0900 - acc: 0.9762\n",
      "Epoch 00144: val_acc did not improve\n",
      "40000/40000 [==============================] - 10s 243us/step - loss: 0.0899 - acc: 0.9762 - val_loss: 0.7105 - val_acc: 0.8718\n",
      "Epoch 145/10000\n",
      "39904/40000 [============================>.] - ETA: 0s - loss: 0.0994 - acc: 0.9746\n",
      "Epoch 00145: val_acc did not improve\n",
      "40000/40000 [==============================] - 10s 243us/step - loss: 0.0993 - acc: 0.9747 - val_loss: 0.7855 - val_acc: 0.8589\n",
      "Epoch 146/10000\n",
      "39968/40000 [============================>.] - ETA: 0s - loss: 0.0871 - acc: 0.9772\n",
      "Epoch 00146: val_acc did not improve\n",
      "40000/40000 [==============================] - 10s 257us/step - loss: 0.0871 - acc: 0.9772 - val_loss: 0.7671 - val_acc: 0.8712\n",
      "Epoch 147/10000\n",
      "39968/40000 [============================>.] - ETA: 0s - loss: 0.0907 - acc: 0.9768\n",
      "Epoch 00147: val_acc did not improve\n",
      "40000/40000 [==============================] - 9s 232us/step - loss: 0.0906 - acc: 0.9768 - val_loss: 0.8264 - val_acc: 0.8711\n",
      "Epoch 148/10000\n",
      "39840/40000 [============================>.] - ETA: 0s - loss: 0.0885 - acc: 0.9775\n",
      "Epoch 00148: val_acc did not improve\n",
      "40000/40000 [==============================] - 11s 271us/step - loss: 0.0884 - acc: 0.9775 - val_loss: 0.7949 - val_acc: 0.8690\n",
      "Epoch 149/10000\n",
      "39904/40000 [============================>.] - ETA: 0s - loss: 0.0892 - acc: 0.9778\n",
      "Epoch 00149: val_acc did not improve\n",
      "40000/40000 [==============================] - 9s 218us/step - loss: 0.0892 - acc: 0.9778 - val_loss: 0.7312 - val_acc: 0.8670\n",
      "Epoch 150/10000\n",
      "39936/40000 [============================>.] - ETA: 0s - loss: 0.0901 - acc: 0.9770\n",
      "Epoch 00150: val_acc did not improve\n",
      "40000/40000 [==============================] - 11s 282us/step - loss: 0.0901 - acc: 0.9770 - val_loss: 0.7756 - val_acc: 0.8666\n",
      "Epoch 151/10000\n",
      "39968/40000 [============================>.] - ETA: 0s - loss: 0.0938 - acc: 0.9764\n",
      "Epoch 00151: val_acc did not improve\n",
      "40000/40000 [==============================] - 9s 215us/step - loss: 0.0938 - acc: 0.9763 - val_loss: 0.9002 - val_acc: 0.8441\n",
      "Epoch 152/10000\n",
      "39744/40000 [============================>.] - ETA: 0s - loss: 0.1051 - acc: 0.9731\n",
      "Epoch 00152: val_acc did not improve\n",
      "40000/40000 [==============================] - 11s 275us/step - loss: 0.1050 - acc: 0.9732 - val_loss: 0.7621 - val_acc: 0.8674\n",
      "Epoch 153/10000\n",
      "39968/40000 [============================>.] - ETA: 0s - loss: 0.1019 - acc: 0.9742\n",
      "Epoch 00153: val_acc did not improve\n",
      "40000/40000 [==============================] - 9s 227us/step - loss: 0.1018 - acc: 0.9742 - val_loss: 0.7459 - val_acc: 0.8698\n",
      "Epoch 154/10000\n",
      "39744/40000 [============================>.] - ETA: 0s - loss: 0.1209 - acc: 0.9700\n",
      "Epoch 00154: val_acc did not improve\n",
      "40000/40000 [==============================] - 10s 262us/step - loss: 0.1207 - acc: 0.9700 - val_loss: 0.7465 - val_acc: 0.8610\n",
      "Epoch 155/10000\n",
      "39808/40000 [============================>.] - ETA: 0s - loss: 0.0831 - acc: 0.9785\n",
      "Epoch 00155: val_acc did not improve\n",
      "40000/40000 [==============================] - 10s 238us/step - loss: 0.0828 - acc: 0.9786 - val_loss: 0.7814 - val_acc: 0.8690\n",
      "Epoch 156/10000\n",
      "39776/40000 [============================>.] - ETA: 0s - loss: 0.0784 - acc: 0.9789\n",
      "Epoch 00156: val_acc did not improve\n",
      "40000/40000 [==============================] - 10s 250us/step - loss: 0.0782 - acc: 0.9789 - val_loss: 0.7680 - val_acc: 0.8671\n",
      "Epoch 157/10000\n",
      "39840/40000 [============================>.] - ETA: 0s - loss: 0.0934 - acc: 0.9759\n",
      "Epoch 00157: val_acc did not improve\n",
      "40000/40000 [==============================] - 10s 251us/step - loss: 0.0934 - acc: 0.9759 - val_loss: 0.7541 - val_acc: 0.8703\n",
      "Epoch 158/10000\n",
      "39808/40000 [============================>.] - ETA: 0s - loss: 0.0984 - acc: 0.9753\n",
      "Epoch 00158: val_acc did not improve\n",
      "40000/40000 [==============================] - 10s 238us/step - loss: 0.0983 - acc: 0.9754 - val_loss: 0.8068 - val_acc: 0.8654\n",
      "Epoch 159/10000\n",
      "39872/40000 [============================>.] - ETA: 0s - loss: 0.0905 - acc: 0.9770\n",
      "Epoch 00159: val_acc did not improve\n",
      "40000/40000 [==============================] - 10s 262us/step - loss: 0.0904 - acc: 0.9770 - val_loss: 0.8227 - val_acc: 0.8630\n",
      "Epoch 160/10000\n",
      "39904/40000 [============================>.] - ETA: 0s - loss: 0.0777 - acc: 0.9798\n",
      "Epoch 00160: val_acc did not improve\n",
      "40000/40000 [==============================] - 9s 224us/step - loss: 0.0776 - acc: 0.9798 - val_loss: 0.7532 - val_acc: 0.8721\n",
      "Epoch 161/10000\n",
      "39904/40000 [============================>.] - ETA: 0s - loss: 0.0933 - acc: 0.9771\n",
      "Epoch 00161: val_acc did not improve\n",
      "40000/40000 [==============================] - 11s 276us/step - loss: 0.0932 - acc: 0.9771 - val_loss: 0.7452 - val_acc: 0.8678\n",
      "Epoch 162/10000\n",
      "39936/40000 [============================>.] - ETA: 0s - loss: 0.0790 - acc: 0.9791\n",
      "Epoch 00162: val_acc did not improve\n",
      "40000/40000 [==============================] - 9s 213us/step - loss: 0.0790 - acc: 0.9791 - val_loss: 0.7503 - val_acc: 0.8737\n",
      "Epoch 163/10000\n",
      "39904/40000 [============================>.] - ETA: 0s - loss: 0.0932 - acc: 0.9766\n",
      "Epoch 00163: val_acc did not improve\n",
      "40000/40000 [==============================] - 11s 285us/step - loss: 0.0934 - acc: 0.9766 - val_loss: 0.7847 - val_acc: 0.8682\n",
      "Epoch 164/10000\n",
      "39968/40000 [============================>.] - ETA: 0s - loss: 0.0980 - acc: 0.9759\n",
      "Epoch 00164: val_acc did not improve\n",
      "40000/40000 [==============================] - 9s 229us/step - loss: 0.0980 - acc: 0.9759 - val_loss: 0.7816 - val_acc: 0.8656\n",
      "Epoch 165/10000\n",
      "39776/40000 [============================>.] - ETA: 0s - loss: 0.0873 - acc: 0.9779\n",
      "Epoch 00165: val_acc did not improve\n",
      "40000/40000 [==============================] - 11s 282us/step - loss: 0.0877 - acc: 0.9778 - val_loss: 0.7904 - val_acc: 0.8687\n",
      "Epoch 166/10000\n",
      "39840/40000 [============================>.] - ETA: 0s - loss: 0.1054 - acc: 0.9737\n",
      "Epoch 00166: val_acc did not improve\n",
      "40000/40000 [==============================] - 10s 240us/step - loss: 0.1053 - acc: 0.9738 - val_loss: 0.7679 - val_acc: 0.8717\n",
      "Epoch 167/10000\n",
      "39904/40000 [============================>.] - ETA: 0s - loss: 0.0795 - acc: 0.9803\n",
      "Epoch 00167: val_acc did not improve\n",
      "40000/40000 [==============================] - 11s 264us/step - loss: 0.0795 - acc: 0.9803 - val_loss: 0.7290 - val_acc: 0.8750\n",
      "Epoch 168/10000\n",
      "39808/40000 [============================>.] - ETA: 0s - loss: 0.0766 - acc: 0.9810\n",
      "Epoch 00168: val_acc did not improve\n",
      "40000/40000 [==============================] - 10s 259us/step - loss: 0.0770 - acc: 0.9810 - val_loss: 1.0032 - val_acc: 0.8534\n",
      "Epoch 169/10000\n",
      "39712/40000 [============================>.] - ETA: 0s - loss: 0.0980 - acc: 0.9761\n",
      "Epoch 00169: val_acc did not improve\n",
      "40000/40000 [==============================] - 10s 242us/step - loss: 0.0982 - acc: 0.9760 - val_loss: 0.8177 - val_acc: 0.8683\n",
      "Epoch 170/10000\n",
      "39776/40000 [============================>.] - ETA: 0s - loss: 0.0878 - acc: 0.9781\n",
      "Epoch 00170: val_acc did not improve\n",
      "40000/40000 [==============================] - 10s 262us/step - loss: 0.0877 - acc: 0.9781 - val_loss: 0.8254 - val_acc: 0.8707\n",
      "Epoch 171/10000\n",
      "39712/40000 [============================>.] - ETA: 0s - loss: 0.0965 - acc: 0.9758\n",
      "Epoch 00171: val_acc did not improve\n",
      "40000/40000 [==============================] - 9s 237us/step - loss: 0.0961 - acc: 0.9759 - val_loss: 0.7617 - val_acc: 0.8754\n",
      "Epoch 172/10000\n",
      "39904/40000 [============================>.] - ETA: 0s - loss: 0.1049 - acc: 0.9745\n",
      "Epoch 00172: val_acc did not improve\n",
      "40000/40000 [==============================] - 11s 279us/step - loss: 0.1049 - acc: 0.9745 - val_loss: 0.7571 - val_acc: 0.8735\n",
      "Epoch 173/10000\n",
      "39936/40000 [============================>.] - ETA: 0s - loss: 0.1072 - acc: 0.9727\n",
      "Epoch 00173: val_acc did not improve\n",
      "40000/40000 [==============================] - 9s 231us/step - loss: 0.1072 - acc: 0.9727 - val_loss: 0.7648 - val_acc: 0.8731\n",
      "Epoch 174/10000\n",
      "39968/40000 [============================>.] - ETA: 0s - loss: 0.0729 - acc: 0.9814\n",
      "Epoch 00174: val_acc did not improve\n",
      "40000/40000 [==============================] - 12s 299us/step - loss: 0.0731 - acc: 0.9813 - val_loss: 0.7753 - val_acc: 0.8757\n",
      "Epoch 175/10000\n"
     ]
    },
    {
     "name": "stdout",
     "output_type": "stream",
     "text": [
      "39840/40000 [============================>.] - ETA: 0s - loss: 0.0869 - acc: 0.9780\n",
      "Epoch 00175: val_acc did not improve\n",
      "40000/40000 [==============================] - 9s 237us/step - loss: 0.0871 - acc: 0.9780 - val_loss: 0.7871 - val_acc: 0.8715\n",
      "Epoch 176/10000\n",
      "39904/40000 [============================>.] - ETA: 0s - loss: 0.1192 - acc: 0.9700\n",
      "Epoch 00176: val_acc did not improve\n",
      "40000/40000 [==============================] - 11s 278us/step - loss: 0.1190 - acc: 0.9701 - val_loss: 0.7307 - val_acc: 0.8717\n",
      "Epoch 177/10000\n",
      "39840/40000 [============================>.] - ETA: 0s - loss: 0.0839 - acc: 0.9796\n",
      "Epoch 00177: val_acc did not improve\n",
      "40000/40000 [==============================] - 9s 237us/step - loss: 0.0838 - acc: 0.9796 - val_loss: 0.7441 - val_acc: 0.8740\n",
      "Epoch 178/10000\n",
      "39968/40000 [============================>.] - ETA: 0s - loss: 0.0808 - acc: 0.9797\n",
      "Epoch 00178: val_acc did not improve\n",
      "40000/40000 [==============================] - 10s 259us/step - loss: 0.0807 - acc: 0.9797 - val_loss: 0.7662 - val_acc: 0.8651\n",
      "Epoch 179/10000\n",
      "39840/40000 [============================>.] - ETA: 0s - loss: 0.0789 - acc: 0.9792\n",
      "Epoch 00179: val_acc did not improve\n",
      "40000/40000 [==============================] - 10s 258us/step - loss: 0.0796 - acc: 0.9791 - val_loss: 0.7014 - val_acc: 0.8727\n",
      "Epoch 180/10000\n",
      "39936/40000 [============================>.] - ETA: 0s - loss: 0.0780 - acc: 0.9807\n",
      "Epoch 00180: val_acc did not improve\n",
      "40000/40000 [==============================] - 10s 253us/step - loss: 0.0780 - acc: 0.9807 - val_loss: 0.7939 - val_acc: 0.8726\n",
      "Epoch 181/10000\n",
      "39840/40000 [============================>.] - ETA: 0s - loss: 0.1049 - acc: 0.9754\n",
      "Epoch 00181: val_acc did not improve\n",
      "40000/40000 [==============================] - 11s 275us/step - loss: 0.1048 - acc: 0.9754 - val_loss: 0.7506 - val_acc: 0.8684\n",
      "Epoch 182/10000\n",
      "39744/40000 [============================>.] - ETA: 0s - loss: 0.1353 - acc: 0.9674\n",
      "Epoch 00182: val_acc did not improve\n",
      "40000/40000 [==============================] - 9s 235us/step - loss: 0.1351 - acc: 0.9674 - val_loss: 0.7294 - val_acc: 0.8698\n",
      "Epoch 183/10000\n",
      "39808/40000 [============================>.] - ETA: 0s - loss: 0.0835 - acc: 0.9783\n",
      "Epoch 00183: val_acc did not improve\n",
      "40000/40000 [==============================] - 12s 290us/step - loss: 0.0836 - acc: 0.9783 - val_loss: 0.7753 - val_acc: 0.8756\n",
      "Epoch 184/10000\n",
      "39904/40000 [============================>.] - ETA: 0s - loss: 0.0732 - acc: 0.9808\n",
      "Epoch 00184: val_acc did not improve\n",
      "40000/40000 [==============================] - 10s 239us/step - loss: 0.0730 - acc: 0.9809 - val_loss: 0.7714 - val_acc: 0.8751\n",
      "Epoch 185/10000\n",
      "39936/40000 [============================>.] - ETA: 0s - loss: 0.0914 - acc: 0.9779\n",
      "Epoch 00185: val_acc did not improve\n",
      "40000/40000 [==============================] - 11s 286us/step - loss: 0.0915 - acc: 0.9778 - val_loss: 1.0863 - val_acc: 0.8325\n",
      "Epoch 186/10000\n",
      "39904/40000 [============================>.] - ETA: 0s - loss: 0.1108 - acc: 0.9723\n",
      "Epoch 00186: val_acc did not improve\n",
      "40000/40000 [==============================] - 12s 296us/step - loss: 0.1105 - acc: 0.9724 - val_loss: 0.7140 - val_acc: 0.8763\n",
      "Epoch 187/10000\n",
      "39904/40000 [============================>.] - ETA: 0s - loss: 0.0706 - acc: 0.9821\n",
      "Epoch 00187: val_acc did not improve\n",
      "40000/40000 [==============================] - 10s 260us/step - loss: 0.0706 - acc: 0.9820 - val_loss: 0.7849 - val_acc: 0.8622\n",
      "Epoch 188/10000\n",
      "39936/40000 [============================>.] - ETA: 0s - loss: 0.1003 - acc: 0.9743\n",
      "Epoch 00188: val_acc did not improve\n",
      "40000/40000 [==============================] - 11s 276us/step - loss: 0.1002 - acc: 0.9743 - val_loss: 0.7507 - val_acc: 0.8738\n",
      "Epoch 189/10000\n",
      "39808/40000 [============================>.] - ETA: 0s - loss: 0.0855 - acc: 0.9789\n",
      "Epoch 00189: val_acc did not improve\n",
      "40000/40000 [==============================] - 10s 257us/step - loss: 0.0855 - acc: 0.9789 - val_loss: 0.8604 - val_acc: 0.8611\n",
      "Epoch 190/10000\n",
      "39968/40000 [============================>.] - ETA: 0s - loss: 0.0807 - acc: 0.9799\n",
      "Epoch 00190: val_acc did not improve\n",
      "40000/40000 [==============================] - 12s 292us/step - loss: 0.0816 - acc: 0.9798 - val_loss: 0.8495 - val_acc: 0.8664\n",
      "Epoch 191/10000\n",
      "39872/40000 [============================>.] - ETA: 0s - loss: 0.1000 - acc: 0.9753\n",
      "Epoch 00191: val_acc did not improve\n",
      "40000/40000 [==============================] - 9s 235us/step - loss: 0.1005 - acc: 0.9753 - val_loss: 0.8126 - val_acc: 0.8604\n",
      "Epoch 192/10000\n",
      "39936/40000 [============================>.] - ETA: 0s - loss: 0.0955 - acc: 0.9765\n",
      "Epoch 00192: val_acc did not improve\n",
      "40000/40000 [==============================] - 16s 388us/step - loss: 0.0954 - acc: 0.9766 - val_loss: 0.7463 - val_acc: 0.8722\n",
      "Epoch 193/10000\n",
      "39904/40000 [============================>.] - ETA: 0s - loss: 0.0896 - acc: 0.9777\n",
      "Epoch 00193: val_acc did not improve\n",
      "40000/40000 [==============================] - 9s 224us/step - loss: 0.0898 - acc: 0.9778 - val_loss: 0.8852 - val_acc: 0.8643\n",
      "Epoch 194/10000\n",
      "39808/40000 [============================>.] - ETA: 0s - loss: 0.1140 - acc: 0.9712\n",
      "Epoch 00194: val_acc did not improve\n",
      "40000/40000 [==============================] - 11s 276us/step - loss: 0.1142 - acc: 0.9711 - val_loss: 0.9131 - val_acc: 0.8598\n",
      "Epoch 195/10000\n",
      "39872/40000 [============================>.] - ETA: 0s - loss: 0.0863 - acc: 0.9783\n",
      "Epoch 00195: val_acc did not improve\n",
      "40000/40000 [==============================] - 10s 249us/step - loss: 0.0861 - acc: 0.9784 - val_loss: 0.7855 - val_acc: 0.8720\n",
      "Epoch 196/10000\n",
      "39904/40000 [============================>.] - ETA: 0s - loss: 0.0700 - acc: 0.9824\n",
      "Epoch 00196: val_acc did not improve\n",
      "40000/40000 [==============================] - 10s 262us/step - loss: 0.0699 - acc: 0.9824 - val_loss: 0.8508 - val_acc: 0.8708\n",
      "Epoch 197/10000\n",
      "39968/40000 [============================>.] - ETA: 0s - loss: 0.0768 - acc: 0.9803\n",
      "Epoch 00197: val_acc did not improve\n",
      "40000/40000 [==============================] - 11s 263us/step - loss: 0.0768 - acc: 0.9804 - val_loss: 0.8139 - val_acc: 0.8730\n",
      "Epoch 198/10000\n",
      "39776/40000 [============================>.] - ETA: 0s - loss: 0.1532 - acc: 0.9653\n",
      "Epoch 00198: val_acc did not improve\n",
      "40000/40000 [==============================] - 10s 255us/step - loss: 0.1530 - acc: 0.9653 - val_loss: 0.7256 - val_acc: 0.8702\n",
      "Epoch 199/10000\n",
      "39808/40000 [============================>.] - ETA: 0s - loss: 0.0770 - acc: 0.9809\n",
      "Epoch 00199: val_acc did not improve\n",
      "40000/40000 [==============================] - 12s 295us/step - loss: 0.0770 - acc: 0.9809 - val_loss: 0.7811 - val_acc: 0.8733\n",
      "Epoch 200/10000\n",
      "39904/40000 [============================>.] - ETA: 0s - loss: 0.0910 - acc: 0.9773\n",
      "Epoch 00200: val_acc did not improve\n",
      "40000/40000 [==============================] - 12s 291us/step - loss: 0.0910 - acc: 0.9773 - val_loss: 0.8289 - val_acc: 0.8673\n",
      "Epoch 201/10000\n",
      "39936/40000 [============================>.] - ETA: 0s - loss: 0.0727 - acc: 0.9813\n",
      "Epoch 00201: val_acc did not improve\n",
      "40000/40000 [==============================] - 16s 407us/step - loss: 0.0727 - acc: 0.9813 - val_loss: 0.7510 - val_acc: 0.8695\n",
      "Epoch 202/10000\n",
      "39904/40000 [============================>.] - ETA: 0s - loss: 0.0968 - acc: 0.9757\n",
      "Epoch 00202: val_acc did not improve\n",
      "40000/40000 [==============================] - 14s 346us/step - loss: 0.0966 - acc: 0.9757 - val_loss: 0.7647 - val_acc: 0.8652\n",
      "Epoch 203/10000\n",
      "39840/40000 [============================>.] - ETA: 0s - loss: 0.0884 - acc: 0.9783\n",
      "Epoch 00203: val_acc did not improve\n",
      "40000/40000 [==============================] - 15s 365us/step - loss: 0.0886 - acc: 0.9783 - val_loss: 0.8214 - val_acc: 0.8717\n",
      "Epoch 204/10000\n",
      "39936/40000 [============================>.] - ETA: 0s - loss: 0.0700 - acc: 0.9814\n",
      "Epoch 00204: val_acc did not improve\n",
      "40000/40000 [==============================] - 15s 387us/step - loss: 0.0700 - acc: 0.9814 - val_loss: 0.8306 - val_acc: 0.8668\n",
      "Epoch 205/10000\n",
      "39904/40000 [============================>.] - ETA: 0s - loss: 0.0804 - acc: 0.9797\n",
      "Epoch 00205: val_acc did not improve\n",
      "40000/40000 [==============================] - 14s 341us/step - loss: 0.0804 - acc: 0.9797 - val_loss: 0.7806 - val_acc: 0.8726\n"
     ]
    },
    {
     "name": "stdout",
     "output_type": "stream",
     "text": [
      "Epoch 206/10000\n",
      "39808/40000 [============================>.] - ETA: 0s - loss: 0.0753 - acc: 0.9800\n",
      "Epoch 00206: val_acc did not improve\n",
      "40000/40000 [==============================] - 15s 383us/step - loss: 0.0750 - acc: 0.9800 - val_loss: 0.7717 - val_acc: 0.8710\n",
      "Epoch 207/10000\n",
      "39968/40000 [============================>.] - ETA: 0s - loss: 0.0713 - acc: 0.9821\n",
      "Epoch 00207: val_acc did not improve\n",
      "40000/40000 [==============================] - 15s 368us/step - loss: 0.0713 - acc: 0.9821 - val_loss: 0.7850 - val_acc: 0.8707\n",
      "Epoch 208/10000\n",
      "39840/40000 [============================>.] - ETA: 0s - loss: 0.1416 - acc: 0.9656\n",
      "Epoch 00208: val_acc did not improve\n",
      "40000/40000 [==============================] - 14s 350us/step - loss: 0.1425 - acc: 0.9655 - val_loss: 0.7691 - val_acc: 0.8562\n",
      "Epoch 209/10000\n",
      "39776/40000 [============================>.] - ETA: 0s - loss: 0.0725 - acc: 0.9803\n",
      "Epoch 00209: val_acc did not improve\n",
      "40000/40000 [==============================] - 15s 366us/step - loss: 0.0725 - acc: 0.9804 - val_loss: 0.7388 - val_acc: 0.8731\n",
      "Epoch 210/10000\n",
      "39936/40000 [============================>.] - ETA: 0s - loss: 0.0955 - acc: 0.9778\n",
      "Epoch 00210: val_acc did not improve\n",
      "40000/40000 [==============================] - 9s 233us/step - loss: 0.0960 - acc: 0.9778 - val_loss: 0.8146 - val_acc: 0.8578\n",
      "Epoch 211/10000\n",
      "39744/40000 [============================>.] - ETA: 0s - loss: 0.0868 - acc: 0.9781\n",
      "Epoch 00211: val_acc did not improve\n",
      "40000/40000 [==============================] - 11s 272us/step - loss: 0.0863 - acc: 0.9782 - val_loss: 0.8409 - val_acc: 0.8734\n",
      "Epoch 212/10000\n",
      "39808/40000 [============================>.] - ETA: 0s - loss: 0.0732 - acc: 0.9818\n",
      "Epoch 00212: val_acc did not improve\n",
      "40000/40000 [==============================] - 10s 243us/step - loss: 0.0732 - acc: 0.9818 - val_loss: 0.7952 - val_acc: 0.8700\n",
      "Epoch 213/10000\n",
      "39776/40000 [============================>.] - ETA: 0s - loss: 0.0771 - acc: 0.9806\n",
      "Epoch 00213: val_acc did not improve\n",
      "40000/40000 [==============================] - 10s 254us/step - loss: 0.0773 - acc: 0.9806 - val_loss: 0.7634 - val_acc: 0.8663\n",
      "Epoch 214/10000\n",
      "39936/40000 [============================>.] - ETA: 0s - loss: 0.0935 - acc: 0.9767\n",
      "Epoch 00214: val_acc did not improve\n",
      "40000/40000 [==============================] - 10s 248us/step - loss: 0.0937 - acc: 0.9767 - val_loss: 1.1713 - val_acc: 0.8300\n",
      "Epoch 215/10000\n",
      "39744/40000 [============================>.] - ETA: 0s - loss: 0.1317 - acc: 0.9698\n",
      "Epoch 00215: val_acc did not improve\n",
      "40000/40000 [==============================] - 10s 248us/step - loss: 0.1314 - acc: 0.9698 - val_loss: 0.8454 - val_acc: 0.8529\n",
      "Epoch 216/10000\n",
      "39872/40000 [============================>.] - ETA: 0s - loss: 0.0814 - acc: 0.9797\n",
      "Epoch 00216: val_acc did not improve\n",
      "40000/40000 [==============================] - 11s 266us/step - loss: 0.0813 - acc: 0.9797 - val_loss: 0.7637 - val_acc: 0.8757\n",
      "Epoch 217/10000\n",
      "39840/40000 [============================>.] - ETA: 0s - loss: 0.0676 - acc: 0.9826\n",
      "Epoch 00217: val_acc did not improve\n",
      "40000/40000 [==============================] - 9s 231us/step - loss: 0.0675 - acc: 0.9826 - val_loss: 0.7630 - val_acc: 0.8685\n",
      "Epoch 218/10000\n",
      "39904/40000 [============================>.] - ETA: 0s - loss: 0.0666 - acc: 0.9827\n",
      "Epoch 00218: val_acc did not improve\n",
      "40000/40000 [==============================] - 11s 276us/step - loss: 0.0664 - acc: 0.9827 - val_loss: 0.8492 - val_acc: 0.8696\n",
      "Epoch 219/10000\n",
      "39904/40000 [============================>.] - ETA: 0s - loss: 0.0904 - acc: 0.9780\n",
      "Epoch 00219: val_acc did not improve\n",
      "40000/40000 [==============================] - 9s 219us/step - loss: 0.0902 - acc: 0.9780 - val_loss: 0.9470 - val_acc: 0.8574\n",
      "Epoch 220/10000\n",
      "39936/40000 [============================>.] - ETA: 0s - loss: 0.0773 - acc: 0.9810\n",
      "Epoch 00220: val_acc did not improve\n",
      "40000/40000 [==============================] - 12s 288us/step - loss: 0.0772 - acc: 0.9810 - val_loss: 0.8616 - val_acc: 0.8630\n",
      "Epoch 221/10000\n",
      "39840/40000 [============================>.] - ETA: 0s - loss: 0.0708 - acc: 0.9825\n",
      "Epoch 00221: val_acc did not improve\n",
      "40000/40000 [==============================] - 9s 234us/step - loss: 0.0706 - acc: 0.9825 - val_loss: 0.8116 - val_acc: 0.8679\n",
      "Epoch 222/10000\n",
      "39936/40000 [============================>.] - ETA: 0s - loss: 0.0688 - acc: 0.9836\n",
      "Epoch 00222: val_acc did not improve\n",
      "40000/40000 [==============================] - 13s 334us/step - loss: 0.0690 - acc: 0.9835 - val_loss: 0.8647 - val_acc: 0.8682\n",
      "Epoch 223/10000\n",
      "39872/40000 [============================>.] - ETA: 0s - loss: 0.0724 - acc: 0.9819\n",
      "Epoch 00223: val_acc did not improve\n",
      "40000/40000 [==============================] - 13s 319us/step - loss: 0.0723 - acc: 0.9820 - val_loss: 0.8399 - val_acc: 0.8741\n",
      "Epoch 224/10000\n",
      "39968/40000 [============================>.] - ETA: 0s - loss: 0.0871 - acc: 0.9805\n",
      "Epoch 00224: val_acc did not improve\n",
      "40000/40000 [==============================] - 12s 312us/step - loss: 0.0877 - acc: 0.9804 - val_loss: 0.9334 - val_acc: 0.8597\n",
      "Epoch 225/10000\n",
      "39936/40000 [============================>.] - ETA: 0s - loss: 0.1126 - acc: 0.9725\n",
      "Epoch 00225: val_acc did not improve\n",
      "40000/40000 [==============================] - 14s 343us/step - loss: 0.1126 - acc: 0.9725 - val_loss: 0.8212 - val_acc: 0.8699\n",
      "Epoch 226/10000\n",
      "39968/40000 [============================>.] - ETA: 0s - loss: 0.0953 - acc: 0.9771\n",
      "Epoch 00226: val_acc did not improve\n",
      "40000/40000 [==============================] - 12s 296us/step - loss: 0.0953 - acc: 0.9771 - val_loss: 0.8039 - val_acc: 0.8683\n",
      "Epoch 227/10000\n",
      "39808/40000 [============================>.] - ETA: 0s - loss: 0.1076 - acc: 0.9739\n",
      "Epoch 00227: val_acc did not improve\n",
      "40000/40000 [==============================] - 11s 275us/step - loss: 0.1076 - acc: 0.9739 - val_loss: 0.8615 - val_acc: 0.8555\n",
      "Epoch 228/10000\n",
      "39840/40000 [============================>.] - ETA: 0s - loss: 0.0778 - acc: 0.9794\n",
      "Epoch 00228: val_acc did not improve\n",
      "40000/40000 [==============================] - 9s 234us/step - loss: 0.0778 - acc: 0.9794 - val_loss: 0.7761 - val_acc: 0.8706\n",
      "Epoch 229/10000\n",
      "39968/40000 [============================>.] - ETA: 0s - loss: 0.0914 - acc: 0.9774\n",
      "Epoch 00229: val_acc did not improve\n",
      "40000/40000 [==============================] - 12s 296us/step - loss: 0.0916 - acc: 0.9773 - val_loss: 0.8066 - val_acc: 0.8651\n",
      "Epoch 230/10000\n",
      "39872/40000 [============================>.] - ETA: 0s - loss: 0.0700 - acc: 0.9821\n",
      "Epoch 00230: val_acc did not improve\n",
      "40000/40000 [==============================] - 13s 328us/step - loss: 0.0701 - acc: 0.9821 - val_loss: 0.8623 - val_acc: 0.8672\n",
      "Epoch 231/10000\n",
      "39840/40000 [============================>.] - ETA: 0s - loss: 0.0640 - acc: 0.9840\n",
      "Epoch 00231: val_acc did not improve\n",
      "40000/40000 [==============================] - 12s 305us/step - loss: 0.0639 - acc: 0.9840 - val_loss: 0.8474 - val_acc: 0.8671\n",
      "Epoch 232/10000\n",
      "39968/40000 [============================>.] - ETA: 0s - loss: 0.0695 - acc: 0.9823\n",
      "Epoch 00232: val_acc did not improve\n",
      "40000/40000 [==============================] - 14s 353us/step - loss: 0.0695 - acc: 0.9823 - val_loss: 0.8024 - val_acc: 0.8651\n",
      "Epoch 233/10000\n",
      "39872/40000 [============================>.] - ETA: 0s - loss: 0.0919 - acc: 0.9780\n",
      "Epoch 00233: val_acc did not improve\n",
      "40000/40000 [==============================] - 12s 305us/step - loss: 0.0917 - acc: 0.9781 - val_loss: 0.9082 - val_acc: 0.8604\n",
      "Epoch 234/10000\n",
      "39808/40000 [============================>.] - ETA: 0s - loss: 0.0793 - acc: 0.9795\n",
      "Epoch 00234: val_acc did not improve\n",
      "40000/40000 [==============================] - 14s 342us/step - loss: 0.0790 - acc: 0.9796 - val_loss: 0.8527 - val_acc: 0.8686\n",
      "Epoch 235/10000\n",
      "39968/40000 [============================>.] - ETA: 0s - loss: 0.0690 - acc: 0.9825\n",
      "Epoch 00235: val_acc did not improve\n",
      "40000/40000 [==============================] - 13s 334us/step - loss: 0.0690 - acc: 0.9825 - val_loss: 0.7743 - val_acc: 0.8703\n",
      "Epoch 236/10000\n",
      "39904/40000 [============================>.] - ETA: 0s - loss: 0.0818 - acc: 0.9804\n",
      "Epoch 00236: val_acc did not improve\n",
      "40000/40000 [==============================] - 12s 307us/step - loss: 0.0818 - acc: 0.9804 - val_loss: 0.8587 - val_acc: 0.8653\n"
     ]
    },
    {
     "name": "stdout",
     "output_type": "stream",
     "text": [
      "Epoch 237/10000\n",
      "39840/40000 [============================>.] - ETA: 0s - loss: 0.0657 - acc: 0.9840\n",
      "Epoch 00237: val_acc did not improve\n",
      "40000/40000 [==============================] - 14s 351us/step - loss: 0.0657 - acc: 0.9840 - val_loss: 0.8964 - val_acc: 0.8716\n",
      "Epoch 238/10000\n",
      "39968/40000 [============================>.] - ETA: 0s - loss: 0.0807 - acc: 0.9796\n",
      "Epoch 00238: val_acc did not improve\n",
      "40000/40000 [==============================] - 12s 302us/step - loss: 0.0806 - acc: 0.9796 - val_loss: 0.8077 - val_acc: 0.8746\n",
      "Epoch 239/10000\n",
      "39904/40000 [============================>.] - ETA: 0s - loss: 0.0743 - acc: 0.9823\n",
      "Epoch 00239: val_acc did not improve\n",
      "40000/40000 [==============================] - 14s 345us/step - loss: 0.0746 - acc: 0.9823 - val_loss: 0.8850 - val_acc: 0.8603\n",
      "Epoch 240/10000\n",
      "39872/40000 [============================>.] - ETA: 0s - loss: 0.0669 - acc: 0.9834\n",
      "Epoch 00240: val_acc did not improve\n",
      "40000/40000 [==============================] - 13s 330us/step - loss: 0.0667 - acc: 0.9834 - val_loss: 0.8708 - val_acc: 0.8685\n",
      "Epoch 241/10000\n",
      "39808/40000 [============================>.] - ETA: 0s - loss: 0.0649 - acc: 0.9835\n",
      "Epoch 00241: val_acc did not improve\n",
      "40000/40000 [==============================] - 13s 313us/step - loss: 0.0651 - acc: 0.9834 - val_loss: 0.9211 - val_acc: 0.8692\n",
      "Epoch 242/10000\n",
      "39968/40000 [============================>.] - ETA: 0s - loss: 0.0804 - acc: 0.9807\n",
      "Epoch 00242: val_acc did not improve\n",
      "40000/40000 [==============================] - 14s 346us/step - loss: 0.0804 - acc: 0.9807 - val_loss: 0.8318 - val_acc: 0.8672\n",
      "Epoch 243/10000\n",
      "39904/40000 [============================>.] - ETA: 0s - loss: 0.1006 - acc: 0.9764\n",
      "Epoch 00243: val_acc did not improve\n",
      "40000/40000 [==============================] - 12s 298us/step - loss: 0.1005 - acc: 0.9765 - val_loss: 0.7579 - val_acc: 0.8705\n",
      "Epoch 244/10000\n",
      "39872/40000 [============================>.] - ETA: 0s - loss: 0.0751 - acc: 0.9813\n",
      "Epoch 00244: val_acc did not improve\n",
      "40000/40000 [==============================] - 14s 341us/step - loss: 0.0751 - acc: 0.9813 - val_loss: 0.8168 - val_acc: 0.8718\n",
      "Epoch 245/10000\n",
      "39872/40000 [============================>.] - ETA: 0s - loss: 0.0683 - acc: 0.9820\n",
      "Epoch 00245: val_acc did not improve\n",
      "40000/40000 [==============================] - 14s 341us/step - loss: 0.0689 - acc: 0.9819 - val_loss: 0.8005 - val_acc: 0.8652\n",
      "Epoch 246/10000\n",
      "39840/40000 [============================>.] - ETA: 0s - loss: 0.0746 - acc: 0.9814\n",
      "Epoch 00246: val_acc did not improve\n",
      "40000/40000 [==============================] - 11s 267us/step - loss: 0.0748 - acc: 0.9813 - val_loss: 0.8375 - val_acc: 0.8673\n",
      "Epoch 247/10000\n",
      "39840/40000 [============================>.] - ETA: 0s - loss: 0.0567 - acc: 0.9849\n",
      "Epoch 00247: val_acc did not improve\n",
      "40000/40000 [==============================] - 11s 263us/step - loss: 0.0567 - acc: 0.9849 - val_loss: 0.8533 - val_acc: 0.8641\n",
      "Epoch 248/10000\n",
      "39808/40000 [============================>.] - ETA: 0s - loss: 0.0778 - acc: 0.9814\n",
      "Epoch 00248: val_acc did not improve\n",
      "40000/40000 [==============================] - 9s 235us/step - loss: 0.0776 - acc: 0.9815 - val_loss: 0.7541 - val_acc: 0.8725\n",
      "Epoch 249/10000\n",
      "39840/40000 [============================>.] - ETA: 0s - loss: 0.0675 - acc: 0.9830\n",
      "Epoch 00249: val_acc did not improve\n",
      "40000/40000 [==============================] - 11s 277us/step - loss: 0.0673 - acc: 0.9831 - val_loss: 0.8428 - val_acc: 0.8697\n",
      "Epoch 250/10000\n",
      "39904/40000 [============================>.] - ETA: 0s - loss: 0.0695 - acc: 0.9826\n",
      "Epoch 00250: val_acc did not improve\n",
      "40000/40000 [==============================] - 9s 218us/step - loss: 0.0697 - acc: 0.9825 - val_loss: 0.8156 - val_acc: 0.8638\n",
      "Epoch 251/10000\n",
      "39776/40000 [============================>.] - ETA: 0s - loss: 0.0782 - acc: 0.9813\n",
      "Epoch 00251: val_acc did not improve\n",
      "40000/40000 [==============================] - 12s 296us/step - loss: 0.0780 - acc: 0.9814 - val_loss: 0.8245 - val_acc: 0.8743\n",
      "Epoch 252/10000\n",
      "39872/40000 [============================>.] - ETA: 0s - loss: 0.1054 - acc: 0.9747\n",
      "Epoch 00252: val_acc did not improve\n",
      "40000/40000 [==============================] - 9s 227us/step - loss: 0.1052 - acc: 0.9747 - val_loss: 0.7840 - val_acc: 0.8702\n",
      "Epoch 253/10000\n",
      "39968/40000 [============================>.] - ETA: 0s - loss: 0.0628 - acc: 0.9834\n",
      "Epoch 00253: val_acc did not improve\n",
      "40000/40000 [==============================] - 11s 277us/step - loss: 0.0628 - acc: 0.9834 - val_loss: 0.8654 - val_acc: 0.8679\n",
      "Epoch 254/10000\n",
      "39872/40000 [============================>.] - ETA: 0s - loss: 0.1247 - acc: 0.9717\n",
      "Epoch 00254: val_acc did not improve\n",
      "40000/40000 [==============================] - 10s 241us/step - loss: 0.1249 - acc: 0.9717 - val_loss: 0.8395 - val_acc: 0.8447\n",
      "Epoch 255/10000\n",
      "39968/40000 [============================>.] - ETA: 0s - loss: 0.1373 - acc: 0.9662\n",
      "Epoch 00255: val_acc did not improve\n",
      "40000/40000 [==============================] - 11s 266us/step - loss: 0.1373 - acc: 0.9662 - val_loss: 0.8027 - val_acc: 0.8650\n",
      "Epoch 256/10000\n",
      "39904/40000 [============================>.] - ETA: 0s - loss: 0.0730 - acc: 0.9823\n",
      "Epoch 00256: val_acc did not improve\n",
      "40000/40000 [==============================] - 10s 255us/step - loss: 0.0729 - acc: 0.9824 - val_loss: 0.8781 - val_acc: 0.8661\n",
      "Epoch 257/10000\n",
      "39872/40000 [============================>.] - ETA: 0s - loss: 0.0763 - acc: 0.9823\n",
      "Epoch 00257: val_acc did not improve\n",
      "40000/40000 [==============================] - 10s 240us/step - loss: 0.0762 - acc: 0.9823 - val_loss: 0.9205 - val_acc: 0.8615\n",
      "Epoch 258/10000\n",
      "39968/40000 [============================>.] - ETA: 0s - loss: 0.0699 - acc: 0.9825\n",
      "Epoch 00258: val_acc did not improve\n",
      "40000/40000 [==============================] - 11s 282us/step - loss: 0.0698 - acc: 0.9825 - val_loss: 0.8037 - val_acc: 0.8670\n",
      "Epoch 259/10000\n",
      "39936/40000 [============================>.] - ETA: 0s - loss: 0.0727 - acc: 0.9813\n",
      "Epoch 00259: val_acc did not improve\n",
      "40000/40000 [==============================] - 10s 240us/step - loss: 0.0727 - acc: 0.9813 - val_loss: 0.8596 - val_acc: 0.8702\n",
      "Epoch 260/10000\n",
      "39808/40000 [============================>.] - ETA: 0s - loss: 0.0584 - acc: 0.9851\n",
      "Epoch 00260: val_acc did not improve\n",
      "40000/40000 [==============================] - 12s 290us/step - loss: 0.0583 - acc: 0.9851 - val_loss: 0.8409 - val_acc: 0.8727\n",
      "Epoch 261/10000\n",
      "39936/40000 [============================>.] - ETA: 0s - loss: 0.0649 - acc: 0.9841\n",
      "Epoch 00261: val_acc did not improve\n",
      "40000/40000 [==============================] - 9s 234us/step - loss: 0.0649 - acc: 0.9841 - val_loss: 0.8280 - val_acc: 0.8647\n",
      "Epoch 262/10000\n",
      "39872/40000 [============================>.] - ETA: 0s - loss: 0.0699 - acc: 0.9826\n",
      "Epoch 00262: val_acc did not improve\n",
      "40000/40000 [==============================] - 12s 296us/step - loss: 0.0700 - acc: 0.9826 - val_loss: 0.9602 - val_acc: 0.8574\n",
      "Epoch 263/10000\n",
      "39840/40000 [============================>.] - ETA: 0s - loss: 0.0755 - acc: 0.9819\n",
      "Epoch 00263: val_acc did not improve\n",
      "40000/40000 [==============================] - 11s 267us/step - loss: 0.0753 - acc: 0.9820 - val_loss: 0.8399 - val_acc: 0.8664\n",
      "Epoch 264/10000\n",
      "39936/40000 [============================>.] - ETA: 0s - loss: 0.0881 - acc: 0.9793\n",
      "Epoch 00264: val_acc did not improve\n",
      "40000/40000 [==============================] - 11s 277us/step - loss: 0.0880 - acc: 0.9793 - val_loss: 0.8529 - val_acc: 0.8683\n",
      "Epoch 265/10000\n",
      " 1056/40000 [..............................] - ETA: 8s - loss: 0.0969 - acc: 0.9763"
     ]
    },
    {
     "ename": "KeyboardInterrupt",
     "evalue": "",
     "output_type": "error",
     "traceback": [
      "\u001b[0;31m---------------------------------------------------------------------------\u001b[0m",
      "\u001b[0;31mKeyboardInterrupt\u001b[0m                         Traceback (most recent call last)",
      "\u001b[0;32m<ipython-input-15-7a2247ca6e17>\u001b[0m in \u001b[0;36m<module>\u001b[0;34m()\u001b[0m\n\u001b[1;32m     15\u001b[0m \u001b[0;34m\u001b[0m\u001b[0m\n\u001b[1;32m     16\u001b[0m model.fit(X_train, Y_train, verbose=1,callbacks=callbacks_list,epochs=nb_epoch,\n\u001b[0;32m---> 17\u001b[0;31m                   validation_data=(X_valid,Y_valid))\n\u001b[0m",
      "\u001b[0;32m/home/an80020/anaconda2/envs/tensorflow/lib/python2.7/site-packages/keras/engine/training.pyc\u001b[0m in \u001b[0;36mfit\u001b[0;34m(self, x, y, batch_size, epochs, verbose, callbacks, validation_split, validation_data, shuffle, class_weight, sample_weight, initial_epoch, steps_per_epoch, validation_steps, **kwargs)\u001b[0m\n\u001b[1;32m   1667\u001b[0m                               \u001b[0minitial_epoch\u001b[0m\u001b[0;34m=\u001b[0m\u001b[0minitial_epoch\u001b[0m\u001b[0;34m,\u001b[0m\u001b[0;34m\u001b[0m\u001b[0m\n\u001b[1;32m   1668\u001b[0m                               \u001b[0msteps_per_epoch\u001b[0m\u001b[0;34m=\u001b[0m\u001b[0msteps_per_epoch\u001b[0m\u001b[0;34m,\u001b[0m\u001b[0;34m\u001b[0m\u001b[0m\n\u001b[0;32m-> 1669\u001b[0;31m                               validation_steps=validation_steps)\n\u001b[0m\u001b[1;32m   1670\u001b[0m \u001b[0;34m\u001b[0m\u001b[0m\n\u001b[1;32m   1671\u001b[0m     def evaluate(self, x=None, y=None,\n",
      "\u001b[0;32m/home/an80020/anaconda2/envs/tensorflow/lib/python2.7/site-packages/keras/engine/training.pyc\u001b[0m in \u001b[0;36m_fit_loop\u001b[0;34m(self, f, ins, out_labels, batch_size, epochs, verbose, callbacks, val_f, val_ins, shuffle, callback_metrics, initial_epoch, steps_per_epoch, validation_steps)\u001b[0m\n\u001b[1;32m   1204\u001b[0m                         \u001b[0mins_batch\u001b[0m\u001b[0;34m[\u001b[0m\u001b[0mi\u001b[0m\u001b[0;34m]\u001b[0m \u001b[0;34m=\u001b[0m \u001b[0mins_batch\u001b[0m\u001b[0;34m[\u001b[0m\u001b[0mi\u001b[0m\u001b[0;34m]\u001b[0m\u001b[0;34m.\u001b[0m\u001b[0mtoarray\u001b[0m\u001b[0;34m(\u001b[0m\u001b[0;34m)\u001b[0m\u001b[0;34m\u001b[0m\u001b[0m\n\u001b[1;32m   1205\u001b[0m \u001b[0;34m\u001b[0m\u001b[0m\n\u001b[0;32m-> 1206\u001b[0;31m                     \u001b[0mouts\u001b[0m \u001b[0;34m=\u001b[0m \u001b[0mf\u001b[0m\u001b[0;34m(\u001b[0m\u001b[0mins_batch\u001b[0m\u001b[0;34m)\u001b[0m\u001b[0;34m\u001b[0m\u001b[0m\n\u001b[0m\u001b[1;32m   1207\u001b[0m                     \u001b[0;32mif\u001b[0m \u001b[0;32mnot\u001b[0m \u001b[0misinstance\u001b[0m\u001b[0;34m(\u001b[0m\u001b[0mouts\u001b[0m\u001b[0;34m,\u001b[0m \u001b[0mlist\u001b[0m\u001b[0;34m)\u001b[0m\u001b[0;34m:\u001b[0m\u001b[0;34m\u001b[0m\u001b[0m\n\u001b[1;32m   1208\u001b[0m                         \u001b[0mouts\u001b[0m \u001b[0;34m=\u001b[0m \u001b[0;34m[\u001b[0m\u001b[0mouts\u001b[0m\u001b[0;34m]\u001b[0m\u001b[0;34m\u001b[0m\u001b[0m\n",
      "\u001b[0;32m/home/an80020/anaconda2/envs/tensorflow/lib/python2.7/site-packages/keras/backend/tensorflow_backend.pyc\u001b[0m in \u001b[0;36m__call__\u001b[0;34m(self, inputs)\u001b[0m\n\u001b[1;32m   2473\u001b[0m         \u001b[0msession\u001b[0m \u001b[0;34m=\u001b[0m \u001b[0mget_session\u001b[0m\u001b[0;34m(\u001b[0m\u001b[0;34m)\u001b[0m\u001b[0;34m\u001b[0m\u001b[0m\n\u001b[1;32m   2474\u001b[0m         updated = session.run(fetches=fetches, feed_dict=feed_dict,\n\u001b[0;32m-> 2475\u001b[0;31m                               **self.session_kwargs)\n\u001b[0m\u001b[1;32m   2476\u001b[0m         \u001b[0;32mreturn\u001b[0m \u001b[0mupdated\u001b[0m\u001b[0;34m[\u001b[0m\u001b[0;34m:\u001b[0m\u001b[0mlen\u001b[0m\u001b[0;34m(\u001b[0m\u001b[0mself\u001b[0m\u001b[0;34m.\u001b[0m\u001b[0moutputs\u001b[0m\u001b[0;34m)\u001b[0m\u001b[0;34m]\u001b[0m\u001b[0;34m\u001b[0m\u001b[0m\n\u001b[1;32m   2477\u001b[0m \u001b[0;34m\u001b[0m\u001b[0m\n",
      "\u001b[0;32m/home/an80020/anaconda2/envs/tensorflow/lib/python2.7/site-packages/tensorflow/python/client/session.pyc\u001b[0m in \u001b[0;36mrun\u001b[0;34m(self, fetches, feed_dict, options, run_metadata)\u001b[0m\n\u001b[1;32m    887\u001b[0m     \u001b[0;32mtry\u001b[0m\u001b[0;34m:\u001b[0m\u001b[0;34m\u001b[0m\u001b[0m\n\u001b[1;32m    888\u001b[0m       result = self._run(None, fetches, feed_dict, options_ptr,\n\u001b[0;32m--> 889\u001b[0;31m                          run_metadata_ptr)\n\u001b[0m\u001b[1;32m    890\u001b[0m       \u001b[0;32mif\u001b[0m \u001b[0mrun_metadata\u001b[0m\u001b[0;34m:\u001b[0m\u001b[0;34m\u001b[0m\u001b[0m\n\u001b[1;32m    891\u001b[0m         \u001b[0mproto_data\u001b[0m \u001b[0;34m=\u001b[0m \u001b[0mtf_session\u001b[0m\u001b[0;34m.\u001b[0m\u001b[0mTF_GetBuffer\u001b[0m\u001b[0;34m(\u001b[0m\u001b[0mrun_metadata_ptr\u001b[0m\u001b[0;34m)\u001b[0m\u001b[0;34m\u001b[0m\u001b[0m\n",
      "\u001b[0;32m/home/an80020/anaconda2/envs/tensorflow/lib/python2.7/site-packages/tensorflow/python/client/session.pyc\u001b[0m in \u001b[0;36m_run\u001b[0;34m(self, handle, fetches, feed_dict, options, run_metadata)\u001b[0m\n\u001b[1;32m   1059\u001b[0m       \u001b[0mfeed_dict\u001b[0m \u001b[0;34m=\u001b[0m \u001b[0mnest\u001b[0m\u001b[0;34m.\u001b[0m\u001b[0mflatten_dict_items\u001b[0m\u001b[0;34m(\u001b[0m\u001b[0mfeed_dict\u001b[0m\u001b[0;34m)\u001b[0m\u001b[0;34m\u001b[0m\u001b[0m\n\u001b[1;32m   1060\u001b[0m       \u001b[0;32mfor\u001b[0m \u001b[0mfeed\u001b[0m\u001b[0;34m,\u001b[0m \u001b[0mfeed_val\u001b[0m \u001b[0;32min\u001b[0m \u001b[0mfeed_dict\u001b[0m\u001b[0;34m.\u001b[0m\u001b[0mitems\u001b[0m\u001b[0;34m(\u001b[0m\u001b[0;34m)\u001b[0m\u001b[0;34m:\u001b[0m\u001b[0;34m\u001b[0m\u001b[0m\n\u001b[0;32m-> 1061\u001b[0;31m         \u001b[0;32mfor\u001b[0m \u001b[0msubfeed\u001b[0m\u001b[0;34m,\u001b[0m \u001b[0msubfeed_val\u001b[0m \u001b[0;32min\u001b[0m \u001b[0m_feed_fn\u001b[0m\u001b[0;34m(\u001b[0m\u001b[0mfeed\u001b[0m\u001b[0;34m,\u001b[0m \u001b[0mfeed_val\u001b[0m\u001b[0;34m)\u001b[0m\u001b[0;34m:\u001b[0m\u001b[0;34m\u001b[0m\u001b[0m\n\u001b[0m\u001b[1;32m   1062\u001b[0m           \u001b[0;32mtry\u001b[0m\u001b[0;34m:\u001b[0m\u001b[0;34m\u001b[0m\u001b[0m\n\u001b[1;32m   1063\u001b[0m             subfeed_t = self.graph.as_graph_element(subfeed, allow_tensor=True,\n",
      "\u001b[0;32m/home/an80020/anaconda2/envs/tensorflow/lib/python2.7/site-packages/tensorflow/python/client/session.pyc\u001b[0m in \u001b[0;36m_feed_fn\u001b[0;34m(feed, feed_val)\u001b[0m\n\u001b[1;32m   1039\u001b[0m       \u001b[0;32mfor\u001b[0m \u001b[0mtensor_type\u001b[0m\u001b[0;34m,\u001b[0m \u001b[0m_\u001b[0m\u001b[0;34m,\u001b[0m \u001b[0mfeed_fn\u001b[0m\u001b[0;34m,\u001b[0m \u001b[0m_\u001b[0m \u001b[0;32min\u001b[0m \u001b[0m_REGISTERED_EXPANSIONS\u001b[0m\u001b[0;34m:\u001b[0m\u001b[0;34m\u001b[0m\u001b[0m\n\u001b[1;32m   1040\u001b[0m         \u001b[0;32mif\u001b[0m \u001b[0misinstance\u001b[0m\u001b[0;34m(\u001b[0m\u001b[0mfeed\u001b[0m\u001b[0;34m,\u001b[0m \u001b[0mtensor_type\u001b[0m\u001b[0;34m)\u001b[0m\u001b[0;34m:\u001b[0m\u001b[0;34m\u001b[0m\u001b[0m\n\u001b[0;32m-> 1041\u001b[0;31m           \u001b[0;32mreturn\u001b[0m \u001b[0mfeed_fn\u001b[0m\u001b[0;34m(\u001b[0m\u001b[0mfeed\u001b[0m\u001b[0;34m,\u001b[0m \u001b[0mfeed_val\u001b[0m\u001b[0;34m)\u001b[0m\u001b[0;34m\u001b[0m\u001b[0m\n\u001b[0m\u001b[1;32m   1042\u001b[0m       raise TypeError('Feed argument %r has invalid type %r'\n\u001b[1;32m   1043\u001b[0m                       % (feed, type(feed)))\n",
      "\u001b[0;32m/home/an80020/anaconda2/envs/tensorflow/lib/python2.7/site-packages/tensorflow/python/client/session.pyc\u001b[0m in \u001b[0;36m<lambda>\u001b[0;34m(feed, feed_val)\u001b[0m\n\u001b[1;32m    123\u001b[0m     (object,\n\u001b[1;32m    124\u001b[0m      \u001b[0;32mlambda\u001b[0m \u001b[0mfetch\u001b[0m\u001b[0;34m:\u001b[0m \u001b[0;34m(\u001b[0m\u001b[0;34m[\u001b[0m\u001b[0mfetch\u001b[0m\u001b[0;34m]\u001b[0m\u001b[0;34m,\u001b[0m \u001b[0;32mlambda\u001b[0m \u001b[0mfetched_vals\u001b[0m\u001b[0;34m:\u001b[0m \u001b[0mfetched_vals\u001b[0m\u001b[0;34m[\u001b[0m\u001b[0;36m0\u001b[0m\u001b[0;34m]\u001b[0m\u001b[0;34m)\u001b[0m\u001b[0;34m,\u001b[0m\u001b[0;34m\u001b[0m\u001b[0m\n\u001b[0;32m--> 125\u001b[0;31m      \u001b[0;32mlambda\u001b[0m \u001b[0mfeed\u001b[0m\u001b[0;34m,\u001b[0m \u001b[0mfeed_val\u001b[0m\u001b[0;34m:\u001b[0m \u001b[0;34m[\u001b[0m\u001b[0;34m(\u001b[0m\u001b[0mfeed\u001b[0m\u001b[0;34m,\u001b[0m \u001b[0mfeed_val\u001b[0m\u001b[0;34m)\u001b[0m\u001b[0;34m]\u001b[0m\u001b[0;34m,\u001b[0m\u001b[0;34m\u001b[0m\u001b[0m\n\u001b[0m\u001b[1;32m    126\u001b[0m      lambda feed: [feed])]\n\u001b[1;32m    127\u001b[0m \u001b[0;31m# pylint: enable=g-long-lambda\u001b[0m\u001b[0;34m\u001b[0m\u001b[0;34m\u001b[0m\u001b[0m\n",
      "\u001b[0;31mKeyboardInterrupt\u001b[0m: "
     ]
    }
   ],
   "source": [
    "from keras.preprocessing.image import ImageDataGenerator\n",
    "#(x_train, y_train), (x_test, y_test) = cifar10.load_data()\n",
    "#y_train = np_utils.to_categorical(y_train, num_classes)\n",
    "#y_test = np_utils.to_categorical(y_test, num_classes)\n",
    "\n",
    "model=model_generator()\n",
    "print model.summary()\n",
    "\n",
    "#checkpoints \n",
    "str1=\"weights.best4.hdf5\" \n",
    "filepath=str1\n",
    "print(filepath)\n",
    "checkpoint = ModelCheckpoint(filepath, monitor='val_acc', verbose=1, save_best_only=True, mode='max') \n",
    "callbacks_list = [checkpoint]\n",
    "\n",
    "model.fit(X_train, Y_train, verbose=1,callbacks=callbacks_list,epochs=nb_epoch,\n",
    "                  validation_data=(X_valid,Y_valid))"
   ]
  },
  {
   "cell_type": "code",
   "execution_count": null,
   "metadata": {},
   "outputs": [],
   "source": [
    "# Test on Test set\n",
    "#re-generating the model \n",
    "model=model_generator()\n",
    "\n",
    "#loading the best weights for this fold \n",
    "model.load_weights(filepath)\n"
   ]
  },
  {
   "cell_type": "code",
   "execution_count": 65,
   "metadata": {},
   "outputs": [],
   "source": [
    "reader_feature = csv.reader(open('test_x.csv'))\n",
    "i=0\n",
    "test_feat=[]\n",
    "for row in reader_feature:\n",
    "    test_feat.append(row)\n",
    "    i=i+1"
   ]
  },
  {
   "cell_type": "code",
   "execution_count": 66,
   "metadata": {},
   "outputs": [],
   "source": [
    "from sklearn.metrics import classification_report\n",
    "test_feat=np.asarray(test_feat)\n",
    "#X_test = test_feat.astype('float32') / 255.0\n",
    "X_test=test_feat.astype('float32')\n",
    "X2= X_test.reshape(-1, 64, 64, 1)"
   ]
  },
  {
   "cell_type": "code",
   "execution_count": 70,
   "metadata": {},
   "outputs": [
    {
     "data": {
      "text/plain": [
       "array([174., 163., 162., ..., 120., 117.,  62.], dtype=float32)"
      ]
     },
     "execution_count": 70,
     "metadata": {},
     "output_type": "execute_result"
    }
   ],
   "source": [
    "X_test[0]"
   ]
  },
  {
   "cell_type": "code",
   "execution_count": 84,
   "metadata": {},
   "outputs": [
    {
     "data": {
      "text/plain": [
       "<matplotlib.image.AxesImage at 0x7f58e1eb66d0>"
      ]
     },
     "execution_count": 84,
     "metadata": {},
     "output_type": "execute_result"
    },
    {
     "data": {
      "image/png": "[encoded data removed]",
      "text/plain": [
       "<matplotlib.figure.Figure at 0x7f58e373e190>"
      ]
     },
     "metadata": {},
     "output_type": "display_data"
    }
   ],
   "source": [
    "plt.imshow(img.reshape(64,64), cmap='Greys_r')"
   ]
  },
  {
   "cell_type": "code",
   "execution_count": 87,
   "metadata": {},
   "outputs": [
    {
     "data": {
      "text/plain": [
       "240.0"
      ]
     },
     "execution_count": 87,
     "metadata": {},
     "output_type": "execute_result"
    }
   ],
   "source": [
    "img[img!=0].min()"
   ]
  },
  {
   "cell_type": "code",
   "execution_count": 92,
   "metadata": {
    "scrolled": true
   },
   "outputs": [
    {
     "name": "stdout",
     "output_type": "stream",
     "text": [
      "(10000, 10)\n"
     ]
    },
    {
     "data": {
      "image/png": "[encoded data removed]",
      "text/plain": [
       "<matplotlib.figure.Figure at 0x7f58e2a56410>"
      ]
     },
     "metadata": {},
     "output_type": "display_data"
    },
    {
     "name": "stdout",
     "output_type": "stream",
     "text": [
      "7\n"
     ]
    },
    {
     "data": {
      "image/png": "[encoded data removed]",
      "text/plain": [
       "<matplotlib.figure.Figure at 0x7f58e2aa3cd0>"
      ]
     },
     "metadata": {},
     "output_type": "display_data"
    },
    {
     "name": "stdout",
     "output_type": "stream",
     "text": [
      "2\n"
     ]
    },
    {
     "data": {
      "image/png": "[encoded data removed]",
      "text/plain": [
       "<matplotlib.figure.Figure at 0x7f58e28a8f90>"
      ]
     },
     "metadata": {},
     "output_type": "display_data"
    },
    {
     "name": "stdout",
     "output_type": "stream",
     "text": [
      "0\n"
     ]
    },
    {
     "data": {
      "image/png": "[encoded data removed]",
      "text/plain": [
       "<matplotlib.figure.Figure at 0x7f58e278c6d0>"
      ]
     },
     "metadata": {},
     "output_type": "display_data"
    },
    {
     "name": "stdout",
     "output_type": "stream",
     "text": [
      "7\n"
     ]
    },
    {
     "data": {
      "image/png": "[encoded data removed]",
      "text/plain": [
       "<matplotlib.figure.Figure at 0x7f58e2663350>"
      ]
     },
     "metadata": {},
     "output_type": "display_data"
    },
    {
     "name": "stdout",
     "output_type": "stream",
     "text": [
      "6\n"
     ]
    },
    {
     "data": {
      "image/png": "[encoded data removed]",
      "text/plain": [
       "<matplotlib.figure.Figure at 0x7f58e257c150>"
      ]
     },
     "metadata": {},
     "output_type": "display_data"
    },
    {
     "name": "stdout",
     "output_type": "stream",
     "text": [
      "1\n"
     ]
    },
    {
     "data": {
      "image/png": "[encoded data removed]",
      "text/plain": [
       "<matplotlib.figure.Figure at 0x7f58e2657890>"
      ]
     },
     "metadata": {},
     "output_type": "display_data"
    },
    {
     "name": "stdout",
     "output_type": "stream",
     "text": [
      "9\n"
     ]
    },
    {
     "data": {
      "image/png": "[encoded data removed]",
      "text/plain": [
       "<matplotlib.figure.Figure at 0x7f58e247f710>"
      ]
     },
     "metadata": {},
     "output_type": "display_data"
    },
    {
     "name": "stdout",
     "output_type": "stream",
     "text": [
      "3\n"
     ]
    },
    {
     "data": {
      "image/png": "[encoded data removed]",
      "text/plain": [
       "<matplotlib.figure.Figure at 0x7f58e2500cd0>"
      ]
     },
     "metadata": {},
     "output_type": "display_data"
    },
    {
     "name": "stdout",
     "output_type": "stream",
     "text": [
      "8\n"
     ]
    },
    {
     "data": {
      "image/png": "[encoded data removed]",
      "text/plain": [
       "<matplotlib.figure.Figure at 0x7f58e21e3c50>"
      ]
     },
     "metadata": {},
     "output_type": "display_data"
    },
    {
     "name": "stdout",
     "output_type": "stream",
     "text": [
      "1\n"
     ]
    },
    {
     "data": {
      "image/png": "[encoded data removed]",
      "text/plain": [
       "<matplotlib.figure.Figure at 0x7f58e1bfb290>"
      ]
     },
     "metadata": {},
     "output_type": "display_data"
    },
    {
     "name": "stdout",
     "output_type": "stream",
     "text": [
      "9\n"
     ]
    },
    {
     "data": {
      "image/png": "[encoded data removed]",
      "text/plain": [
       "<matplotlib.figure.Figure at 0x7f58e1bf5110>"
      ]
     },
     "metadata": {},
     "output_type": "display_data"
    },
    {
     "name": "stdout",
     "output_type": "stream",
     "text": [
      "7\n"
     ]
    },
    {
     "data": {
      "image/png": "[encoded data removed]",
      "text/plain": [
       "<matplotlib.figure.Figure at 0x7f58e1b6e050>"
      ]
     },
     "metadata": {},
     "output_type": "display_data"
    },
    {
     "name": "stdout",
     "output_type": "stream",
     "text": [
      "1\n"
     ]
    },
    {
     "data": {
      "image/png": "[encoded data removed]",
      "text/plain": [
       "<matplotlib.figure.Figure at 0x7f58e1b244d0>"
      ]
     },
     "metadata": {},
     "output_type": "display_data"
    },
    {
     "name": "stdout",
     "output_type": "stream",
     "text": [
      "1\n"
     ]
    },
    {
     "data": {
      "image/png": "[encoded data removed]",
      "text/plain": [
       "<matplotlib.figure.Figure at 0x7f58e1bec690>"
      ]
     },
     "metadata": {},
     "output_type": "display_data"
    },
    {
     "name": "stdout",
     "output_type": "stream",
     "text": [
      "0\n"
     ]
    },
    {
     "data": {
      "image/png": "[encoded data removed]",
      "text/plain": [
       "<matplotlib.figure.Figure at 0x7f58e19e2310>"
      ]
     },
     "metadata": {},
     "output_type": "display_data"
    },
    {
     "name": "stdout",
     "output_type": "stream",
     "text": [
      "8\n"
     ]
    },
    {
     "data": {
      "image/png": "[encoded data removed]",
      "text/plain": [
       "<matplotlib.figure.Figure at 0x7f58e1860050>"
      ]
     },
     "metadata": {},
     "output_type": "display_data"
    },
    {
     "name": "stdout",
     "output_type": "stream",
     "text": [
      "2\n"
     ]
    },
    {
     "data": {
      "image/png": "[encoded data removed]",
      "text/plain": [
       "<matplotlib.figure.Figure at 0x7f58e1817250>"
      ]
     },
     "metadata": {},
     "output_type": "display_data"
    },
    {
     "name": "stdout",
     "output_type": "stream",
     "text": [
      "0\n"
     ]
    },
    {
     "data": {
      "image/png": "[encoded data removed]",
      "text/plain": [
       "<matplotlib.figure.Figure at 0x7f58e18553d0>"
      ]
     },
     "metadata": {},
     "output_type": "display_data"
    },
    {
     "name": "stdout",
     "output_type": "stream",
     "text": [
      "0\n"
     ]
    },
    {
     "data": {
      "image/png": "[encoded data removed]",
      "text/plain": [
       "<matplotlib.figure.Figure at 0x7f58e12d8b10>"
      ]
     },
     "metadata": {},
     "output_type": "display_data"
    },
    {
     "name": "stdout",
     "output_type": "stream",
     "text": [
      "7\n"
     ]
    },
    {
     "data": {
      "image/png": "[encoded data removed]",
      "text/plain": [
       "<matplotlib.figure.Figure at 0x7f58e1233310>"
      ]
     },
     "metadata": {},
     "output_type": "display_data"
    },
    {
     "name": "stdout",
     "output_type": "stream",
     "text": [
      "3\n"
     ]
    },
    {
     "data": {
      "image/png": "[encoded data removed]",
      "text/plain": [
       "<matplotlib.figure.Figure at 0x7f58e17d3b10>"
      ]
     },
     "metadata": {},
     "output_type": "display_data"
    },
    {
     "name": "stdout",
     "output_type": "stream",
     "text": [
      "0\n"
     ]
    },
    {
     "data": {
      "image/png": "[encoded data removed]",
      "text/plain": [
       "<matplotlib.figure.Figure at 0x7f58e1077850>"
      ]
     },
     "metadata": {},
     "output_type": "display_data"
    },
    {
     "name": "stdout",
     "output_type": "stream",
     "text": [
      "6\n"
     ]
    },
    {
     "data": {
      "image/png": "[encoded data removed]",
      "text/plain": [
       "<matplotlib.figure.Figure at 0x7f58e0929210>"
      ]
     },
     "metadata": {},
     "output_type": "display_data"
    },
    {
     "name": "stdout",
     "output_type": "stream",
     "text": [
      "1\n"
     ]
    },
    {
     "data": {
      "image/png": "[encoded data removed]",
      "text/plain": [
       "<matplotlib.figure.Figure at 0x7f58e0eb1590>"
      ]
     },
     "metadata": {},
     "output_type": "display_data"
    },
    {
     "name": "stdout",
     "output_type": "stream",
     "text": [
      "8\n"
     ]
    },
    {
     "data": {
      "image/png": "[encoded data removed]",
      "text/plain": [
       "<matplotlib.figure.Figure at 0x7f58e112fbd0>"
      ]
     },
     "metadata": {},
     "output_type": "display_data"
    },
    {
     "name": "stdout",
     "output_type": "stream",
     "text": [
      "0\n"
     ]
    },
    {
     "data": {
      "image/png": "[encoded data removed]",
      "text/plain": [
       "<matplotlib.figure.Figure at 0x7f58e2a56fd0>"
      ]
     },
     "metadata": {},
     "output_type": "display_data"
    },
    {
     "name": "stdout",
     "output_type": "stream",
     "text": [
      "2\n"
     ]
    },
    {
     "data": {
      "image/png": "[encoded data removed]",
      "text/plain": [
       "<matplotlib.figure.Figure at 0x7f58e4c5a950>"
      ]
     },
     "metadata": {},
     "output_type": "display_data"
    },
    {
     "name": "stdout",
     "output_type": "stream",
     "text": [
      "8\n"
     ]
    },
    {
     "data": {
      "image/png": "[encoded data removed]",
      "text/plain": [
       "<matplotlib.figure.Figure at 0x7f58fc834510>"
      ]
     },
     "metadata": {},
     "output_type": "display_data"
    },
    {
     "name": "stdout",
     "output_type": "stream",
     "text": [
      "2\n"
     ]
    },
    {
     "data": {
      "image/png": "[encoded data removed]",
      "text/plain": [
       "<matplotlib.figure.Figure at 0x7f58e4c74190>"
      ]
     },
     "metadata": {},
     "output_type": "display_data"
    },
    {
     "name": "stdout",
     "output_type": "stream",
     "text": [
      "0\n"
     ]
    },
    {
     "data": {
      "image/png": "[encoded data removed]",
      "text/plain": [
       "<matplotlib.figure.Figure at 0x7f58e4e6d190>"
      ]
     },
     "metadata": {},
     "output_type": "display_data"
    },
    {
     "name": "stdout",
     "output_type": "stream",
     "text": [
      "1\n"
     ]
    },
    {
     "data": {
      "image/png": "[encoded data removed]",
      "text/plain": [
       "<matplotlib.figure.Figure at 0x7f58fc93c410>"
      ]
     },
     "metadata": {},
     "output_type": "display_data"
    },
    {
     "name": "stdout",
     "output_type": "stream",
     "text": [
      "8\n"
     ]
    },
    {
     "data": {
      "image/png": "[encoded data removed]",
      "text/plain": [
       "<matplotlib.figure.Figure at 0x7f58f6950450>"
      ]
     },
     "metadata": {},
     "output_type": "display_data"
    },
    {
     "name": "stdout",
     "output_type": "stream",
     "text": [
      "7\n"
     ]
    },
    {
     "data": {
      "image/png": "[encoded data removed]",
      "text/plain": [
       "<matplotlib.figure.Figure at 0x7f58e37747d0>"
      ]
     },
     "metadata": {},
     "output_type": "display_data"
    },
    {
     "name": "stdout",
     "output_type": "stream",
     "text": [
      "2\n"
     ]
    },
    {
     "data": {
      "image/png": "[encoded data removed]",
      "text/plain": [
       "<matplotlib.figure.Figure at 0x7f58e4f21c90>"
      ]
     },
     "metadata": {},
     "output_type": "display_data"
    },
    {
     "name": "stdout",
     "output_type": "stream",
     "text": [
      "1\n"
     ]
    },
    {
     "data": {
      "image/png": "[encoded data removed]",
      "text/plain": [
       "<matplotlib.figure.Figure at 0x7f58e1ec5f90>"
      ]
     },
     "metadata": {},
     "output_type": "display_data"
    },
    {
     "name": "stdout",
     "output_type": "stream",
     "text": [
      "6\n"
     ]
    },
    {
     "data": {
      "image/png": "[encoded data removed]",
      "text/plain": [
       "<matplotlib.figure.Figure at 0x7f58e1e69610>"
      ]
     },
     "metadata": {},
     "output_type": "display_data"
    },
    {
     "name": "stdout",
     "output_type": "stream",
     "text": [
      "0\n"
     ]
    },
    {
     "data": {
      "image/png": "[encoded data removed]",
      "text/plain": [
       "<matplotlib.figure.Figure at 0x7f58e63b8250>"
      ]
     },
     "metadata": {},
     "output_type": "display_data"
    },
    {
     "name": "stdout",
     "output_type": "stream",
     "text": [
      "1\n"
     ]
    },
    {
     "data": {
      "image/png": "[encoded data removed]",
      "text/plain": [
       "<matplotlib.figure.Figure at 0x7f58e4d56390>"
      ]
     },
     "metadata": {},
     "output_type": "display_data"
    },
    {
     "name": "stdout",
     "output_type": "stream",
     "text": [
      "0\n"
     ]
    },
    {
     "data": {
      "image/png": "[encoded data removed]",
      "text/plain": [
       "<matplotlib.figure.Figure at 0x7f58e42083d0>"
      ]
     },
     "metadata": {},
     "output_type": "display_data"
    },
    {
     "name": "stdout",
     "output_type": "stream",
     "text": [
      "3\n"
     ]
    },
    {
     "data": {
      "image/png": "[encoded data removed]",
      "text/plain": [
       "<matplotlib.figure.Figure at 0x7f58e373e9d0>"
      ]
     },
     "metadata": {},
     "output_type": "display_data"
    },
    {
     "name": "stdout",
     "output_type": "stream",
     "text": [
      "0\n"
     ]
    },
    {
     "data": {
      "image/png": "[encoded data removed]",
      "text/plain": [
       "<matplotlib.figure.Figure at 0x7f58e1f5a7d0>"
      ]
     },
     "metadata": {},
     "output_type": "display_data"
    },
    {
     "name": "stdout",
     "output_type": "stream",
     "text": [
      "1\n"
     ]
    },
    {
     "data": {
      "image/png": "[encoded data removed]",
      "text/plain": [
       "<matplotlib.figure.Figure at 0x7f58e4f55110>"
      ]
     },
     "metadata": {},
     "output_type": "display_data"
    },
    {
     "name": "stdout",
     "output_type": "stream",
     "text": [
      "8\n"
     ]
    },
    {
     "data": {
      "image/png": "[encoded data removed]",
      "text/plain": [
       "<matplotlib.figure.Figure at 0x7f57d2be8d50>"
      ]
     },
     "metadata": {},
     "output_type": "display_data"
    },
    {
     "name": "stdout",
     "output_type": "stream",
     "text": [
      "1\n"
     ]
    },
    {
     "data": {
      "image/png": "[encoded data removed]",
      "text/plain": [
       "<matplotlib.figure.Figure at 0x7f58e30980d0>"
      ]
     },
     "metadata": {},
     "output_type": "display_data"
    },
    {
     "name": "stdout",
     "output_type": "stream",
     "text": [
      "0\n"
     ]
    },
    {
     "data": {
      "image/png": "[encoded data removed]",
      "text/plain": [
       "<matplotlib.figure.Figure at 0x7f58e4fcc3d0>"
      ]
     },
     "metadata": {},
     "output_type": "display_data"
    },
    {
     "name": "stdout",
     "output_type": "stream",
     "text": [
      "8\n"
     ]
    },
    {
     "data": {
      "image/png": "[encoded data removed]",
      "text/plain": [
       "<matplotlib.figure.Figure at 0x7f58e3665dd0>"
      ]
     },
     "metadata": {},
     "output_type": "display_data"
    },
    {
     "name": "stdout",
     "output_type": "stream",
     "text": [
      "5\n"
     ]
    },
    {
     "data": {
      "image/png": "[encoded data removed]",
      "text/plain": [
       "<matplotlib.figure.Figure at 0x7f58e202f410>"
      ]
     },
     "metadata": {},
     "output_type": "display_data"
    },
    {
     "name": "stdout",
     "output_type": "stream",
     "text": [
      "6\n"
     ]
    },
    {
     "data": {
      "image/png": "[encoded data removed]",
      "text/plain": [
       "<matplotlib.figure.Figure at 0x7f58e5c67d90>"
      ]
     },
     "metadata": {},
     "output_type": "display_data"
    },
    {
     "name": "stdout",
     "output_type": "stream",
     "text": [
      "9\n"
     ]
    },
    {
     "data": {
      "image/png": "[encoded data removed]",
      "text/plain": [
       "<matplotlib.figure.Figure at 0x7f58e2a5d590>"
      ]
     },
     "metadata": {},
     "output_type": "display_data"
    },
    {
     "name": "stdout",
     "output_type": "stream",
     "text": [
      "4\n"
     ]
    }
   ],
   "source": [
    "# this part shows a subset of test set and the prediction of the model. \n",
    "#Just to see how well the model performs\n",
    "y_pred=model.predict(X2)\n",
    "print y_pred.shape\n",
    "y_pred=np.argmax(y_pred,axis=1)\n",
    "\n",
    "import matplotlib.pyplot as plt\n",
    "import matplotlib.cm as cm\n",
    "for i in range(50):\n",
    "    img= X_test[i].reshape(64, 64)\n",
    "    img[img < 240] = 0\n",
    "    plt.imshow(img, cmap=plt.get_cmap('binary'))\n",
    "    plt.show()\n",
    "    print y_pred[i]   "
   ]
  },
  {
   "cell_type": "code",
   "execution_count": null,
   "metadata": {},
   "outputs": [],
   "source": []
  },
  {
   "cell_type": "code",
   "execution_count": 24,
   "metadata": {},
   "outputs": [],
   "source": [
    "import pandas as pd\n",
    "i=range(0,10000)\n",
    "my_df = pd.DataFrame(zip(i,y_pred), columns = [\"Id\", \"Label\"])\n",
    "my_df.to_csv('submission.csv', index=False, header=True)\n"
   ]
  },
  {
   "cell_type": "code",
   "execution_count": null,
   "metadata": {},
   "outputs": [],
   "source": []
  }
 ],
 "metadata": {
  "kernelspec": {
   "display_name": "Python [conda env:tensorflow]",
   "language": "python",
   "name": "conda-env-tensorflow-py"
  },
  "language_info": {
   "codemirror_mode": {
    "name": "ipython",
    "version": 2
   },
   "file_extension": ".py",
   "mimetype": "text/x-python",
   "name": "python",
   "nbconvert_exporter": "python",
   "pygments_lexer": "ipython2",
   "version": "2.7.14"
  }
 },
 "nbformat": 4,
 "nbformat_minor": 2
}
